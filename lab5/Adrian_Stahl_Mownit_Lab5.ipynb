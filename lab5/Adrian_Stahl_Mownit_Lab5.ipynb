{
 "cells": [
  {
   "cell_type": "markdown",
   "metadata": {},
   "source": [
    "# MOwNiT \n",
    "## Laboratorium 5"
   ]
  },
  {
   "cell_type": "markdown",
   "metadata": {},
   "source": [
    "### Tablice wielowymiarowe i mnożenie macierzy w Julii"
   ]
  },
  {
   "cell_type": "code",
   "execution_count": 1,
   "metadata": {},
   "outputs": [
    {
     "data": {
      "text/plain": [
       "2×2 Matrix{Float64}:\n",
       " 1.0  4.0\n",
       " 0.0  1.0"
      ]
     },
     "execution_count": 1,
     "metadata": {},
     "output_type": "execute_result"
    }
   ],
   "source": [
    "# tablice wielowymiarowe w Julii\n",
    "Asmall = [[1.0 4.0]; [0.0 1.0]]\n",
    "Bsmall = Asmall\n",
    "# size(Bsmall,1)"
   ]
  },
  {
   "cell_type": "markdown",
   "metadata": {},
   "source": [
    "#### Wersja naiwna"
   ]
  },
  {
   "cell_type": "code",
   "execution_count": 2,
   "metadata": {},
   "outputs": [
    {
     "data": {
      "text/plain": [
       "naive_multiplication (generic function with 1 method)"
      ]
     },
     "execution_count": 2,
     "metadata": {},
     "output_type": "execute_result"
    }
   ],
   "source": [
    "# mnożenie macierzy - wersja naiwna\n",
    "function naive_multiplication(A,B)\n",
    "    C = zeros(Float64, size(A,1), size(B,2))\n",
    "    for i=1:size(A,1)\n",
    "        for j=1:size(B,2)\n",
    "            for k=1:size(A,2)\n",
    "                C[i,j] = C[i,j] + A[i,k]*B[k,j]\n",
    "            end\n",
    "        end\n",
    "    end\n",
    "    C\n",
    "end"
   ]
  },
  {
   "cell_type": "code",
   "execution_count": 3,
   "metadata": {},
   "outputs": [
    {
     "data": {
      "text/plain": [
       "2×2 Matrix{Float64}:\n",
       " 1.0  8.0\n",
       " 0.0  1.0"
      ]
     },
     "execution_count": 3,
     "metadata": {},
     "output_type": "execute_result"
    }
   ],
   "source": [
    "#kompilacja\n",
    "naive_multiplication(Asmall, Bsmall)"
   ]
  },
  {
   "cell_type": "code",
   "execution_count": 4,
   "metadata": {},
   "outputs": [
    {
     "data": {
      "text/plain": [
       "2.792e-6"
      ]
     },
     "execution_count": 4,
     "metadata": {},
     "output_type": "execute_result"
    }
   ],
   "source": [
    "#kompilacja\n",
    "@elapsed naive_multiplication(Asmall, Bsmall)"
   ]
  },
  {
   "cell_type": "markdown",
   "metadata": {},
   "source": [
    "#### Wersja ulepszona"
   ]
  },
  {
   "cell_type": "code",
   "execution_count": 5,
   "metadata": {},
   "outputs": [
    {
     "data": {
      "text/plain": [
       "2×2 Matrix{Int64}:\n",
       " 1  2\n",
       " 3  4"
      ]
     },
     "metadata": {},
     "output_type": "display_data"
    },
    {
     "data": {
      "text/plain": [
       "4-element Vector{Int64}:\n",
       " 1\n",
       " 3\n",
       " 2\n",
       " 4"
      ]
     },
     "execution_count": 5,
     "metadata": {},
     "output_type": "execute_result"
    }
   ],
   "source": [
    "# Należy pamiętać o \"column-major\" dostępie do tablic - \n",
    "# pierwszy indeks zmienia się szybciej\n",
    "# tak jak Matlab, R, Fortran \n",
    "# inaczej niz C, Python\n",
    "A1 = [[1 2]; [3 4]]\n",
    "display(A1)\n",
    "vec(A1)"
   ]
  },
  {
   "cell_type": "code",
   "execution_count": 6,
   "metadata": {},
   "outputs": [
    {
     "data": {
      "text/plain": [
       "better_multiplication (generic function with 1 method)"
      ]
     },
     "execution_count": 6,
     "metadata": {},
     "output_type": "execute_result"
    }
   ],
   "source": [
    "# poprawiona funkcja korzytająca z powyższego oraz z faktu, że\n",
    "# można zmieniać kolejność operacji dodawania (a co za tym idzie kolejnosc petli).\n",
    "function better_multiplication(A, B)\n",
    "    C = zeros(Float64, size(A,1), size(B,2))\n",
    "    for j=1:size(B,2)\n",
    "        for k=1:size(A,2)\n",
    "            for i=1:size(A,1)\n",
    "                C[i,j] = C[i,j] + A[i,k]*B[k,j]\n",
    "            end\n",
    "        end\n",
    "    end\n",
    "    C\n",
    "end"
   ]
  },
  {
   "cell_type": "code",
   "execution_count": 7,
   "metadata": {
    "scrolled": true
   },
   "outputs": [
    {
     "data": {
      "text/plain": [
       "0.013857375"
      ]
     },
     "execution_count": 7,
     "metadata": {},
     "output_type": "execute_result"
    }
   ],
   "source": [
    "@elapsed better_multiplication(Asmall, Bsmall)"
   ]
  },
  {
   "cell_type": "markdown",
   "metadata": {},
   "source": [
    "#### Wersja BLASowa"
   ]
  },
  {
   "cell_type": "code",
   "execution_count": 8,
   "metadata": {},
   "outputs": [
    {
     "data": {
      "text/plain": [
       "2×2 Matrix{Float64}:\n",
       " 1.0  8.0\n",
       " 0.0  1.0"
      ]
     },
     "execution_count": 8,
     "metadata": {},
     "output_type": "execute_result"
    }
   ],
   "source": [
    "#kompilacja funkcji BLASowej do mnożenia macierzy\n",
    "#https://docs.julialang.org/en/stable/stdlib/linalg/#BLAS-Functions-1\n",
    "Asmall*Bsmall"
   ]
  },
  {
   "cell_type": "markdown",
   "metadata": {},
   "source": [
    "#### Porównanie wersji"
   ]
  },
  {
   "cell_type": "code",
   "execution_count": 9,
   "metadata": {},
   "outputs": [],
   "source": [
    "A = rand(1000, 1000);\n",
    "B = rand(1000, 1000);"
   ]
  },
  {
   "cell_type": "code",
   "execution_count": 10,
   "metadata": {
    "scrolled": true
   },
   "outputs": [
    {
     "data": {
      "text/plain": [
       "3.456208125"
      ]
     },
     "execution_count": 10,
     "metadata": {},
     "output_type": "execute_result"
    }
   ],
   "source": [
    "@elapsed naive_multiplication(A, B)"
   ]
  },
  {
   "cell_type": "code",
   "execution_count": 11,
   "metadata": {},
   "outputs": [
    {
     "data": {
      "text/plain": [
       "0.572870834"
      ]
     },
     "execution_count": 11,
     "metadata": {},
     "output_type": "execute_result"
    }
   ],
   "source": [
    "@elapsed better_multiplication(A, B)"
   ]
  },
  {
   "cell_type": "code",
   "execution_count": 12,
   "metadata": {},
   "outputs": [
    {
     "data": {
      "text/plain": [
       "0.016374625"
      ]
     },
     "execution_count": 12,
     "metadata": {},
     "output_type": "execute_result"
    }
   ],
   "source": [
    "@elapsed A*B"
   ]
  },
  {
   "cell_type": "markdown",
   "metadata": {},
   "source": [
    "### Wielomiany i aproksymacja średniokwadratowa"
   ]
  },
  {
   "cell_type": "code",
   "execution_count": 13,
   "metadata": {},
   "outputs": [],
   "source": [
    "# pakiet Polynomials jest mozliwy do instalacji pod Juliabox\n",
    "# https://github.com/JuliaMath/Polynomials.jl\n",
    "# using Pkg\n",
    "# Pkg.add(\"Polynomials\")"
   ]
  },
  {
   "cell_type": "code",
   "execution_count": 14,
   "metadata": {},
   "outputs": [
    {
     "data": {
      "text/html": [
       "# 14 methods for generic function <b>exp</b>:<ul><li> exp(x::<b>Union{Float16, Float32, Float64}</b>) in Base.Math at <a href=\"https://github.com/JuliaLang/julia/tree/17cfb8e65ead377bf1b4598d8a9869144142c84e/base/special/exp.jl#L326\" target=\"_blank\">special/exp.jl:326</a></li> <li> exp(A::<b>StridedMatrix{var\"#s886\"} where var\"#s886\"<:Union{Float32, Float64, ComplexF32, ComplexF64}</b>) in LinearAlgebra at <a href=\"file:///Users/julia/.julia/scratchspaces/a66863c6-20e8-4ff4-8a62-49f30b1f605e/agent-cache/default-macmini-aarch64-4.0/build/default-macmini-aarch64-4-0/julialang/julia-release-1-dot-8/usr/share/julia/stdlib/v1.8/LinearAlgebra/src/dense.jl\" target=\"_blank\">/Applications/Julia-1.8.app/Contents/Resources/julia/share/julia/stdlib/v1.8/LinearAlgebra/src/dense.jl:569</a></li> <li> exp(A::<b>StridedMatrix{var\"#s886\"} where var\"#s886\"<:Union{Integer, Complex{<:Integer}}</b>) in LinearAlgebra at <a href=\"file:///Users/julia/.julia/scratchspaces/a66863c6-20e8-4ff4-8a62-49f30b1f605e/agent-cache/default-macmini-aarch64-4.0/build/default-macmini-aarch64-4-0/julialang/julia-release-1-dot-8/usr/share/julia/stdlib/v1.8/LinearAlgebra/src/dense.jl\" target=\"_blank\">/Applications/Julia-1.8.app/Contents/Resources/julia/share/julia/stdlib/v1.8/LinearAlgebra/src/dense.jl:570</a></li> <li> exp(J::<b>LinearAlgebra.UniformScaling</b>) in LinearAlgebra at <a href=\"file:///Users/julia/.julia/scratchspaces/a66863c6-20e8-4ff4-8a62-49f30b1f605e/agent-cache/default-macmini-aarch64-4.0/build/default-macmini-aarch64-4-0/julialang/julia-release-1-dot-8/usr/share/julia/stdlib/v1.8/LinearAlgebra/src/uniformscaling.jl\" target=\"_blank\">/Applications/Julia-1.8.app/Contents/Resources/julia/share/julia/stdlib/v1.8/LinearAlgebra/src/uniformscaling.jl:173</a></li> <li> exp(D::<b>LinearAlgebra.Diagonal</b>) in LinearAlgebra at <a href=\"file:///Users/julia/.julia/scratchspaces/a66863c6-20e8-4ff4-8a62-49f30b1f605e/agent-cache/default-macmini-aarch64-4.0/build/default-macmini-aarch64-4-0/julialang/julia-release-1-dot-8/usr/share/julia/stdlib/v1.8/LinearAlgebra/src/diagonal.jl\" target=\"_blank\">/Applications/Julia-1.8.app/Contents/Resources/julia/share/julia/stdlib/v1.8/LinearAlgebra/src/diagonal.jl:674</a></li> <li> exp(A::<b>LinearAlgebra.Hermitian{var\"#s885\", S} where {var\"#s885\"<:Complex, S<:(AbstractMatrix{<:var\"#s885\"})}</b>) in LinearAlgebra at <a href=\"file:///Users/julia/.julia/scratchspaces/a66863c6-20e8-4ff4-8a62-49f30b1f605e/agent-cache/default-macmini-aarch64-4.0/build/default-macmini-aarch64-4-0/julialang/julia-release-1-dot-8/usr/share/julia/stdlib/v1.8/LinearAlgebra/src/symmetric.jl\" target=\"_blank\">/Applications/Julia-1.8.app/Contents/Resources/julia/share/julia/stdlib/v1.8/LinearAlgebra/src/symmetric.jl:731</a></li> <li> exp(A::<b>Union{LinearAlgebra.Hermitian{var\"#s886\", S}, LinearAlgebra.Symmetric{var\"#s886\", S}} where {var\"#s886\"<:Real, S}</b>) in LinearAlgebra at <a href=\"file:///Users/julia/.julia/scratchspaces/a66863c6-20e8-4ff4-8a62-49f30b1f605e/agent-cache/default-macmini-aarch64-4.0/build/default-macmini-aarch64-4-0/julialang/julia-release-1-dot-8/usr/share/julia/stdlib/v1.8/LinearAlgebra/src/symmetric.jl\" target=\"_blank\">/Applications/Julia-1.8.app/Contents/Resources/julia/share/julia/stdlib/v1.8/LinearAlgebra/src/symmetric.jl:727</a></li> <li> exp(A::<b>LinearAlgebra.Transpose{<:Any, <:AbstractMatrix}</b>) in LinearAlgebra at <a href=\"file:///Users/julia/.julia/scratchspaces/a66863c6-20e8-4ff4-8a62-49f30b1f605e/agent-cache/default-macmini-aarch64-4.0/build/default-macmini-aarch64-4-0/julialang/julia-release-1-dot-8/usr/share/julia/stdlib/v1.8/LinearAlgebra/src/dense.jl\" target=\"_blank\">/Applications/Julia-1.8.app/Contents/Resources/julia/share/julia/stdlib/v1.8/LinearAlgebra/src/dense.jl:572</a></li> <li> exp(A::<b>LinearAlgebra.Adjoint{<:Any, <:AbstractMatrix}</b>) in LinearAlgebra at <a href=\"file:///Users/julia/.julia/scratchspaces/a66863c6-20e8-4ff4-8a62-49f30b1f605e/agent-cache/default-macmini-aarch64-4.0/build/default-macmini-aarch64-4-0/julialang/julia-release-1-dot-8/usr/share/julia/stdlib/v1.8/LinearAlgebra/src/dense.jl\" target=\"_blank\">/Applications/Julia-1.8.app/Contents/Resources/julia/share/julia/stdlib/v1.8/LinearAlgebra/src/dense.jl:571</a></li> <li> exp(::<b>Missing</b>) in Base.Math at <a href=\"https://github.com/JuliaLang/julia/tree/17cfb8e65ead377bf1b4598d8a9869144142c84e/base/math.jl#L1374\" target=\"_blank\">math.jl:1374</a></li> <li> exp(x::<b>BigFloat</b>) in Base.MPFR at <a href=\"https://github.com/JuliaLang/julia/tree/17cfb8e65ead377bf1b4598d8a9869144142c84e/base/mpfr.jl#L626\" target=\"_blank\">mpfr.jl:626</a></li> <li> exp(x::<b>Real</b>) in Base.Math at <a href=\"https://github.com/JuliaLang/julia/tree/17cfb8e65ead377bf1b4598d8a9869144142c84e/base/math.jl#L1369\" target=\"_blank\">math.jl:1369</a></li> <li> exp(a::<b>ComplexF16</b>) in Base.Math at <a href=\"https://github.com/JuliaLang/julia/tree/17cfb8e65ead377bf1b4598d8a9869144142c84e/base/math.jl#L1358\" target=\"_blank\">math.jl:1358</a></li> <li> exp(z::<b>Complex</b>) in Base at <a href=\"https://github.com/JuliaLang/julia/tree/17cfb8e65ead377bf1b4598d8a9869144142c84e/base/complex.jl#L680\" target=\"_blank\">complex.jl:680</a></li> </ul>"
      ],
      "text/plain": [
       "# 14 methods for generic function \"exp\":\n",
       "[1] exp(x::Union{Float16, Float32, Float64}) in Base.Math at special/exp.jl:326\n",
       "[2] exp(A::StridedMatrix{var\"#s886\"} where var\"#s886\"<:Union{Float32, Float64, ComplexF32, ComplexF64}) in LinearAlgebra at /Applications/Julia-1.8.app/Contents/Resources/julia/share/julia/stdlib/v1.8/LinearAlgebra/src/dense.jl:569\n",
       "[3] exp(A::StridedMatrix{var\"#s886\"} where var\"#s886\"<:Union{Integer, Complex{<:Integer}}) in LinearAlgebra at /Applications/Julia-1.8.app/Contents/Resources/julia/share/julia/stdlib/v1.8/LinearAlgebra/src/dense.jl:570\n",
       "[4] exp(J::LinearAlgebra.UniformScaling) in LinearAlgebra at /Applications/Julia-1.8.app/Contents/Resources/julia/share/julia/stdlib/v1.8/LinearAlgebra/src/uniformscaling.jl:173\n",
       "[5] exp(D::LinearAlgebra.Diagonal) in LinearAlgebra at /Applications/Julia-1.8.app/Contents/Resources/julia/share/julia/stdlib/v1.8/LinearAlgebra/src/diagonal.jl:674\n",
       "[6] exp(A::LinearAlgebra.Hermitian{var\"#s885\", S} where {var\"#s885\"<:Complex, S<:(AbstractMatrix{<:var\"#s885\"})}) in LinearAlgebra at /Applications/Julia-1.8.app/Contents/Resources/julia/share/julia/stdlib/v1.8/LinearAlgebra/src/symmetric.jl:731\n",
       "[7] exp(A::Union{LinearAlgebra.Hermitian{var\"#s886\", S}, LinearAlgebra.Symmetric{var\"#s886\", S}} where {var\"#s886\"<:Real, S}) in LinearAlgebra at /Applications/Julia-1.8.app/Contents/Resources/julia/share/julia/stdlib/v1.8/LinearAlgebra/src/symmetric.jl:727\n",
       "[8] exp(A::LinearAlgebra.Transpose{<:Any, <:AbstractMatrix}) in LinearAlgebra at /Applications/Julia-1.8.app/Contents/Resources/julia/share/julia/stdlib/v1.8/LinearAlgebra/src/dense.jl:572\n",
       "[9] exp(A::LinearAlgebra.Adjoint{<:Any, <:AbstractMatrix}) in LinearAlgebra at /Applications/Julia-1.8.app/Contents/Resources/julia/share/julia/stdlib/v1.8/LinearAlgebra/src/dense.jl:571\n",
       "[10] exp(::Missing) in Base.Math at math.jl:1374\n",
       "[11] exp(x::BigFloat) in Base.MPFR at mpfr.jl:626\n",
       "[12] exp(x::Real) in Base.Math at math.jl:1369\n",
       "[13] exp(a::ComplexF16) in Base.Math at math.jl:1358\n",
       "[14] exp(z::Complex) in Base at complex.jl:680"
      ]
     },
     "execution_count": 14,
     "metadata": {},
     "output_type": "execute_result"
    }
   ],
   "source": [
    "# Przykładowa funkcja, którą będziemy aproksymować\n",
    "myfun = exp\n",
    "methods(exp)"
   ]
  },
  {
   "cell_type": "code",
   "execution_count": 15,
   "metadata": {},
   "outputs": [],
   "source": [
    "#import Pkg; \n",
    "#Pkg.add(\"Polynomials\")"
   ]
  },
  {
   "cell_type": "code",
   "execution_count": 16,
   "metadata": {},
   "outputs": [
    {
     "data": {
      "text/html": [
       "&#45;1086.8658708490273 &#43; 2905.5721994684877&#8729;x &#45; 1082.7457238744707&#8729;x<sup>2</sup> &#43; 100.44658880845455&#8729;x<sup>3</sup>"
      ],
      "text/latex": [
       "$-1086.8658708490273 + 2905.5721994684877\\cdot x - 1082.7457238744707\\cdot x^{2} + 100.44658880845455\\cdot x^{3}$"
      ],
      "text/plain": [
       "Polynomial(-1086.8658708490273 + 2905.5721994684877*x - 1082.7457238744707*x^2 + 100.44658880845455*x^3)"
      ]
     },
     "execution_count": 16,
     "metadata": {},
     "output_type": "execute_result"
    }
   ],
   "source": [
    "# aproksymacja sredniokwadratowa wielomianem - tutaj przyklad dla wielomianu 3 stopnia\n",
    "using Polynomials\n",
    "# tworzę punkty do aproksymacji (tutaj jako przykład wyliczone wartości funkcji e^x)\n",
    "xs = 0:10\n",
    "ys = map(myfun, xs)\n",
    "\n",
    "# dopasowuje wielomian trzeciego stopnia do danych\n",
    "fit_poly_3 = fit(xs, ys, 3)"
   ]
  },
  {
   "cell_type": "code",
   "execution_count": 17,
   "metadata": {},
   "outputs": [
    {
     "data": {
      "text/plain": [
       "Polynomial{Float64, :x}"
      ]
     },
     "execution_count": 17,
     "metadata": {},
     "output_type": "execute_result"
    }
   ],
   "source": [
    "typeof(fit_poly_3)"
   ]
  },
  {
   "cell_type": "code",
   "execution_count": 18,
   "metadata": {},
   "outputs": [
    {
     "data": {
      "text/plain": [
       "836.4071935534441"
      ]
     },
     "execution_count": 18,
     "metadata": {},
     "output_type": "execute_result"
    }
   ],
   "source": [
    "# obliczanie wartosci wielomianu \n",
    "fit_poly_3(1)"
   ]
  },
  {
   "cell_type": "code",
   "execution_count": 19,
   "metadata": {},
   "outputs": [],
   "source": [
    "using Plots"
   ]
  },
  {
   "cell_type": "code",
   "execution_count": 20,
   "metadata": {},
   "outputs": [
    {
     "data": {
      "image/svg+xml": [
       "<?xml version=\"1.0\" encoding=\"utf-8\"?>\n",
       "<svg xmlns=\"http://www.w3.org/2000/svg\" xmlns:xlink=\"http://www.w3.org/1999/xlink\" width=\"600\" height=\"400\" viewBox=\"0 0 2400 1600\">\n",
       "<defs>\n",
       "  <clipPath id=\"clip630\">\n",
       "    <rect x=\"0\" y=\"0\" width=\"2400\" height=\"1600\"/>\n",
       "  </clipPath>\n",
       "</defs>\n",
       "<path clip-path=\"url(#clip630)\" d=\"M0 1600 L2400 1600 L2400 0 L0 0  Z\" fill=\"#ffffff\" fill-rule=\"evenodd\" fill-opacity=\"1\"/>\n",
       "<defs>\n",
       "  <clipPath id=\"clip631\">\n",
       "    <rect x=\"480\" y=\"0\" width=\"1681\" height=\"1600\"/>\n",
       "  </clipPath>\n",
       "</defs>\n",
       "<path clip-path=\"url(#clip630)\" d=\"M306.435 1486.45 L2352.76 1486.45 L2352.76 47.2441 L306.435 47.2441  Z\" fill=\"#ffffff\" fill-rule=\"evenodd\" fill-opacity=\"1\"/>\n",
       "<defs>\n",
       "  <clipPath id=\"clip632\">\n",
       "    <rect x=\"306\" y=\"47\" width=\"2047\" height=\"1440\"/>\n",
       "  </clipPath>\n",
       "</defs>\n",
       "<polyline clip-path=\"url(#clip632)\" style=\"stroke:#000000; stroke-linecap:round; stroke-linejoin:round; stroke-width:2; stroke-opacity:0.1; fill:none\" points=\"364.35,1486.45 364.35,47.2441 \"/>\n",
       "<polyline clip-path=\"url(#clip632)\" style=\"stroke:#000000; stroke-linecap:round; stroke-linejoin:round; stroke-width:2; stroke-opacity:0.1; fill:none\" points=\"846.973,1486.45 846.973,47.2441 \"/>\n",
       "<polyline clip-path=\"url(#clip632)\" style=\"stroke:#000000; stroke-linecap:round; stroke-linejoin:round; stroke-width:2; stroke-opacity:0.1; fill:none\" points=\"1329.6,1486.45 1329.6,47.2441 \"/>\n",
       "<polyline clip-path=\"url(#clip632)\" style=\"stroke:#000000; stroke-linecap:round; stroke-linejoin:round; stroke-width:2; stroke-opacity:0.1; fill:none\" points=\"1812.22,1486.45 1812.22,47.2441 \"/>\n",
       "<polyline clip-path=\"url(#clip632)\" style=\"stroke:#000000; stroke-linecap:round; stroke-linejoin:round; stroke-width:2; stroke-opacity:0.1; fill:none\" points=\"2294.84,1486.45 2294.84,47.2441 \"/>\n",
       "<polyline clip-path=\"url(#clip630)\" style=\"stroke:#000000; stroke-linecap:round; stroke-linejoin:round; stroke-width:4; stroke-opacity:1; fill:none\" points=\"306.435,1486.45 2352.76,1486.45 \"/>\n",
       "<polyline clip-path=\"url(#clip630)\" style=\"stroke:#000000; stroke-linecap:round; stroke-linejoin:round; stroke-width:4; stroke-opacity:1; fill:none\" points=\"364.35,1486.45 364.35,1467.55 \"/>\n",
       "<polyline clip-path=\"url(#clip630)\" style=\"stroke:#000000; stroke-linecap:round; stroke-linejoin:round; stroke-width:4; stroke-opacity:1; fill:none\" points=\"846.973,1486.45 846.973,1467.55 \"/>\n",
       "<polyline clip-path=\"url(#clip630)\" style=\"stroke:#000000; stroke-linecap:round; stroke-linejoin:round; stroke-width:4; stroke-opacity:1; fill:none\" points=\"1329.6,1486.45 1329.6,1467.55 \"/>\n",
       "<polyline clip-path=\"url(#clip630)\" style=\"stroke:#000000; stroke-linecap:round; stroke-linejoin:round; stroke-width:4; stroke-opacity:1; fill:none\" points=\"1812.22,1486.45 1812.22,1467.55 \"/>\n",
       "<polyline clip-path=\"url(#clip630)\" style=\"stroke:#000000; stroke-linecap:round; stroke-linejoin:round; stroke-width:4; stroke-opacity:1; fill:none\" points=\"2294.84,1486.45 2294.84,1467.55 \"/>\n",
       "<path clip-path=\"url(#clip630)\" d=\"M341.735 1517.37 Q338.123 1517.37 336.295 1520.93 Q334.489 1524.47 334.489 1531.6 Q334.489 1538.71 336.295 1542.27 Q338.123 1545.82 341.735 1545.82 Q345.369 1545.82 347.174 1542.27 Q349.003 1538.71 349.003 1531.6 Q349.003 1524.47 347.174 1520.93 Q345.369 1517.37 341.735 1517.37 M341.735 1513.66 Q347.545 1513.66 350.6 1518.27 Q353.679 1522.85 353.679 1531.6 Q353.679 1540.33 350.6 1544.94 Q347.545 1549.52 341.735 1549.52 Q335.924 1549.52 332.846 1544.94 Q329.79 1540.33 329.79 1531.6 Q329.79 1522.85 332.846 1518.27 Q335.924 1513.66 341.735 1513.66 Z\" fill=\"#000000\" fill-rule=\"evenodd\" fill-opacity=\"1\" /><path clip-path=\"url(#clip630)\" d=\"M361.896 1542.97 L366.781 1542.97 L366.781 1548.85 L361.896 1548.85 L361.896 1542.97 Z\" fill=\"#000000\" fill-rule=\"evenodd\" fill-opacity=\"1\" /><path clip-path=\"url(#clip630)\" d=\"M386.966 1517.37 Q383.355 1517.37 381.526 1520.93 Q379.72 1524.47 379.72 1531.6 Q379.72 1538.71 381.526 1542.27 Q383.355 1545.82 386.966 1545.82 Q390.6 1545.82 392.406 1542.27 Q394.234 1538.71 394.234 1531.6 Q394.234 1524.47 392.406 1520.93 Q390.6 1517.37 386.966 1517.37 M386.966 1513.66 Q392.776 1513.66 395.831 1518.27 Q398.91 1522.85 398.91 1531.6 Q398.91 1540.33 395.831 1544.94 Q392.776 1549.52 386.966 1549.52 Q381.156 1549.52 378.077 1544.94 Q375.021 1540.33 375.021 1531.6 Q375.021 1522.85 378.077 1518.27 Q381.156 1513.66 386.966 1513.66 Z\" fill=\"#000000\" fill-rule=\"evenodd\" fill-opacity=\"1\" /><path clip-path=\"url(#clip630)\" d=\"M818.709 1544.91 L835.029 1544.91 L835.029 1548.85 L813.084 1548.85 L813.084 1544.91 Q815.746 1542.16 820.33 1537.53 Q824.936 1532.88 826.117 1531.53 Q828.362 1529.01 829.242 1527.27 Q830.144 1525.51 830.144 1523.82 Q830.144 1521.07 828.2 1519.33 Q826.279 1517.6 823.177 1517.6 Q820.978 1517.6 818.524 1518.36 Q816.093 1519.13 813.316 1520.68 L813.316 1515.95 Q816.14 1514.82 818.593 1514.24 Q821.047 1513.66 823.084 1513.66 Q828.454 1513.66 831.649 1516.35 Q834.843 1519.03 834.843 1523.52 Q834.843 1525.65 834.033 1527.57 Q833.246 1529.47 831.14 1532.07 Q830.561 1532.74 827.459 1535.95 Q824.357 1539.15 818.709 1544.91 Z\" fill=\"#000000\" fill-rule=\"evenodd\" fill-opacity=\"1\" /><path clip-path=\"url(#clip630)\" d=\"M844.843 1542.97 L849.728 1542.97 L849.728 1548.85 L844.843 1548.85 L844.843 1542.97 Z\" fill=\"#000000\" fill-rule=\"evenodd\" fill-opacity=\"1\" /><path clip-path=\"url(#clip630)\" d=\"M859.959 1514.29 L878.315 1514.29 L878.315 1518.22 L864.241 1518.22 L864.241 1526.7 Q865.26 1526.35 866.278 1526.19 Q867.297 1526 868.315 1526 Q874.102 1526 877.482 1529.17 Q880.862 1532.34 880.862 1537.76 Q880.862 1543.34 877.389 1546.44 Q873.917 1549.52 867.598 1549.52 Q865.422 1549.52 863.153 1549.15 Q860.908 1548.78 858.501 1548.04 L858.501 1543.34 Q860.584 1544.47 862.806 1545.03 Q865.028 1545.58 867.505 1545.58 Q871.51 1545.58 873.848 1543.48 Q876.186 1541.37 876.186 1537.76 Q876.186 1534.15 873.848 1532.04 Q871.51 1529.94 867.505 1529.94 Q865.63 1529.94 863.755 1530.35 Q861.903 1530.77 859.959 1531.65 L859.959 1514.29 Z\" fill=\"#000000\" fill-rule=\"evenodd\" fill-opacity=\"1\" /><path clip-path=\"url(#clip630)\" d=\"M1296.76 1514.29 L1315.12 1514.29 L1315.12 1518.22 L1301.04 1518.22 L1301.04 1526.7 Q1302.06 1526.35 1303.08 1526.19 Q1304.1 1526 1305.12 1526 Q1310.9 1526 1314.28 1529.17 Q1317.66 1532.34 1317.66 1537.76 Q1317.66 1543.34 1314.19 1546.44 Q1310.72 1549.52 1304.4 1549.52 Q1302.22 1549.52 1299.95 1549.15 Q1297.71 1548.78 1295.3 1548.04 L1295.3 1543.34 Q1297.39 1544.47 1299.61 1545.03 Q1301.83 1545.58 1304.31 1545.58 Q1308.31 1545.58 1310.65 1543.48 Q1312.99 1541.37 1312.99 1537.76 Q1312.99 1534.15 1310.65 1532.04 Q1308.31 1529.94 1304.31 1529.94 Q1302.43 1529.94 1300.56 1530.35 Q1298.7 1530.77 1296.76 1531.65 L1296.76 1514.29 Z\" fill=\"#000000\" fill-rule=\"evenodd\" fill-opacity=\"1\" /><path clip-path=\"url(#clip630)\" d=\"M1326.88 1542.97 L1331.76 1542.97 L1331.76 1548.85 L1326.88 1548.85 L1326.88 1542.97 Z\" fill=\"#000000\" fill-rule=\"evenodd\" fill-opacity=\"1\" /><path clip-path=\"url(#clip630)\" d=\"M1351.95 1517.37 Q1348.33 1517.37 1346.51 1520.93 Q1344.7 1524.47 1344.7 1531.6 Q1344.7 1538.71 1346.51 1542.27 Q1348.33 1545.82 1351.95 1545.82 Q1355.58 1545.82 1357.38 1542.27 Q1359.21 1538.71 1359.21 1531.6 Q1359.21 1524.47 1357.38 1520.93 Q1355.58 1517.37 1351.95 1517.37 M1351.95 1513.66 Q1357.76 1513.66 1360.81 1518.27 Q1363.89 1522.85 1363.89 1531.6 Q1363.89 1540.33 1360.81 1544.94 Q1357.76 1549.52 1351.95 1549.52 Q1346.13 1549.52 1343.06 1544.94 Q1340 1540.33 1340 1531.6 Q1340 1522.85 1343.06 1518.27 Q1346.13 1513.66 1351.95 1513.66 Z\" fill=\"#000000\" fill-rule=\"evenodd\" fill-opacity=\"1\" /><path clip-path=\"url(#clip630)\" d=\"M1778.54 1514.29 L1800.76 1514.29 L1800.76 1516.28 L1788.21 1548.85 L1783.33 1548.85 L1795.14 1518.22 L1778.54 1518.22 L1778.54 1514.29 Z\" fill=\"#000000\" fill-rule=\"evenodd\" fill-opacity=\"1\" /><path clip-path=\"url(#clip630)\" d=\"M1809.88 1542.97 L1814.76 1542.97 L1814.76 1548.85 L1809.88 1548.85 L1809.88 1542.97 Z\" fill=\"#000000\" fill-rule=\"evenodd\" fill-opacity=\"1\" /><path clip-path=\"url(#clip630)\" d=\"M1825 1514.29 L1843.35 1514.29 L1843.35 1518.22 L1829.28 1518.22 L1829.28 1526.7 Q1830.3 1526.35 1831.32 1526.19 Q1832.33 1526 1833.35 1526 Q1839.14 1526 1842.52 1529.17 Q1845.9 1532.34 1845.9 1537.76 Q1845.9 1543.34 1842.43 1546.44 Q1838.95 1549.52 1832.63 1549.52 Q1830.46 1549.52 1828.19 1549.15 Q1825.95 1548.78 1823.54 1548.04 L1823.54 1543.34 Q1825.62 1544.47 1827.84 1545.03 Q1830.07 1545.58 1832.54 1545.58 Q1836.55 1545.58 1838.88 1543.48 Q1841.22 1541.37 1841.22 1537.76 Q1841.22 1534.15 1838.88 1532.04 Q1836.55 1529.94 1832.54 1529.94 Q1830.67 1529.94 1828.79 1530.35 Q1826.94 1530.77 1825 1531.65 L1825 1514.29 Z\" fill=\"#000000\" fill-rule=\"evenodd\" fill-opacity=\"1\" /><path clip-path=\"url(#clip630)\" d=\"M2246.91 1544.91 L2254.55 1544.91 L2254.55 1518.55 L2246.24 1520.21 L2246.24 1515.95 L2254.51 1514.29 L2259.18 1514.29 L2259.18 1544.91 L2266.82 1544.91 L2266.82 1548.85 L2246.91 1548.85 L2246.91 1544.91 Z\" fill=\"#000000\" fill-rule=\"evenodd\" fill-opacity=\"1\" /><path clip-path=\"url(#clip630)\" d=\"M2286.26 1517.37 Q2282.65 1517.37 2280.83 1520.93 Q2279.02 1524.47 2279.02 1531.6 Q2279.02 1538.71 2280.83 1542.27 Q2282.65 1545.82 2286.26 1545.82 Q2289.9 1545.82 2291.7 1542.27 Q2293.53 1538.71 2293.53 1531.6 Q2293.53 1524.47 2291.7 1520.93 Q2289.9 1517.37 2286.26 1517.37 M2286.26 1513.66 Q2292.07 1513.66 2295.13 1518.27 Q2298.21 1522.85 2298.21 1531.6 Q2298.21 1540.33 2295.13 1544.94 Q2292.07 1549.52 2286.26 1549.52 Q2280.45 1549.52 2277.38 1544.94 Q2274.32 1540.33 2274.32 1531.6 Q2274.32 1522.85 2277.38 1518.27 Q2280.45 1513.66 2286.26 1513.66 Z\" fill=\"#000000\" fill-rule=\"evenodd\" fill-opacity=\"1\" /><path clip-path=\"url(#clip630)\" d=\"M2306.43 1542.97 L2311.31 1542.97 L2311.31 1548.85 L2306.43 1548.85 L2306.43 1542.97 Z\" fill=\"#000000\" fill-rule=\"evenodd\" fill-opacity=\"1\" /><path clip-path=\"url(#clip630)\" d=\"M2331.5 1517.37 Q2327.88 1517.37 2326.06 1520.93 Q2324.25 1524.47 2324.25 1531.6 Q2324.25 1538.71 2326.06 1542.27 Q2327.88 1545.82 2331.5 1545.82 Q2335.13 1545.82 2336.94 1542.27 Q2338.76 1538.71 2338.76 1531.6 Q2338.76 1524.47 2336.94 1520.93 Q2335.13 1517.37 2331.5 1517.37 M2331.5 1513.66 Q2337.31 1513.66 2340.36 1518.27 Q2343.44 1522.85 2343.44 1531.6 Q2343.44 1540.33 2340.36 1544.94 Q2337.31 1549.52 2331.5 1549.52 Q2325.69 1549.52 2322.61 1544.94 Q2319.55 1540.33 2319.55 1531.6 Q2319.55 1522.85 2322.61 1518.27 Q2325.69 1513.66 2331.5 1513.66 Z\" fill=\"#000000\" fill-rule=\"evenodd\" fill-opacity=\"1\" /><polyline clip-path=\"url(#clip632)\" style=\"stroke:#000000; stroke-linecap:round; stroke-linejoin:round; stroke-width:2; stroke-opacity:0.1; fill:none\" points=\"306.435,1378.18 2352.76,1378.18 \"/>\n",
       "<polyline clip-path=\"url(#clip632)\" style=\"stroke:#000000; stroke-linecap:round; stroke-linejoin:round; stroke-width:2; stroke-opacity:0.1; fill:none\" points=\"306.435,1085.31 2352.76,1085.31 \"/>\n",
       "<polyline clip-path=\"url(#clip632)\" style=\"stroke:#000000; stroke-linecap:round; stroke-linejoin:round; stroke-width:2; stroke-opacity:0.1; fill:none\" points=\"306.435,792.43 2352.76,792.43 \"/>\n",
       "<polyline clip-path=\"url(#clip632)\" style=\"stroke:#000000; stroke-linecap:round; stroke-linejoin:round; stroke-width:2; stroke-opacity:0.1; fill:none\" points=\"306.435,499.554 2352.76,499.554 \"/>\n",
       "<polyline clip-path=\"url(#clip632)\" style=\"stroke:#000000; stroke-linecap:round; stroke-linejoin:round; stroke-width:2; stroke-opacity:0.1; fill:none\" points=\"306.435,206.677 2352.76,206.677 \"/>\n",
       "<polyline clip-path=\"url(#clip630)\" style=\"stroke:#000000; stroke-linecap:round; stroke-linejoin:round; stroke-width:4; stroke-opacity:1; fill:none\" points=\"306.435,1486.45 306.435,47.2441 \"/>\n",
       "<polyline clip-path=\"url(#clip630)\" style=\"stroke:#000000; stroke-linecap:round; stroke-linejoin:round; stroke-width:4; stroke-opacity:1; fill:none\" points=\"306.435,1378.18 325.333,1378.18 \"/>\n",
       "<polyline clip-path=\"url(#clip630)\" style=\"stroke:#000000; stroke-linecap:round; stroke-linejoin:round; stroke-width:4; stroke-opacity:1; fill:none\" points=\"306.435,1085.31 325.333,1085.31 \"/>\n",
       "<polyline clip-path=\"url(#clip630)\" style=\"stroke:#000000; stroke-linecap:round; stroke-linejoin:round; stroke-width:4; stroke-opacity:1; fill:none\" points=\"306.435,792.43 325.333,792.43 \"/>\n",
       "<polyline clip-path=\"url(#clip630)\" style=\"stroke:#000000; stroke-linecap:round; stroke-linejoin:round; stroke-width:4; stroke-opacity:1; fill:none\" points=\"306.435,499.554 325.333,499.554 \"/>\n",
       "<polyline clip-path=\"url(#clip630)\" style=\"stroke:#000000; stroke-linecap:round; stroke-linejoin:round; stroke-width:4; stroke-opacity:1; fill:none\" points=\"306.435,206.677 325.333,206.677 \"/>\n",
       "<path clip-path=\"url(#clip630)\" d=\"M258.491 1363.98 Q254.88 1363.98 253.051 1367.55 Q251.246 1371.09 251.246 1378.22 Q251.246 1385.32 253.051 1388.89 Q254.88 1392.43 258.491 1392.43 Q262.125 1392.43 263.931 1388.89 Q265.759 1385.32 265.759 1378.22 Q265.759 1371.09 263.931 1367.55 Q262.125 1363.98 258.491 1363.98 M258.491 1360.28 Q264.301 1360.28 267.357 1364.88 Q270.435 1369.47 270.435 1378.22 Q270.435 1386.94 267.357 1391.55 Q264.301 1396.13 258.491 1396.13 Q252.681 1396.13 249.602 1391.55 Q246.547 1386.94 246.547 1378.22 Q246.547 1369.47 249.602 1364.88 Q252.681 1360.28 258.491 1360.28 Z\" fill=\"#000000\" fill-rule=\"evenodd\" fill-opacity=\"1\" /><path clip-path=\"url(#clip630)\" d=\"M54.6105 1074.47 L72.9668 1074.47 L72.9668 1078.41 L58.8928 1078.41 L58.8928 1086.88 Q59.9113 1086.53 60.9299 1086.37 Q61.9484 1086.19 62.9669 1086.19 Q68.7539 1086.19 72.1335 1089.36 Q75.5131 1092.53 75.5131 1097.95 Q75.5131 1103.52 72.0409 1106.63 Q68.5687 1109.71 62.2493 1109.71 Q60.0734 1109.71 57.8049 1109.34 Q55.5595 1108.96 53.1521 1108.22 L53.1521 1103.52 Q55.2354 1104.66 57.4577 1105.21 Q59.6799 1105.77 62.1567 1105.77 Q66.1613 1105.77 68.4993 1103.66 Q70.8372 1101.56 70.8372 1097.95 Q70.8372 1094.34 68.4993 1092.23 Q66.1613 1090.12 62.1567 1090.12 Q60.2817 1090.12 58.4067 1090.54 Q56.5549 1090.96 54.6105 1091.84 L54.6105 1074.47 Z\" fill=\"#000000\" fill-rule=\"evenodd\" fill-opacity=\"1\" /><path clip-path=\"url(#clip630)\" d=\"M84.726 1103.15 L89.6103 1103.15 L89.6103 1109.03 L84.726 1109.03 L84.726 1103.15 Z\" fill=\"#000000\" fill-rule=\"evenodd\" fill-opacity=\"1\" /><path clip-path=\"url(#clip630)\" d=\"M109.795 1077.55 Q106.184 1077.55 104.356 1081.12 Q102.55 1084.66 102.55 1091.79 Q102.55 1098.9 104.356 1102.46 Q106.184 1106 109.795 1106 Q113.43 1106 115.235 1102.46 Q117.064 1098.9 117.064 1091.79 Q117.064 1084.66 115.235 1081.12 Q113.43 1077.55 109.795 1077.55 M109.795 1073.85 Q115.605 1073.85 118.661 1078.46 Q121.74 1083.04 121.74 1091.79 Q121.74 1100.52 118.661 1105.12 Q115.605 1109.71 109.795 1109.71 Q103.985 1109.71 100.906 1105.12 Q97.851 1100.52 97.851 1091.79 Q97.851 1083.04 100.906 1078.46 Q103.985 1073.85 109.795 1073.85 Z\" fill=\"#000000\" fill-rule=\"evenodd\" fill-opacity=\"1\" /><path clip-path=\"url(#clip630)\" d=\"M139.957 1077.55 Q136.346 1077.55 134.517 1081.12 Q132.712 1084.66 132.712 1091.79 Q132.712 1098.9 134.517 1102.46 Q136.346 1106 139.957 1106 Q143.591 1106 145.397 1102.46 Q147.226 1098.9 147.226 1091.79 Q147.226 1084.66 145.397 1081.12 Q143.591 1077.55 139.957 1077.55 M139.957 1073.85 Q145.767 1073.85 148.823 1078.46 Q151.902 1083.04 151.902 1091.79 Q151.902 1100.52 148.823 1105.12 Q145.767 1109.71 139.957 1109.71 Q134.147 1109.71 131.068 1105.12 Q128.013 1100.52 128.013 1091.79 Q128.013 1083.04 131.068 1078.46 Q134.147 1073.85 139.957 1073.85 Z\" fill=\"#000000\" fill-rule=\"evenodd\" fill-opacity=\"1\" /><path clip-path=\"url(#clip630)\" d=\"M188.29 1083.57 L177.712 1094.2 L188.29 1104.77 L185.536 1107.58 L174.911 1096.95 L164.286 1107.58 L161.554 1104.77 L172.11 1094.2 L161.554 1083.57 L164.286 1080.77 L174.911 1091.4 L185.536 1080.77 L188.29 1083.57 Z\" fill=\"#000000\" fill-rule=\"evenodd\" fill-opacity=\"1\" /><path clip-path=\"url(#clip630)\" d=\"M200.651 1105.1 L208.29 1105.1 L208.29 1078.73 L199.98 1080.4 L199.98 1076.14 L208.244 1074.47 L212.92 1074.47 L212.92 1105.1 L220.559 1105.1 L220.559 1109.03 L200.651 1109.03 L200.651 1105.1 Z\" fill=\"#000000\" fill-rule=\"evenodd\" fill-opacity=\"1\" /><path clip-path=\"url(#clip630)\" d=\"M240.003 1077.55 Q236.392 1077.55 234.563 1081.12 Q232.758 1084.66 232.758 1091.79 Q232.758 1098.9 234.563 1102.46 Q236.392 1106 240.003 1106 Q243.637 1106 245.443 1102.46 Q247.271 1098.9 247.271 1091.79 Q247.271 1084.66 245.443 1081.12 Q243.637 1077.55 240.003 1077.55 M240.003 1073.85 Q245.813 1073.85 248.869 1078.46 Q251.947 1083.04 251.947 1091.79 Q251.947 1100.52 248.869 1105.12 Q245.813 1109.71 240.003 1109.71 Q234.193 1109.71 231.114 1105.12 Q228.059 1100.52 228.059 1091.79 Q228.059 1083.04 231.114 1078.46 Q234.193 1073.85 240.003 1073.85 Z\" fill=\"#000000\" fill-rule=\"evenodd\" fill-opacity=\"1\" /><path clip-path=\"url(#clip630)\" d=\"M264.643 1066.48 Q267.37 1067.07 268.893 1068.91 Q270.435 1070.75 270.435 1073.46 Q270.435 1077.62 267.577 1079.89 Q264.718 1082.17 259.452 1082.17 Q257.684 1082.17 255.803 1081.81 Q253.941 1081.47 251.947 1080.78 L251.947 1077.11 Q253.527 1078.03 255.408 1078.5 Q257.289 1078.97 259.339 1078.97 Q262.912 1078.97 264.774 1077.56 Q266.655 1076.15 266.655 1073.46 Q266.655 1070.98 264.906 1069.59 Q263.176 1068.18 260.072 1068.18 L256.8 1068.18 L256.8 1065.05 L260.223 1065.05 Q263.025 1065.05 264.511 1063.94 Q265.997 1062.82 265.997 1060.71 Q265.997 1058.55 264.455 1057.4 Q262.931 1056.23 260.072 1056.23 Q258.511 1056.23 256.725 1056.57 Q254.938 1056.91 252.794 1057.63 L252.794 1054.24 Q254.957 1053.64 256.837 1053.34 Q258.737 1053.04 260.411 1053.04 Q264.737 1053.04 267.257 1055.01 Q269.777 1056.97 269.777 1060.31 Q269.777 1062.65 268.442 1064.26 Q267.106 1065.86 264.643 1066.48 Z\" fill=\"#000000\" fill-rule=\"evenodd\" fill-opacity=\"1\" /><path clip-path=\"url(#clip630)\" d=\"M53.3995 812.223 L61.0384 812.223 L61.0384 785.857 L52.7282 787.524 L52.7282 783.264 L60.9921 781.598 L65.668 781.598 L65.668 812.223 L73.3068 812.223 L73.3068 816.158 L53.3995 816.158 L53.3995 812.223 Z\" fill=\"#000000\" fill-rule=\"evenodd\" fill-opacity=\"1\" /><path clip-path=\"url(#clip630)\" d=\"M82.7512 810.278 L87.6354 810.278 L87.6354 816.158 L82.7512 816.158 L82.7512 810.278 Z\" fill=\"#000000\" fill-rule=\"evenodd\" fill-opacity=\"1\" /><path clip-path=\"url(#clip630)\" d=\"M107.821 784.676 Q104.209 784.676 102.381 788.241 Q100.575 791.783 100.575 798.912 Q100.575 806.019 102.381 809.584 Q104.209 813.125 107.821 813.125 Q111.455 813.125 113.26 809.584 Q115.089 806.019 115.089 798.912 Q115.089 791.783 113.26 788.241 Q111.455 784.676 107.821 784.676 M107.821 780.973 Q113.631 780.973 116.686 785.579 Q119.765 790.162 119.765 798.912 Q119.765 807.639 116.686 812.246 Q113.631 816.829 107.821 816.829 Q102.01 816.829 98.9317 812.246 Q95.8761 807.639 95.8761 798.912 Q95.8761 790.162 98.9317 785.579 Q102.01 780.973 107.821 780.973 Z\" fill=\"#000000\" fill-rule=\"evenodd\" fill-opacity=\"1\" /><path clip-path=\"url(#clip630)\" d=\"M137.982 784.676 Q134.371 784.676 132.543 788.241 Q130.737 791.783 130.737 798.912 Q130.737 806.019 132.543 809.584 Q134.371 813.125 137.982 813.125 Q141.617 813.125 143.422 809.584 Q145.251 806.019 145.251 798.912 Q145.251 791.783 143.422 788.241 Q141.617 784.676 137.982 784.676 M137.982 780.973 Q143.793 780.973 146.848 785.579 Q149.927 790.162 149.927 798.912 Q149.927 807.639 146.848 812.246 Q143.793 816.829 137.982 816.829 Q132.172 816.829 129.094 812.246 Q126.038 807.639 126.038 798.912 Q126.038 790.162 129.094 785.579 Q132.172 780.973 137.982 780.973 Z\" fill=\"#000000\" fill-rule=\"evenodd\" fill-opacity=\"1\" /><path clip-path=\"url(#clip630)\" d=\"M186.315 790.695 L175.737 801.32 L186.315 811.898 L183.561 814.699 L172.936 804.074 L162.311 814.699 L159.58 811.898 L170.135 801.32 L159.58 790.695 L162.311 787.894 L172.936 798.519 L183.561 787.894 L186.315 790.695 Z\" fill=\"#000000\" fill-rule=\"evenodd\" fill-opacity=\"1\" /><path clip-path=\"url(#clip630)\" d=\"M198.677 812.223 L206.315 812.223 L206.315 785.857 L198.005 787.524 L198.005 783.264 L206.269 781.598 L210.945 781.598 L210.945 812.223 L218.584 812.223 L218.584 816.158 L198.677 816.158 L198.677 812.223 Z\" fill=\"#000000\" fill-rule=\"evenodd\" fill-opacity=\"1\" /><path clip-path=\"url(#clip630)\" d=\"M238.028 784.676 Q234.417 784.676 232.588 788.241 Q230.783 791.783 230.783 798.912 Q230.783 806.019 232.588 809.584 Q234.417 813.125 238.028 813.125 Q241.662 813.125 243.468 809.584 Q245.297 806.019 245.297 798.912 Q245.297 791.783 243.468 788.241 Q241.662 784.676 238.028 784.676 M238.028 780.973 Q243.838 780.973 246.894 785.579 Q249.973 790.162 249.973 798.912 Q249.973 807.639 246.894 812.246 Q243.838 816.829 238.028 816.829 Q232.218 816.829 229.139 812.246 Q226.084 807.639 226.084 798.912 Q226.084 790.162 229.139 785.579 Q232.218 780.973 238.028 780.973 Z\" fill=\"#000000\" fill-rule=\"evenodd\" fill-opacity=\"1\" /><path clip-path=\"url(#clip630)\" d=\"M262.649 763.977 L253.057 778.967 L262.649 778.967 L262.649 763.977 M261.652 760.667 L266.429 760.667 L266.429 778.967 L270.435 778.967 L270.435 782.127 L266.429 782.127 L266.429 788.747 L262.649 788.747 L262.649 782.127 L249.973 782.127 L249.973 778.459 L261.652 760.667 Z\" fill=\"#000000\" fill-rule=\"evenodd\" fill-opacity=\"1\" /><path clip-path=\"url(#clip630)\" d=\"M53.3995 519.346 L61.0384 519.346 L61.0384 492.98 L52.7282 494.647 L52.7282 490.388 L60.9921 488.721 L65.668 488.721 L65.668 519.346 L73.3068 519.346 L73.3068 523.281 L53.3995 523.281 L53.3995 519.346 Z\" fill=\"#000000\" fill-rule=\"evenodd\" fill-opacity=\"1\" /><path clip-path=\"url(#clip630)\" d=\"M82.7512 517.402 L87.6354 517.402 L87.6354 523.281 L82.7512 523.281 L82.7512 517.402 Z\" fill=\"#000000\" fill-rule=\"evenodd\" fill-opacity=\"1\" /><path clip-path=\"url(#clip630)\" d=\"M97.8669 488.721 L116.223 488.721 L116.223 492.656 L102.149 492.656 L102.149 501.129 Q103.168 500.781 104.186 500.619 Q105.205 500.434 106.223 500.434 Q112.01 500.434 115.39 503.605 Q118.77 506.777 118.77 512.193 Q118.77 517.772 115.297 520.874 Q111.825 523.952 105.506 523.952 Q103.33 523.952 101.061 523.582 Q98.8159 523.212 96.4085 522.471 L96.4085 517.772 Q98.4919 518.906 100.714 519.462 Q102.936 520.017 105.413 520.017 Q109.418 520.017 111.756 517.911 Q114.094 515.804 114.094 512.193 Q114.094 508.582 111.756 506.476 Q109.418 504.369 105.413 504.369 Q103.538 504.369 101.663 504.786 Q99.8113 505.203 97.8669 506.082 L97.8669 488.721 Z\" fill=\"#000000\" fill-rule=\"evenodd\" fill-opacity=\"1\" /><path clip-path=\"url(#clip630)\" d=\"M137.982 491.8 Q134.371 491.8 132.543 495.365 Q130.737 498.906 130.737 506.036 Q130.737 513.142 132.543 516.707 Q134.371 520.249 137.982 520.249 Q141.617 520.249 143.422 516.707 Q145.251 513.142 145.251 506.036 Q145.251 498.906 143.422 495.365 Q141.617 491.8 137.982 491.8 M137.982 488.096 Q143.793 488.096 146.848 492.703 Q149.927 497.286 149.927 506.036 Q149.927 514.763 146.848 519.369 Q143.793 523.952 137.982 523.952 Q132.172 523.952 129.094 519.369 Q126.038 514.763 126.038 506.036 Q126.038 497.286 129.094 492.703 Q132.172 488.096 137.982 488.096 Z\" fill=\"#000000\" fill-rule=\"evenodd\" fill-opacity=\"1\" /><path clip-path=\"url(#clip630)\" d=\"M186.315 497.818 L175.737 508.443 L186.315 519.022 L183.561 521.823 L172.936 511.198 L162.311 521.823 L159.58 519.022 L170.135 508.443 L159.58 497.818 L162.311 495.017 L172.936 505.642 L183.561 495.017 L186.315 497.818 Z\" fill=\"#000000\" fill-rule=\"evenodd\" fill-opacity=\"1\" /><path clip-path=\"url(#clip630)\" d=\"M198.677 519.346 L206.315 519.346 L206.315 492.98 L198.005 494.647 L198.005 490.388 L206.269 488.721 L210.945 488.721 L210.945 519.346 L218.584 519.346 L218.584 523.281 L198.677 523.281 L198.677 519.346 Z\" fill=\"#000000\" fill-rule=\"evenodd\" fill-opacity=\"1\" /><path clip-path=\"url(#clip630)\" d=\"M238.028 491.8 Q234.417 491.8 232.588 495.365 Q230.783 498.906 230.783 506.036 Q230.783 513.142 232.588 516.707 Q234.417 520.249 238.028 520.249 Q241.662 520.249 243.468 516.707 Q245.297 513.142 245.297 506.036 Q245.297 498.906 243.468 495.365 Q241.662 491.8 238.028 491.8 M238.028 488.096 Q243.838 488.096 246.894 492.703 Q249.973 497.286 249.973 506.036 Q249.973 514.763 246.894 519.369 Q243.838 523.952 238.028 523.952 Q232.218 523.952 229.139 519.369 Q226.084 514.763 226.084 506.036 Q226.084 497.286 229.139 492.703 Q232.218 488.096 238.028 488.096 Z\" fill=\"#000000\" fill-rule=\"evenodd\" fill-opacity=\"1\" /><path clip-path=\"url(#clip630)\" d=\"M262.649 471.101 L253.057 486.091 L262.649 486.091 L262.649 471.101 M261.652 467.791 L266.429 467.791 L266.429 486.091 L270.435 486.091 L270.435 489.25 L266.429 489.25 L266.429 495.871 L262.649 495.871 L262.649 489.25 L249.973 489.25 L249.973 485.583 L261.652 467.791 Z\" fill=\"#000000\" fill-rule=\"evenodd\" fill-opacity=\"1\" /><path clip-path=\"url(#clip630)\" d=\"M56.6171 226.47 L72.9365 226.47 L72.9365 230.405 L50.9921 230.405 L50.9921 226.47 Q53.6541 223.715 58.2375 219.085 Q62.8439 214.433 64.0245 213.09 Q66.2698 210.567 67.1494 208.831 Q68.0522 207.072 68.0522 205.382 Q68.0522 202.627 66.1078 200.891 Q64.1865 199.155 61.0847 199.155 Q58.8856 199.155 56.4319 199.919 Q54.0014 200.683 51.2236 202.234 L51.2236 197.511 Q54.0477 196.377 56.5014 195.798 Q58.955 195.22 60.9921 195.22 Q66.3624 195.22 69.5568 197.905 Q72.7513 200.59 72.7513 205.081 Q72.7513 207.21 71.9411 209.132 Q71.1541 211.03 69.0476 213.622 Q68.4689 214.294 65.367 217.511 Q62.2652 220.706 56.6171 226.47 Z\" fill=\"#000000\" fill-rule=\"evenodd\" fill-opacity=\"1\" /><path clip-path=\"url(#clip630)\" d=\"M82.7512 224.525 L87.6354 224.525 L87.6354 230.405 L82.7512 230.405 L82.7512 224.525 Z\" fill=\"#000000\" fill-rule=\"evenodd\" fill-opacity=\"1\" /><path clip-path=\"url(#clip630)\" d=\"M107.821 198.923 Q104.209 198.923 102.381 202.488 Q100.575 206.03 100.575 213.159 Q100.575 220.266 102.381 223.831 Q104.209 227.372 107.821 227.372 Q111.455 227.372 113.26 223.831 Q115.089 220.266 115.089 213.159 Q115.089 206.03 113.26 202.488 Q111.455 198.923 107.821 198.923 M107.821 195.22 Q113.631 195.22 116.686 199.826 Q119.765 204.409 119.765 213.159 Q119.765 221.886 116.686 226.493 Q113.631 231.076 107.821 231.076 Q102.01 231.076 98.9317 226.493 Q95.8761 221.886 95.8761 213.159 Q95.8761 204.409 98.9317 199.826 Q102.01 195.22 107.821 195.22 Z\" fill=\"#000000\" fill-rule=\"evenodd\" fill-opacity=\"1\" /><path clip-path=\"url(#clip630)\" d=\"M137.982 198.923 Q134.371 198.923 132.543 202.488 Q130.737 206.03 130.737 213.159 Q130.737 220.266 132.543 223.831 Q134.371 227.372 137.982 227.372 Q141.617 227.372 143.422 223.831 Q145.251 220.266 145.251 213.159 Q145.251 206.03 143.422 202.488 Q141.617 198.923 137.982 198.923 M137.982 195.22 Q143.793 195.22 146.848 199.826 Q149.927 204.409 149.927 213.159 Q149.927 221.886 146.848 226.493 Q143.793 231.076 137.982 231.076 Q132.172 231.076 129.094 226.493 Q126.038 221.886 126.038 213.159 Q126.038 204.409 129.094 199.826 Q132.172 195.22 137.982 195.22 Z\" fill=\"#000000\" fill-rule=\"evenodd\" fill-opacity=\"1\" /><path clip-path=\"url(#clip630)\" d=\"M186.315 204.942 L175.737 215.567 L186.315 226.145 L183.561 228.946 L172.936 218.321 L162.311 228.946 L159.58 226.145 L170.135 215.567 L159.58 204.942 L162.311 202.141 L172.936 212.766 L183.561 202.141 L186.315 204.942 Z\" fill=\"#000000\" fill-rule=\"evenodd\" fill-opacity=\"1\" /><path clip-path=\"url(#clip630)\" d=\"M198.677 226.47 L206.315 226.47 L206.315 200.104 L198.005 201.771 L198.005 197.511 L206.269 195.845 L210.945 195.845 L210.945 226.47 L218.584 226.47 L218.584 230.405 L198.677 230.405 L198.677 226.47 Z\" fill=\"#000000\" fill-rule=\"evenodd\" fill-opacity=\"1\" /><path clip-path=\"url(#clip630)\" d=\"M238.028 198.923 Q234.417 198.923 232.588 202.488 Q230.783 206.03 230.783 213.159 Q230.783 220.266 232.588 223.831 Q234.417 227.372 238.028 227.372 Q241.662 227.372 243.468 223.831 Q245.297 220.266 245.297 213.159 Q245.297 206.03 243.468 202.488 Q241.662 198.923 238.028 198.923 M238.028 195.22 Q243.838 195.22 246.894 199.826 Q249.973 204.409 249.973 213.159 Q249.973 221.886 246.894 226.493 Q243.838 231.076 238.028 231.076 Q232.218 231.076 229.139 226.493 Q226.084 221.886 226.084 213.159 Q226.084 204.409 229.139 199.826 Q232.218 195.22 238.028 195.22 Z\" fill=\"#000000\" fill-rule=\"evenodd\" fill-opacity=\"1\" /><path clip-path=\"url(#clip630)\" d=\"M262.649 178.224 L253.057 193.214 L262.649 193.214 L262.649 178.224 M261.652 174.914 L266.429 174.914 L266.429 193.214 L270.435 193.214 L270.435 196.374 L266.429 196.374 L266.429 202.994 L262.649 202.994 L262.649 196.374 L249.973 196.374 L249.973 192.706 L261.652 174.914 Z\" fill=\"#000000\" fill-rule=\"evenodd\" fill-opacity=\"1\" /><polyline clip-path=\"url(#clip632)\" style=\"stroke:#009af9; stroke-linecap:round; stroke-linejoin:round; stroke-width:4; stroke-opacity:1; fill:none\" points=\"364.35,1441.85 383.655,1425.46 402.96,1410.3 422.265,1396.34 441.57,1383.54 460.875,1371.87 480.18,1361.29 499.484,1351.77 518.789,1343.27 538.094,1335.75 557.399,1329.19 576.704,1323.54 596.009,1318.77 615.314,1314.85 634.619,1311.74 653.924,1309.4 673.229,1307.8 692.534,1306.9 711.839,1306.67 731.143,1307.07 750.448,1308.08 769.753,1309.64 789.058,1311.73 808.363,1314.31 827.668,1317.35 846.973,1320.82 866.278,1324.66 885.583,1328.86 904.888,1333.37 924.193,1338.16 943.497,1343.2 962.802,1348.45 982.107,1353.87 1001.41,1359.43 1020.72,1365.09 1040.02,1370.82 1059.33,1376.59 1078.63,1382.35 1097.94,1388.07 1117.24,1393.72 1136.55,1399.27 1155.85,1404.66 1175.16,1409.88 1194.46,1414.89 1213.77,1419.65 1233.07,1424.12 1252.38,1428.27 1271.68,1432.06 1290.99,1435.47 1310.29,1438.45 1329.6,1440.97 1348.9,1442.99 1368.21,1444.48 1387.51,1445.4 1406.82,1445.72 1426.12,1445.4 1445.43,1444.4 1464.73,1442.7 1484.03,1440.26 1503.34,1437.04 1522.64,1433 1541.95,1428.11 1561.25,1422.34 1580.56,1415.65 1599.86,1408 1619.17,1399.36 1638.47,1389.69 1657.78,1378.97 1677.08,1367.14 1696.39,1354.19 1715.69,1340.06 1735,1324.74 1754.3,1308.17 1773.61,1290.34 1792.91,1271.19 1812.22,1250.7 1831.52,1228.83 1850.83,1205.55 1870.13,1180.81 1889.44,1154.6 1908.74,1126.86 1928.05,1097.56 1947.35,1066.68 1966.66,1034.17 1985.96,999.992 2005.27,964.121 2024.57,926.519 2043.88,887.148 2063.18,845.975 2082.49,802.964 2101.79,758.079 2121.1,711.285 2140.4,662.548 2159.71,611.831 2179.01,559.099 2198.32,504.318 2217.62,447.451 2236.93,388.464 2256.23,327.321 2275.54,263.986 2294.84,198.425 \"/>\n",
       "<circle clip-path=\"url(#clip632)\" cx=\"364.35\" cy=\"1378.12\" r=\"14.4\" fill=\"#e26f46\" fill-rule=\"evenodd\" fill-opacity=\"1\" stroke=\"#000000\" stroke-opacity=\"1\" stroke-width=\"3.2\"/>\n",
       "<circle clip-path=\"url(#clip632)\" cx=\"557.399\" cy=\"1378.02\" r=\"14.4\" fill=\"#e26f46\" fill-rule=\"evenodd\" fill-opacity=\"1\" stroke=\"#000000\" stroke-opacity=\"1\" stroke-width=\"3.2\"/>\n",
       "<circle clip-path=\"url(#clip632)\" cx=\"750.448\" cy=\"1377.75\" r=\"14.4\" fill=\"#e26f46\" fill-rule=\"evenodd\" fill-opacity=\"1\" stroke=\"#000000\" stroke-opacity=\"1\" stroke-width=\"3.2\"/>\n",
       "<circle clip-path=\"url(#clip632)\" cx=\"943.497\" cy=\"1377.01\" r=\"14.4\" fill=\"#e26f46\" fill-rule=\"evenodd\" fill-opacity=\"1\" stroke=\"#000000\" stroke-opacity=\"1\" stroke-width=\"3.2\"/>\n",
       "<circle clip-path=\"url(#clip632)\" cx=\"1136.55\" cy=\"1374.98\" r=\"14.4\" fill=\"#e26f46\" fill-rule=\"evenodd\" fill-opacity=\"1\" stroke=\"#000000\" stroke-opacity=\"1\" stroke-width=\"3.2\"/>\n",
       "<circle clip-path=\"url(#clip632)\" cx=\"1329.6\" cy=\"1369.49\" r=\"14.4\" fill=\"#e26f46\" fill-rule=\"evenodd\" fill-opacity=\"1\" stroke=\"#000000\" stroke-opacity=\"1\" stroke-width=\"3.2\"/>\n",
       "<circle clip-path=\"url(#clip632)\" cx=\"1522.64\" cy=\"1354.55\" r=\"14.4\" fill=\"#e26f46\" fill-rule=\"evenodd\" fill-opacity=\"1\" stroke=\"#000000\" stroke-opacity=\"1\" stroke-width=\"3.2\"/>\n",
       "<circle clip-path=\"url(#clip632)\" cx=\"1715.69\" cy=\"1313.95\" r=\"14.4\" fill=\"#e26f46\" fill-rule=\"evenodd\" fill-opacity=\"1\" stroke=\"#000000\" stroke-opacity=\"1\" stroke-width=\"3.2\"/>\n",
       "<circle clip-path=\"url(#clip632)\" cx=\"1908.74\" cy=\"1203.57\" r=\"14.4\" fill=\"#e26f46\" fill-rule=\"evenodd\" fill-opacity=\"1\" stroke=\"#000000\" stroke-opacity=\"1\" stroke-width=\"3.2\"/>\n",
       "<circle clip-path=\"url(#clip632)\" cx=\"2101.79\" cy=\"903.543\" r=\"14.4\" fill=\"#e26f46\" fill-rule=\"evenodd\" fill-opacity=\"1\" stroke=\"#000000\" stroke-opacity=\"1\" stroke-width=\"3.2\"/>\n",
       "<circle clip-path=\"url(#clip632)\" cx=\"2294.84\" cy=\"87.9763\" r=\"14.4\" fill=\"#e26f46\" fill-rule=\"evenodd\" fill-opacity=\"1\" stroke=\"#000000\" stroke-opacity=\"1\" stroke-width=\"3.2\"/>\n",
       "<path clip-path=\"url(#clip630)\" d=\"M374.646 250.738 L1659.02 250.738 L1659.02 95.2176 L374.646 95.2176  Z\" fill=\"#ffffff\" fill-rule=\"evenodd\" fill-opacity=\"1\"/>\n",
       "<polyline clip-path=\"url(#clip630)\" style=\"stroke:#000000; stroke-linecap:round; stroke-linejoin:round; stroke-width:4; stroke-opacity:1; fill:none\" points=\"374.646,250.738 1659.02,250.738 1659.02,95.2176 374.646,95.2176 374.646,250.738 \"/>\n",
       "<polyline clip-path=\"url(#clip630)\" style=\"stroke:#009af9; stroke-linecap:round; stroke-linejoin:round; stroke-width:4; stroke-opacity:1; fill:none\" points=\"397.383,147.058 533.804,147.058 \"/>\n",
       "<path clip-path=\"url(#clip630)\" d=\"M569.944 151.305 Q564.782 151.305 562.791 152.486 Q560.8 153.666 560.8 156.514 Q560.8 158.782 562.282 160.125 Q563.787 161.444 566.356 161.444 Q569.898 161.444 572.027 158.944 Q574.18 156.421 574.18 152.254 L574.18 151.305 L569.944 151.305 M578.439 149.546 L578.439 164.338 L574.18 164.338 L574.18 160.402 Q572.722 162.763 570.546 163.898 Q568.37 165.009 565.222 165.009 Q561.24 165.009 558.879 162.787 Q556.541 160.541 556.541 156.791 Q556.541 152.416 559.458 150.194 Q562.398 147.972 568.208 147.972 L574.18 147.972 L574.18 147.555 Q574.18 144.615 572.236 143.018 Q570.314 141.398 566.819 141.398 Q564.597 141.398 562.49 141.93 Q560.384 142.463 558.439 143.527 L558.439 139.592 Q560.777 138.69 562.976 138.25 Q565.175 137.787 567.259 137.787 Q572.884 137.787 575.662 140.703 Q578.439 143.62 578.439 149.546 Z\" fill=\"#000000\" fill-rule=\"evenodd\" fill-opacity=\"1\" /><path clip-path=\"url(#clip630)\" d=\"M591.333 160.449 L591.333 174.199 L587.05 174.199 L587.05 138.412 L591.333 138.412 L591.333 142.347 Q592.675 140.032 594.712 138.921 Q596.773 137.787 599.62 137.787 Q604.342 137.787 607.282 141.537 Q610.245 145.287 610.245 151.398 Q610.245 157.509 607.282 161.259 Q604.342 165.009 599.62 165.009 Q596.773 165.009 594.712 163.898 Q592.675 162.763 591.333 160.449 M605.823 151.398 Q605.823 146.699 603.879 144.037 Q601.958 141.352 598.578 141.352 Q595.198 141.352 593.254 144.037 Q591.333 146.699 591.333 151.398 Q591.333 156.097 593.254 158.782 Q595.198 161.444 598.578 161.444 Q601.958 161.444 603.879 158.782 Q605.823 156.097 605.823 151.398 Z\" fill=\"#000000\" fill-rule=\"evenodd\" fill-opacity=\"1\" /><path clip-path=\"url(#clip630)\" d=\"M632.328 142.393 Q631.61 141.977 630.754 141.791 Q629.92 141.583 628.902 141.583 Q625.291 141.583 623.346 143.944 Q621.425 146.282 621.425 150.68 L621.425 164.338 L617.143 164.338 L617.143 138.412 L621.425 138.412 L621.425 142.44 Q622.768 140.078 624.92 138.944 Q627.073 137.787 630.152 137.787 Q630.592 137.787 631.124 137.856 Q631.657 137.903 632.305 138.018 L632.328 142.393 Z\" fill=\"#000000\" fill-rule=\"evenodd\" fill-opacity=\"1\" /><path clip-path=\"url(#clip630)\" d=\"M645.8 141.398 Q642.374 141.398 640.383 144.083 Q638.393 146.745 638.393 151.398 Q638.393 156.051 640.36 158.736 Q642.351 161.398 645.8 161.398 Q649.203 161.398 651.194 158.713 Q653.184 156.027 653.184 151.398 Q653.184 146.791 651.194 144.106 Q649.203 141.398 645.8 141.398 M645.8 137.787 Q651.356 137.787 654.527 141.398 Q657.698 145.009 657.698 151.398 Q657.698 157.764 654.527 161.398 Q651.356 165.009 645.8 165.009 Q640.221 165.009 637.05 161.398 Q633.902 157.764 633.902 151.398 Q633.902 145.009 637.05 141.398 Q640.221 137.787 645.8 137.787 Z\" fill=\"#000000\" fill-rule=\"evenodd\" fill-opacity=\"1\" /><path clip-path=\"url(#clip630)\" d=\"M664.596 128.319 L668.879 128.319 L668.879 149.592 L681.587 138.412 L687.027 138.412 L673.277 150.541 L687.605 164.338 L682.05 164.338 L668.879 151.676 L668.879 164.338 L664.596 164.338 L664.596 128.319 Z\" fill=\"#000000\" fill-rule=\"evenodd\" fill-opacity=\"1\" /><path clip-path=\"url(#clip630)\" d=\"M708.739 139.176 L708.739 143.203 Q706.934 142.277 704.99 141.815 Q703.045 141.352 700.962 141.352 Q697.79 141.352 696.193 142.324 Q694.619 143.296 694.619 145.24 Q694.619 146.722 695.753 147.578 Q696.888 148.412 700.314 149.176 L701.772 149.5 Q706.309 150.472 708.207 152.254 Q710.128 154.014 710.128 157.185 Q710.128 160.796 707.258 162.902 Q704.411 165.009 699.411 165.009 Q697.328 165.009 695.059 164.592 Q692.814 164.199 690.314 163.388 L690.314 158.99 Q692.675 160.217 694.966 160.842 Q697.258 161.444 699.503 161.444 Q702.513 161.444 704.133 160.426 Q705.753 159.384 705.753 157.509 Q705.753 155.773 704.573 154.847 Q703.415 153.921 699.457 153.064 L697.976 152.717 Q694.017 151.884 692.258 150.171 Q690.499 148.435 690.499 145.426 Q690.499 141.768 693.091 139.778 Q695.684 137.787 700.453 137.787 Q702.814 137.787 704.897 138.134 Q706.98 138.481 708.739 139.176 Z\" fill=\"#000000\" fill-rule=\"evenodd\" fill-opacity=\"1\" /><path clip-path=\"url(#clip630)\" d=\"M727.698 166.745 Q725.892 171.375 724.179 172.787 Q722.466 174.199 719.596 174.199 L716.193 174.199 L716.193 170.634 L718.693 170.634 Q720.452 170.634 721.425 169.8 Q722.397 168.967 723.577 165.865 L724.341 163.921 L713.855 138.412 L718.369 138.412 L726.471 158.689 L734.573 138.412 L739.087 138.412 L727.698 166.745 Z\" fill=\"#000000\" fill-rule=\"evenodd\" fill-opacity=\"1\" /><path clip-path=\"url(#clip630)\" d=\"M765.151 143.389 Q766.748 140.518 768.971 139.153 Q771.193 137.787 774.202 137.787 Q778.253 137.787 780.452 140.634 Q782.651 143.458 782.651 148.689 L782.651 164.338 L778.369 164.338 L778.369 148.828 Q778.369 145.102 777.049 143.296 Q775.73 141.49 773.022 141.49 Q769.711 141.49 767.79 143.69 Q765.869 145.889 765.869 149.685 L765.869 164.338 L761.586 164.338 L761.586 148.828 Q761.586 145.078 760.267 143.296 Q758.948 141.49 756.193 141.49 Q752.929 141.49 751.008 143.713 Q749.086 145.912 749.086 149.685 L749.086 164.338 L744.804 164.338 L744.804 138.412 L749.086 138.412 L749.086 142.44 Q750.545 140.055 752.582 138.921 Q754.619 137.787 757.42 137.787 Q760.244 137.787 762.211 139.222 Q764.202 140.657 765.151 143.389 Z\" fill=\"#000000\" fill-rule=\"evenodd\" fill-opacity=\"1\" /><path clip-path=\"url(#clip630)\" d=\"M802.929 151.305 Q797.767 151.305 795.776 152.486 Q793.785 153.666 793.785 156.514 Q793.785 158.782 795.267 160.125 Q796.771 161.444 799.341 161.444 Q802.883 161.444 805.012 158.944 Q807.165 156.421 807.165 152.254 L807.165 151.305 L802.929 151.305 M811.424 149.546 L811.424 164.338 L807.165 164.338 L807.165 160.402 Q805.707 162.763 803.531 163.898 Q801.355 165.009 798.207 165.009 Q794.225 165.009 791.864 162.787 Q789.526 160.541 789.526 156.791 Q789.526 152.416 792.443 150.194 Q795.383 147.972 801.193 147.972 L807.165 147.972 L807.165 147.555 Q807.165 144.615 805.22 143.018 Q803.299 141.398 799.804 141.398 Q797.582 141.398 795.475 141.93 Q793.369 142.463 791.424 143.527 L791.424 139.592 Q793.762 138.69 795.961 138.25 Q798.16 137.787 800.244 137.787 Q805.869 137.787 808.646 140.703 Q811.424 143.62 811.424 149.546 Z\" fill=\"#000000\" fill-rule=\"evenodd\" fill-opacity=\"1\" /><path clip-path=\"url(#clip630)\" d=\"M838.855 139.407 L838.855 143.389 Q837.049 142.393 835.22 141.907 Q833.415 141.398 831.563 141.398 Q827.419 141.398 825.128 144.037 Q822.836 146.652 822.836 151.398 Q822.836 156.143 825.128 158.782 Q827.419 161.398 831.563 161.398 Q833.415 161.398 835.22 160.912 Q837.049 160.402 838.855 159.407 L838.855 163.342 Q837.072 164.176 835.151 164.592 Q833.253 165.009 831.1 165.009 Q825.243 165.009 821.794 161.328 Q818.345 157.648 818.345 151.398 Q818.345 145.055 821.818 141.421 Q825.313 137.787 831.378 137.787 Q833.345 137.787 835.22 138.203 Q837.095 138.597 838.855 139.407 Z\" fill=\"#000000\" fill-rule=\"evenodd\" fill-opacity=\"1\" /><path clip-path=\"url(#clip630)\" d=\"M846.262 138.412 L850.521 138.412 L850.521 164.801 Q850.521 169.754 848.623 171.976 Q846.748 174.199 842.558 174.199 L840.938 174.199 L840.938 170.588 L842.072 170.588 Q844.503 170.588 845.382 169.453 Q846.262 168.342 846.262 164.801 L846.262 138.412 M846.262 128.319 L850.521 128.319 L850.521 133.713 L846.262 133.713 L846.262 128.319 Z\" fill=\"#000000\" fill-rule=\"evenodd\" fill-opacity=\"1\" /><path clip-path=\"url(#clip630)\" d=\"M871.215 151.305 Q866.053 151.305 864.063 152.486 Q862.072 153.666 862.072 156.514 Q862.072 158.782 863.553 160.125 Q865.058 161.444 867.628 161.444 Q871.169 161.444 873.299 158.944 Q875.452 156.421 875.452 152.254 L875.452 151.305 L871.215 151.305 M879.711 149.546 L879.711 164.338 L875.452 164.338 L875.452 160.402 Q873.993 162.763 871.817 163.898 Q869.641 165.009 866.493 165.009 Q862.512 165.009 860.151 162.787 Q857.813 160.541 857.813 156.791 Q857.813 152.416 860.729 150.194 Q863.669 147.972 869.479 147.972 L875.452 147.972 L875.452 147.555 Q875.452 144.615 873.507 143.018 Q871.586 141.398 868.09 141.398 Q865.868 141.398 863.762 141.93 Q861.655 142.463 859.711 143.527 L859.711 139.592 Q862.049 138.69 864.248 138.25 Q866.447 137.787 868.53 137.787 Q874.155 137.787 876.933 140.703 Q879.711 143.62 879.711 149.546 Z\" fill=\"#000000\" fill-rule=\"evenodd\" fill-opacity=\"1\" /><path clip-path=\"url(#clip630)\" d=\"M901.076 138.412 L905.336 138.412 L910.66 158.643 L915.961 138.412 L920.984 138.412 L926.308 158.643 L931.609 138.412 L935.868 138.412 L929.086 164.338 L924.062 164.338 L918.484 143.088 L912.882 164.338 L907.859 164.338 L901.076 138.412 Z\" fill=\"#000000\" fill-rule=\"evenodd\" fill-opacity=\"1\" /><path clip-path=\"url(#clip630)\" d=\"M942.326 138.412 L946.585 138.412 L946.585 164.338 L942.326 164.338 L942.326 138.412 M942.326 128.319 L946.585 128.319 L946.585 133.713 L942.326 133.713 L942.326 128.319 Z\" fill=\"#000000\" fill-rule=\"evenodd\" fill-opacity=\"1\" /><path clip-path=\"url(#clip630)\" d=\"M977.673 150.31 L977.673 152.393 L958.09 152.393 Q958.368 156.791 960.729 159.106 Q963.113 161.398 967.349 161.398 Q969.803 161.398 972.095 160.796 Q974.409 160.194 976.678 158.99 L976.678 163.018 Q974.386 163.99 971.979 164.5 Q969.571 165.009 967.095 165.009 Q960.891 165.009 957.257 161.398 Q953.646 157.787 953.646 151.629 Q953.646 145.264 957.071 141.537 Q960.521 137.787 966.354 137.787 Q971.585 137.787 974.618 141.166 Q977.673 144.523 977.673 150.31 M973.414 149.06 Q973.368 145.565 971.446 143.481 Q969.548 141.398 966.4 141.398 Q962.835 141.398 960.683 143.412 Q958.553 145.426 958.229 149.083 L973.414 149.06 Z\" fill=\"#000000\" fill-rule=\"evenodd\" fill-opacity=\"1\" /><path clip-path=\"url(#clip630)\" d=\"M984.664 128.319 L988.923 128.319 L988.923 164.338 L984.664 164.338 L984.664 128.319 Z\" fill=\"#000000\" fill-rule=\"evenodd\" fill-opacity=\"1\" /><path clip-path=\"url(#clip630)\" d=\"M1007.88 141.398 Q1004.46 141.398 1002.46 144.083 Q1000.47 146.745 1000.47 151.398 Q1000.47 156.051 1002.44 158.736 Q1004.43 161.398 1007.88 161.398 Q1011.28 161.398 1013.27 158.713 Q1015.27 156.027 1015.27 151.398 Q1015.27 146.791 1013.27 144.106 Q1011.28 141.398 1007.88 141.398 M1007.88 137.787 Q1013.44 137.787 1016.61 141.398 Q1019.78 145.009 1019.78 151.398 Q1019.78 157.764 1016.61 161.398 Q1013.44 165.009 1007.88 165.009 Q1002.3 165.009 999.131 161.398 Q995.983 157.764 995.983 151.398 Q995.983 145.009 999.131 141.398 Q1002.3 137.787 1007.88 137.787 Z\" fill=\"#000000\" fill-rule=\"evenodd\" fill-opacity=\"1\" /><path clip-path=\"url(#clip630)\" d=\"M1047.02 143.389 Q1048.62 140.518 1050.84 139.153 Q1053.07 137.787 1056.08 137.787 Q1060.13 137.787 1062.33 140.634 Q1064.52 143.458 1064.52 148.689 L1064.52 164.338 L1060.24 164.338 L1060.24 148.828 Q1060.24 145.102 1058.92 143.296 Q1057.6 141.49 1054.9 141.49 Q1051.58 141.49 1049.66 143.69 Q1047.74 145.889 1047.74 149.685 L1047.74 164.338 L1043.46 164.338 L1043.46 148.828 Q1043.46 145.078 1042.14 143.296 Q1040.82 141.49 1038.07 141.49 Q1034.8 141.49 1032.88 143.713 Q1030.96 145.912 1030.96 149.685 L1030.96 164.338 L1026.68 164.338 L1026.68 138.412 L1030.96 138.412 L1030.96 142.44 Q1032.42 140.055 1034.46 138.921 Q1036.49 137.787 1039.29 137.787 Q1042.12 137.787 1044.08 139.222 Q1046.08 140.657 1047.02 143.389 Z\" fill=\"#000000\" fill-rule=\"evenodd\" fill-opacity=\"1\" /><path clip-path=\"url(#clip630)\" d=\"M1073.02 138.412 L1077.28 138.412 L1077.28 164.338 L1073.02 164.338 L1073.02 138.412 M1073.02 128.319 L1077.28 128.319 L1077.28 133.713 L1073.02 133.713 L1073.02 128.319 Z\" fill=\"#000000\" fill-rule=\"evenodd\" fill-opacity=\"1\" /><path clip-path=\"url(#clip630)\" d=\"M1097.97 151.305 Q1092.81 151.305 1090.82 152.486 Q1088.83 153.666 1088.83 156.514 Q1088.83 158.782 1090.31 160.125 Q1091.82 161.444 1094.39 161.444 Q1097.93 161.444 1100.06 158.944 Q1102.21 156.421 1102.21 152.254 L1102.21 151.305 L1097.97 151.305 M1106.47 149.546 L1106.47 164.338 L1102.21 164.338 L1102.21 160.402 Q1100.75 162.763 1098.58 163.898 Q1096.4 165.009 1093.25 165.009 Q1089.27 165.009 1086.91 162.787 Q1084.57 160.541 1084.57 156.791 Q1084.57 152.416 1087.49 150.194 Q1090.43 147.972 1096.24 147.972 L1102.21 147.972 L1102.21 147.555 Q1102.21 144.615 1100.27 143.018 Q1098.34 141.398 1094.85 141.398 Q1092.63 141.398 1090.52 141.93 Q1088.41 142.463 1086.47 143.527 L1086.47 139.592 Q1088.81 138.69 1091.01 138.25 Q1093.21 137.787 1095.29 137.787 Q1100.91 137.787 1103.69 140.703 Q1106.47 143.62 1106.47 149.546 Z\" fill=\"#000000\" fill-rule=\"evenodd\" fill-opacity=\"1\" /><path clip-path=\"url(#clip630)\" d=\"M1136.79 148.689 L1136.79 164.338 L1132.53 164.338 L1132.53 148.828 Q1132.53 145.148 1131.1 143.319 Q1129.66 141.49 1126.79 141.49 Q1123.34 141.49 1121.35 143.69 Q1119.36 145.889 1119.36 149.685 L1119.36 164.338 L1115.08 164.338 L1115.08 138.412 L1119.36 138.412 L1119.36 142.44 Q1120.89 140.102 1122.95 138.944 Q1125.03 137.787 1127.74 137.787 Q1132.21 137.787 1134.5 140.565 Q1136.79 143.319 1136.79 148.689 Z\" fill=\"#000000\" fill-rule=\"evenodd\" fill-opacity=\"1\" /><path clip-path=\"url(#clip630)\" d=\"M1167.46 150.31 L1167.46 152.393 L1147.88 152.393 Q1148.16 156.791 1150.52 159.106 Q1152.9 161.398 1157.14 161.398 Q1159.59 161.398 1161.89 160.796 Q1164.2 160.194 1166.47 158.99 L1166.47 163.018 Q1164.18 163.99 1161.77 164.5 Q1159.36 165.009 1156.89 165.009 Q1150.68 165.009 1147.05 161.398 Q1143.44 157.787 1143.44 151.629 Q1143.44 145.264 1146.86 141.537 Q1150.31 137.787 1156.14 137.787 Q1161.38 137.787 1164.41 141.166 Q1167.46 144.523 1167.46 150.31 M1163.2 149.06 Q1163.16 145.565 1161.24 143.481 Q1159.34 141.398 1156.19 141.398 Q1152.63 141.398 1150.47 143.412 Q1148.34 145.426 1148.02 149.083 L1163.2 149.06 Z\" fill=\"#000000\" fill-rule=\"evenodd\" fill-opacity=\"1\" /><path clip-path=\"url(#clip630)\" d=\"M1194.64 143.389 Q1196.24 140.518 1198.46 139.153 Q1200.68 137.787 1203.69 137.787 Q1207.74 137.787 1209.94 140.634 Q1212.14 143.458 1212.14 148.689 L1212.14 164.338 L1207.86 164.338 L1207.86 148.828 Q1207.86 145.102 1206.54 143.296 Q1205.22 141.49 1202.51 141.49 Q1199.2 141.49 1197.28 143.69 Q1195.36 145.889 1195.36 149.685 L1195.36 164.338 L1191.07 164.338 L1191.07 148.828 Q1191.07 145.078 1189.76 143.296 Q1188.44 141.49 1185.68 141.49 Q1182.42 141.49 1180.5 143.713 Q1178.57 145.912 1178.57 149.685 L1178.57 164.338 L1174.29 164.338 L1174.29 138.412 L1178.57 138.412 L1178.57 142.44 Q1180.03 140.055 1182.07 138.921 Q1184.11 137.787 1186.91 137.787 Q1189.73 137.787 1191.7 139.222 Q1193.69 140.657 1194.64 143.389 Z\" fill=\"#000000\" fill-rule=\"evenodd\" fill-opacity=\"1\" /><path clip-path=\"url(#clip630)\" d=\"M1239.92 131.051 L1239.92 138.412 L1248.69 138.412 L1248.69 141.722 L1239.92 141.722 L1239.92 155.796 Q1239.92 158.967 1240.77 159.87 Q1241.65 160.773 1244.32 160.773 L1248.69 160.773 L1248.69 164.338 L1244.32 164.338 Q1239.38 164.338 1237.51 162.509 Q1235.63 160.657 1235.63 155.796 L1235.63 141.722 L1232.51 141.722 L1232.51 138.412 L1235.63 138.412 L1235.63 131.051 L1239.92 131.051 Z\" fill=\"#000000\" fill-rule=\"evenodd\" fill-opacity=\"1\" /><path clip-path=\"url(#clip630)\" d=\"M1269.32 142.393 Q1268.6 141.977 1267.74 141.791 Q1266.91 141.583 1265.89 141.583 Q1262.28 141.583 1260.33 143.944 Q1258.41 146.282 1258.41 150.68 L1258.41 164.338 L1254.13 164.338 L1254.13 138.412 L1258.41 138.412 L1258.41 142.44 Q1259.76 140.078 1261.91 138.944 Q1264.06 137.787 1267.14 137.787 Q1267.58 137.787 1268.11 137.856 Q1268.64 137.903 1269.29 138.018 L1269.32 142.393 Z\" fill=\"#000000\" fill-rule=\"evenodd\" fill-opacity=\"1\" /><path clip-path=\"url(#clip630)\" d=\"M1271.93 138.412 L1292.16 138.412 L1292.16 142.301 L1276.14 160.935 L1292.16 160.935 L1292.16 164.338 L1271.35 164.338 L1271.35 160.449 L1287.37 141.815 L1271.93 141.815 L1271.93 138.412 Z\" fill=\"#000000\" fill-rule=\"evenodd\" fill-opacity=\"1\" /><path clip-path=\"url(#clip630)\" d=\"M1320.84 150.31 L1320.84 152.393 L1301.26 152.393 Q1301.54 156.791 1303.9 159.106 Q1306.28 161.398 1310.52 161.398 Q1312.97 161.398 1315.26 160.796 Q1317.58 160.194 1319.85 158.99 L1319.85 163.018 Q1317.56 163.99 1315.15 164.5 Q1312.74 165.009 1310.26 165.009 Q1304.06 165.009 1300.43 161.398 Q1296.82 157.787 1296.82 151.629 Q1296.82 145.264 1300.24 141.537 Q1303.69 137.787 1309.52 137.787 Q1314.75 137.787 1317.79 141.166 Q1320.84 144.523 1320.84 150.31 M1316.58 149.06 Q1316.54 145.565 1314.62 143.481 Q1312.72 141.398 1309.57 141.398 Q1306 141.398 1303.85 143.412 Q1301.72 145.426 1301.4 149.083 L1316.58 149.06 Z\" fill=\"#000000\" fill-rule=\"evenodd\" fill-opacity=\"1\" /><path clip-path=\"url(#clip630)\" d=\"M1346.49 139.407 L1346.49 143.389 Q1344.69 142.393 1342.86 141.907 Q1341.05 141.398 1339.2 141.398 Q1335.06 141.398 1332.76 144.037 Q1330.47 146.652 1330.47 151.398 Q1330.47 156.143 1332.76 158.782 Q1335.06 161.398 1339.2 161.398 Q1341.05 161.398 1342.86 160.912 Q1344.69 160.402 1346.49 159.407 L1346.49 163.342 Q1344.71 164.176 1342.79 164.592 Q1340.89 165.009 1338.74 165.009 Q1332.88 165.009 1329.43 161.328 Q1325.98 157.648 1325.98 151.398 Q1325.98 145.055 1329.45 141.421 Q1332.95 137.787 1339.01 137.787 Q1340.98 137.787 1342.86 138.203 Q1344.73 138.597 1346.49 139.407 Z\" fill=\"#000000\" fill-rule=\"evenodd\" fill-opacity=\"1\" /><path clip-path=\"url(#clip630)\" d=\"M1353.9 138.412 L1358.16 138.412 L1358.16 164.338 L1353.9 164.338 L1353.9 138.412 M1353.9 128.319 L1358.16 128.319 L1358.16 133.713 L1353.9 133.713 L1353.9 128.319 Z\" fill=\"#000000\" fill-rule=\"evenodd\" fill-opacity=\"1\" /><path clip-path=\"url(#clip630)\" d=\"M1389.25 150.31 L1389.25 152.393 L1369.66 152.393 Q1369.94 156.791 1372.3 159.106 Q1374.68 161.398 1378.92 161.398 Q1381.37 161.398 1383.67 160.796 Q1385.98 160.194 1388.25 158.99 L1388.25 163.018 Q1385.96 163.99 1383.55 164.5 Q1381.14 165.009 1378.67 165.009 Q1372.46 165.009 1368.83 161.398 Q1365.22 157.787 1365.22 151.629 Q1365.22 145.264 1368.64 141.537 Q1372.09 137.787 1377.93 137.787 Q1383.16 137.787 1386.19 141.166 Q1389.25 144.523 1389.25 150.31 M1384.99 149.06 Q1384.94 145.565 1383.02 143.481 Q1381.12 141.398 1377.97 141.398 Q1374.41 141.398 1372.25 143.412 Q1370.12 145.426 1369.8 149.083 L1384.99 149.06 Z\" fill=\"#000000\" fill-rule=\"evenodd\" fill-opacity=\"1\" /><path clip-path=\"url(#clip630)\" d=\"M1413.3 151.074 Q1413.3 146.444 1411.37 143.898 Q1409.48 141.352 1406.03 141.352 Q1402.6 141.352 1400.68 143.898 Q1398.78 146.444 1398.78 151.074 Q1398.78 155.68 1400.68 158.226 Q1402.6 160.773 1406.03 160.773 Q1409.48 160.773 1411.37 158.226 Q1413.3 155.68 1413.3 151.074 M1417.56 161.12 Q1417.56 167.74 1414.62 170.958 Q1411.68 174.199 1405.61 174.199 Q1403.37 174.199 1401.37 173.851 Q1399.38 173.527 1397.51 172.833 L1397.51 168.689 Q1399.38 169.708 1401.21 170.194 Q1403.04 170.68 1404.94 170.68 Q1409.13 170.68 1411.21 168.481 Q1413.3 166.305 1413.3 161.884 L1413.3 159.777 Q1411.98 162.069 1409.92 163.203 Q1407.86 164.338 1404.99 164.338 Q1400.22 164.338 1397.3 160.703 Q1394.38 157.069 1394.38 151.074 Q1394.38 145.055 1397.3 141.421 Q1400.22 137.787 1404.99 137.787 Q1407.86 137.787 1409.92 138.921 Q1411.98 140.055 1413.3 142.347 L1413.3 138.412 L1417.56 138.412 L1417.56 161.12 Z\" fill=\"#000000\" fill-rule=\"evenodd\" fill-opacity=\"1\" /><path clip-path=\"url(#clip630)\" d=\"M1436.37 141.398 Q1432.95 141.398 1430.96 144.083 Q1428.97 146.745 1428.97 151.398 Q1428.97 156.051 1430.93 158.736 Q1432.93 161.398 1436.37 161.398 Q1439.78 161.398 1441.77 158.713 Q1443.76 156.027 1443.76 151.398 Q1443.76 146.791 1441.77 144.106 Q1439.78 141.398 1436.37 141.398 M1436.37 137.787 Q1441.93 137.787 1445.1 141.398 Q1448.27 145.009 1448.27 151.398 Q1448.27 157.764 1445.1 161.398 Q1441.93 165.009 1436.37 165.009 Q1430.8 165.009 1427.62 161.398 Q1424.48 157.764 1424.48 151.398 Q1424.48 145.009 1427.62 141.398 Q1430.8 137.787 1436.37 137.787 Z\" fill=\"#000000\" fill-rule=\"evenodd\" fill-opacity=\"1\" /><path clip-path=\"url(#clip630)\" d=\"M1486.93 139.176 L1486.93 143.203 Q1485.12 142.277 1483.18 141.815 Q1481.24 141.352 1479.15 141.352 Q1475.98 141.352 1474.38 142.324 Q1472.81 143.296 1472.81 145.24 Q1472.81 146.722 1473.94 147.578 Q1475.08 148.412 1478.5 149.176 L1479.96 149.5 Q1484.5 150.472 1486.4 152.254 Q1488.32 154.014 1488.32 157.185 Q1488.32 160.796 1485.45 162.902 Q1482.6 165.009 1477.6 165.009 Q1475.52 165.009 1473.25 164.592 Q1471 164.199 1468.5 163.388 L1468.5 158.99 Q1470.87 160.217 1473.16 160.842 Q1475.45 161.444 1477.69 161.444 Q1480.7 161.444 1482.32 160.426 Q1483.94 159.384 1483.94 157.509 Q1483.94 155.773 1482.76 154.847 Q1481.61 153.921 1477.65 153.064 L1476.17 152.717 Q1472.21 151.884 1470.45 150.171 Q1468.69 148.435 1468.69 145.426 Q1468.69 141.768 1471.28 139.778 Q1473.87 137.787 1478.64 137.787 Q1481 137.787 1483.09 138.134 Q1485.17 138.481 1486.93 139.176 Z\" fill=\"#000000\" fill-rule=\"evenodd\" fill-opacity=\"1\" /><path clip-path=\"url(#clip630)\" d=\"M1499.31 131.051 L1499.31 138.412 L1508.09 138.412 L1508.09 141.722 L1499.31 141.722 L1499.31 155.796 Q1499.31 158.967 1500.17 159.87 Q1501.05 160.773 1503.71 160.773 L1508.09 160.773 L1508.09 164.338 L1503.71 164.338 Q1498.78 164.338 1496.91 162.509 Q1495.03 160.657 1495.03 155.796 L1495.03 141.722 L1491.91 141.722 L1491.91 138.412 L1495.03 138.412 L1495.03 131.051 L1499.31 131.051 Z\" fill=\"#000000\" fill-rule=\"evenodd\" fill-opacity=\"1\" /><path clip-path=\"url(#clip630)\" d=\"M1523.74 141.398 Q1520.31 141.398 1518.32 144.083 Q1516.33 146.745 1516.33 151.398 Q1516.33 156.051 1518.3 158.736 Q1520.29 161.398 1523.74 161.398 Q1527.14 161.398 1529.13 158.713 Q1531.12 156.027 1531.12 151.398 Q1531.12 146.791 1529.13 144.106 Q1527.14 141.398 1523.74 141.398 M1523.74 137.787 Q1529.29 137.787 1532.46 141.398 Q1535.63 145.009 1535.63 151.398 Q1535.63 157.764 1532.46 161.398 Q1529.29 165.009 1523.74 165.009 Q1518.16 165.009 1514.99 161.398 Q1511.84 157.764 1511.84 151.398 Q1511.84 145.009 1514.99 141.398 Q1518.16 137.787 1523.74 137.787 Z\" fill=\"#000000\" fill-rule=\"evenodd\" fill-opacity=\"1\" /><path clip-path=\"url(#clip630)\" d=\"M1546.81 160.449 L1546.81 174.199 L1542.53 174.199 L1542.53 138.412 L1546.81 138.412 L1546.81 142.347 Q1548.16 140.032 1550.19 138.921 Q1552.25 137.787 1555.1 137.787 Q1559.82 137.787 1562.76 141.537 Q1565.73 145.287 1565.73 151.398 Q1565.73 157.509 1562.76 161.259 Q1559.82 165.009 1555.1 165.009 Q1552.25 165.009 1550.19 163.898 Q1548.16 162.763 1546.81 160.449 M1561.3 151.398 Q1561.3 146.699 1559.36 144.037 Q1557.44 141.352 1554.06 141.352 Q1550.68 141.352 1548.73 144.037 Q1546.81 146.699 1546.81 151.398 Q1546.81 156.097 1548.73 158.782 Q1550.68 161.444 1554.06 161.444 Q1557.44 161.444 1559.36 158.782 Q1561.3 156.097 1561.3 151.398 Z\" fill=\"#000000\" fill-rule=\"evenodd\" fill-opacity=\"1\" /><path clip-path=\"url(#clip630)\" d=\"M1594.34 148.689 L1594.34 164.338 L1590.08 164.338 L1590.08 148.828 Q1590.08 145.148 1588.64 143.319 Q1587.21 141.49 1584.34 141.49 Q1580.89 141.49 1578.9 143.69 Q1576.91 145.889 1576.91 149.685 L1576.91 164.338 L1572.62 164.338 L1572.62 138.412 L1576.91 138.412 L1576.91 142.44 Q1578.43 140.102 1580.49 138.944 Q1582.58 137.787 1585.29 137.787 Q1589.75 137.787 1592.04 140.565 Q1594.34 143.319 1594.34 148.689 Z\" fill=\"#000000\" fill-rule=\"evenodd\" fill-opacity=\"1\" /><path clip-path=\"url(#clip630)\" d=\"M1602.83 138.412 L1607.09 138.412 L1607.09 164.338 L1602.83 164.338 L1602.83 138.412 M1602.83 128.319 L1607.09 128.319 L1607.09 133.713 L1602.83 133.713 L1602.83 128.319 Z\" fill=\"#000000\" fill-rule=\"evenodd\" fill-opacity=\"1\" /><path clip-path=\"url(#clip630)\" d=\"M1627.79 151.305 Q1622.62 151.305 1620.63 152.486 Q1618.64 153.666 1618.64 156.514 Q1618.64 158.782 1620.12 160.125 Q1621.63 161.444 1624.2 161.444 Q1627.74 161.444 1629.87 158.944 Q1632.02 156.421 1632.02 152.254 L1632.02 151.305 L1627.79 151.305 M1636.28 149.546 L1636.28 164.338 L1632.02 164.338 L1632.02 160.402 Q1630.56 162.763 1628.39 163.898 Q1626.21 165.009 1623.06 165.009 Q1619.08 165.009 1616.72 162.787 Q1614.38 160.541 1614.38 156.791 Q1614.38 152.416 1617.3 150.194 Q1620.24 147.972 1626.05 147.972 L1632.02 147.972 L1632.02 147.555 Q1632.02 144.615 1630.08 143.018 Q1628.16 141.398 1624.66 141.398 Q1622.44 141.398 1620.33 141.93 Q1618.23 142.463 1616.28 143.527 L1616.28 139.592 Q1618.62 138.69 1620.82 138.25 Q1623.02 137.787 1625.1 137.787 Q1630.73 137.787 1633.5 140.703 Q1636.28 143.62 1636.28 149.546 Z\" fill=\"#000000\" fill-rule=\"evenodd\" fill-opacity=\"1\" /><circle clip-path=\"url(#clip630)\" cx=\"465.594\" cy=\"198.898\" r=\"23.04\" fill=\"#e26f46\" fill-rule=\"evenodd\" fill-opacity=\"1\" stroke=\"#000000\" stroke-opacity=\"1\" stroke-width=\"5.12\"/>\n",
       "<path clip-path=\"url(#clip630)\" d=\"M575.453 194.187 L575.453 180.159 L579.712 180.159 L579.712 216.178 L575.453 216.178 L575.453 212.289 Q574.111 214.603 572.05 215.738 Q570.013 216.849 567.143 216.849 Q562.444 216.849 559.481 213.099 Q556.541 209.349 556.541 203.238 Q556.541 197.127 559.481 193.377 Q562.444 189.627 567.143 189.627 Q570.013 189.627 572.05 190.761 Q574.111 191.872 575.453 194.187 M560.939 203.238 Q560.939 207.937 562.861 210.622 Q564.805 213.284 568.185 213.284 Q571.564 213.284 573.509 210.622 Q575.453 207.937 575.453 203.238 Q575.453 198.539 573.509 195.877 Q571.564 193.192 568.185 193.192 Q564.805 193.192 562.861 195.877 Q560.939 198.539 560.939 203.238 Z\" fill=\"#000000\" fill-rule=\"evenodd\" fill-opacity=\"1\" /><path clip-path=\"url(#clip630)\" d=\"M600.268 203.145 Q595.106 203.145 593.115 204.326 Q591.124 205.506 591.124 208.354 Q591.124 210.622 592.606 211.965 Q594.11 213.284 596.68 213.284 Q600.222 213.284 602.351 210.784 Q604.504 208.261 604.504 204.094 L604.504 203.145 L600.268 203.145 M608.763 201.386 L608.763 216.178 L604.504 216.178 L604.504 212.242 Q603.046 214.603 600.87 215.738 Q598.694 216.849 595.546 216.849 Q591.564 216.849 589.203 214.627 Q586.865 212.381 586.865 208.631 Q586.865 204.256 589.782 202.034 Q592.722 199.812 598.532 199.812 L604.504 199.812 L604.504 199.395 Q604.504 196.455 602.56 194.858 Q600.638 193.238 597.143 193.238 Q594.921 193.238 592.814 193.77 Q590.708 194.303 588.763 195.367 L588.763 191.432 Q591.101 190.53 593.3 190.09 Q595.499 189.627 597.583 189.627 Q603.208 189.627 605.985 192.543 Q608.763 195.46 608.763 201.386 Z\" fill=\"#000000\" fill-rule=\"evenodd\" fill-opacity=\"1\" /><path clip-path=\"url(#clip630)\" d=\"M639.087 200.529 L639.087 216.178 L634.828 216.178 L634.828 200.668 Q634.828 196.988 633.393 195.159 Q631.957 193.33 629.087 193.33 Q625.638 193.33 623.647 195.53 Q621.657 197.729 621.657 201.525 L621.657 216.178 L617.374 216.178 L617.374 190.252 L621.657 190.252 L621.657 194.28 Q623.184 191.942 625.245 190.784 Q627.328 189.627 630.036 189.627 Q634.504 189.627 636.795 192.405 Q639.087 195.159 639.087 200.529 Z\" fill=\"#000000\" fill-rule=\"evenodd\" fill-opacity=\"1\" /><path clip-path=\"url(#clip630)\" d=\"M669.758 202.15 L669.758 204.233 L650.175 204.233 Q650.453 208.631 652.814 210.946 Q655.198 213.238 659.434 213.238 Q661.888 213.238 664.18 212.636 Q666.494 212.034 668.763 210.83 L668.763 214.858 Q666.471 215.83 664.064 216.34 Q661.656 216.849 659.18 216.849 Q652.976 216.849 649.342 213.238 Q645.731 209.627 645.731 203.469 Q645.731 197.104 649.156 193.377 Q652.606 189.627 658.439 189.627 Q663.67 189.627 666.703 193.006 Q669.758 196.363 669.758 202.15 M665.499 200.9 Q665.453 197.405 663.531 195.321 Q661.633 193.238 658.485 193.238 Q654.92 193.238 652.768 195.252 Q650.638 197.266 650.314 200.923 L665.499 200.9 Z\" fill=\"#000000\" fill-rule=\"evenodd\" fill-opacity=\"1\" /><path clip-path=\"url(#clip630)\" d=\"M695.939 212.289 L695.939 226.039 L691.656 226.039 L691.656 190.252 L695.939 190.252 L695.939 194.187 Q697.281 191.872 699.318 190.761 Q701.378 189.627 704.226 189.627 Q708.948 189.627 711.888 193.377 Q714.851 197.127 714.851 203.238 Q714.851 209.349 711.888 213.099 Q708.948 216.849 704.226 216.849 Q701.378 216.849 699.318 215.738 Q697.281 214.603 695.939 212.289 M710.429 203.238 Q710.429 198.539 708.485 195.877 Q706.564 193.192 703.184 193.192 Q699.804 193.192 697.86 195.877 Q695.939 198.539 695.939 203.238 Q695.939 207.937 697.86 210.622 Q699.804 213.284 703.184 213.284 Q706.564 213.284 708.485 210.622 Q710.429 207.937 710.429 203.238 Z\" fill=\"#000000\" fill-rule=\"evenodd\" fill-opacity=\"1\" /><path clip-path=\"url(#clip630)\" d=\"M721.471 205.946 L721.471 190.252 L725.73 190.252 L725.73 205.784 Q725.73 209.465 727.165 211.316 Q728.6 213.145 731.471 213.145 Q734.92 213.145 736.911 210.946 Q738.925 208.747 738.925 204.951 L738.925 190.252 L743.184 190.252 L743.184 216.178 L738.925 216.178 L738.925 212.196 Q737.374 214.557 735.313 215.715 Q733.276 216.849 730.568 216.849 Q726.101 216.849 723.786 214.071 Q721.471 211.293 721.471 205.946 M732.188 189.627 L732.188 189.627 Z\" fill=\"#000000\" fill-rule=\"evenodd\" fill-opacity=\"1\" /><path clip-path=\"url(#clip630)\" d=\"M773.508 200.529 L773.508 216.178 L769.248 216.178 L769.248 200.668 Q769.248 196.988 767.813 195.159 Q766.378 193.33 763.508 193.33 Q760.059 193.33 758.068 195.53 Q756.077 197.729 756.077 201.525 L756.077 216.178 L751.795 216.178 L751.795 190.252 L756.077 190.252 L756.077 194.28 Q757.605 191.942 759.665 190.784 Q761.748 189.627 764.457 189.627 Q768.924 189.627 771.216 192.405 Q773.508 195.159 773.508 200.529 Z\" fill=\"#000000\" fill-rule=\"evenodd\" fill-opacity=\"1\" /><path clip-path=\"url(#clip630)\" d=\"M781.841 180.159 L786.123 180.159 L786.123 201.432 L798.832 190.252 L804.271 190.252 L790.521 202.381 L804.85 216.178 L799.295 216.178 L786.123 203.516 L786.123 216.178 L781.841 216.178 L781.841 180.159 Z\" fill=\"#000000\" fill-rule=\"evenodd\" fill-opacity=\"1\" /><path clip-path=\"url(#clip630)\" d=\"M813.669 182.891 L813.669 190.252 L822.443 190.252 L822.443 193.562 L813.669 193.562 L813.669 207.636 Q813.669 210.807 814.526 211.71 Q815.406 212.613 818.068 212.613 L822.443 212.613 L822.443 216.178 L818.068 216.178 Q813.137 216.178 811.262 214.349 Q809.387 212.497 809.387 207.636 L809.387 193.562 L806.262 193.562 L806.262 190.252 L809.387 190.252 L809.387 182.891 L813.669 182.891 Z\" fill=\"#000000\" fill-rule=\"evenodd\" fill-opacity=\"1\" /><path clip-path=\"url(#clip630)\" d=\"M838.831 218.585 Q837.026 223.215 835.313 224.627 Q833.6 226.039 830.73 226.039 L827.327 226.039 L827.327 222.474 L829.827 222.474 Q831.586 222.474 832.558 221.64 Q833.53 220.807 834.711 217.705 L835.475 215.761 L824.989 190.252 L829.503 190.252 L837.605 210.529 L845.706 190.252 L850.22 190.252 L838.831 218.585 Z\" fill=\"#000000\" fill-rule=\"evenodd\" fill-opacity=\"1\" /></svg>\n"
      ]
     },
     "execution_count": 20,
     "metadata": {},
     "output_type": "execute_result"
    }
   ],
   "source": [
    "plot(fit_poly_3,  extrema(xs)..., label=\"aproksymacja wielomianem trzeciego stopnia\")\n",
    "# ! -dodanie do tego samego wykresu punktów wg ktorych aproksymowalismy\n",
    "scatter!(xs, ys, label =\"dane punkty\")"
   ]
  },
  {
   "cell_type": "markdown",
   "metadata": {},
   "source": [
    "### Wielomiany Czebyszewa w pakiecie Polynomials"
   ]
  },
  {
   "cell_type": "code",
   "execution_count": 21,
   "metadata": {},
   "outputs": [
    {
     "data": {
      "text/html": [
       "1⋅T_2(x)"
      ],
      "text/latex": [
       "$1⋅T_2(x)$"
      ],
      "text/plain": [
       "ChebyshevT(1⋅T_2(x))"
      ]
     },
     "execution_count": 21,
     "metadata": {},
     "output_type": "execute_result"
    }
   ],
   "source": [
    "# podajemy tablicę współczynników, gdzie wielomiany Czebyszewa są wielomianami bazowymi np dla T2(x)\n",
    "t2 = ChebyshevT([0, 0, 1])"
   ]
  },
  {
   "cell_type": "code",
   "execution_count": 22,
   "metadata": {},
   "outputs": [
    {
     "data": {
      "image/svg+xml": [
       "<?xml version=\"1.0\" encoding=\"utf-8\"?>\n",
       "<svg xmlns=\"http://www.w3.org/2000/svg\" xmlns:xlink=\"http://www.w3.org/1999/xlink\" width=\"600\" height=\"400\" viewBox=\"0 0 2400 1600\">\n",
       "<defs>\n",
       "  <clipPath id=\"clip670\">\n",
       "    <rect x=\"0\" y=\"0\" width=\"2400\" height=\"1600\"/>\n",
       "  </clipPath>\n",
       "</defs>\n",
       "<path clip-path=\"url(#clip670)\" d=\"M0 1600 L2400 1600 L2400 0 L0 0  Z\" fill=\"#ffffff\" fill-rule=\"evenodd\" fill-opacity=\"1\"/>\n",
       "<defs>\n",
       "  <clipPath id=\"clip671\">\n",
       "    <rect x=\"480\" y=\"0\" width=\"1681\" height=\"1600\"/>\n",
       "  </clipPath>\n",
       "</defs>\n",
       "<path clip-path=\"url(#clip670)\" d=\"M193.936 1486.45 L2352.76 1486.45 L2352.76 47.2441 L193.936 47.2441  Z\" fill=\"#ffffff\" fill-rule=\"evenodd\" fill-opacity=\"1\"/>\n",
       "<defs>\n",
       "  <clipPath id=\"clip672\">\n",
       "    <rect x=\"193\" y=\"47\" width=\"2160\" height=\"1440\"/>\n",
       "  </clipPath>\n",
       "</defs>\n",
       "<polyline clip-path=\"url(#clip672)\" style=\"stroke:#000000; stroke-linecap:round; stroke-linejoin:round; stroke-width:2; stroke-opacity:0.1; fill:none\" points=\"193.936,1486.45 193.936,47.2441 \"/>\n",
       "<polyline clip-path=\"url(#clip672)\" style=\"stroke:#000000; stroke-linecap:round; stroke-linejoin:round; stroke-width:2; stroke-opacity:0.1; fill:none\" points=\"733.641,1486.45 733.641,47.2441 \"/>\n",
       "<polyline clip-path=\"url(#clip672)\" style=\"stroke:#000000; stroke-linecap:round; stroke-linejoin:round; stroke-width:2; stroke-opacity:0.1; fill:none\" points=\"1273.35,1486.45 1273.35,47.2441 \"/>\n",
       "<polyline clip-path=\"url(#clip672)\" style=\"stroke:#000000; stroke-linecap:round; stroke-linejoin:round; stroke-width:2; stroke-opacity:0.1; fill:none\" points=\"1813.05,1486.45 1813.05,47.2441 \"/>\n",
       "<polyline clip-path=\"url(#clip672)\" style=\"stroke:#000000; stroke-linecap:round; stroke-linejoin:round; stroke-width:2; stroke-opacity:0.1; fill:none\" points=\"2352.76,1486.45 2352.76,47.2441 \"/>\n",
       "<polyline clip-path=\"url(#clip670)\" style=\"stroke:#000000; stroke-linecap:round; stroke-linejoin:round; stroke-width:4; stroke-opacity:1; fill:none\" points=\"193.936,1486.45 2352.76,1486.45 \"/>\n",
       "<polyline clip-path=\"url(#clip670)\" style=\"stroke:#000000; stroke-linecap:round; stroke-linejoin:round; stroke-width:4; stroke-opacity:1; fill:none\" points=\"193.936,1486.45 193.936,1467.55 \"/>\n",
       "<polyline clip-path=\"url(#clip670)\" style=\"stroke:#000000; stroke-linecap:round; stroke-linejoin:round; stroke-width:4; stroke-opacity:1; fill:none\" points=\"733.641,1486.45 733.641,1467.55 \"/>\n",
       "<polyline clip-path=\"url(#clip670)\" style=\"stroke:#000000; stroke-linecap:round; stroke-linejoin:round; stroke-width:4; stroke-opacity:1; fill:none\" points=\"1273.35,1486.45 1273.35,1467.55 \"/>\n",
       "<polyline clip-path=\"url(#clip670)\" style=\"stroke:#000000; stroke-linecap:round; stroke-linejoin:round; stroke-width:4; stroke-opacity:1; fill:none\" points=\"1813.05,1486.45 1813.05,1467.55 \"/>\n",
       "<polyline clip-path=\"url(#clip670)\" style=\"stroke:#000000; stroke-linecap:round; stroke-linejoin:round; stroke-width:4; stroke-opacity:1; fill:none\" points=\"2352.76,1486.45 2352.76,1467.55 \"/>\n",
       "<path clip-path=\"url(#clip670)\" d=\"M140.464 1532.02 L170.14 1532.02 L170.14 1535.95 L140.464 1535.95 L140.464 1532.02 Z\" fill=\"#000000\" fill-rule=\"evenodd\" fill-opacity=\"1\" /><path clip-path=\"url(#clip670)\" d=\"M181.043 1544.91 L188.681 1544.91 L188.681 1518.55 L180.371 1520.21 L180.371 1515.95 L188.635 1514.29 L193.311 1514.29 L193.311 1544.91 L200.95 1544.91 L200.95 1548.85 L181.043 1548.85 L181.043 1544.91 Z\" fill=\"#000000\" fill-rule=\"evenodd\" fill-opacity=\"1\" /><path clip-path=\"url(#clip670)\" d=\"M210.394 1542.97 L215.278 1542.97 L215.278 1548.85 L210.394 1548.85 L210.394 1542.97 Z\" fill=\"#000000\" fill-rule=\"evenodd\" fill-opacity=\"1\" /><path clip-path=\"url(#clip670)\" d=\"M235.464 1517.37 Q231.852 1517.37 230.024 1520.93 Q228.218 1524.47 228.218 1531.6 Q228.218 1538.71 230.024 1542.27 Q231.852 1545.82 235.464 1545.82 Q239.098 1545.82 240.903 1542.27 Q242.732 1538.71 242.732 1531.6 Q242.732 1524.47 240.903 1520.93 Q239.098 1517.37 235.464 1517.37 M235.464 1513.66 Q241.274 1513.66 244.329 1518.27 Q247.408 1522.85 247.408 1531.6 Q247.408 1540.33 244.329 1544.94 Q241.274 1549.52 235.464 1549.52 Q229.653 1549.52 226.575 1544.94 Q223.519 1540.33 223.519 1531.6 Q223.519 1522.85 226.575 1518.27 Q229.653 1513.66 235.464 1513.66 Z\" fill=\"#000000\" fill-rule=\"evenodd\" fill-opacity=\"1\" /><path clip-path=\"url(#clip670)\" d=\"M680.667 1532.02 L710.342 1532.02 L710.342 1535.95 L680.667 1535.95 L680.667 1532.02 Z\" fill=\"#000000\" fill-rule=\"evenodd\" fill-opacity=\"1\" /><path clip-path=\"url(#clip670)\" d=\"M730.435 1517.37 Q726.824 1517.37 724.995 1520.93 Q723.19 1524.47 723.19 1531.6 Q723.19 1538.71 724.995 1542.27 Q726.824 1545.82 730.435 1545.82 Q734.069 1545.82 735.875 1542.27 Q737.703 1538.71 737.703 1531.6 Q737.703 1524.47 735.875 1520.93 Q734.069 1517.37 730.435 1517.37 M730.435 1513.66 Q736.245 1513.66 739.301 1518.27 Q742.379 1522.85 742.379 1531.6 Q742.379 1540.33 739.301 1544.94 Q736.245 1549.52 730.435 1549.52 Q724.625 1549.52 721.546 1544.94 Q718.491 1540.33 718.491 1531.6 Q718.491 1522.85 721.546 1518.27 Q724.625 1513.66 730.435 1513.66 Z\" fill=\"#000000\" fill-rule=\"evenodd\" fill-opacity=\"1\" /><path clip-path=\"url(#clip670)\" d=\"M750.597 1542.97 L755.481 1542.97 L755.481 1548.85 L750.597 1548.85 L750.597 1542.97 Z\" fill=\"#000000\" fill-rule=\"evenodd\" fill-opacity=\"1\" /><path clip-path=\"url(#clip670)\" d=\"M765.713 1514.29 L784.069 1514.29 L784.069 1518.22 L769.995 1518.22 L769.995 1526.7 Q771.013 1526.35 772.032 1526.19 Q773.05 1526 774.069 1526 Q779.856 1526 783.236 1529.17 Q786.615 1532.34 786.615 1537.76 Q786.615 1543.34 783.143 1546.44 Q779.671 1549.52 773.351 1549.52 Q771.175 1549.52 768.907 1549.15 Q766.662 1548.78 764.254 1548.04 L764.254 1543.34 Q766.338 1544.47 768.56 1545.03 Q770.782 1545.58 773.259 1545.58 Q777.263 1545.58 779.601 1543.48 Q781.939 1541.37 781.939 1537.76 Q781.939 1534.15 779.601 1532.04 Q777.263 1529.94 773.259 1529.94 Q771.384 1529.94 769.509 1530.35 Q767.657 1530.77 765.713 1531.65 L765.713 1514.29 Z\" fill=\"#000000\" fill-rule=\"evenodd\" fill-opacity=\"1\" /><path clip-path=\"url(#clip670)\" d=\"M1250.73 1517.37 Q1247.12 1517.37 1245.29 1520.93 Q1243.49 1524.47 1243.49 1531.6 Q1243.49 1538.71 1245.29 1542.27 Q1247.12 1545.82 1250.73 1545.82 Q1254.36 1545.82 1256.17 1542.27 Q1258 1538.71 1258 1531.6 Q1258 1524.47 1256.17 1520.93 Q1254.36 1517.37 1250.73 1517.37 M1250.73 1513.66 Q1256.54 1513.66 1259.6 1518.27 Q1262.67 1522.85 1262.67 1531.6 Q1262.67 1540.33 1259.6 1544.94 Q1256.54 1549.52 1250.73 1549.52 Q1244.92 1549.52 1241.84 1544.94 Q1238.79 1540.33 1238.79 1531.6 Q1238.79 1522.85 1241.84 1518.27 Q1244.92 1513.66 1250.73 1513.66 Z\" fill=\"#000000\" fill-rule=\"evenodd\" fill-opacity=\"1\" /><path clip-path=\"url(#clip670)\" d=\"M1270.89 1542.97 L1275.78 1542.97 L1275.78 1548.85 L1270.89 1548.85 L1270.89 1542.97 Z\" fill=\"#000000\" fill-rule=\"evenodd\" fill-opacity=\"1\" /><path clip-path=\"url(#clip670)\" d=\"M1295.96 1517.37 Q1292.35 1517.37 1290.52 1520.93 Q1288.72 1524.47 1288.72 1531.6 Q1288.72 1538.71 1290.52 1542.27 Q1292.35 1545.82 1295.96 1545.82 Q1299.6 1545.82 1301.4 1542.27 Q1303.23 1538.71 1303.23 1531.6 Q1303.23 1524.47 1301.4 1520.93 Q1299.6 1517.37 1295.96 1517.37 M1295.96 1513.66 Q1301.77 1513.66 1304.83 1518.27 Q1307.91 1522.85 1307.91 1531.6 Q1307.91 1540.33 1304.83 1544.94 Q1301.77 1549.52 1295.96 1549.52 Q1290.15 1549.52 1287.07 1544.94 Q1284.02 1540.33 1284.02 1531.6 Q1284.02 1522.85 1287.07 1518.27 Q1290.15 1513.66 1295.96 1513.66 Z\" fill=\"#000000\" fill-rule=\"evenodd\" fill-opacity=\"1\" /><path clip-path=\"url(#clip670)\" d=\"M1790.93 1517.37 Q1787.32 1517.37 1785.49 1520.93 Q1783.69 1524.47 1783.69 1531.6 Q1783.69 1538.71 1785.49 1542.27 Q1787.32 1545.82 1790.93 1545.82 Q1794.57 1545.82 1796.37 1542.27 Q1798.2 1538.71 1798.2 1531.6 Q1798.2 1524.47 1796.37 1520.93 Q1794.57 1517.37 1790.93 1517.37 M1790.93 1513.66 Q1796.74 1513.66 1799.8 1518.27 Q1802.88 1522.85 1802.88 1531.6 Q1802.88 1540.33 1799.8 1544.94 Q1796.74 1549.52 1790.93 1549.52 Q1785.12 1549.52 1782.04 1544.94 Q1778.99 1540.33 1778.99 1531.6 Q1778.99 1522.85 1782.04 1518.27 Q1785.12 1513.66 1790.93 1513.66 Z\" fill=\"#000000\" fill-rule=\"evenodd\" fill-opacity=\"1\" /><path clip-path=\"url(#clip670)\" d=\"M1811.09 1542.97 L1815.98 1542.97 L1815.98 1548.85 L1811.09 1548.85 L1811.09 1542.97 Z\" fill=\"#000000\" fill-rule=\"evenodd\" fill-opacity=\"1\" /><path clip-path=\"url(#clip670)\" d=\"M1826.21 1514.29 L1844.57 1514.29 L1844.57 1518.22 L1830.49 1518.22 L1830.49 1526.7 Q1831.51 1526.35 1832.53 1526.19 Q1833.55 1526 1834.57 1526 Q1840.35 1526 1843.73 1529.17 Q1847.11 1532.34 1847.11 1537.76 Q1847.11 1543.34 1843.64 1546.44 Q1840.17 1549.52 1833.85 1549.52 Q1831.67 1549.52 1829.41 1549.15 Q1827.16 1548.78 1824.75 1548.04 L1824.75 1543.34 Q1826.84 1544.47 1829.06 1545.03 Q1831.28 1545.58 1833.76 1545.58 Q1837.76 1545.58 1840.1 1543.48 Q1842.44 1541.37 1842.44 1537.76 Q1842.44 1534.15 1840.1 1532.04 Q1837.76 1529.94 1833.76 1529.94 Q1831.88 1529.94 1830.01 1530.35 Q1828.16 1530.77 1826.21 1531.65 L1826.21 1514.29 Z\" fill=\"#000000\" fill-rule=\"evenodd\" fill-opacity=\"1\" /><path clip-path=\"url(#clip670)\" d=\"M2319.91 1544.91 L2327.55 1544.91 L2327.55 1518.55 L2319.24 1520.21 L2319.24 1515.95 L2327.5 1514.29 L2332.18 1514.29 L2332.18 1544.91 L2339.82 1544.91 L2339.82 1548.85 L2319.91 1548.85 L2319.91 1544.91 Z\" fill=\"#000000\" fill-rule=\"evenodd\" fill-opacity=\"1\" /><path clip-path=\"url(#clip670)\" d=\"M2349.26 1542.97 L2354.14 1542.97 L2354.14 1548.85 L2349.26 1548.85 L2349.26 1542.97 Z\" fill=\"#000000\" fill-rule=\"evenodd\" fill-opacity=\"1\" /><path clip-path=\"url(#clip670)\" d=\"M2374.33 1517.37 Q2370.72 1517.37 2368.89 1520.93 Q2367.08 1524.47 2367.08 1531.6 Q2367.08 1538.71 2368.89 1542.27 Q2370.72 1545.82 2374.33 1545.82 Q2377.96 1545.82 2379.77 1542.27 Q2381.6 1538.71 2381.6 1531.6 Q2381.6 1524.47 2379.77 1520.93 Q2377.96 1517.37 2374.33 1517.37 M2374.33 1513.66 Q2380.14 1513.66 2383.2 1518.27 Q2386.27 1522.85 2386.27 1531.6 Q2386.27 1540.33 2383.2 1544.94 Q2380.14 1549.52 2374.33 1549.52 Q2368.52 1549.52 2365.44 1544.94 Q2362.39 1540.33 2362.39 1531.6 Q2362.39 1522.85 2365.44 1518.27 Q2368.52 1513.66 2374.33 1513.66 Z\" fill=\"#000000\" fill-rule=\"evenodd\" fill-opacity=\"1\" /><polyline clip-path=\"url(#clip672)\" style=\"stroke:#000000; stroke-linecap:round; stroke-linejoin:round; stroke-width:2; stroke-opacity:0.1; fill:none\" points=\"193.936,1445.74 2352.76,1445.74 \"/>\n",
       "<polyline clip-path=\"url(#clip672)\" style=\"stroke:#000000; stroke-linecap:round; stroke-linejoin:round; stroke-width:2; stroke-opacity:0.1; fill:none\" points=\"193.936,1106.3 2352.76,1106.3 \"/>\n",
       "<polyline clip-path=\"url(#clip672)\" style=\"stroke:#000000; stroke-linecap:round; stroke-linejoin:round; stroke-width:2; stroke-opacity:0.1; fill:none\" points=\"193.936,766.86 2352.76,766.86 \"/>\n",
       "<polyline clip-path=\"url(#clip672)\" style=\"stroke:#000000; stroke-linecap:round; stroke-linejoin:round; stroke-width:2; stroke-opacity:0.1; fill:none\" points=\"193.936,427.418 2352.76,427.418 \"/>\n",
       "<polyline clip-path=\"url(#clip672)\" style=\"stroke:#000000; stroke-linecap:round; stroke-linejoin:round; stroke-width:2; stroke-opacity:0.1; fill:none\" points=\"193.936,87.9763 2352.76,87.9763 \"/>\n",
       "<polyline clip-path=\"url(#clip670)\" style=\"stroke:#000000; stroke-linecap:round; stroke-linejoin:round; stroke-width:4; stroke-opacity:1; fill:none\" points=\"193.936,1486.45 193.936,47.2441 \"/>\n",
       "<polyline clip-path=\"url(#clip670)\" style=\"stroke:#000000; stroke-linecap:round; stroke-linejoin:round; stroke-width:4; stroke-opacity:1; fill:none\" points=\"193.936,1445.74 212.834,1445.74 \"/>\n",
       "<polyline clip-path=\"url(#clip670)\" style=\"stroke:#000000; stroke-linecap:round; stroke-linejoin:round; stroke-width:4; stroke-opacity:1; fill:none\" points=\"193.936,1106.3 212.834,1106.3 \"/>\n",
       "<polyline clip-path=\"url(#clip670)\" style=\"stroke:#000000; stroke-linecap:round; stroke-linejoin:round; stroke-width:4; stroke-opacity:1; fill:none\" points=\"193.936,766.86 212.834,766.86 \"/>\n",
       "<polyline clip-path=\"url(#clip670)\" style=\"stroke:#000000; stroke-linecap:round; stroke-linejoin:round; stroke-width:4; stroke-opacity:1; fill:none\" points=\"193.936,427.418 212.834,427.418 \"/>\n",
       "<polyline clip-path=\"url(#clip670)\" style=\"stroke:#000000; stroke-linecap:round; stroke-linejoin:round; stroke-width:4; stroke-opacity:1; fill:none\" points=\"193.936,87.9763 212.834,87.9763 \"/>\n",
       "<path clip-path=\"url(#clip670)\" d=\"M50.9921 1446.2 L80.6679 1446.2 L80.6679 1450.13 L50.9921 1450.13 L50.9921 1446.2 Z\" fill=\"#000000\" fill-rule=\"evenodd\" fill-opacity=\"1\" /><path clip-path=\"url(#clip670)\" d=\"M91.5706 1459.09 L99.2095 1459.09 L99.2095 1432.72 L90.8993 1434.39 L90.8993 1430.13 L99.1632 1428.46 L103.839 1428.46 L103.839 1459.09 L111.478 1459.09 L111.478 1463.02 L91.5706 1463.02 L91.5706 1459.09 Z\" fill=\"#000000\" fill-rule=\"evenodd\" fill-opacity=\"1\" /><path clip-path=\"url(#clip670)\" d=\"M120.922 1457.14 L125.807 1457.14 L125.807 1463.02 L120.922 1463.02 L120.922 1457.14 Z\" fill=\"#000000\" fill-rule=\"evenodd\" fill-opacity=\"1\" /><path clip-path=\"url(#clip670)\" d=\"M145.992 1431.54 Q142.381 1431.54 140.552 1435.11 Q138.746 1438.65 138.746 1445.78 Q138.746 1452.88 140.552 1456.45 Q142.381 1459.99 145.992 1459.99 Q149.626 1459.99 151.431 1456.45 Q153.26 1452.88 153.26 1445.78 Q153.26 1438.65 151.431 1435.11 Q149.626 1431.54 145.992 1431.54 M145.992 1427.84 Q151.802 1427.84 154.857 1432.45 Q157.936 1437.03 157.936 1445.78 Q157.936 1454.51 154.857 1459.11 Q151.802 1463.7 145.992 1463.7 Q140.181 1463.7 137.103 1459.11 Q134.047 1454.51 134.047 1445.78 Q134.047 1437.03 137.103 1432.45 Q140.181 1427.84 145.992 1427.84 Z\" fill=\"#000000\" fill-rule=\"evenodd\" fill-opacity=\"1\" /><path clip-path=\"url(#clip670)\" d=\"M51.9875 1106.75 L81.6633 1106.75 L81.6633 1110.69 L51.9875 1110.69 L51.9875 1106.75 Z\" fill=\"#000000\" fill-rule=\"evenodd\" fill-opacity=\"1\" /><path clip-path=\"url(#clip670)\" d=\"M101.756 1092.1 Q98.1447 1092.1 96.316 1095.67 Q94.5104 1099.21 94.5104 1106.34 Q94.5104 1113.44 96.316 1117.01 Q98.1447 1120.55 101.756 1120.55 Q105.39 1120.55 107.196 1117.01 Q109.024 1113.44 109.024 1106.34 Q109.024 1099.21 107.196 1095.67 Q105.39 1092.1 101.756 1092.1 M101.756 1088.4 Q107.566 1088.4 110.621 1093 Q113.7 1097.59 113.7 1106.34 Q113.7 1115.06 110.621 1119.67 Q107.566 1124.25 101.756 1124.25 Q95.9456 1124.25 92.8669 1119.67 Q89.8114 1115.06 89.8114 1106.34 Q89.8114 1097.59 92.8669 1093 Q95.9456 1088.4 101.756 1088.4 Z\" fill=\"#000000\" fill-rule=\"evenodd\" fill-opacity=\"1\" /><path clip-path=\"url(#clip670)\" d=\"M121.918 1117.7 L126.802 1117.7 L126.802 1123.58 L121.918 1123.58 L121.918 1117.7 Z\" fill=\"#000000\" fill-rule=\"evenodd\" fill-opacity=\"1\" /><path clip-path=\"url(#clip670)\" d=\"M137.033 1089.02 L155.39 1089.02 L155.39 1092.96 L141.316 1092.96 L141.316 1101.43 Q142.334 1101.08 143.353 1100.92 Q144.371 1100.73 145.39 1100.73 Q151.177 1100.73 154.556 1103.91 Q157.936 1107.08 157.936 1112.49 Q157.936 1118.07 154.464 1121.17 Q150.992 1124.25 144.672 1124.25 Q142.496 1124.25 140.228 1123.88 Q137.982 1123.51 135.575 1122.77 L135.575 1118.07 Q137.658 1119.21 139.881 1119.76 Q142.103 1120.32 144.58 1120.32 Q148.584 1120.32 150.922 1118.21 Q153.26 1116.11 153.26 1112.49 Q153.26 1108.88 150.922 1106.78 Q148.584 1104.67 144.58 1104.67 Q142.705 1104.67 140.83 1105.09 Q138.978 1105.5 137.033 1106.38 L137.033 1089.02 Z\" fill=\"#000000\" fill-rule=\"evenodd\" fill-opacity=\"1\" /><path clip-path=\"url(#clip670)\" d=\"M100.76 752.659 Q97.1493 752.659 95.3206 756.224 Q93.515 759.765 93.515 766.895 Q93.515 774.001 95.3206 777.566 Q97.1493 781.108 100.76 781.108 Q104.395 781.108 106.2 777.566 Q108.029 774.001 108.029 766.895 Q108.029 759.765 106.2 756.224 Q104.395 752.659 100.76 752.659 M100.76 748.955 Q106.571 748.955 109.626 753.561 Q112.705 758.145 112.705 766.895 Q112.705 775.622 109.626 780.228 Q106.571 784.811 100.76 784.811 Q94.9502 784.811 91.8715 780.228 Q88.816 775.622 88.816 766.895 Q88.816 758.145 91.8715 753.561 Q94.9502 748.955 100.76 748.955 Z\" fill=\"#000000\" fill-rule=\"evenodd\" fill-opacity=\"1\" /><path clip-path=\"url(#clip670)\" d=\"M120.922 778.26 L125.807 778.26 L125.807 784.14 L120.922 784.14 L120.922 778.26 Z\" fill=\"#000000\" fill-rule=\"evenodd\" fill-opacity=\"1\" /><path clip-path=\"url(#clip670)\" d=\"M145.992 752.659 Q142.381 752.659 140.552 756.224 Q138.746 759.765 138.746 766.895 Q138.746 774.001 140.552 777.566 Q142.381 781.108 145.992 781.108 Q149.626 781.108 151.431 777.566 Q153.26 774.001 153.26 766.895 Q153.26 759.765 151.431 756.224 Q149.626 752.659 145.992 752.659 M145.992 748.955 Q151.802 748.955 154.857 753.561 Q157.936 758.145 157.936 766.895 Q157.936 775.622 154.857 780.228 Q151.802 784.811 145.992 784.811 Q140.181 784.811 137.103 780.228 Q134.047 775.622 134.047 766.895 Q134.047 758.145 137.103 753.561 Q140.181 748.955 145.992 748.955 Z\" fill=\"#000000\" fill-rule=\"evenodd\" fill-opacity=\"1\" /><path clip-path=\"url(#clip670)\" d=\"M101.756 413.217 Q98.1447 413.217 96.316 416.782 Q94.5104 420.323 94.5104 427.453 Q94.5104 434.559 96.316 438.124 Q98.1447 441.666 101.756 441.666 Q105.39 441.666 107.196 438.124 Q109.024 434.559 109.024 427.453 Q109.024 420.323 107.196 416.782 Q105.39 413.217 101.756 413.217 M101.756 409.513 Q107.566 409.513 110.621 414.12 Q113.7 418.703 113.7 427.453 Q113.7 436.18 110.621 440.786 Q107.566 445.369 101.756 445.369 Q95.9456 445.369 92.8669 440.786 Q89.8114 436.18 89.8114 427.453 Q89.8114 418.703 92.8669 414.12 Q95.9456 409.513 101.756 409.513 Z\" fill=\"#000000\" fill-rule=\"evenodd\" fill-opacity=\"1\" /><path clip-path=\"url(#clip670)\" d=\"M121.918 438.819 L126.802 438.819 L126.802 444.698 L121.918 444.698 L121.918 438.819 Z\" fill=\"#000000\" fill-rule=\"evenodd\" fill-opacity=\"1\" /><path clip-path=\"url(#clip670)\" d=\"M137.033 410.138 L155.39 410.138 L155.39 414.073 L141.316 414.073 L141.316 422.545 Q142.334 422.198 143.353 422.036 Q144.371 421.851 145.39 421.851 Q151.177 421.851 154.556 425.022 Q157.936 428.194 157.936 433.61 Q157.936 439.189 154.464 442.291 Q150.992 445.369 144.672 445.369 Q142.496 445.369 140.228 444.999 Q137.982 444.629 135.575 443.888 L135.575 439.189 Q137.658 440.323 139.881 440.879 Q142.103 441.434 144.58 441.434 Q148.584 441.434 150.922 439.328 Q153.26 437.221 153.26 433.61 Q153.26 429.999 150.922 427.893 Q148.584 425.786 144.58 425.786 Q142.705 425.786 140.83 426.203 Q138.978 426.62 137.033 427.499 L137.033 410.138 Z\" fill=\"#000000\" fill-rule=\"evenodd\" fill-opacity=\"1\" /><path clip-path=\"url(#clip670)\" d=\"M91.5706 101.321 L99.2095 101.321 L99.2095 74.9555 L90.8993 76.6222 L90.8993 72.3629 L99.1632 70.6963 L103.839 70.6963 L103.839 101.321 L111.478 101.321 L111.478 105.256 L91.5706 105.256 L91.5706 101.321 Z\" fill=\"#000000\" fill-rule=\"evenodd\" fill-opacity=\"1\" /><path clip-path=\"url(#clip670)\" d=\"M120.922 99.3767 L125.807 99.3767 L125.807 105.256 L120.922 105.256 L120.922 99.3767 Z\" fill=\"#000000\" fill-rule=\"evenodd\" fill-opacity=\"1\" /><path clip-path=\"url(#clip670)\" d=\"M145.992 73.775 Q142.381 73.775 140.552 77.3398 Q138.746 80.8814 138.746 88.011 Q138.746 95.1174 140.552 98.6822 Q142.381 102.224 145.992 102.224 Q149.626 102.224 151.431 98.6822 Q153.26 95.1174 153.26 88.011 Q153.26 80.8814 151.431 77.3398 Q149.626 73.775 145.992 73.775 M145.992 70.0713 Q151.802 70.0713 154.857 74.6777 Q157.936 79.261 157.936 88.011 Q157.936 96.7378 154.857 101.344 Q151.802 105.928 145.992 105.928 Q140.181 105.928 137.103 101.344 Q134.047 96.7378 134.047 88.011 Q134.047 79.261 137.103 74.6777 Q140.181 70.0713 145.992 70.0713 Z\" fill=\"#000000\" fill-rule=\"evenodd\" fill-opacity=\"1\" /><polyline clip-path=\"url(#clip672)\" style=\"stroke:#009af9; stroke-linecap:round; stroke-linejoin:round; stroke-width:4; stroke-opacity:1; fill:none\" points=\"193.936,87.9763 197.45,96.8017 200.964,105.598 204.477,114.366 207.991,123.105 240.481,202.548 272.971,279.53 305.461,354.052 337.951,426.113 377.001,509.47 416.051,589.272 449.068,653.971 482.084,716.13 517.949,780.772 553.814,842.417 586.879,896.592 619.943,948.219 655.392,1000.74 690.84,1050.33 711.375,1077.72 731.911,1104.12 752.446,1129.54 772.981,1153.98 809.48,1195 845.979,1232.9 877.985,1263.59 909.991,1291.89 944.886,1320.02 979.782,1345.31 1014.88,1367.9 1049.99,1387.61 1088.8,1406.05 1127.61,1420.99 1164.54,1431.95 1201.46,1439.72 1239.86,1444.44 1278.25,1445.72 1310.57,1444.13 1342.9,1440.11 1362.63,1436.45 1382.36,1431.9 1402.09,1426.43 1421.82,1420.06 1457.96,1406.02 1494.11,1388.95 1527.5,1370.47 1560.88,1349.4 1594.7,1325.4 1628.52,1298.74 1666.42,1265.69 1704.32,1229.29 1738.67,1193.42 1773.01,1154.8 1792.67,1131.45 1812.33,1107.2 1831.99,1082.05 1851.66,1056 1888.06,1005.39 1924.47,951.678 1960.37,895.704 1996.26,836.726 2031.11,776.591 2065.96,713.625 2101.69,646.139 2137.42,575.677 2156.99,535.817 2176.56,495.063 2196.13,453.417 2215.7,410.878 2244.13,347.494 2272.56,282.225 2300.99,215.072 2329.43,146.036 2335.26,131.64 2341.09,117.165 2346.92,102.61 2352.76,87.9763 \"/>\n",
       "<path clip-path=\"url(#clip670)\" d=\"M1881.09 1438.47 L2280.8 1438.47 L2280.8 1334.79 L1881.09 1334.79  Z\" fill=\"#ffffff\" fill-rule=\"evenodd\" fill-opacity=\"1\"/>\n",
       "<polyline clip-path=\"url(#clip670)\" style=\"stroke:#000000; stroke-linecap:round; stroke-linejoin:round; stroke-width:4; stroke-opacity:1; fill:none\" points=\"1881.09,1438.47 2280.8,1438.47 2280.8,1334.79 1881.09,1334.79 1881.09,1438.47 \"/>\n",
       "<polyline clip-path=\"url(#clip670)\" style=\"stroke:#009af9; stroke-linecap:round; stroke-linejoin:round; stroke-width:4; stroke-opacity:1; fill:none\" points=\"1905.08,1386.63 2049,1386.63 \"/>\n",
       "<path clip-path=\"url(#clip670)\" d=\"M2073.66 1399.98 L2081.3 1399.98 L2081.3 1373.61 L2072.99 1375.28 L2072.99 1371.02 L2081.25 1369.35 L2085.93 1369.35 L2085.93 1399.98 L2093.57 1399.98 L2093.57 1403.91 L2073.66 1403.91 L2073.66 1399.98 Z\" fill=\"#000000\" fill-rule=\"evenodd\" fill-opacity=\"1\" /><path clip-path=\"url(#clip670)\" d=\"M2103.01 1384.52 L2107.9 1384.52 L2107.9 1390.4 L2103.01 1390.4 L2103.01 1384.52 Z\" fill=\"#000000\" fill-rule=\"evenodd\" fill-opacity=\"1\" /><path clip-path=\"url(#clip670)\" d=\"M2112.87 1369.35 L2142.11 1369.35 L2142.11 1373.29 L2129.84 1373.29 L2129.84 1403.91 L2125.14 1403.91 L2125.14 1373.29 L2112.87 1373.29 L2112.87 1369.35 Z\" fill=\"#000000\" fill-rule=\"evenodd\" fill-opacity=\"1\" /><path clip-path=\"url(#clip670)\" d=\"M2166.14 1411.78 L2166.14 1415.09 L2141.51 1415.09 L2141.51 1411.78 L2166.14 1411.78 Z\" fill=\"#000000\" fill-rule=\"evenodd\" fill-opacity=\"1\" /><path clip-path=\"url(#clip670)\" d=\"M2174.77 1399.98 L2191.09 1399.98 L2191.09 1403.91 L2169.15 1403.91 L2169.15 1399.98 Q2171.81 1397.22 2176.39 1392.6 Q2181 1387.94 2182.18 1386.6 Q2184.42 1384.08 2185.3 1382.34 Q2186.21 1380.58 2186.21 1378.89 Q2186.21 1376.14 2184.26 1374.4 Q2182.34 1372.66 2179.24 1372.66 Q2177.04 1372.66 2174.59 1373.43 Q2172.16 1374.19 2169.38 1375.74 L2169.38 1371.02 Q2172.2 1369.89 2174.66 1369.31 Q2177.11 1368.73 2179.15 1368.73 Q2184.52 1368.73 2187.71 1371.41 Q2190.91 1374.1 2190.91 1378.59 Q2190.91 1380.72 2190.1 1382.64 Q2189.31 1384.54 2187.2 1387.13 Q2186.62 1387.8 2183.52 1391.02 Q2180.42 1394.22 2174.77 1399.98 Z\" fill=\"#000000\" fill-rule=\"evenodd\" fill-opacity=\"1\" /><path clip-path=\"url(#clip670)\" d=\"M2210.54 1367.94 Q2207.43 1373.27 2205.93 1378.47 Q2204.42 1383.68 2204.42 1389.03 Q2204.42 1394.38 2205.93 1399.63 Q2207.46 1404.86 2210.54 1410.16 L2206.83 1410.16 Q2203.36 1404.72 2201.62 1399.47 Q2199.91 1394.22 2199.91 1389.03 Q2199.91 1383.87 2201.62 1378.64 Q2203.34 1373.41 2206.83 1367.94 L2210.54 1367.94 Z\" fill=\"#000000\" fill-rule=\"evenodd\" fill-opacity=\"1\" /><path clip-path=\"url(#clip670)\" d=\"M2240.35 1377.99 L2230.98 1390.6 L2240.84 1403.91 L2235.81 1403.91 L2228.27 1393.73 L2220.72 1403.91 L2215.7 1403.91 L2225.77 1390.35 L2216.55 1377.99 L2221.58 1377.99 L2228.45 1387.22 L2235.33 1377.99 L2240.35 1377.99 Z\" fill=\"#000000\" fill-rule=\"evenodd\" fill-opacity=\"1\" /><path clip-path=\"url(#clip670)\" d=\"M2246.18 1367.94 L2249.89 1367.94 Q2253.36 1373.41 2255.07 1378.64 Q2256.81 1383.87 2256.81 1389.03 Q2256.81 1394.22 2255.07 1399.47 Q2253.36 1404.72 2249.89 1410.16 L2246.18 1410.16 Q2249.26 1404.86 2250.77 1399.63 Q2252.29 1394.38 2252.29 1389.03 Q2252.29 1383.68 2250.77 1378.47 Q2249.26 1373.27 2246.18 1367.94 Z\" fill=\"#000000\" fill-rule=\"evenodd\" fill-opacity=\"1\" /></svg>\n"
      ]
     },
     "execution_count": 22,
     "metadata": {},
     "output_type": "execute_result"
    }
   ],
   "source": [
    "plot(t2)"
   ]
  },
  {
   "cell_type": "code",
   "execution_count": 23,
   "metadata": {},
   "outputs": [
    {
     "data": {
      "text/plain": [
       "2-element Vector{Float64}:\n",
       " -0.7071067811865475\n",
       "  0.7071067811865476"
      ]
     },
     "execution_count": 23,
     "metadata": {},
     "output_type": "execute_result"
    }
   ],
   "source": [
    "#zera wielomianu Czebyszewa T2\n",
    "Polynomials.roots(t2)"
   ]
  },
  {
   "cell_type": "code",
   "execution_count": 24,
   "metadata": {},
   "outputs": [
    {
     "data": {
      "text/html": [
       "&#45;1 &#43; 2&#8729;x<sup>2</sup>"
      ],
      "text/latex": [
       "$-1 + 2\\cdot x^{2}$"
      ],
      "text/plain": [
       "Polynomial(-1 + 2*x^2)"
      ]
     },
     "execution_count": 24,
     "metadata": {},
     "output_type": "execute_result"
    }
   ],
   "source": [
    "# konwersja na wielomian\n",
    "convert(Polynomial, t2)"
   ]
  },
  {
   "cell_type": "code",
   "execution_count": 25,
   "metadata": {},
   "outputs": [
    {
     "data": {
      "text/html": [
       "3⋅T_0(x) + 2⋅T_1(x) + 1⋅T_2(x)"
      ],
      "text/latex": [
       "$3⋅T_0(x) + 2⋅T_1(x) + 1⋅T_2(x)$"
      ],
      "text/plain": [
       "ChebyshevT(3⋅T_0(x) + 2⋅T_1(x) + 1⋅T_2(x))"
      ]
     },
     "execution_count": 25,
     "metadata": {},
     "output_type": "execute_result"
    }
   ],
   "source": [
    "# można tworzyć kombinacje liniowe w bazie wielomianów Czebyszewa\n",
    "kombinacja_T = ChebyshevT([3,2,1])"
   ]
  },
  {
   "cell_type": "code",
   "execution_count": 26,
   "metadata": {},
   "outputs": [
    {
     "data": {
      "text/html": [
       "2 &#43; 2&#8729;x &#43; 2&#8729;x<sup>2</sup>"
      ],
      "text/latex": [
       "$2 + 2\\cdot x + 2\\cdot x^{2}$"
      ],
      "text/plain": [
       "Polynomial(2 + 2*x + 2*x^2)"
      ]
     },
     "execution_count": 26,
     "metadata": {},
     "output_type": "execute_result"
    }
   ],
   "source": [
    "convert(Polynomial, kombinacja_T)"
   ]
  },
  {
   "cell_type": "markdown",
   "metadata": {},
   "source": [
    "Skąd się wzieło polynomials logo :-)\n",
    "https://juliamath.github.io/Polynomials.jl/stable/reference/#Example:-The-Polynomials.jl-logo-1"
   ]
  },
  {
   "cell_type": "markdown",
   "metadata": {},
   "source": [
    "## Aproksymacja jednostajna Taylora i Pade"
   ]
  },
  {
   "cell_type": "code",
   "execution_count": 27,
   "metadata": {},
   "outputs": [],
   "source": [
    "#using Pkg;\n",
    "#Pkg.add(\"TaylorSeries\")"
   ]
  },
  {
   "cell_type": "code",
   "execution_count": 28,
   "metadata": {},
   "outputs": [],
   "source": [
    "using TaylorSeries"
   ]
  },
  {
   "cell_type": "code",
   "execution_count": 29,
   "metadata": {},
   "outputs": [
    {
     "data": {
      "text/plain": [
       " 1.0 t + 𝒪(t⁶)"
      ]
     },
     "execution_count": 29,
     "metadata": {},
     "output_type": "execute_result"
    }
   ],
   "source": [
    "# Definiujemy, ile pierwszych wyrazów szeregu Taylora nas interesuje\n",
    "t = Taylor1(Float64, 5)"
   ]
  },
  {
   "cell_type": "code",
   "execution_count": 30,
   "metadata": {},
   "outputs": [
    {
     "data": {
      "text/plain": [
       " 1.0 + 1.0 t + 0.5 t² + 0.16666666666666666 t³ + 0.041666666666666664 t⁴ + 0.008333333333333333 t⁵ + 𝒪(t⁶)"
      ]
     },
     "execution_count": 30,
     "metadata": {},
     "output_type": "execute_result"
    }
   ],
   "source": [
    "#Rozwinięcie Taylora \n",
    "myfun_taylor = myfun(t)"
   ]
  },
  {
   "cell_type": "code",
   "execution_count": 31,
   "metadata": {},
   "outputs": [
    {
     "data": {
      "text/plain": [
       "(:coeffs, :order)"
      ]
     },
     "execution_count": 31,
     "metadata": {},
     "output_type": "execute_result"
    }
   ],
   "source": [
    "# Julia hint - jak zapytać o pola typu danych\n",
    "fieldnames(typeof(myfun_taylor))"
   ]
  },
  {
   "cell_type": "code",
   "execution_count": 32,
   "metadata": {},
   "outputs": [
    {
     "data": {
      "text/plain": [
       "6-element Vector{Float64}:\n",
       " 1.0\n",
       " 1.0\n",
       " 0.5\n",
       " 0.16666666666666666\n",
       " 0.041666666666666664\n",
       " 0.008333333333333333"
      ]
     },
     "execution_count": 32,
     "metadata": {},
     "output_type": "execute_result"
    }
   ],
   "source": [
    "# mogę wyciągnąć ze struktury typu  odpowiednie pole\n",
    "myfun_taylor.coeffs"
   ]
  },
  {
   "cell_type": "code",
   "execution_count": 33,
   "metadata": {},
   "outputs": [
    {
     "data": {
      "text/html": [
       "1.0 &#43; 1.0&#8729;x &#43; 0.5&#8729;x<sup>2</sup> &#43; 0.16666666666666666&#8729;x<sup>3</sup> &#43; 0.041666666666666664&#8729;x<sup>4</sup> &#43; 0.008333333333333333&#8729;x<sup>5</sup>"
      ],
      "text/latex": [
       "$1.0 + 1.0\\cdot x + 0.5\\cdot x^{2} + 0.16666666666666666\\cdot x^{3} + 0.041666666666666664\\cdot x^{4} + 0.008333333333333333\\cdot x^{5}$"
      ],
      "text/plain": [
       "Polynomial(1.0 + 1.0*x + 0.5*x^2 + 0.16666666666666666*x^3 + 0.041666666666666664*x^4 + 0.008333333333333333*x^5)"
      ]
     },
     "execution_count": 33,
     "metadata": {},
     "output_type": "execute_result"
    }
   ],
   "source": [
    "# Z przybliżenia Taylora tworzę wielomian zrozumiały dla pakietu Polynomials (typ Polynomial)\n",
    "myfun_t_pol = Polynomial(myfun_taylor.coeffs)"
   ]
  },
  {
   "cell_type": "code",
   "execution_count": 34,
   "metadata": {},
   "outputs": [
    {
     "data": {
      "text/plain": [
       "Polynomials.PolyCompat.PadeApproximation.Pade{Float64, Float64}(Polynomial(1.0 + 0.5000000000000001*x + 0.08333333333333333*x^2), Polynomial(1.0 - 0.5*x + 0.08333333333333333*x^2), :x)"
      ]
     },
     "execution_count": 34,
     "metadata": {},
     "output_type": "execute_result"
    }
   ],
   "source": [
    "# mogę zamienić przybliżenie Taylora na aproksymację Pade (np. dla n=2, m=2)\n",
    "myfun_pade = Polynomials.PolyCompat.PadeApproximation.Pade(myfun_t_pol, 2, 2)"
   ]
  },
  {
   "cell_type": "markdown",
   "metadata": {},
   "source": [
    "### Zadania\n",
    " \n",
    "1. **(1pkt)** Uruchomić \n",
    "   - `naive_multiplication(A,B)`, \n",
    "   - `better_multiplication(A,B)` \n",
    "   - mnożenie BLAS w Julii (`A*B`) \n",
    "\n",
    "    dla coraz większych macierzy kwadratowych i zmierzyć czasy. Narysować wykres zależności czasu od rozmiaru macierzy wraz z słupkami błędów. Wszystkie trzy metody powinny być na jednym wykresie. Do analizy danych można użyć wybranego narzędzia (Julia, R)\n",
    " \n",
    " \n",
    "2. **(2 pkt)** Napisać w języku C:\n",
    "   - naiwną metodę mnożenia macierzy kwadratowych (wersja 1) \n",
    "   - ulepszoną wersję za pomocą zamiany pętli metodę mnożenia macierzy (wersja 2), pamiętając, że w C macierz przechowywana jest wierszami (row major order tzn A11,A12, ..., A1m, A21, A22,...,A2m, ..Anm), inaczej niż w Julii ! \n",
    "   - skorzystać z  możliwości BLAS poziom 3 dostępnego w GSL  (przykład uzycia https://www.gnu.org/software/gsl/doc/html/blas.html#examples )\n",
    "    \n",
    "    Należy porównywać działanie tych trzech algorytmow bez włączonej opcji optymalizacji kompilatora. Przedstawić wyniki na jednym wykresie tak jak w p.1. (osobno niż p.1). \n",
    "    \n",
    "    Do analizy danych można użyć wybranego narzędzia (Julia, R)\n",
    "    \n",
    "    *(Dla chętnych)* sprawdzić, co się dzieje, jak włączymy optymalizację kompilatora i dodać do wykresu. \n",
    "\n",
    "\n",
    "3. **(1 pkt)** Użyć aproksymacji odpowiednimi wielomianami, które najlepiej pasują do zależności czasowych każdego z algorytmów. Stopień wielomianu powinien zgadzać się z teoretyczną złożonoscią. Dodać wykresy uzyskanych wielomianów do wcześniejszych wykresów. Do analizy danych można użyć wybranego narzędzia (Julia, R)\n",
    "\n",
    "4. **(1 pkt)** Pokazać zniwelowanie efektu Rungego  poprzez użycie wsparcia dla wielomianów Czebyszewa w pakiecie Polynomials. Wymagany wykres. \n",
    "\n",
    "5. **(1 pkt)** Przybliżenie Pade jest często lepsze niż rozwinięcie w szereg Taylora przy aproksymowaniu funkcji, które posiadają osobliwości. Korzystając ze wsparcia dla aproksymacji Pade w pakiecie Polynomials pokazać dowolny przykład (wraz z wykresem), gdzie takie przybliżenie faktycznie jest lepsze. Można odtworzyć wykres z wykładu albo zainspirować się przykładowym artykułem https://www.hindawi.com/journals/ijcm/2014/587430/ \n"
   ]
  },
  {
   "cell_type": "markdown",
   "metadata": {},
   "source": [
    "#### Zadanie 1"
   ]
  },
  {
   "cell_type": "code",
   "execution_count": 35,
   "metadata": {},
   "outputs": [],
   "source": [
    "using DataFrames\n",
    "using Statistics\n",
    "using CSV"
   ]
  },
  {
   "cell_type": "code",
   "execution_count": 36,
   "metadata": {},
   "outputs": [
    {
     "data": {
      "text/html": [
       "<div><div style = \"float: left;\"><span>0×3 DataFrame</span></div><div style = \"clear: both;\"></div></div><div class = \"data-frame\" style = \"overflow-x: scroll;\"><table class = \"data-frame\" style = \"margin-bottom: 6px;\"><thead><tr class = \"header\"><th class = \"rowNumber\" style = \"font-weight: bold; text-align: right;\">Row</th><th style = \"text-align: left;\">length</th><th style = \"text-align: left;\">type</th><th style = \"text-align: left;\">time</th></tr><tr class = \"subheader headerLastRow\"><th class = \"rowNumber\" style = \"font-weight: bold; text-align: right;\"></th><th title = \"Int64\" style = \"text-align: left;\">Int64</th><th title = \"String\" style = \"text-align: left;\">String</th><th title = \"Float64\" style = \"text-align: left;\">Float64</th></tr></thead><tbody></tbody></table></div>"
      ],
      "text/latex": [
       "\\begin{tabular}{r|ccc}\n",
       "\t& length & type & time\\\\\n",
       "\t\\hline\n",
       "\t& Int64 & String & Float64\\\\\n",
       "\t\\hline\n",
       "\\end{tabular}\n"
      ],
      "text/plain": [
       "\u001b[1m0×3 DataFrame\u001b[0m\n",
       "\u001b[1m Row \u001b[0m│\u001b[1m length \u001b[0m\u001b[1m type   \u001b[0m\u001b[1m time    \u001b[0m\n",
       "     │\u001b[90m Int64  \u001b[0m\u001b[90m String \u001b[0m\u001b[90m Float64 \u001b[0m\n",
       "─────┴─────────────────────────"
      ]
     },
     "execution_count": 36,
     "metadata": {},
     "output_type": "execute_result"
    }
   ],
   "source": [
    "df = DataFrame(length = Int64[], \n",
    "    type = String[],\n",
    "    time = Float64[])"
   ]
  },
  {
   "cell_type": "code",
   "execution_count": 37,
   "metadata": {},
   "outputs": [],
   "source": [
    "for j = 1:1:10\n",
    "    for size = 50:50:1000\n",
    "        A = rand(size, size)\n",
    "        B = rand(size, size)\n",
    "        naive_time = @elapsed naive_multiplication(A,B)\n",
    "        better_time = @elapsed better_multiplication(A,B)\n",
    "        blas_time = @elapsed A*B\n",
    "        push!(df, [size, \"naive\", naive_time])\n",
    "        push!(df, [size, \"better\", better_time])\n",
    "        push!(df, [size, \"blas\", blas_time])\n",
    "    end\n",
    "end"
   ]
  },
  {
   "cell_type": "code",
   "execution_count": 38,
   "metadata": {},
   "outputs": [
    {
     "data": {
      "text/html": [
       "<div><div style = \"float: left;\"><span>600×3 DataFrame</span></div><div style = \"float: right;\"><span style = \"font-style: italic;\">575 rows omitted</span></div><div style = \"clear: both;\"></div></div><div class = \"data-frame\" style = \"overflow-x: scroll;\"><table class = \"data-frame\" style = \"margin-bottom: 6px;\"><thead><tr class = \"header\"><th class = \"rowNumber\" style = \"font-weight: bold; text-align: right;\">Row</th><th style = \"text-align: left;\">length</th><th style = \"text-align: left;\">type</th><th style = \"text-align: left;\">time</th></tr><tr class = \"subheader headerLastRow\"><th class = \"rowNumber\" style = \"font-weight: bold; text-align: right;\"></th><th title = \"Int64\" style = \"text-align: left;\">Int64</th><th title = \"String\" style = \"text-align: left;\">String</th><th title = \"Float64\" style = \"text-align: left;\">Float64</th></tr></thead><tbody><tr><td class = \"rowNumber\" style = \"font-weight: bold; text-align: right;\">1</td><td style = \"text-align: right;\">50</td><td style = \"text-align: left;\">naive</td><td style = \"text-align: right;\">0.000472584</td></tr><tr><td class = \"rowNumber\" style = \"font-weight: bold; text-align: right;\">2</td><td style = \"text-align: right;\">50</td><td style = \"text-align: left;\">better</td><td style = \"text-align: right;\">7.4959e-5</td></tr><tr><td class = \"rowNumber\" style = \"font-weight: bold; text-align: right;\">3</td><td style = \"text-align: right;\">50</td><td style = \"text-align: left;\">blas</td><td style = \"text-align: right;\">1.8666e-5</td></tr><tr><td class = \"rowNumber\" style = \"font-weight: bold; text-align: right;\">4</td><td style = \"text-align: right;\">100</td><td style = \"text-align: left;\">naive</td><td style = \"text-align: right;\">0.00349088</td></tr><tr><td class = \"rowNumber\" style = \"font-weight: bold; text-align: right;\">5</td><td style = \"text-align: right;\">100</td><td style = \"text-align: left;\">better</td><td style = \"text-align: right;\">0.000563833</td></tr><tr><td class = \"rowNumber\" style = \"font-weight: bold; text-align: right;\">6</td><td style = \"text-align: right;\">100</td><td style = \"text-align: left;\">blas</td><td style = \"text-align: right;\">0.000118875</td></tr><tr><td class = \"rowNumber\" style = \"font-weight: bold; text-align: right;\">7</td><td style = \"text-align: right;\">150</td><td style = \"text-align: left;\">naive</td><td style = \"text-align: right;\">0.0124316</td></tr><tr><td class = \"rowNumber\" style = \"font-weight: bold; text-align: right;\">8</td><td style = \"text-align: right;\">150</td><td style = \"text-align: left;\">better</td><td style = \"text-align: right;\">0.00214363</td></tr><tr><td class = \"rowNumber\" style = \"font-weight: bold; text-align: right;\">9</td><td style = \"text-align: right;\">150</td><td style = \"text-align: left;\">blas</td><td style = \"text-align: right;\">0.000108041</td></tr><tr><td class = \"rowNumber\" style = \"font-weight: bold; text-align: right;\">10</td><td style = \"text-align: right;\">200</td><td style = \"text-align: left;\">naive</td><td style = \"text-align: right;\">0.0294801</td></tr><tr><td class = \"rowNumber\" style = \"font-weight: bold; text-align: right;\">11</td><td style = \"text-align: right;\">200</td><td style = \"text-align: left;\">better</td><td style = \"text-align: right;\">0.00497037</td></tr><tr><td class = \"rowNumber\" style = \"font-weight: bold; text-align: right;\">12</td><td style = \"text-align: right;\">200</td><td style = \"text-align: left;\">blas</td><td style = \"text-align: right;\">0.000223709</td></tr><tr><td class = \"rowNumber\" style = \"font-weight: bold; text-align: right;\">13</td><td style = \"text-align: right;\">250</td><td style = \"text-align: left;\">naive</td><td style = \"text-align: right;\">0.057698</td></tr><tr><td style = \"text-align: right;\">&vellip;</td><td style = \"text-align: right;\">&vellip;</td><td style = \"text-align: right;\">&vellip;</td><td style = \"text-align: right;\">&vellip;</td></tr><tr><td class = \"rowNumber\" style = \"font-weight: bold; text-align: right;\">589</td><td style = \"text-align: right;\">850</td><td style = \"text-align: left;\">naive</td><td style = \"text-align: right;\">2.1738</td></tr><tr><td class = \"rowNumber\" style = \"font-weight: bold; text-align: right;\">590</td><td style = \"text-align: right;\">850</td><td style = \"text-align: left;\">better</td><td style = \"text-align: right;\">0.349059</td></tr><tr><td class = \"rowNumber\" style = \"font-weight: bold; text-align: right;\">591</td><td style = \"text-align: right;\">850</td><td style = \"text-align: left;\">blas</td><td style = \"text-align: right;\">0.00808313</td></tr><tr><td class = \"rowNumber\" style = \"font-weight: bold; text-align: right;\">592</td><td style = \"text-align: right;\">900</td><td style = \"text-align: left;\">naive</td><td style = \"text-align: right;\">2.57401</td></tr><tr><td class = \"rowNumber\" style = \"font-weight: bold; text-align: right;\">593</td><td style = \"text-align: right;\">900</td><td style = \"text-align: left;\">better</td><td style = \"text-align: right;\">0.414208</td></tr><tr><td class = \"rowNumber\" style = \"font-weight: bold; text-align: right;\">594</td><td style = \"text-align: right;\">900</td><td style = \"text-align: left;\">blas</td><td style = \"text-align: right;\">0.00949546</td></tr><tr><td class = \"rowNumber\" style = \"font-weight: bold; text-align: right;\">595</td><td style = \"text-align: right;\">950</td><td style = \"text-align: left;\">naive</td><td style = \"text-align: right;\">3.01651</td></tr><tr><td class = \"rowNumber\" style = \"font-weight: bold; text-align: right;\">596</td><td style = \"text-align: right;\">950</td><td style = \"text-align: left;\">better</td><td style = \"text-align: right;\">0.491053</td></tr><tr><td class = \"rowNumber\" style = \"font-weight: bold; text-align: right;\">597</td><td style = \"text-align: right;\">950</td><td style = \"text-align: left;\">blas</td><td style = \"text-align: right;\">0.011139</td></tr><tr><td class = \"rowNumber\" style = \"font-weight: bold; text-align: right;\">598</td><td style = \"text-align: right;\">1000</td><td style = \"text-align: left;\">naive</td><td style = \"text-align: right;\">3.5161</td></tr><tr><td class = \"rowNumber\" style = \"font-weight: bold; text-align: right;\">599</td><td style = \"text-align: right;\">1000</td><td style = \"text-align: left;\">better</td><td style = \"text-align: right;\">0.569956</td></tr><tr><td class = \"rowNumber\" style = \"font-weight: bold; text-align: right;\">600</td><td style = \"text-align: right;\">1000</td><td style = \"text-align: left;\">blas</td><td style = \"text-align: right;\">0.0124773</td></tr></tbody></table></div>"
      ],
      "text/latex": [
       "\\begin{tabular}{r|ccc}\n",
       "\t& length & type & time\\\\\n",
       "\t\\hline\n",
       "\t& Int64 & String & Float64\\\\\n",
       "\t\\hline\n",
       "\t1 & 50 & naive & 0.000472584 \\\\\n",
       "\t2 & 50 & better & 7.4959e-5 \\\\\n",
       "\t3 & 50 & blas & 1.8666e-5 \\\\\n",
       "\t4 & 100 & naive & 0.00349088 \\\\\n",
       "\t5 & 100 & better & 0.000563833 \\\\\n",
       "\t6 & 100 & blas & 0.000118875 \\\\\n",
       "\t7 & 150 & naive & 0.0124316 \\\\\n",
       "\t8 & 150 & better & 0.00214363 \\\\\n",
       "\t9 & 150 & blas & 0.000108041 \\\\\n",
       "\t10 & 200 & naive & 0.0294801 \\\\\n",
       "\t11 & 200 & better & 0.00497037 \\\\\n",
       "\t12 & 200 & blas & 0.000223709 \\\\\n",
       "\t13 & 250 & naive & 0.057698 \\\\\n",
       "\t14 & 250 & better & 0.00966258 \\\\\n",
       "\t15 & 250 & blas & 0.0003885 \\\\\n",
       "\t16 & 300 & naive & 0.101052 \\\\\n",
       "\t17 & 300 & better & 0.0165107 \\\\\n",
       "\t18 & 300 & blas & 0.000461833 \\\\\n",
       "\t19 & 350 & naive & 0.160253 \\\\\n",
       "\t20 & 350 & better & 0.0260422 \\\\\n",
       "\t21 & 350 & blas & 0.000762584 \\\\\n",
       "\t22 & 400 & naive & 0.238661 \\\\\n",
       "\t23 & 400 & better & 0.0382971 \\\\\n",
       "\t24 & 400 & blas & 0.000987334 \\\\\n",
       "\t25 & 450 & naive & 0.335704 \\\\\n",
       "\t26 & 450 & better & 0.0525477 \\\\\n",
       "\t27 & 450 & blas & 0.00132446 \\\\\n",
       "\t28 & 500 & naive & 0.451652 \\\\\n",
       "\t29 & 500 & better & 0.0713385 \\\\\n",
       "\t30 & 500 & blas & 0.00190446 \\\\\n",
       "\t$\\dots$ & $\\dots$ & $\\dots$ & $\\dots$ \\\\\n",
       "\\end{tabular}\n"
      ],
      "text/plain": [
       "\u001b[1m600×3 DataFrame\u001b[0m\n",
       "\u001b[1m Row \u001b[0m│\u001b[1m length \u001b[0m\u001b[1m type   \u001b[0m\u001b[1m time        \u001b[0m\n",
       "     │\u001b[90m Int64  \u001b[0m\u001b[90m String \u001b[0m\u001b[90m Float64     \u001b[0m\n",
       "─────┼─────────────────────────────\n",
       "   1 │     50  naive   0.000472584\n",
       "   2 │     50  better  7.4959e-5\n",
       "   3 │     50  blas    1.8666e-5\n",
       "   4 │    100  naive   0.00349088\n",
       "   5 │    100  better  0.000563833\n",
       "   6 │    100  blas    0.000118875\n",
       "   7 │    150  naive   0.0124316\n",
       "   8 │    150  better  0.00214363\n",
       "   9 │    150  blas    0.000108041\n",
       "  10 │    200  naive   0.0294801\n",
       "  11 │    200  better  0.00497037\n",
       "  ⋮  │   ⋮       ⋮          ⋮\n",
       " 591 │    850  blas    0.00808313\n",
       " 592 │    900  naive   2.57401\n",
       " 593 │    900  better  0.414208\n",
       " 594 │    900  blas    0.00949546\n",
       " 595 │    950  naive   3.01651\n",
       " 596 │    950  better  0.491053\n",
       " 597 │    950  blas    0.011139\n",
       " 598 │   1000  naive   3.5161\n",
       " 599 │   1000  better  0.569956\n",
       " 600 │   1000  blas    0.0124773\n",
       "\u001b[36m                   579 rows omitted\u001b[0m"
      ]
     },
     "execution_count": 38,
     "metadata": {},
     "output_type": "execute_result"
    }
   ],
   "source": [
    "df"
   ]
  },
  {
   "cell_type": "code",
   "execution_count": 39,
   "metadata": {},
   "outputs": [
    {
     "data": {
      "image/svg+xml": [
       "<?xml version=\"1.0\" encoding=\"utf-8\"?>\n",
       "<svg xmlns=\"http://www.w3.org/2000/svg\" xmlns:xlink=\"http://www.w3.org/1999/xlink\" width=\"600\" height=\"400\" viewBox=\"0 0 2400 1600\">\n",
       "<defs>\n",
       "  <clipPath id=\"clip710\">\n",
       "    <rect x=\"0\" y=\"0\" width=\"2400\" height=\"1600\"/>\n",
       "  </clipPath>\n",
       "</defs>\n",
       "<path clip-path=\"url(#clip710)\" d=\"M0 1600 L2400 1600 L2400 0 L0 0  Z\" fill=\"#ffffff\" fill-rule=\"evenodd\" fill-opacity=\"1\"/>\n",
       "<defs>\n",
       "  <clipPath id=\"clip711\">\n",
       "    <rect x=\"480\" y=\"0\" width=\"1681\" height=\"1600\"/>\n",
       "  </clipPath>\n",
       "</defs>\n",
       "<path clip-path=\"url(#clip710)\" d=\"M174.149 1423.18 L2352.76 1423.18 L2352.76 123.472 L174.149 123.472  Z\" fill=\"#ffffff\" fill-rule=\"evenodd\" fill-opacity=\"1\"/>\n",
       "<defs>\n",
       "  <clipPath id=\"clip712\">\n",
       "    <rect x=\"174\" y=\"123\" width=\"2180\" height=\"1301\"/>\n",
       "  </clipPath>\n",
       "</defs>\n",
       "<polyline clip-path=\"url(#clip712)\" style=\"stroke:#000000; stroke-linecap:round; stroke-linejoin:round; stroke-width:2; stroke-opacity:0.1; fill:none\" points=\"560.327,1423.18 560.327,123.472 \"/>\n",
       "<polyline clip-path=\"url(#clip712)\" style=\"stroke:#000000; stroke-linecap:round; stroke-linejoin:round; stroke-width:2; stroke-opacity:0.1; fill:none\" points=\"993.02,1423.18 993.02,123.472 \"/>\n",
       "<polyline clip-path=\"url(#clip712)\" style=\"stroke:#000000; stroke-linecap:round; stroke-linejoin:round; stroke-width:2; stroke-opacity:0.1; fill:none\" points=\"1425.71,1423.18 1425.71,123.472 \"/>\n",
       "<polyline clip-path=\"url(#clip712)\" style=\"stroke:#000000; stroke-linecap:round; stroke-linejoin:round; stroke-width:2; stroke-opacity:0.1; fill:none\" points=\"1858.4,1423.18 1858.4,123.472 \"/>\n",
       "<polyline clip-path=\"url(#clip712)\" style=\"stroke:#000000; stroke-linecap:round; stroke-linejoin:round; stroke-width:2; stroke-opacity:0.1; fill:none\" points=\"2291.1,1423.18 2291.1,123.472 \"/>\n",
       "<polyline clip-path=\"url(#clip710)\" style=\"stroke:#000000; stroke-linecap:round; stroke-linejoin:round; stroke-width:4; stroke-opacity:1; fill:none\" points=\"174.149,1423.18 2352.76,1423.18 \"/>\n",
       "<polyline clip-path=\"url(#clip710)\" style=\"stroke:#000000; stroke-linecap:round; stroke-linejoin:round; stroke-width:4; stroke-opacity:1; fill:none\" points=\"560.327,1423.18 560.327,1404.28 \"/>\n",
       "<polyline clip-path=\"url(#clip710)\" style=\"stroke:#000000; stroke-linecap:round; stroke-linejoin:round; stroke-width:4; stroke-opacity:1; fill:none\" points=\"993.02,1423.18 993.02,1404.28 \"/>\n",
       "<polyline clip-path=\"url(#clip710)\" style=\"stroke:#000000; stroke-linecap:round; stroke-linejoin:round; stroke-width:4; stroke-opacity:1; fill:none\" points=\"1425.71,1423.18 1425.71,1404.28 \"/>\n",
       "<polyline clip-path=\"url(#clip710)\" style=\"stroke:#000000; stroke-linecap:round; stroke-linejoin:round; stroke-width:4; stroke-opacity:1; fill:none\" points=\"1858.4,1423.18 1858.4,1404.28 \"/>\n",
       "<polyline clip-path=\"url(#clip710)\" style=\"stroke:#000000; stroke-linecap:round; stroke-linejoin:round; stroke-width:4; stroke-opacity:1; fill:none\" points=\"2291.1,1423.18 2291.1,1404.28 \"/>\n",
       "<path clip-path=\"url(#clip710)\" d=\"M524.019 1481.64 L540.339 1481.64 L540.339 1485.58 L518.394 1485.58 L518.394 1481.64 Q521.056 1478.89 525.64 1474.26 Q530.246 1469.61 531.427 1468.27 Q533.672 1465.74 534.552 1464.01 Q535.454 1462.25 535.454 1460.56 Q535.454 1457.8 533.51 1456.07 Q531.589 1454.33 528.487 1454.33 Q526.288 1454.33 523.834 1455.09 Q521.404 1455.86 518.626 1457.41 L518.626 1452.69 Q521.45 1451.55 523.904 1450.97 Q526.357 1450.39 528.394 1450.39 Q533.765 1450.39 536.959 1453.08 Q540.154 1455.77 540.154 1460.26 Q540.154 1462.39 539.343 1464.31 Q538.556 1466.2 536.45 1468.8 Q535.871 1469.47 532.769 1472.69 Q529.667 1475.88 524.019 1481.64 Z\" fill=\"#000000\" fill-rule=\"evenodd\" fill-opacity=\"1\" /><path clip-path=\"url(#clip710)\" d=\"M560.153 1454.1 Q556.542 1454.1 554.714 1457.66 Q552.908 1461.2 552.908 1468.33 Q552.908 1475.44 554.714 1479.01 Q556.542 1482.55 560.153 1482.55 Q563.788 1482.55 565.593 1479.01 Q567.422 1475.44 567.422 1468.33 Q567.422 1461.2 565.593 1457.66 Q563.788 1454.1 560.153 1454.1 M560.153 1450.39 Q565.964 1450.39 569.019 1455 Q572.098 1459.58 572.098 1468.33 Q572.098 1477.06 569.019 1481.67 Q565.964 1486.25 560.153 1486.25 Q554.343 1486.25 551.265 1481.67 Q548.209 1477.06 548.209 1468.33 Q548.209 1459.58 551.265 1455 Q554.343 1450.39 560.153 1450.39 Z\" fill=\"#000000\" fill-rule=\"evenodd\" fill-opacity=\"1\" /><path clip-path=\"url(#clip710)\" d=\"M590.315 1454.1 Q586.704 1454.1 584.875 1457.66 Q583.07 1461.2 583.07 1468.33 Q583.07 1475.44 584.875 1479.01 Q586.704 1482.55 590.315 1482.55 Q593.95 1482.55 595.755 1479.01 Q597.584 1475.44 597.584 1468.33 Q597.584 1461.2 595.755 1457.66 Q593.95 1454.1 590.315 1454.1 M590.315 1450.39 Q596.125 1450.39 599.181 1455 Q602.26 1459.58 602.26 1468.33 Q602.26 1477.06 599.181 1481.67 Q596.125 1486.25 590.315 1486.25 Q584.505 1486.25 581.426 1481.67 Q578.371 1477.06 578.371 1468.33 Q578.371 1459.58 581.426 1455 Q584.505 1450.39 590.315 1450.39 Z\" fill=\"#000000\" fill-rule=\"evenodd\" fill-opacity=\"1\" /><path clip-path=\"url(#clip710)\" d=\"M966.11 1455.09 L954.304 1473.54 L966.11 1473.54 L966.11 1455.09 M964.883 1451.02 L970.763 1451.02 L970.763 1473.54 L975.693 1473.54 L975.693 1477.43 L970.763 1477.43 L970.763 1485.58 L966.11 1485.58 L966.11 1477.43 L950.508 1477.43 L950.508 1472.92 L964.883 1451.02 Z\" fill=\"#000000\" fill-rule=\"evenodd\" fill-opacity=\"1\" /><path clip-path=\"url(#clip710)\" d=\"M993.425 1454.1 Q989.814 1454.1 987.985 1457.66 Q986.179 1461.2 986.179 1468.33 Q986.179 1475.44 987.985 1479.01 Q989.814 1482.55 993.425 1482.55 Q997.059 1482.55 998.864 1479.01 Q1000.69 1475.44 1000.69 1468.33 Q1000.69 1461.2 998.864 1457.66 Q997.059 1454.1 993.425 1454.1 M993.425 1450.39 Q999.235 1450.39 1002.29 1455 Q1005.37 1459.58 1005.37 1468.33 Q1005.37 1477.06 1002.29 1481.67 Q999.235 1486.25 993.425 1486.25 Q987.615 1486.25 984.536 1481.67 Q981.48 1477.06 981.48 1468.33 Q981.48 1459.58 984.536 1455 Q987.615 1450.39 993.425 1450.39 Z\" fill=\"#000000\" fill-rule=\"evenodd\" fill-opacity=\"1\" /><path clip-path=\"url(#clip710)\" d=\"M1023.59 1454.1 Q1019.98 1454.1 1018.15 1457.66 Q1016.34 1461.2 1016.34 1468.33 Q1016.34 1475.44 1018.15 1479.01 Q1019.98 1482.55 1023.59 1482.55 Q1027.22 1482.55 1029.03 1479.01 Q1030.86 1475.44 1030.86 1468.33 Q1030.86 1461.2 1029.03 1457.66 Q1027.22 1454.1 1023.59 1454.1 M1023.59 1450.39 Q1029.4 1450.39 1032.45 1455 Q1035.53 1459.58 1035.53 1468.33 Q1035.53 1477.06 1032.45 1481.67 Q1029.4 1486.25 1023.59 1486.25 Q1017.78 1486.25 1014.7 1481.67 Q1011.64 1477.06 1011.64 1468.33 Q1011.64 1459.58 1014.7 1455 Q1017.78 1450.39 1023.59 1450.39 Z\" fill=\"#000000\" fill-rule=\"evenodd\" fill-opacity=\"1\" /><path clip-path=\"url(#clip710)\" d=\"M1396.04 1466.44 Q1392.89 1466.44 1391.04 1468.59 Q1389.21 1470.74 1389.21 1474.49 Q1389.21 1478.22 1391.04 1480.39 Q1392.89 1482.55 1396.04 1482.55 Q1399.18 1482.55 1401.01 1480.39 Q1402.87 1478.22 1402.87 1474.49 Q1402.87 1470.74 1401.01 1468.59 Q1399.18 1466.44 1396.04 1466.44 M1405.32 1451.78 L1405.32 1456.04 Q1403.56 1455.21 1401.75 1454.77 Q1399.97 1454.33 1398.21 1454.33 Q1393.58 1454.33 1391.13 1457.45 Q1388.7 1460.58 1388.35 1466.9 Q1389.72 1464.89 1391.78 1463.82 Q1393.84 1462.73 1396.31 1462.73 Q1401.52 1462.73 1404.53 1465.9 Q1407.56 1469.05 1407.56 1474.49 Q1407.56 1479.82 1404.42 1483.03 Q1401.27 1486.25 1396.04 1486.25 Q1390.04 1486.25 1386.87 1481.67 Q1383.7 1477.06 1383.7 1468.33 Q1383.7 1460.14 1387.59 1455.28 Q1391.48 1450.39 1398.03 1450.39 Q1399.79 1450.39 1401.57 1450.74 Q1403.37 1451.09 1405.32 1451.78 Z\" fill=\"#000000\" fill-rule=\"evenodd\" fill-opacity=\"1\" /><path clip-path=\"url(#clip710)\" d=\"M1425.62 1454.1 Q1422.01 1454.1 1420.18 1457.66 Q1418.37 1461.2 1418.37 1468.33 Q1418.37 1475.44 1420.18 1479.01 Q1422.01 1482.55 1425.62 1482.55 Q1429.25 1482.55 1431.06 1479.01 Q1432.89 1475.44 1432.89 1468.33 Q1432.89 1461.2 1431.06 1457.66 Q1429.25 1454.1 1425.62 1454.1 M1425.62 1450.39 Q1431.43 1450.39 1434.49 1455 Q1437.56 1459.58 1437.56 1468.33 Q1437.56 1477.06 1434.49 1481.67 Q1431.43 1486.25 1425.62 1486.25 Q1419.81 1486.25 1416.73 1481.67 Q1413.68 1477.06 1413.68 1468.33 Q1413.68 1459.58 1416.73 1455 Q1419.81 1450.39 1425.62 1450.39 Z\" fill=\"#000000\" fill-rule=\"evenodd\" fill-opacity=\"1\" /><path clip-path=\"url(#clip710)\" d=\"M1455.78 1454.1 Q1452.17 1454.1 1450.34 1457.66 Q1448.54 1461.2 1448.54 1468.33 Q1448.54 1475.44 1450.34 1479.01 Q1452.17 1482.55 1455.78 1482.55 Q1459.42 1482.55 1461.22 1479.01 Q1463.05 1475.44 1463.05 1468.33 Q1463.05 1461.2 1461.22 1457.66 Q1459.42 1454.1 1455.78 1454.1 M1455.78 1450.39 Q1461.59 1450.39 1464.65 1455 Q1467.73 1459.58 1467.73 1468.33 Q1467.73 1477.06 1464.65 1481.67 Q1461.59 1486.25 1455.78 1486.25 Q1449.97 1486.25 1446.89 1481.67 Q1443.84 1477.06 1443.84 1468.33 Q1443.84 1459.58 1446.89 1455 Q1449.97 1450.39 1455.78 1450.39 Z\" fill=\"#000000\" fill-rule=\"evenodd\" fill-opacity=\"1\" /><path clip-path=\"url(#clip710)\" d=\"M1828.2 1469.17 Q1824.86 1469.17 1822.94 1470.95 Q1821.04 1472.73 1821.04 1475.86 Q1821.04 1478.98 1822.94 1480.77 Q1824.86 1482.55 1828.2 1482.55 Q1831.53 1482.55 1833.45 1480.77 Q1835.37 1478.96 1835.37 1475.86 Q1835.37 1472.73 1833.45 1470.95 Q1831.55 1469.17 1828.2 1469.17 M1823.52 1467.18 Q1820.51 1466.44 1818.82 1464.38 Q1817.15 1462.32 1817.15 1459.35 Q1817.15 1455.21 1820.09 1452.8 Q1823.06 1450.39 1828.2 1450.39 Q1833.36 1450.39 1836.3 1452.8 Q1839.24 1455.21 1839.24 1459.35 Q1839.24 1462.32 1837.55 1464.38 Q1835.88 1466.44 1832.9 1467.18 Q1836.28 1467.96 1838.15 1470.26 Q1840.05 1472.55 1840.05 1475.86 Q1840.05 1480.88 1836.97 1483.57 Q1833.91 1486.25 1828.2 1486.25 Q1822.48 1486.25 1819.4 1483.57 Q1816.34 1480.88 1816.34 1475.86 Q1816.34 1472.55 1818.24 1470.26 Q1820.14 1467.96 1823.52 1467.18 M1821.81 1459.79 Q1821.81 1462.48 1823.47 1463.98 Q1825.16 1465.49 1828.2 1465.49 Q1831.21 1465.49 1832.9 1463.98 Q1834.61 1462.48 1834.61 1459.79 Q1834.61 1457.11 1832.9 1455.6 Q1831.21 1454.1 1828.2 1454.1 Q1825.16 1454.1 1823.47 1455.6 Q1821.81 1457.11 1821.81 1459.79 Z\" fill=\"#000000\" fill-rule=\"evenodd\" fill-opacity=\"1\" /><path clip-path=\"url(#clip710)\" d=\"M1858.36 1454.1 Q1854.75 1454.1 1852.92 1457.66 Q1851.11 1461.2 1851.11 1468.33 Q1851.11 1475.44 1852.92 1479.01 Q1854.75 1482.55 1858.36 1482.55 Q1861.99 1482.55 1863.8 1479.01 Q1865.63 1475.44 1865.63 1468.33 Q1865.63 1461.2 1863.8 1457.66 Q1861.99 1454.1 1858.36 1454.1 M1858.36 1450.39 Q1864.17 1450.39 1867.22 1455 Q1870.3 1459.58 1870.3 1468.33 Q1870.3 1477.06 1867.22 1481.67 Q1864.17 1486.25 1858.36 1486.25 Q1852.55 1486.25 1849.47 1481.67 Q1846.41 1477.06 1846.41 1468.33 Q1846.41 1459.58 1849.47 1455 Q1852.55 1450.39 1858.36 1450.39 Z\" fill=\"#000000\" fill-rule=\"evenodd\" fill-opacity=\"1\" /><path clip-path=\"url(#clip710)\" d=\"M1888.52 1454.1 Q1884.91 1454.1 1883.08 1457.66 Q1881.27 1461.2 1881.27 1468.33 Q1881.27 1475.44 1883.08 1479.01 Q1884.91 1482.55 1888.52 1482.55 Q1892.15 1482.55 1893.96 1479.01 Q1895.79 1475.44 1895.79 1468.33 Q1895.79 1461.2 1893.96 1457.66 Q1892.15 1454.1 1888.52 1454.1 M1888.52 1450.39 Q1894.33 1450.39 1897.39 1455 Q1900.46 1459.58 1900.46 1468.33 Q1900.46 1477.06 1897.39 1481.67 Q1894.33 1486.25 1888.52 1486.25 Q1882.71 1486.25 1879.63 1481.67 Q1876.58 1477.06 1876.58 1468.33 Q1876.58 1459.58 1879.63 1455 Q1882.71 1450.39 1888.52 1450.39 Z\" fill=\"#000000\" fill-rule=\"evenodd\" fill-opacity=\"1\" /><path clip-path=\"url(#clip710)\" d=\"M2235.62 1481.64 L2243.26 1481.64 L2243.26 1455.28 L2234.95 1456.95 L2234.95 1452.69 L2243.22 1451.02 L2247.89 1451.02 L2247.89 1481.64 L2255.53 1481.64 L2255.53 1485.58 L2235.62 1485.58 L2235.62 1481.64 Z\" fill=\"#000000\" fill-rule=\"evenodd\" fill-opacity=\"1\" /><path clip-path=\"url(#clip710)\" d=\"M2274.97 1454.1 Q2271.36 1454.1 2269.53 1457.66 Q2267.73 1461.2 2267.73 1468.33 Q2267.73 1475.44 2269.53 1479.01 Q2271.36 1482.55 2274.97 1482.55 Q2278.61 1482.55 2280.41 1479.01 Q2282.24 1475.44 2282.24 1468.33 Q2282.24 1461.2 2280.41 1457.66 Q2278.61 1454.1 2274.97 1454.1 M2274.97 1450.39 Q2280.78 1450.39 2283.84 1455 Q2286.92 1459.58 2286.92 1468.33 Q2286.92 1477.06 2283.84 1481.67 Q2280.78 1486.25 2274.97 1486.25 Q2269.16 1486.25 2266.09 1481.67 Q2263.03 1477.06 2263.03 1468.33 Q2263.03 1459.58 2266.09 1455 Q2269.16 1450.39 2274.97 1450.39 Z\" fill=\"#000000\" fill-rule=\"evenodd\" fill-opacity=\"1\" /><path clip-path=\"url(#clip710)\" d=\"M2305.14 1454.1 Q2301.53 1454.1 2299.7 1457.66 Q2297.89 1461.2 2297.89 1468.33 Q2297.89 1475.44 2299.7 1479.01 Q2301.53 1482.55 2305.14 1482.55 Q2308.77 1482.55 2310.58 1479.01 Q2312.4 1475.44 2312.4 1468.33 Q2312.4 1461.2 2310.58 1457.66 Q2308.77 1454.1 2305.14 1454.1 M2305.14 1450.39 Q2310.95 1450.39 2314 1455 Q2317.08 1459.58 2317.08 1468.33 Q2317.08 1477.06 2314 1481.67 Q2310.95 1486.25 2305.14 1486.25 Q2299.33 1486.25 2296.25 1481.67 Q2293.19 1477.06 2293.19 1468.33 Q2293.19 1459.58 2296.25 1455 Q2299.33 1450.39 2305.14 1450.39 Z\" fill=\"#000000\" fill-rule=\"evenodd\" fill-opacity=\"1\" /><path clip-path=\"url(#clip710)\" d=\"M2335.3 1454.1 Q2331.69 1454.1 2329.86 1457.66 Q2328.05 1461.2 2328.05 1468.33 Q2328.05 1475.44 2329.86 1479.01 Q2331.69 1482.55 2335.3 1482.55 Q2338.93 1482.55 2340.74 1479.01 Q2342.57 1475.44 2342.57 1468.33 Q2342.57 1461.2 2340.74 1457.66 Q2338.93 1454.1 2335.3 1454.1 M2335.3 1450.39 Q2341.11 1450.39 2344.16 1455 Q2347.24 1459.58 2347.24 1468.33 Q2347.24 1477.06 2344.16 1481.67 Q2341.11 1486.25 2335.3 1486.25 Q2329.49 1486.25 2326.41 1481.67 Q2323.35 1477.06 2323.35 1468.33 Q2323.35 1459.58 2326.41 1455 Q2329.49 1450.39 2335.3 1450.39 Z\" fill=\"#000000\" fill-rule=\"evenodd\" fill-opacity=\"1\" /><path clip-path=\"url(#clip710)\" d=\"M1108.99 1518.52 L1114.84 1518.52 L1114.84 1568.04 L1108.99 1568.04 L1108.99 1518.52 Z\" fill=\"#000000\" fill-rule=\"evenodd\" fill-opacity=\"1\" /><path clip-path=\"url(#clip710)\" d=\"M1157.59 1548.76 L1157.59 1551.62 L1130.66 1551.62 Q1131.05 1557.67 1134.29 1560.85 Q1137.57 1564 1143.4 1564 Q1146.77 1564 1149.92 1563.17 Q1153.1 1562.35 1156.22 1560.69 L1156.22 1566.23 Q1153.07 1567.57 1149.76 1568.27 Q1146.45 1568.97 1143.05 1568.97 Q1134.52 1568.97 1129.52 1564 Q1124.55 1559.04 1124.55 1550.57 Q1124.55 1541.82 1129.26 1536.69 Q1134.01 1531.54 1142.03 1531.54 Q1149.22 1531.54 1153.39 1536.18 Q1157.59 1540.8 1157.59 1548.76 M1151.73 1547.04 Q1151.67 1542.23 1149.03 1539.37 Q1146.42 1536.5 1142.09 1536.5 Q1137.19 1536.5 1134.23 1539.27 Q1131.3 1542.04 1130.85 1547.07 L1151.73 1547.04 Z\" fill=\"#000000\" fill-rule=\"evenodd\" fill-opacity=\"1\" /><path clip-path=\"url(#clip710)\" d=\"M1196.84 1546.53 L1196.84 1568.04 L1190.98 1568.04 L1190.98 1546.72 Q1190.98 1541.66 1189.01 1539.14 Q1187.03 1536.63 1183.09 1536.63 Q1178.34 1536.63 1175.61 1539.65 Q1172.87 1542.68 1172.87 1547.9 L1172.87 1568.04 L1166.98 1568.04 L1166.98 1532.4 L1172.87 1532.4 L1172.87 1537.93 Q1174.97 1534.72 1177.8 1533.13 Q1180.67 1531.54 1184.39 1531.54 Q1190.53 1531.54 1193.68 1535.36 Q1196.84 1539.14 1196.84 1546.53 Z\" fill=\"#000000\" fill-rule=\"evenodd\" fill-opacity=\"1\" /><path clip-path=\"url(#clip710)\" d=\"M1231.97 1549.81 Q1231.97 1543.44 1229.33 1539.94 Q1226.72 1536.44 1221.98 1536.44 Q1217.27 1536.44 1214.63 1539.94 Q1212.02 1543.44 1212.02 1549.81 Q1212.02 1556.14 1214.63 1559.64 Q1217.27 1563.14 1221.98 1563.14 Q1226.72 1563.14 1229.33 1559.64 Q1231.97 1556.14 1231.97 1549.81 M1237.83 1563.62 Q1237.83 1572.72 1233.79 1577.15 Q1229.75 1581.6 1221.41 1581.6 Q1218.32 1581.6 1215.58 1581.13 Q1212.85 1580.68 1210.27 1579.72 L1210.27 1574.03 Q1212.85 1575.43 1215.36 1576.1 Q1217.87 1576.76 1220.48 1576.76 Q1226.24 1576.76 1229.11 1573.74 Q1231.97 1570.75 1231.97 1564.67 L1231.97 1561.77 Q1230.16 1564.92 1227.33 1566.48 Q1224.49 1568.04 1220.55 1568.04 Q1213.99 1568.04 1209.98 1563.05 Q1205.97 1558.05 1205.97 1549.81 Q1205.97 1541.53 1209.98 1536.53 Q1213.99 1531.54 1220.55 1531.54 Q1224.49 1531.54 1227.33 1533.1 Q1230.16 1534.66 1231.97 1537.81 L1231.97 1532.4 L1237.83 1532.4 L1237.83 1563.62 Z\" fill=\"#000000\" fill-rule=\"evenodd\" fill-opacity=\"1\" /><path clip-path=\"url(#clip710)\" d=\"M1255.69 1522.27 L1255.69 1532.4 L1267.75 1532.4 L1267.75 1536.95 L1255.69 1536.95 L1255.69 1556.3 Q1255.69 1560.66 1256.86 1561.9 Q1258.07 1563.14 1261.73 1563.14 L1267.75 1563.14 L1267.75 1568.04 L1261.73 1568.04 Q1254.95 1568.04 1252.38 1565.53 Q1249.8 1562.98 1249.8 1556.3 L1249.8 1536.95 L1245.5 1536.95 L1245.5 1532.4 L1249.8 1532.4 L1249.8 1522.27 L1255.69 1522.27 Z\" fill=\"#000000\" fill-rule=\"evenodd\" fill-opacity=\"1\" /><path clip-path=\"url(#clip710)\" d=\"M1305.08 1546.53 L1305.08 1568.04 L1299.23 1568.04 L1299.23 1546.72 Q1299.23 1541.66 1297.25 1539.14 Q1295.28 1536.63 1291.33 1536.63 Q1286.59 1536.63 1283.85 1539.65 Q1281.12 1542.68 1281.12 1547.9 L1281.12 1568.04 L1275.23 1568.04 L1275.23 1518.52 L1281.12 1518.52 L1281.12 1537.93 Q1283.22 1534.72 1286.05 1533.13 Q1288.92 1531.54 1292.64 1531.54 Q1298.78 1531.54 1301.93 1535.36 Q1305.08 1539.14 1305.08 1546.53 Z\" fill=\"#000000\" fill-rule=\"evenodd\" fill-opacity=\"1\" /><path clip-path=\"url(#clip710)\" d=\"M1336.94 1518.52 L1350.44 1518.52 L1350.44 1523.07 L1342.8 1523.07 L1342.8 1572.09 L1350.44 1572.09 L1350.44 1576.64 L1336.94 1576.64 L1336.94 1518.52 Z\" fill=\"#000000\" fill-rule=\"evenodd\" fill-opacity=\"1\" /><path clip-path=\"url(#clip710)\" d=\"M1392.55 1546.53 L1392.55 1568.04 L1386.69 1568.04 L1386.69 1546.72 Q1386.69 1541.66 1384.72 1539.14 Q1382.75 1536.63 1378.8 1536.63 Q1374.06 1536.63 1371.32 1539.65 Q1368.58 1542.68 1368.58 1547.9 L1368.58 1568.04 L1362.69 1568.04 L1362.69 1532.4 L1368.58 1532.4 L1368.58 1537.93 Q1370.68 1534.72 1373.52 1533.13 Q1376.38 1531.54 1380.1 1531.54 Q1386.25 1531.54 1389.4 1535.36 Q1392.55 1539.14 1392.55 1546.53 Z\" fill=\"#000000\" fill-rule=\"evenodd\" fill-opacity=\"1\" /><path clip-path=\"url(#clip710)\" d=\"M1417.92 1518.52 L1417.92 1576.64 L1404.42 1576.64 L1404.42 1572.09 L1412.03 1572.09 L1412.03 1523.07 L1404.42 1523.07 L1404.42 1518.52 L1417.92 1518.52 Z\" fill=\"#000000\" fill-rule=\"evenodd\" fill-opacity=\"1\" /><polyline clip-path=\"url(#clip712)\" style=\"stroke:#000000; stroke-linecap:round; stroke-linejoin:round; stroke-width:2; stroke-opacity:0.1; fill:none\" points=\"174.149,1384.86 2352.76,1384.86 \"/>\n",
       "<polyline clip-path=\"url(#clip712)\" style=\"stroke:#000000; stroke-linecap:round; stroke-linejoin:round; stroke-width:2; stroke-opacity:0.1; fill:none\" points=\"174.149,1035.02 2352.76,1035.02 \"/>\n",
       "<polyline clip-path=\"url(#clip712)\" style=\"stroke:#000000; stroke-linecap:round; stroke-linejoin:round; stroke-width:2; stroke-opacity:0.1; fill:none\" points=\"174.149,685.186 2352.76,685.186 \"/>\n",
       "<polyline clip-path=\"url(#clip712)\" style=\"stroke:#000000; stroke-linecap:round; stroke-linejoin:round; stroke-width:2; stroke-opacity:0.1; fill:none\" points=\"174.149,335.351 2352.76,335.351 \"/>\n",
       "<polyline clip-path=\"url(#clip710)\" style=\"stroke:#000000; stroke-linecap:round; stroke-linejoin:round; stroke-width:4; stroke-opacity:1; fill:none\" points=\"174.149,1423.18 174.149,123.472 \"/>\n",
       "<polyline clip-path=\"url(#clip710)\" style=\"stroke:#000000; stroke-linecap:round; stroke-linejoin:round; stroke-width:4; stroke-opacity:1; fill:none\" points=\"174.149,1384.86 193.047,1384.86 \"/>\n",
       "<polyline clip-path=\"url(#clip710)\" style=\"stroke:#000000; stroke-linecap:round; stroke-linejoin:round; stroke-width:4; stroke-opacity:1; fill:none\" points=\"174.149,1035.02 193.047,1035.02 \"/>\n",
       "<polyline clip-path=\"url(#clip710)\" style=\"stroke:#000000; stroke-linecap:round; stroke-linejoin:round; stroke-width:4; stroke-opacity:1; fill:none\" points=\"174.149,685.186 193.047,685.186 \"/>\n",
       "<polyline clip-path=\"url(#clip710)\" style=\"stroke:#000000; stroke-linecap:round; stroke-linejoin:round; stroke-width:4; stroke-opacity:1; fill:none\" points=\"174.149,335.351 193.047,335.351 \"/>\n",
       "<path clip-path=\"url(#clip710)\" d=\"M126.205 1370.66 Q122.593 1370.66 120.765 1374.22 Q118.959 1377.76 118.959 1384.89 Q118.959 1392 120.765 1395.56 Q122.593 1399.1 126.205 1399.1 Q129.839 1399.1 131.644 1395.56 Q133.473 1392 133.473 1384.89 Q133.473 1377.76 131.644 1374.22 Q129.839 1370.66 126.205 1370.66 M126.205 1366.95 Q132.015 1366.95 135.07 1371.56 Q138.149 1376.14 138.149 1384.89 Q138.149 1393.62 135.07 1398.22 Q132.015 1402.81 126.205 1402.81 Q120.394 1402.81 117.316 1398.22 Q114.26 1393.62 114.26 1384.89 Q114.26 1376.14 117.316 1371.56 Q120.394 1366.95 126.205 1366.95 Z\" fill=\"#000000\" fill-rule=\"evenodd\" fill-opacity=\"1\" /><path clip-path=\"url(#clip710)\" d=\"M118.242 1048.37 L125.88 1048.37 L125.88 1022 L117.57 1023.67 L117.57 1019.41 L125.834 1017.74 L130.51 1017.74 L130.51 1048.37 L138.149 1048.37 L138.149 1052.3 L118.242 1052.3 L118.242 1048.37 Z\" fill=\"#000000\" fill-rule=\"evenodd\" fill-opacity=\"1\" /><path clip-path=\"url(#clip710)\" d=\"M121.83 698.531 L138.149 698.531 L138.149 702.466 L116.205 702.466 L116.205 698.531 Q118.867 695.776 123.45 691.147 Q128.056 686.494 129.237 685.151 Q131.482 682.628 132.362 680.892 Q133.265 679.133 133.265 677.443 Q133.265 674.689 131.32 672.952 Q129.399 671.216 126.297 671.216 Q124.098 671.216 121.644 671.98 Q119.214 672.744 116.436 674.295 L116.436 669.573 Q119.26 668.439 121.714 667.86 Q124.168 667.281 126.205 667.281 Q131.575 667.281 134.769 669.966 Q137.964 672.651 137.964 677.142 Q137.964 679.272 137.154 681.193 Q136.367 683.091 134.26 685.684 Q133.681 686.355 130.58 689.573 Q127.478 692.767 121.83 698.531 Z\" fill=\"#000000\" fill-rule=\"evenodd\" fill-opacity=\"1\" /><path clip-path=\"url(#clip710)\" d=\"M131.019 333.997 Q134.376 334.714 136.251 336.983 Q138.149 339.251 138.149 342.585 Q138.149 347.7 134.63 350.501 Q131.112 353.302 124.63 353.302 Q122.455 353.302 120.14 352.862 Q117.848 352.446 115.394 351.589 L115.394 347.075 Q117.339 348.21 119.654 348.788 Q121.968 349.367 124.492 349.367 Q128.89 349.367 131.181 347.631 Q133.496 345.895 133.496 342.585 Q133.496 339.529 131.343 337.816 Q129.214 336.08 125.394 336.08 L121.367 336.08 L121.367 332.237 L125.58 332.237 Q129.029 332.237 130.857 330.872 Q132.686 329.483 132.686 326.89 Q132.686 324.228 130.788 322.816 Q128.913 321.381 125.394 321.381 Q123.473 321.381 121.274 321.798 Q119.075 322.214 116.436 323.094 L116.436 318.927 Q119.098 318.187 121.413 317.816 Q123.751 317.446 125.811 317.446 Q131.135 317.446 134.237 319.876 Q137.339 322.284 137.339 326.404 Q137.339 329.275 135.695 331.265 Q134.052 333.233 131.019 333.997 Z\" fill=\"#000000\" fill-rule=\"evenodd\" fill-opacity=\"1\" /><path clip-path=\"url(#clip710)\" d=\"M18.2347 885.872 L28.3562 885.872 L28.3562 873.809 L32.9077 873.809 L32.9077 885.872 L52.2594 885.872 Q56.6199 885.872 57.8613 884.694 Q59.1026 883.485 59.1026 879.824 L59.1026 873.809 L64.0042 873.809 L64.0042 879.824 Q64.0042 886.604 61.4897 889.182 Q58.9434 891.76 52.2594 891.76 L32.9077 891.76 L32.9077 896.057 L28.3562 896.057 L28.3562 891.76 L18.2347 891.76 L18.2347 885.872 Z\" fill=\"#000000\" fill-rule=\"evenodd\" fill-opacity=\"1\" /><path clip-path=\"url(#clip710)\" d=\"M28.3562 866.106 L28.3562 860.25 L64.0042 860.25 L64.0042 866.106 L28.3562 866.106 M14.479 866.106 L14.479 860.25 L21.895 860.25 L21.895 866.106 L14.479 866.106 Z\" fill=\"#000000\" fill-rule=\"evenodd\" fill-opacity=\"1\" /><path clip-path=\"url(#clip710)\" d=\"M35.1993 820.241 Q31.2526 818.045 29.3747 814.99 Q27.4968 811.934 27.4968 807.796 Q27.4968 802.226 31.4117 799.203 Q35.2948 796.179 42.4881 796.179 L64.0042 796.179 L64.0042 802.067 L42.679 802.067 Q37.5546 802.067 35.072 803.881 Q32.5894 805.696 32.5894 809.42 Q32.5894 813.971 35.6131 816.613 Q38.6368 819.255 43.8567 819.255 L64.0042 819.255 L64.0042 825.143 L42.679 825.143 Q37.5228 825.143 35.072 826.957 Q32.5894 828.771 32.5894 832.559 Q32.5894 837.047 35.6449 839.688 Q38.6686 842.33 43.8567 842.33 L64.0042 842.33 L64.0042 848.219 L28.3562 848.219 L28.3562 842.33 L33.8944 842.33 Q30.616 840.325 29.0564 837.524 Q27.4968 834.723 27.4968 830.872 Q27.4968 826.989 29.4702 824.283 Q31.4436 821.546 35.1993 820.241 Z\" fill=\"#000000\" fill-rule=\"evenodd\" fill-opacity=\"1\" /><path clip-path=\"url(#clip710)\" d=\"M44.7161 754.006 L47.5806 754.006 L47.5806 780.933 Q53.6281 780.551 56.8109 777.305 Q59.9619 774.026 59.9619 768.202 Q59.9619 764.828 59.1344 761.677 Q58.3069 758.494 56.6518 755.375 L62.1899 755.375 Q63.5267 758.526 64.227 761.836 Q64.9272 765.146 64.9272 768.552 Q64.9272 777.082 59.9619 782.079 Q54.9967 787.044 46.5303 787.044 Q37.7774 787.044 32.6531 782.333 Q27.4968 777.591 27.4968 769.57 Q27.4968 762.377 32.1438 758.207 Q36.7589 754.006 44.7161 754.006 M42.9973 759.863 Q38.1912 759.926 35.3266 762.568 Q32.4621 765.178 32.4621 769.507 Q32.4621 774.408 35.2312 777.368 Q38.0002 780.296 43.0292 780.742 L42.9973 759.863 Z\" fill=\"#000000\" fill-rule=\"evenodd\" fill-opacity=\"1\" /><path clip-path=\"url(#clip710)\" d=\"M14.479 724.215 L14.479 710.719 L19.0304 710.719 L19.0304 718.358 L68.0464 718.358 L68.0464 710.719 L72.5979 710.719 L72.5979 724.215 L14.479 724.215 Z\" fill=\"#000000\" fill-rule=\"evenodd\" fill-opacity=\"1\" /><path clip-path=\"url(#clip710)\" d=\"M29.4065 675.517 L34.9447 675.517 Q33.6716 678 33.035 680.673 Q32.3984 683.347 32.3984 686.211 Q32.3984 690.572 33.7352 692.768 Q35.072 694.932 37.7456 694.932 Q39.7826 694.932 40.9603 693.373 Q42.1061 691.813 43.1565 687.102 L43.6021 685.097 Q44.9389 678.859 47.3897 676.249 Q49.8086 673.607 54.1691 673.607 Q59.1344 673.607 62.0308 677.554 Q64.9272 681.469 64.9272 688.344 Q64.9272 691.208 64.3543 694.328 Q63.8132 697.415 62.6992 700.852 L56.6518 700.852 Q58.3387 697.606 59.198 694.455 Q60.0256 691.304 60.0256 688.216 Q60.0256 684.079 58.6251 681.851 Q57.1929 679.623 54.6147 679.623 Q52.2276 679.623 50.9545 681.246 Q49.6813 682.837 48.5037 688.28 L48.0262 690.317 Q46.8804 695.76 44.5251 698.179 Q42.138 700.598 38.0002 700.598 Q32.9713 700.598 30.2341 697.033 Q27.4968 693.468 27.4968 686.912 Q27.4968 683.665 27.9743 680.8 Q28.4517 677.936 29.4065 675.517 Z\" fill=\"#000000\" fill-rule=\"evenodd\" fill-opacity=\"1\" /><path clip-path=\"url(#clip710)\" d=\"M14.479 650.595 L72.5979 650.595 L72.5979 664.09 L68.0464 664.09 L68.0464 656.483 L19.0304 656.483 L19.0304 664.09 L14.479 664.09 L14.479 650.595 Z\" fill=\"#000000\" fill-rule=\"evenodd\" fill-opacity=\"1\" /><path clip-path=\"url(#clip710)\" d=\"M671.129 12.096 L722.292 12.096 L722.292 18.9825 L700.822 18.9825 L700.822 72.576 L692.599 72.576 L692.599 18.9825 L671.129 18.9825 L671.129 12.096 Z\" fill=\"#000000\" fill-rule=\"evenodd\" fill-opacity=\"1\" /><path clip-path=\"url(#clip710)\" d=\"M727.315 27.2059 L734.769 27.2059 L734.769 72.576 L727.315 72.576 L727.315 27.2059 M727.315 9.54393 L734.769 9.54393 L734.769 18.9825 L727.315 18.9825 L727.315 9.54393 Z\" fill=\"#000000\" fill-rule=\"evenodd\" fill-opacity=\"1\" /><path clip-path=\"url(#clip710)\" d=\"M785.689 35.9153 Q788.484 30.8922 792.373 28.5022 Q796.262 26.1121 801.528 26.1121 Q808.617 26.1121 812.465 31.0947 Q816.314 36.0368 816.314 45.1919 L816.314 72.576 L808.819 72.576 L808.819 45.4349 Q808.819 38.913 806.51 35.7533 Q804.201 32.5936 799.462 32.5936 Q793.669 32.5936 790.307 36.4419 Q786.945 40.2903 786.945 46.9338 L786.945 72.576 L779.45 72.576 L779.45 45.4349 Q779.45 38.8725 777.141 35.7533 Q774.832 32.5936 770.012 32.5936 Q764.3 32.5936 760.938 36.4824 Q757.575 40.3308 757.575 46.9338 L757.575 72.576 L750.081 72.576 L750.081 27.2059 L757.575 27.2059 L757.575 34.2544 Q760.128 30.082 763.692 28.0971 Q767.257 26.1121 772.159 26.1121 Q777.101 26.1121 780.544 28.6237 Q784.028 31.1352 785.689 35.9153 Z\" fill=\"#000000\" fill-rule=\"evenodd\" fill-opacity=\"1\" /><path clip-path=\"url(#clip710)\" d=\"M869.988 48.0275 L869.988 51.6733 L835.717 51.6733 Q836.204 59.3701 840.335 63.421 Q844.508 67.4314 851.921 67.4314 Q856.215 67.4314 860.225 66.3781 Q864.276 65.3249 868.246 63.2184 L868.246 70.267 Q864.236 71.9684 860.023 72.8596 Q855.81 73.7508 851.475 73.7508 Q840.619 73.7508 834.259 67.4314 Q827.94 61.1119 827.94 50.3365 Q827.94 39.1965 833.935 32.6746 Q839.971 26.1121 850.179 26.1121 Q859.334 26.1121 864.641 32.0264 Q869.988 37.9003 869.988 48.0275 M862.534 45.84 Q862.453 39.7232 859.091 36.0774 Q855.769 32.4315 850.26 32.4315 Q844.022 32.4315 840.254 35.9558 Q836.528 39.4801 835.96 45.8805 L862.534 45.84 Z\" fill=\"#000000\" fill-rule=\"evenodd\" fill-opacity=\"1\" /><path clip-path=\"url(#clip710)\" d=\"M926.174 32.4315 Q920.179 32.4315 916.695 37.1306 Q913.211 41.7891 913.211 49.9314 Q913.211 58.0738 916.655 62.7728 Q920.138 67.4314 926.174 67.4314 Q932.129 67.4314 935.613 62.7323 Q939.097 58.0333 939.097 49.9314 Q939.097 41.8701 935.613 37.1711 Q932.129 32.4315 926.174 32.4315 M926.174 26.1121 Q935.896 26.1121 941.446 32.4315 Q946.996 38.7509 946.996 49.9314 Q946.996 61.0714 941.446 67.4314 Q935.896 73.7508 926.174 73.7508 Q916.411 73.7508 910.862 67.4314 Q905.352 61.0714 905.352 49.9314 Q905.352 38.7509 910.862 32.4315 Q916.411 26.1121 926.174 26.1121 Z\" fill=\"#000000\" fill-rule=\"evenodd\" fill-opacity=\"1\" /><path clip-path=\"url(#clip710)\" d=\"M982.32 9.54393 L982.32 15.7418 L975.19 15.7418 Q971.18 15.7418 969.6 17.3622 Q968.06 18.9825 968.06 23.1955 L968.06 27.2059 L980.335 27.2059 L980.335 32.9987 L968.06 32.9987 L968.06 72.576 L960.566 72.576 L960.566 32.9987 L953.437 32.9987 L953.437 27.2059 L960.566 27.2059 L960.566 24.0462 Q960.566 16.471 964.091 13.0277 Q967.615 9.54393 975.271 9.54393 L982.32 9.54393 Z\" fill=\"#000000\" fill-rule=\"evenodd\" fill-opacity=\"1\" /><path clip-path=\"url(#clip710)\" d=\"M1050.25 35.9153 Q1053.05 30.8922 1056.94 28.5022 Q1060.83 26.1121 1066.09 26.1121 Q1073.18 26.1121 1077.03 31.0947 Q1080.88 36.0368 1080.88 45.1919 L1080.88 72.576 L1073.38 72.576 L1073.38 45.4349 Q1073.38 38.913 1071.07 35.7533 Q1068.77 32.5936 1064.03 32.5936 Q1058.23 32.5936 1054.87 36.4419 Q1051.51 40.2903 1051.51 46.9338 L1051.51 72.576 L1044.01 72.576 L1044.01 45.4349 Q1044.01 38.8725 1041.71 35.7533 Q1039.4 32.5936 1034.58 32.5936 Q1028.86 32.5936 1025.5 36.4824 Q1022.14 40.3308 1022.14 46.9338 L1022.14 72.576 L1014.65 72.576 L1014.65 27.2059 L1022.14 27.2059 L1022.14 34.2544 Q1024.69 30.082 1028.26 28.0971 Q1031.82 26.1121 1036.72 26.1121 Q1041.67 26.1121 1045.11 28.6237 Q1048.59 31.1352 1050.25 35.9153 Z\" fill=\"#000000\" fill-rule=\"evenodd\" fill-opacity=\"1\" /><path clip-path=\"url(#clip710)\" d=\"M1094.98 54.671 L1094.98 27.2059 L1102.43 27.2059 L1102.43 54.3874 Q1102.43 60.8284 1104.94 64.0691 Q1107.45 67.2693 1112.48 67.2693 Q1118.51 67.2693 1121.99 63.421 Q1125.52 59.5726 1125.52 52.9291 L1125.52 27.2059 L1132.97 27.2059 L1132.97 72.576 L1125.52 72.576 L1125.52 65.6084 Q1122.81 69.7404 1119.2 71.7658 Q1115.63 73.7508 1110.9 73.7508 Q1103.08 73.7508 1099.03 68.8897 Q1094.98 64.0286 1094.98 54.671 M1113.73 26.1121 L1113.73 26.1121 Z\" fill=\"#000000\" fill-rule=\"evenodd\" fill-opacity=\"1\" /><path clip-path=\"url(#clip710)\" d=\"M1148.33 9.54393 L1155.78 9.54393 L1155.78 72.576 L1148.33 72.576 L1148.33 9.54393 Z\" fill=\"#000000\" fill-rule=\"evenodd\" fill-opacity=\"1\" /><path clip-path=\"url(#clip710)\" d=\"M1178.75 14.324 L1178.75 27.2059 L1194.1 27.2059 L1194.1 32.9987 L1178.75 32.9987 L1178.75 57.6282 Q1178.75 63.1779 1180.25 64.7578 Q1181.79 66.3376 1186.44 66.3376 L1194.1 66.3376 L1194.1 72.576 L1186.44 72.576 Q1177.82 72.576 1174.54 69.3758 Q1171.25 66.1351 1171.25 57.6282 L1171.25 32.9987 L1165.79 32.9987 L1165.79 27.2059 L1171.25 27.2059 L1171.25 14.324 L1178.75 14.324 Z\" fill=\"#000000\" fill-rule=\"evenodd\" fill-opacity=\"1\" /><path clip-path=\"url(#clip710)\" d=\"M1203.9 27.2059 L1211.36 27.2059 L1211.36 72.576 L1203.9 72.576 L1203.9 27.2059 M1203.9 9.54393 L1211.36 9.54393 L1211.36 18.9825 L1203.9 18.9825 L1203.9 9.54393 Z\" fill=\"#000000\" fill-rule=\"evenodd\" fill-opacity=\"1\" /><path clip-path=\"url(#clip710)\" d=\"M1234.16 65.7705 L1234.16 89.8329 L1226.67 89.8329 L1226.67 27.2059 L1234.16 27.2059 L1234.16 34.0924 Q1236.51 30.0415 1240.08 28.0971 Q1243.68 26.1121 1248.67 26.1121 Q1256.93 26.1121 1262.08 32.6746 Q1267.26 39.2371 1267.26 49.9314 Q1267.26 60.6258 1262.08 67.1883 Q1256.93 73.7508 1248.67 73.7508 Q1243.68 73.7508 1240.08 71.8063 Q1236.51 69.8214 1234.16 65.7705 M1259.52 49.9314 Q1259.52 41.7081 1256.12 37.0496 Q1252.76 32.3505 1246.84 32.3505 Q1240.93 32.3505 1237.53 37.0496 Q1234.16 41.7081 1234.16 49.9314 Q1234.16 58.1548 1237.53 62.8538 Q1240.93 67.5124 1246.84 67.5124 Q1252.76 67.5124 1256.12 62.8538 Q1259.52 58.1548 1259.52 49.9314 Z\" fill=\"#000000\" fill-rule=\"evenodd\" fill-opacity=\"1\" /><path clip-path=\"url(#clip710)\" d=\"M1279.62 9.54393 L1287.07 9.54393 L1287.07 72.576 L1279.62 72.576 L1279.62 9.54393 Z\" fill=\"#000000\" fill-rule=\"evenodd\" fill-opacity=\"1\" /><path clip-path=\"url(#clip710)\" d=\"M1321.54 76.7889 Q1318.38 84.8907 1315.39 87.3618 Q1312.39 89.8329 1307.36 89.8329 L1301.41 89.8329 L1301.41 83.5945 L1305.78 83.5945 Q1308.86 83.5945 1310.56 82.1361 Q1312.27 80.6778 1314.33 75.2496 L1315.67 71.8468 L1297.32 27.2059 L1305.22 27.2059 L1319.4 62.6918 L1333.57 27.2059 L1341.47 27.2059 L1321.54 76.7889 Z\" fill=\"#000000\" fill-rule=\"evenodd\" fill-opacity=\"1\" /><path clip-path=\"url(#clip710)\" d=\"M1351.76 27.2059 L1359.22 27.2059 L1359.22 72.576 L1351.76 72.576 L1351.76 27.2059 M1351.76 9.54393 L1359.22 9.54393 L1359.22 18.9825 L1351.76 18.9825 L1351.76 9.54393 Z\" fill=\"#000000\" fill-rule=\"evenodd\" fill-opacity=\"1\" /><path clip-path=\"url(#clip710)\" d=\"M1412.53 45.1919 L1412.53 72.576 L1405.07 72.576 L1405.07 45.4349 Q1405.07 38.994 1402.56 35.7938 Q1400.05 32.5936 1395.03 32.5936 Q1388.99 32.5936 1385.51 36.4419 Q1382.02 40.2903 1382.02 46.9338 L1382.02 72.576 L1374.53 72.576 L1374.53 27.2059 L1382.02 27.2059 L1382.02 34.2544 Q1384.7 30.163 1388.3 28.1376 Q1391.95 26.1121 1396.69 26.1121 Q1404.5 26.1121 1408.52 30.9732 Q1412.53 35.7938 1412.53 45.1919 Z\" fill=\"#000000\" fill-rule=\"evenodd\" fill-opacity=\"1\" /><path clip-path=\"url(#clip710)\" d=\"M1457.25 49.3643 Q1457.25 41.2625 1453.89 36.8065 Q1450.56 32.3505 1444.53 32.3505 Q1438.53 32.3505 1435.17 36.8065 Q1431.85 41.2625 1431.85 49.3643 Q1431.85 57.4256 1435.17 61.8816 Q1438.53 66.3376 1444.53 66.3376 Q1450.56 66.3376 1453.89 61.8816 Q1457.25 57.4256 1457.25 49.3643 M1464.7 66.9452 Q1464.7 78.5308 1459.56 84.1616 Q1454.41 89.8329 1443.8 89.8329 Q1439.87 89.8329 1436.39 89.2252 Q1432.9 88.6581 1429.62 87.4428 L1429.62 80.1917 Q1432.9 81.9741 1436.1 82.8248 Q1439.3 83.6755 1442.62 83.6755 Q1449.96 83.6755 1453.6 79.8271 Q1457.25 76.0193 1457.25 68.282 L1457.25 64.5957 Q1454.94 68.6061 1451.33 70.5911 Q1447.73 72.576 1442.7 72.576 Q1434.36 72.576 1429.26 66.2161 Q1424.15 59.8562 1424.15 49.3643 Q1424.15 38.832 1429.26 32.472 Q1434.36 26.1121 1442.7 26.1121 Q1447.73 26.1121 1451.33 28.0971 Q1454.94 30.082 1457.25 34.0924 L1457.25 27.2059 L1464.7 27.2059 L1464.7 66.9452 Z\" fill=\"#000000\" fill-rule=\"evenodd\" fill-opacity=\"1\" /><path clip-path=\"url(#clip710)\" d=\"M1541.75 35.9153 Q1544.54 30.8922 1548.43 28.5022 Q1552.32 26.1121 1557.59 26.1121 Q1564.68 26.1121 1568.53 31.0947 Q1572.37 36.0368 1572.37 45.1919 L1572.37 72.576 L1564.88 72.576 L1564.88 45.4349 Q1564.88 38.913 1562.57 35.7533 Q1560.26 32.5936 1555.52 32.5936 Q1549.73 32.5936 1546.37 36.4419 Q1543.01 40.2903 1543.01 46.9338 L1543.01 72.576 L1535.51 72.576 L1535.51 45.4349 Q1535.51 38.8725 1533.2 35.7533 Q1530.89 32.5936 1526.07 32.5936 Q1520.36 32.5936 1517 36.4824 Q1513.64 40.3308 1513.64 46.9338 L1513.64 72.576 L1506.14 72.576 L1506.14 27.2059 L1513.64 27.2059 L1513.64 34.2544 Q1516.19 30.082 1519.75 28.0971 Q1523.32 26.1121 1528.22 26.1121 Q1533.16 26.1121 1536.6 28.6237 Q1540.09 31.1352 1541.75 35.9153 Z\" fill=\"#000000\" fill-rule=\"evenodd\" fill-opacity=\"1\" /><path clip-path=\"url(#clip710)\" d=\"M1607.86 49.7694 Q1598.83 49.7694 1595.34 51.8354 Q1591.86 53.9013 1591.86 58.8839 Q1591.86 62.8538 1594.45 65.2034 Q1597.08 67.5124 1601.58 67.5124 Q1607.78 67.5124 1611.51 63.1374 Q1615.27 58.7219 1615.27 51.4303 L1615.27 49.7694 L1607.86 49.7694 M1622.73 46.6907 L1622.73 72.576 L1615.27 72.576 L1615.27 65.6895 Q1612.72 69.8214 1608.91 71.8063 Q1605.11 73.7508 1599.6 73.7508 Q1592.63 73.7508 1588.5 69.8619 Q1584.41 65.9325 1584.41 59.3701 Q1584.41 51.7138 1589.51 47.825 Q1594.65 43.9361 1604.82 43.9361 L1615.27 43.9361 L1615.27 43.2069 Q1615.27 38.0623 1611.87 35.2672 Q1608.51 32.4315 1602.39 32.4315 Q1598.5 32.4315 1594.82 33.3632 Q1591.13 34.295 1587.73 36.1584 L1587.73 29.2718 Q1591.82 27.692 1595.67 26.9223 Q1599.52 26.1121 1603.16 26.1121 Q1613 26.1121 1617.87 31.2163 Q1622.73 36.3204 1622.73 46.6907 Z\" fill=\"#000000\" fill-rule=\"evenodd\" fill-opacity=\"1\" /><path clip-path=\"url(#clip710)\" d=\"M1645.45 14.324 L1645.45 27.2059 L1660.81 27.2059 L1660.81 32.9987 L1645.45 32.9987 L1645.45 57.6282 Q1645.45 63.1779 1646.95 64.7578 Q1648.49 66.3376 1653.15 66.3376 L1660.81 66.3376 L1660.81 72.576 L1653.15 72.576 Q1644.52 72.576 1641.24 69.3758 Q1637.96 66.1351 1637.96 57.6282 L1637.96 32.9987 L1632.49 32.9987 L1632.49 27.2059 L1637.96 27.2059 L1637.96 14.324 L1645.45 14.324 Z\" fill=\"#000000\" fill-rule=\"evenodd\" fill-opacity=\"1\" /><path clip-path=\"url(#clip710)\" d=\"M1696.9 34.1734 Q1695.64 33.4443 1694.14 33.1202 Q1692.69 32.7556 1690.9 32.7556 Q1684.58 32.7556 1681.18 36.8875 Q1677.82 40.9789 1677.82 48.6757 L1677.82 72.576 L1670.33 72.576 L1670.33 27.2059 L1677.82 27.2059 L1677.82 34.2544 Q1680.17 30.1225 1683.94 28.1376 Q1687.7 26.1121 1693.09 26.1121 Q1693.86 26.1121 1694.79 26.2337 Q1695.72 26.3147 1696.86 26.5172 L1696.9 34.1734 Z\" fill=\"#000000\" fill-rule=\"evenodd\" fill-opacity=\"1\" /><path clip-path=\"url(#clip710)\" d=\"M1704.72 27.2059 L1712.17 27.2059 L1712.17 72.576 L1704.72 72.576 L1704.72 27.2059 M1704.72 9.54393 L1712.17 9.54393 L1712.17 18.9825 L1704.72 18.9825 L1704.72 9.54393 Z\" fill=\"#000000\" fill-rule=\"evenodd\" fill-opacity=\"1\" /><path clip-path=\"url(#clip710)\" d=\"M1760.42 28.9478 L1760.42 35.9153 Q1757.26 34.1734 1754.06 33.3227 Q1750.9 32.4315 1747.66 32.4315 Q1740.41 32.4315 1736.4 37.0496 Q1732.39 41.6271 1732.39 49.9314 Q1732.39 58.2358 1736.4 62.8538 Q1740.41 67.4314 1747.66 67.4314 Q1750.9 67.4314 1754.06 66.5807 Q1757.26 65.6895 1760.42 63.9476 L1760.42 70.8341 Q1757.3 72.2924 1753.94 73.0216 Q1750.61 73.7508 1746.85 73.7508 Q1736.6 73.7508 1730.56 67.3098 Q1724.53 60.8689 1724.53 49.9314 Q1724.53 38.832 1730.6 32.472 Q1736.72 26.1121 1747.33 26.1121 Q1750.78 26.1121 1754.06 26.8413 Q1757.34 27.5299 1760.42 28.9478 Z\" fill=\"#000000\" fill-rule=\"evenodd\" fill-opacity=\"1\" /><path clip-path=\"url(#clip710)\" d=\"M1812.19 48.0275 L1812.19 51.6733 L1777.92 51.6733 Q1778.4 59.3701 1782.54 63.421 Q1786.71 67.4314 1794.12 67.4314 Q1798.41 67.4314 1802.43 66.3781 Q1806.48 65.3249 1810.45 63.2184 L1810.45 70.267 Q1806.44 71.9684 1802.22 72.8596 Q1798.01 73.7508 1793.68 73.7508 Q1782.82 73.7508 1776.46 67.4314 Q1770.14 61.1119 1770.14 50.3365 Q1770.14 39.1965 1776.13 32.6746 Q1782.17 26.1121 1792.38 26.1121 Q1801.53 26.1121 1806.84 32.0264 Q1812.19 37.9003 1812.19 48.0275 M1804.73 45.84 Q1804.65 39.7232 1801.29 36.0774 Q1797.97 32.4315 1792.46 32.4315 Q1786.22 32.4315 1782.45 35.9558 Q1778.73 39.4801 1778.16 45.8805 L1804.73 45.84 Z\" fill=\"#000000\" fill-rule=\"evenodd\" fill-opacity=\"1\" /><path clip-path=\"url(#clip710)\" d=\"M1853.35 28.5427 L1853.35 35.5912 Q1850.19 33.9709 1846.78 33.1607 Q1843.38 32.3505 1839.73 32.3505 Q1834.18 32.3505 1831.39 34.0519 Q1828.63 35.7533 1828.63 39.156 Q1828.63 41.7486 1830.62 43.2475 Q1832.6 44.7058 1838.6 46.0426 L1841.15 46.6097 Q1849.09 48.3111 1852.41 51.4303 Q1855.78 54.509 1855.78 60.0587 Q1855.78 66.3781 1850.75 70.0644 Q1845.77 73.7508 1837.02 73.7508 Q1833.37 73.7508 1829.4 73.0216 Q1825.47 72.3329 1821.1 70.9151 L1821.1 63.2184 Q1825.23 65.3654 1829.24 66.4591 Q1833.25 67.5124 1837.18 67.5124 Q1842.45 67.5124 1845.28 65.73 Q1848.12 63.9071 1848.12 60.6258 Q1848.12 57.5877 1846.05 55.9673 Q1844.03 54.3469 1837.1 52.8481 L1834.51 52.2405 Q1827.58 50.7821 1824.5 47.7845 Q1821.42 44.7463 1821.42 39.4801 Q1821.42 33.0797 1825.96 29.5959 Q1830.5 26.1121 1838.84 26.1121 Q1842.97 26.1121 1846.62 26.7198 Q1850.27 27.3274 1853.35 28.5427 Z\" fill=\"#000000\" fill-rule=\"evenodd\" fill-opacity=\"1\" /><polyline clip-path=\"url(#clip712)\" style=\"stroke:#000000; stroke-linecap:round; stroke-linejoin:round; stroke-width:4; stroke-opacity:1; fill:none\" points=\"235.808,1384.7 235.808,1384.69 \"/>\n",
       "<polyline clip-path=\"url(#clip712)\" style=\"stroke:#000000; stroke-linecap:round; stroke-linejoin:round; stroke-width:4; stroke-opacity:1; fill:none\" points=\"343.981,1383.57 343.981,1383.57 \"/>\n",
       "<polyline clip-path=\"url(#clip712)\" style=\"stroke:#000000; stroke-linecap:round; stroke-linejoin:round; stroke-width:4; stroke-opacity:1; fill:none\" points=\"452.154,1380.5 452.154,1380.5 \"/>\n",
       "<polyline clip-path=\"url(#clip712)\" style=\"stroke:#000000; stroke-linecap:round; stroke-linejoin:round; stroke-width:4; stroke-opacity:1; fill:none\" points=\"560.327,1374.5 560.327,1374.46 \"/>\n",
       "<polyline clip-path=\"url(#clip712)\" style=\"stroke:#000000; stroke-linecap:round; stroke-linejoin:round; stroke-width:4; stroke-opacity:1; fill:none\" points=\"668.5,1364.57 668.5,1364.56 \"/>\n",
       "<polyline clip-path=\"url(#clip712)\" style=\"stroke:#000000; stroke-linecap:round; stroke-linejoin:round; stroke-width:4; stroke-opacity:1; fill:none\" points=\"776.673,1348.38 776.673,1348.36 \"/>\n",
       "<polyline clip-path=\"url(#clip712)\" style=\"stroke:#000000; stroke-linecap:round; stroke-linejoin:round; stroke-width:4; stroke-opacity:1; fill:none\" points=\"884.846,1327.76 884.846,1327.74 \"/>\n",
       "<polyline clip-path=\"url(#clip712)\" style=\"stroke:#000000; stroke-linecap:round; stroke-linejoin:round; stroke-width:4; stroke-opacity:1; fill:none\" points=\"993.02,1299.66 993.02,1299.66 \"/>\n",
       "<polyline clip-path=\"url(#clip712)\" style=\"stroke:#000000; stroke-linecap:round; stroke-linejoin:round; stroke-width:4; stroke-opacity:1; fill:none\" points=\"1101.19,1267.25 1101.19,1267.25 \"/>\n",
       "<polyline clip-path=\"url(#clip712)\" style=\"stroke:#000000; stroke-linecap:round; stroke-linejoin:round; stroke-width:4; stroke-opacity:1; fill:none\" points=\"1209.37,1225.98 1209.37,1225.8 \"/>\n",
       "<polyline clip-path=\"url(#clip712)\" style=\"stroke:#000000; stroke-linecap:round; stroke-linejoin:round; stroke-width:4; stroke-opacity:1; fill:none\" points=\"1317.54,1171.98 1317.54,1171.98 \"/>\n",
       "<polyline clip-path=\"url(#clip712)\" style=\"stroke:#000000; stroke-linecap:round; stroke-linejoin:round; stroke-width:4; stroke-opacity:1; fill:none\" points=\"1425.71,1114.01 1425.71,1113.99 \"/>\n",
       "<polyline clip-path=\"url(#clip712)\" style=\"stroke:#000000; stroke-linecap:round; stroke-linejoin:round; stroke-width:4; stroke-opacity:1; fill:none\" points=\"1533.89,1042.94 1533.89,1042.46 \"/>\n",
       "<polyline clip-path=\"url(#clip712)\" style=\"stroke:#000000; stroke-linecap:round; stroke-linejoin:round; stroke-width:4; stroke-opacity:1; fill:none\" points=\"1642.06,960.875 1642.06,960.063 \"/>\n",
       "<polyline clip-path=\"url(#clip712)\" style=\"stroke:#000000; stroke-linecap:round; stroke-linejoin:round; stroke-width:4; stroke-opacity:1; fill:none\" points=\"1750.23,862.338 1750.23,862.323 \"/>\n",
       "<polyline clip-path=\"url(#clip712)\" style=\"stroke:#000000; stroke-linecap:round; stroke-linejoin:round; stroke-width:4; stroke-opacity:1; fill:none\" points=\"1858.4,751.962 1858.4,744.16 \"/>\n",
       "<polyline clip-path=\"url(#clip712)\" style=\"stroke:#000000; stroke-linecap:round; stroke-linejoin:round; stroke-width:4; stroke-opacity:1; fill:none\" points=\"1966.58,631.122 1966.58,629.423 \"/>\n",
       "<polyline clip-path=\"url(#clip712)\" style=\"stroke:#000000; stroke-linecap:round; stroke-linejoin:round; stroke-width:4; stroke-opacity:1; fill:none\" points=\"2074.75,491.489 2074.75,491.31 \"/>\n",
       "<polyline clip-path=\"url(#clip712)\" style=\"stroke:#000000; stroke-linecap:round; stroke-linejoin:round; stroke-width:4; stroke-opacity:1; fill:none\" points=\"2182.92,338.361 2182.92,331.35 \"/>\n",
       "<polyline clip-path=\"url(#clip712)\" style=\"stroke:#000000; stroke-linecap:round; stroke-linejoin:round; stroke-width:4; stroke-opacity:1; fill:none\" points=\"2291.1,162.095 2291.1,160.256 \"/>\n",
       "<line clip-path=\"url(#clip712)\" x1=\"251.808\" y1=\"1384.7\" x2=\"219.808\" y2=\"1384.7\" style=\"stroke:#000000; stroke-width:3.2; stroke-opacity:1\"/>\n",
       "<line clip-path=\"url(#clip712)\" x1=\"251.808\" y1=\"1384.69\" x2=\"219.808\" y2=\"1384.69\" style=\"stroke:#000000; stroke-width:3.2; stroke-opacity:1\"/>\n",
       "<line clip-path=\"url(#clip712)\" x1=\"359.981\" y1=\"1383.57\" x2=\"327.981\" y2=\"1383.57\" style=\"stroke:#000000; stroke-width:3.2; stroke-opacity:1\"/>\n",
       "<line clip-path=\"url(#clip712)\" x1=\"359.981\" y1=\"1383.57\" x2=\"327.981\" y2=\"1383.57\" style=\"stroke:#000000; stroke-width:3.2; stroke-opacity:1\"/>\n",
       "<line clip-path=\"url(#clip712)\" x1=\"468.154\" y1=\"1380.5\" x2=\"436.154\" y2=\"1380.5\" style=\"stroke:#000000; stroke-width:3.2; stroke-opacity:1\"/>\n",
       "<line clip-path=\"url(#clip712)\" x1=\"468.154\" y1=\"1380.5\" x2=\"436.154\" y2=\"1380.5\" style=\"stroke:#000000; stroke-width:3.2; stroke-opacity:1\"/>\n",
       "<line clip-path=\"url(#clip712)\" x1=\"576.327\" y1=\"1374.5\" x2=\"544.327\" y2=\"1374.5\" style=\"stroke:#000000; stroke-width:3.2; stroke-opacity:1\"/>\n",
       "<line clip-path=\"url(#clip712)\" x1=\"576.327\" y1=\"1374.46\" x2=\"544.327\" y2=\"1374.46\" style=\"stroke:#000000; stroke-width:3.2; stroke-opacity:1\"/>\n",
       "<line clip-path=\"url(#clip712)\" x1=\"684.5\" y1=\"1364.57\" x2=\"652.5\" y2=\"1364.57\" style=\"stroke:#000000; stroke-width:3.2; stroke-opacity:1\"/>\n",
       "<line clip-path=\"url(#clip712)\" x1=\"684.5\" y1=\"1364.56\" x2=\"652.5\" y2=\"1364.56\" style=\"stroke:#000000; stroke-width:3.2; stroke-opacity:1\"/>\n",
       "<line clip-path=\"url(#clip712)\" x1=\"792.673\" y1=\"1348.38\" x2=\"760.673\" y2=\"1348.38\" style=\"stroke:#000000; stroke-width:3.2; stroke-opacity:1\"/>\n",
       "<line clip-path=\"url(#clip712)\" x1=\"792.673\" y1=\"1348.36\" x2=\"760.673\" y2=\"1348.36\" style=\"stroke:#000000; stroke-width:3.2; stroke-opacity:1\"/>\n",
       "<line clip-path=\"url(#clip712)\" x1=\"900.846\" y1=\"1327.76\" x2=\"868.846\" y2=\"1327.76\" style=\"stroke:#000000; stroke-width:3.2; stroke-opacity:1\"/>\n",
       "<line clip-path=\"url(#clip712)\" x1=\"900.846\" y1=\"1327.74\" x2=\"868.846\" y2=\"1327.74\" style=\"stroke:#000000; stroke-width:3.2; stroke-opacity:1\"/>\n",
       "<line clip-path=\"url(#clip712)\" x1=\"1009.02\" y1=\"1299.66\" x2=\"977.02\" y2=\"1299.66\" style=\"stroke:#000000; stroke-width:3.2; stroke-opacity:1\"/>\n",
       "<line clip-path=\"url(#clip712)\" x1=\"1009.02\" y1=\"1299.66\" x2=\"977.02\" y2=\"1299.66\" style=\"stroke:#000000; stroke-width:3.2; stroke-opacity:1\"/>\n",
       "<line clip-path=\"url(#clip712)\" x1=\"1117.19\" y1=\"1267.25\" x2=\"1085.19\" y2=\"1267.25\" style=\"stroke:#000000; stroke-width:3.2; stroke-opacity:1\"/>\n",
       "<line clip-path=\"url(#clip712)\" x1=\"1117.19\" y1=\"1267.25\" x2=\"1085.19\" y2=\"1267.25\" style=\"stroke:#000000; stroke-width:3.2; stroke-opacity:1\"/>\n",
       "<line clip-path=\"url(#clip712)\" x1=\"1225.37\" y1=\"1225.98\" x2=\"1193.37\" y2=\"1225.98\" style=\"stroke:#000000; stroke-width:3.2; stroke-opacity:1\"/>\n",
       "<line clip-path=\"url(#clip712)\" x1=\"1225.37\" y1=\"1225.8\" x2=\"1193.37\" y2=\"1225.8\" style=\"stroke:#000000; stroke-width:3.2; stroke-opacity:1\"/>\n",
       "<line clip-path=\"url(#clip712)\" x1=\"1333.54\" y1=\"1171.98\" x2=\"1301.54\" y2=\"1171.98\" style=\"stroke:#000000; stroke-width:3.2; stroke-opacity:1\"/>\n",
       "<line clip-path=\"url(#clip712)\" x1=\"1333.54\" y1=\"1171.98\" x2=\"1301.54\" y2=\"1171.98\" style=\"stroke:#000000; stroke-width:3.2; stroke-opacity:1\"/>\n",
       "<line clip-path=\"url(#clip712)\" x1=\"1441.71\" y1=\"1114.01\" x2=\"1409.71\" y2=\"1114.01\" style=\"stroke:#000000; stroke-width:3.2; stroke-opacity:1\"/>\n",
       "<line clip-path=\"url(#clip712)\" x1=\"1441.71\" y1=\"1113.99\" x2=\"1409.71\" y2=\"1113.99\" style=\"stroke:#000000; stroke-width:3.2; stroke-opacity:1\"/>\n",
       "<line clip-path=\"url(#clip712)\" x1=\"1549.89\" y1=\"1042.94\" x2=\"1517.89\" y2=\"1042.94\" style=\"stroke:#000000; stroke-width:3.2; stroke-opacity:1\"/>\n",
       "<line clip-path=\"url(#clip712)\" x1=\"1549.89\" y1=\"1042.46\" x2=\"1517.89\" y2=\"1042.46\" style=\"stroke:#000000; stroke-width:3.2; stroke-opacity:1\"/>\n",
       "<line clip-path=\"url(#clip712)\" x1=\"1658.06\" y1=\"960.875\" x2=\"1626.06\" y2=\"960.875\" style=\"stroke:#000000; stroke-width:3.2; stroke-opacity:1\"/>\n",
       "<line clip-path=\"url(#clip712)\" x1=\"1658.06\" y1=\"960.063\" x2=\"1626.06\" y2=\"960.063\" style=\"stroke:#000000; stroke-width:3.2; stroke-opacity:1\"/>\n",
       "<line clip-path=\"url(#clip712)\" x1=\"1766.23\" y1=\"862.338\" x2=\"1734.23\" y2=\"862.338\" style=\"stroke:#000000; stroke-width:3.2; stroke-opacity:1\"/>\n",
       "<line clip-path=\"url(#clip712)\" x1=\"1766.23\" y1=\"862.323\" x2=\"1734.23\" y2=\"862.323\" style=\"stroke:#000000; stroke-width:3.2; stroke-opacity:1\"/>\n",
       "<line clip-path=\"url(#clip712)\" x1=\"1874.4\" y1=\"751.962\" x2=\"1842.4\" y2=\"751.962\" style=\"stroke:#000000; stroke-width:3.2; stroke-opacity:1\"/>\n",
       "<line clip-path=\"url(#clip712)\" x1=\"1874.4\" y1=\"744.16\" x2=\"1842.4\" y2=\"744.16\" style=\"stroke:#000000; stroke-width:3.2; stroke-opacity:1\"/>\n",
       "<line clip-path=\"url(#clip712)\" x1=\"1982.58\" y1=\"631.122\" x2=\"1950.58\" y2=\"631.122\" style=\"stroke:#000000; stroke-width:3.2; stroke-opacity:1\"/>\n",
       "<line clip-path=\"url(#clip712)\" x1=\"1982.58\" y1=\"629.423\" x2=\"1950.58\" y2=\"629.423\" style=\"stroke:#000000; stroke-width:3.2; stroke-opacity:1\"/>\n",
       "<line clip-path=\"url(#clip712)\" x1=\"2090.75\" y1=\"491.489\" x2=\"2058.75\" y2=\"491.489\" style=\"stroke:#000000; stroke-width:3.2; stroke-opacity:1\"/>\n",
       "<line clip-path=\"url(#clip712)\" x1=\"2090.75\" y1=\"491.31\" x2=\"2058.75\" y2=\"491.31\" style=\"stroke:#000000; stroke-width:3.2; stroke-opacity:1\"/>\n",
       "<line clip-path=\"url(#clip712)\" x1=\"2198.92\" y1=\"338.361\" x2=\"2166.92\" y2=\"338.361\" style=\"stroke:#000000; stroke-width:3.2; stroke-opacity:1\"/>\n",
       "<line clip-path=\"url(#clip712)\" x1=\"2198.92\" y1=\"331.35\" x2=\"2166.92\" y2=\"331.35\" style=\"stroke:#000000; stroke-width:3.2; stroke-opacity:1\"/>\n",
       "<line clip-path=\"url(#clip712)\" x1=\"2307.1\" y1=\"162.095\" x2=\"2275.1\" y2=\"162.095\" style=\"stroke:#000000; stroke-width:3.2; stroke-opacity:1\"/>\n",
       "<line clip-path=\"url(#clip712)\" x1=\"2307.1\" y1=\"160.256\" x2=\"2275.1\" y2=\"160.256\" style=\"stroke:#000000; stroke-width:3.2; stroke-opacity:1\"/>\n",
       "<circle clip-path=\"url(#clip712)\" cx=\"235.808\" cy=\"1384.69\" r=\"14.4\" fill=\"#009af9\" fill-rule=\"evenodd\" fill-opacity=\"1\" stroke=\"#000000\" stroke-opacity=\"1\" stroke-width=\"3.2\"/>\n",
       "<circle clip-path=\"url(#clip712)\" cx=\"343.981\" cy=\"1383.57\" r=\"14.4\" fill=\"#009af9\" fill-rule=\"evenodd\" fill-opacity=\"1\" stroke=\"#000000\" stroke-opacity=\"1\" stroke-width=\"3.2\"/>\n",
       "<circle clip-path=\"url(#clip712)\" cx=\"452.154\" cy=\"1380.5\" r=\"14.4\" fill=\"#009af9\" fill-rule=\"evenodd\" fill-opacity=\"1\" stroke=\"#000000\" stroke-opacity=\"1\" stroke-width=\"3.2\"/>\n",
       "<circle clip-path=\"url(#clip712)\" cx=\"560.327\" cy=\"1374.48\" r=\"14.4\" fill=\"#009af9\" fill-rule=\"evenodd\" fill-opacity=\"1\" stroke=\"#000000\" stroke-opacity=\"1\" stroke-width=\"3.2\"/>\n",
       "<circle clip-path=\"url(#clip712)\" cx=\"668.5\" cy=\"1364.56\" r=\"14.4\" fill=\"#009af9\" fill-rule=\"evenodd\" fill-opacity=\"1\" stroke=\"#000000\" stroke-opacity=\"1\" stroke-width=\"3.2\"/>\n",
       "<circle clip-path=\"url(#clip712)\" cx=\"776.673\" cy=\"1348.37\" r=\"14.4\" fill=\"#009af9\" fill-rule=\"evenodd\" fill-opacity=\"1\" stroke=\"#000000\" stroke-opacity=\"1\" stroke-width=\"3.2\"/>\n",
       "<circle clip-path=\"url(#clip712)\" cx=\"884.846\" cy=\"1327.75\" r=\"14.4\" fill=\"#009af9\" fill-rule=\"evenodd\" fill-opacity=\"1\" stroke=\"#000000\" stroke-opacity=\"1\" stroke-width=\"3.2\"/>\n",
       "<circle clip-path=\"url(#clip712)\" cx=\"993.02\" cy=\"1299.66\" r=\"14.4\" fill=\"#009af9\" fill-rule=\"evenodd\" fill-opacity=\"1\" stroke=\"#000000\" stroke-opacity=\"1\" stroke-width=\"3.2\"/>\n",
       "<circle clip-path=\"url(#clip712)\" cx=\"1101.19\" cy=\"1267.25\" r=\"14.4\" fill=\"#009af9\" fill-rule=\"evenodd\" fill-opacity=\"1\" stroke=\"#000000\" stroke-opacity=\"1\" stroke-width=\"3.2\"/>\n",
       "<circle clip-path=\"url(#clip712)\" cx=\"1209.37\" cy=\"1225.89\" r=\"14.4\" fill=\"#009af9\" fill-rule=\"evenodd\" fill-opacity=\"1\" stroke=\"#000000\" stroke-opacity=\"1\" stroke-width=\"3.2\"/>\n",
       "<circle clip-path=\"url(#clip712)\" cx=\"1317.54\" cy=\"1171.98\" r=\"14.4\" fill=\"#009af9\" fill-rule=\"evenodd\" fill-opacity=\"1\" stroke=\"#000000\" stroke-opacity=\"1\" stroke-width=\"3.2\"/>\n",
       "<circle clip-path=\"url(#clip712)\" cx=\"1425.71\" cy=\"1114\" r=\"14.4\" fill=\"#009af9\" fill-rule=\"evenodd\" fill-opacity=\"1\" stroke=\"#000000\" stroke-opacity=\"1\" stroke-width=\"3.2\"/>\n",
       "<circle clip-path=\"url(#clip712)\" cx=\"1533.89\" cy=\"1042.7\" r=\"14.4\" fill=\"#009af9\" fill-rule=\"evenodd\" fill-opacity=\"1\" stroke=\"#000000\" stroke-opacity=\"1\" stroke-width=\"3.2\"/>\n",
       "<circle clip-path=\"url(#clip712)\" cx=\"1642.06\" cy=\"960.469\" r=\"14.4\" fill=\"#009af9\" fill-rule=\"evenodd\" fill-opacity=\"1\" stroke=\"#000000\" stroke-opacity=\"1\" stroke-width=\"3.2\"/>\n",
       "<circle clip-path=\"url(#clip712)\" cx=\"1750.23\" cy=\"862.33\" r=\"14.4\" fill=\"#009af9\" fill-rule=\"evenodd\" fill-opacity=\"1\" stroke=\"#000000\" stroke-opacity=\"1\" stroke-width=\"3.2\"/>\n",
       "<circle clip-path=\"url(#clip712)\" cx=\"1858.4\" cy=\"748.061\" r=\"14.4\" fill=\"#009af9\" fill-rule=\"evenodd\" fill-opacity=\"1\" stroke=\"#000000\" stroke-opacity=\"1\" stroke-width=\"3.2\"/>\n",
       "<circle clip-path=\"url(#clip712)\" cx=\"1966.58\" cy=\"630.272\" r=\"14.4\" fill=\"#009af9\" fill-rule=\"evenodd\" fill-opacity=\"1\" stroke=\"#000000\" stroke-opacity=\"1\" stroke-width=\"3.2\"/>\n",
       "<circle clip-path=\"url(#clip712)\" cx=\"2074.75\" cy=\"491.4\" r=\"14.4\" fill=\"#009af9\" fill-rule=\"evenodd\" fill-opacity=\"1\" stroke=\"#000000\" stroke-opacity=\"1\" stroke-width=\"3.2\"/>\n",
       "<circle clip-path=\"url(#clip712)\" cx=\"2182.92\" cy=\"334.856\" r=\"14.4\" fill=\"#009af9\" fill-rule=\"evenodd\" fill-opacity=\"1\" stroke=\"#000000\" stroke-opacity=\"1\" stroke-width=\"3.2\"/>\n",
       "<circle clip-path=\"url(#clip712)\" cx=\"2291.1\" cy=\"161.176\" r=\"14.4\" fill=\"#009af9\" fill-rule=\"evenodd\" fill-opacity=\"1\" stroke=\"#000000\" stroke-opacity=\"1\" stroke-width=\"3.2\"/>\n",
       "<polyline clip-path=\"url(#clip712)\" style=\"stroke:#000000; stroke-linecap:round; stroke-linejoin:round; stroke-width:4; stroke-opacity:1; fill:none\" points=\"235.808,1384.83 235.808,1384.83 \"/>\n",
       "<polyline clip-path=\"url(#clip712)\" style=\"stroke:#000000; stroke-linecap:round; stroke-linejoin:round; stroke-width:4; stroke-opacity:1; fill:none\" points=\"343.981,1384.65 343.981,1384.65 \"/>\n",
       "<polyline clip-path=\"url(#clip712)\" style=\"stroke:#000000; stroke-linecap:round; stroke-linejoin:round; stroke-width:4; stroke-opacity:1; fill:none\" points=\"452.154,1384.11 452.154,1384.11 \"/>\n",
       "<polyline clip-path=\"url(#clip712)\" style=\"stroke:#000000; stroke-linecap:round; stroke-linejoin:round; stroke-width:4; stroke-opacity:1; fill:none\" points=\"560.327,1383.14 560.327,1383.1 \"/>\n",
       "<polyline clip-path=\"url(#clip712)\" style=\"stroke:#000000; stroke-linecap:round; stroke-linejoin:round; stroke-width:4; stroke-opacity:1; fill:none\" points=\"668.5,1381.37 668.5,1381.36 \"/>\n",
       "<polyline clip-path=\"url(#clip712)\" style=\"stroke:#000000; stroke-linecap:round; stroke-linejoin:round; stroke-width:4; stroke-opacity:1; fill:none\" points=\"776.673,1378.8 776.673,1378.78 \"/>\n",
       "<polyline clip-path=\"url(#clip712)\" style=\"stroke:#000000; stroke-linecap:round; stroke-linejoin:round; stroke-width:4; stroke-opacity:1; fill:none\" points=\"884.846,1375.48 884.846,1375.46 \"/>\n",
       "<polyline clip-path=\"url(#clip712)\" style=\"stroke:#000000; stroke-linecap:round; stroke-linejoin:round; stroke-width:4; stroke-opacity:1; fill:none\" points=\"993.02,1371.5 993.02,1371.5 \"/>\n",
       "<polyline clip-path=\"url(#clip712)\" style=\"stroke:#000000; stroke-linecap:round; stroke-linejoin:round; stroke-width:4; stroke-opacity:1; fill:none\" points=\"1101.19,1366.56 1101.19,1366.55 \"/>\n",
       "<polyline clip-path=\"url(#clip712)\" style=\"stroke:#000000; stroke-linecap:round; stroke-linejoin:round; stroke-width:4; stroke-opacity:1; fill:none\" points=\"1209.37,1359.86 1209.37,1359.67 \"/>\n",
       "<polyline clip-path=\"url(#clip712)\" style=\"stroke:#000000; stroke-linecap:round; stroke-linejoin:round; stroke-width:4; stroke-opacity:1; fill:none\" points=\"1317.54,1351.6 1317.54,1351.59 \"/>\n",
       "<polyline clip-path=\"url(#clip712)\" style=\"stroke:#000000; stroke-linecap:round; stroke-linejoin:round; stroke-width:4; stroke-opacity:1; fill:none\" points=\"1425.71,1341.71 1425.71,1341.7 \"/>\n",
       "<polyline clip-path=\"url(#clip712)\" style=\"stroke:#000000; stroke-linecap:round; stroke-linejoin:round; stroke-width:4; stroke-opacity:1; fill:none\" points=\"1533.89,1330.28 1533.89,1329.8 \"/>\n",
       "<polyline clip-path=\"url(#clip712)\" style=\"stroke:#000000; stroke-linecap:round; stroke-linejoin:round; stroke-width:4; stroke-opacity:1; fill:none\" points=\"1642.06,1316.54 1642.06,1315.73 \"/>\n",
       "<polyline clip-path=\"url(#clip712)\" style=\"stroke:#000000; stroke-linecap:round; stroke-linejoin:round; stroke-width:4; stroke-opacity:1; fill:none\" points=\"1750.23,1300.69 1750.23,1300.67 \"/>\n",
       "<polyline clip-path=\"url(#clip712)\" style=\"stroke:#000000; stroke-linecap:round; stroke-linejoin:round; stroke-width:4; stroke-opacity:1; fill:none\" points=\"1858.4,1286.4 1858.4,1278.6 \"/>\n",
       "<polyline clip-path=\"url(#clip712)\" style=\"stroke:#000000; stroke-linecap:round; stroke-linejoin:round; stroke-width:4; stroke-opacity:1; fill:none\" points=\"1966.58,1262.4 1966.58,1260.7 \"/>\n",
       "<polyline clip-path=\"url(#clip712)\" style=\"stroke:#000000; stroke-linecap:round; stroke-linejoin:round; stroke-width:4; stroke-opacity:1; fill:none\" points=\"2074.75,1239.86 2074.75,1239.68 \"/>\n",
       "<polyline clip-path=\"url(#clip712)\" style=\"stroke:#000000; stroke-linecap:round; stroke-linejoin:round; stroke-width:4; stroke-opacity:1; fill:none\" points=\"2182.92,1216.87 2182.92,1209.86 \"/>\n",
       "<polyline clip-path=\"url(#clip712)\" style=\"stroke:#000000; stroke-linecap:round; stroke-linejoin:round; stroke-width:4; stroke-opacity:1; fill:none\" points=\"2291.1,1182.99 2291.1,1181.15 \"/>\n",
       "<line clip-path=\"url(#clip712)\" x1=\"251.808\" y1=\"1384.83\" x2=\"219.808\" y2=\"1384.83\" style=\"stroke:#000000; stroke-width:3.2; stroke-opacity:1\"/>\n",
       "<line clip-path=\"url(#clip712)\" x1=\"251.808\" y1=\"1384.83\" x2=\"219.808\" y2=\"1384.83\" style=\"stroke:#000000; stroke-width:3.2; stroke-opacity:1\"/>\n",
       "<line clip-path=\"url(#clip712)\" x1=\"359.981\" y1=\"1384.65\" x2=\"327.981\" y2=\"1384.65\" style=\"stroke:#000000; stroke-width:3.2; stroke-opacity:1\"/>\n",
       "<line clip-path=\"url(#clip712)\" x1=\"359.981\" y1=\"1384.65\" x2=\"327.981\" y2=\"1384.65\" style=\"stroke:#000000; stroke-width:3.2; stroke-opacity:1\"/>\n",
       "<line clip-path=\"url(#clip712)\" x1=\"468.154\" y1=\"1384.11\" x2=\"436.154\" y2=\"1384.11\" style=\"stroke:#000000; stroke-width:3.2; stroke-opacity:1\"/>\n",
       "<line clip-path=\"url(#clip712)\" x1=\"468.154\" y1=\"1384.11\" x2=\"436.154\" y2=\"1384.11\" style=\"stroke:#000000; stroke-width:3.2; stroke-opacity:1\"/>\n",
       "<line clip-path=\"url(#clip712)\" x1=\"576.327\" y1=\"1383.14\" x2=\"544.327\" y2=\"1383.14\" style=\"stroke:#000000; stroke-width:3.2; stroke-opacity:1\"/>\n",
       "<line clip-path=\"url(#clip712)\" x1=\"576.327\" y1=\"1383.1\" x2=\"544.327\" y2=\"1383.1\" style=\"stroke:#000000; stroke-width:3.2; stroke-opacity:1\"/>\n",
       "<line clip-path=\"url(#clip712)\" x1=\"684.5\" y1=\"1381.37\" x2=\"652.5\" y2=\"1381.37\" style=\"stroke:#000000; stroke-width:3.2; stroke-opacity:1\"/>\n",
       "<line clip-path=\"url(#clip712)\" x1=\"684.5\" y1=\"1381.36\" x2=\"652.5\" y2=\"1381.36\" style=\"stroke:#000000; stroke-width:3.2; stroke-opacity:1\"/>\n",
       "<line clip-path=\"url(#clip712)\" x1=\"792.673\" y1=\"1378.8\" x2=\"760.673\" y2=\"1378.8\" style=\"stroke:#000000; stroke-width:3.2; stroke-opacity:1\"/>\n",
       "<line clip-path=\"url(#clip712)\" x1=\"792.673\" y1=\"1378.78\" x2=\"760.673\" y2=\"1378.78\" style=\"stroke:#000000; stroke-width:3.2; stroke-opacity:1\"/>\n",
       "<line clip-path=\"url(#clip712)\" x1=\"900.846\" y1=\"1375.48\" x2=\"868.846\" y2=\"1375.48\" style=\"stroke:#000000; stroke-width:3.2; stroke-opacity:1\"/>\n",
       "<line clip-path=\"url(#clip712)\" x1=\"900.846\" y1=\"1375.46\" x2=\"868.846\" y2=\"1375.46\" style=\"stroke:#000000; stroke-width:3.2; stroke-opacity:1\"/>\n",
       "<line clip-path=\"url(#clip712)\" x1=\"1009.02\" y1=\"1371.5\" x2=\"977.02\" y2=\"1371.5\" style=\"stroke:#000000; stroke-width:3.2; stroke-opacity:1\"/>\n",
       "<line clip-path=\"url(#clip712)\" x1=\"1009.02\" y1=\"1371.5\" x2=\"977.02\" y2=\"1371.5\" style=\"stroke:#000000; stroke-width:3.2; stroke-opacity:1\"/>\n",
       "<line clip-path=\"url(#clip712)\" x1=\"1117.19\" y1=\"1366.56\" x2=\"1085.19\" y2=\"1366.56\" style=\"stroke:#000000; stroke-width:3.2; stroke-opacity:1\"/>\n",
       "<line clip-path=\"url(#clip712)\" x1=\"1117.19\" y1=\"1366.55\" x2=\"1085.19\" y2=\"1366.55\" style=\"stroke:#000000; stroke-width:3.2; stroke-opacity:1\"/>\n",
       "<line clip-path=\"url(#clip712)\" x1=\"1225.37\" y1=\"1359.86\" x2=\"1193.37\" y2=\"1359.86\" style=\"stroke:#000000; stroke-width:3.2; stroke-opacity:1\"/>\n",
       "<line clip-path=\"url(#clip712)\" x1=\"1225.37\" y1=\"1359.67\" x2=\"1193.37\" y2=\"1359.67\" style=\"stroke:#000000; stroke-width:3.2; stroke-opacity:1\"/>\n",
       "<line clip-path=\"url(#clip712)\" x1=\"1333.54\" y1=\"1351.6\" x2=\"1301.54\" y2=\"1351.6\" style=\"stroke:#000000; stroke-width:3.2; stroke-opacity:1\"/>\n",
       "<line clip-path=\"url(#clip712)\" x1=\"1333.54\" y1=\"1351.59\" x2=\"1301.54\" y2=\"1351.59\" style=\"stroke:#000000; stroke-width:3.2; stroke-opacity:1\"/>\n",
       "<line clip-path=\"url(#clip712)\" x1=\"1441.71\" y1=\"1341.71\" x2=\"1409.71\" y2=\"1341.71\" style=\"stroke:#000000; stroke-width:3.2; stroke-opacity:1\"/>\n",
       "<line clip-path=\"url(#clip712)\" x1=\"1441.71\" y1=\"1341.7\" x2=\"1409.71\" y2=\"1341.7\" style=\"stroke:#000000; stroke-width:3.2; stroke-opacity:1\"/>\n",
       "<line clip-path=\"url(#clip712)\" x1=\"1549.89\" y1=\"1330.28\" x2=\"1517.89\" y2=\"1330.28\" style=\"stroke:#000000; stroke-width:3.2; stroke-opacity:1\"/>\n",
       "<line clip-path=\"url(#clip712)\" x1=\"1549.89\" y1=\"1329.8\" x2=\"1517.89\" y2=\"1329.8\" style=\"stroke:#000000; stroke-width:3.2; stroke-opacity:1\"/>\n",
       "<line clip-path=\"url(#clip712)\" x1=\"1658.06\" y1=\"1316.54\" x2=\"1626.06\" y2=\"1316.54\" style=\"stroke:#000000; stroke-width:3.2; stroke-opacity:1\"/>\n",
       "<line clip-path=\"url(#clip712)\" x1=\"1658.06\" y1=\"1315.73\" x2=\"1626.06\" y2=\"1315.73\" style=\"stroke:#000000; stroke-width:3.2; stroke-opacity:1\"/>\n",
       "<line clip-path=\"url(#clip712)\" x1=\"1766.23\" y1=\"1300.69\" x2=\"1734.23\" y2=\"1300.69\" style=\"stroke:#000000; stroke-width:3.2; stroke-opacity:1\"/>\n",
       "<line clip-path=\"url(#clip712)\" x1=\"1766.23\" y1=\"1300.67\" x2=\"1734.23\" y2=\"1300.67\" style=\"stroke:#000000; stroke-width:3.2; stroke-opacity:1\"/>\n",
       "<line clip-path=\"url(#clip712)\" x1=\"1874.4\" y1=\"1286.4\" x2=\"1842.4\" y2=\"1286.4\" style=\"stroke:#000000; stroke-width:3.2; stroke-opacity:1\"/>\n",
       "<line clip-path=\"url(#clip712)\" x1=\"1874.4\" y1=\"1278.6\" x2=\"1842.4\" y2=\"1278.6\" style=\"stroke:#000000; stroke-width:3.2; stroke-opacity:1\"/>\n",
       "<line clip-path=\"url(#clip712)\" x1=\"1982.58\" y1=\"1262.4\" x2=\"1950.58\" y2=\"1262.4\" style=\"stroke:#000000; stroke-width:3.2; stroke-opacity:1\"/>\n",
       "<line clip-path=\"url(#clip712)\" x1=\"1982.58\" y1=\"1260.7\" x2=\"1950.58\" y2=\"1260.7\" style=\"stroke:#000000; stroke-width:3.2; stroke-opacity:1\"/>\n",
       "<line clip-path=\"url(#clip712)\" x1=\"2090.75\" y1=\"1239.86\" x2=\"2058.75\" y2=\"1239.86\" style=\"stroke:#000000; stroke-width:3.2; stroke-opacity:1\"/>\n",
       "<line clip-path=\"url(#clip712)\" x1=\"2090.75\" y1=\"1239.68\" x2=\"2058.75\" y2=\"1239.68\" style=\"stroke:#000000; stroke-width:3.2; stroke-opacity:1\"/>\n",
       "<line clip-path=\"url(#clip712)\" x1=\"2198.92\" y1=\"1216.87\" x2=\"2166.92\" y2=\"1216.87\" style=\"stroke:#000000; stroke-width:3.2; stroke-opacity:1\"/>\n",
       "<line clip-path=\"url(#clip712)\" x1=\"2198.92\" y1=\"1209.86\" x2=\"2166.92\" y2=\"1209.86\" style=\"stroke:#000000; stroke-width:3.2; stroke-opacity:1\"/>\n",
       "<line clip-path=\"url(#clip712)\" x1=\"2307.1\" y1=\"1182.99\" x2=\"2275.1\" y2=\"1182.99\" style=\"stroke:#000000; stroke-width:3.2; stroke-opacity:1\"/>\n",
       "<line clip-path=\"url(#clip712)\" x1=\"2307.1\" y1=\"1181.15\" x2=\"2275.1\" y2=\"1181.15\" style=\"stroke:#000000; stroke-width:3.2; stroke-opacity:1\"/>\n",
       "<circle clip-path=\"url(#clip712)\" cx=\"235.808\" cy=\"1384.83\" r=\"14.4\" fill=\"#e26f46\" fill-rule=\"evenodd\" fill-opacity=\"1\" stroke=\"#000000\" stroke-opacity=\"1\" stroke-width=\"3.2\"/>\n",
       "<circle clip-path=\"url(#clip712)\" cx=\"343.981\" cy=\"1384.65\" r=\"14.4\" fill=\"#e26f46\" fill-rule=\"evenodd\" fill-opacity=\"1\" stroke=\"#000000\" stroke-opacity=\"1\" stroke-width=\"3.2\"/>\n",
       "<circle clip-path=\"url(#clip712)\" cx=\"452.154\" cy=\"1384.11\" r=\"14.4\" fill=\"#e26f46\" fill-rule=\"evenodd\" fill-opacity=\"1\" stroke=\"#000000\" stroke-opacity=\"1\" stroke-width=\"3.2\"/>\n",
       "<circle clip-path=\"url(#clip712)\" cx=\"560.327\" cy=\"1383.12\" r=\"14.4\" fill=\"#e26f46\" fill-rule=\"evenodd\" fill-opacity=\"1\" stroke=\"#000000\" stroke-opacity=\"1\" stroke-width=\"3.2\"/>\n",
       "<circle clip-path=\"url(#clip712)\" cx=\"668.5\" cy=\"1381.36\" r=\"14.4\" fill=\"#e26f46\" fill-rule=\"evenodd\" fill-opacity=\"1\" stroke=\"#000000\" stroke-opacity=\"1\" stroke-width=\"3.2\"/>\n",
       "<circle clip-path=\"url(#clip712)\" cx=\"776.673\" cy=\"1378.79\" r=\"14.4\" fill=\"#e26f46\" fill-rule=\"evenodd\" fill-opacity=\"1\" stroke=\"#000000\" stroke-opacity=\"1\" stroke-width=\"3.2\"/>\n",
       "<circle clip-path=\"url(#clip712)\" cx=\"884.846\" cy=\"1375.47\" r=\"14.4\" fill=\"#e26f46\" fill-rule=\"evenodd\" fill-opacity=\"1\" stroke=\"#000000\" stroke-opacity=\"1\" stroke-width=\"3.2\"/>\n",
       "<circle clip-path=\"url(#clip712)\" cx=\"993.02\" cy=\"1371.5\" r=\"14.4\" fill=\"#e26f46\" fill-rule=\"evenodd\" fill-opacity=\"1\" stroke=\"#000000\" stroke-opacity=\"1\" stroke-width=\"3.2\"/>\n",
       "<circle clip-path=\"url(#clip712)\" cx=\"1101.19\" cy=\"1366.55\" r=\"14.4\" fill=\"#e26f46\" fill-rule=\"evenodd\" fill-opacity=\"1\" stroke=\"#000000\" stroke-opacity=\"1\" stroke-width=\"3.2\"/>\n",
       "<circle clip-path=\"url(#clip712)\" cx=\"1209.37\" cy=\"1359.77\" r=\"14.4\" fill=\"#e26f46\" fill-rule=\"evenodd\" fill-opacity=\"1\" stroke=\"#000000\" stroke-opacity=\"1\" stroke-width=\"3.2\"/>\n",
       "<circle clip-path=\"url(#clip712)\" cx=\"1317.54\" cy=\"1351.6\" r=\"14.4\" fill=\"#e26f46\" fill-rule=\"evenodd\" fill-opacity=\"1\" stroke=\"#000000\" stroke-opacity=\"1\" stroke-width=\"3.2\"/>\n",
       "<circle clip-path=\"url(#clip712)\" cx=\"1425.71\" cy=\"1341.71\" r=\"14.4\" fill=\"#e26f46\" fill-rule=\"evenodd\" fill-opacity=\"1\" stroke=\"#000000\" stroke-opacity=\"1\" stroke-width=\"3.2\"/>\n",
       "<circle clip-path=\"url(#clip712)\" cx=\"1533.89\" cy=\"1330.04\" r=\"14.4\" fill=\"#e26f46\" fill-rule=\"evenodd\" fill-opacity=\"1\" stroke=\"#000000\" stroke-opacity=\"1\" stroke-width=\"3.2\"/>\n",
       "<circle clip-path=\"url(#clip712)\" cx=\"1642.06\" cy=\"1316.13\" r=\"14.4\" fill=\"#e26f46\" fill-rule=\"evenodd\" fill-opacity=\"1\" stroke=\"#000000\" stroke-opacity=\"1\" stroke-width=\"3.2\"/>\n",
       "<circle clip-path=\"url(#clip712)\" cx=\"1750.23\" cy=\"1300.68\" r=\"14.4\" fill=\"#e26f46\" fill-rule=\"evenodd\" fill-opacity=\"1\" stroke=\"#000000\" stroke-opacity=\"1\" stroke-width=\"3.2\"/>\n",
       "<circle clip-path=\"url(#clip712)\" cx=\"1858.4\" cy=\"1282.5\" r=\"14.4\" fill=\"#e26f46\" fill-rule=\"evenodd\" fill-opacity=\"1\" stroke=\"#000000\" stroke-opacity=\"1\" stroke-width=\"3.2\"/>\n",
       "<circle clip-path=\"url(#clip712)\" cx=\"1966.58\" cy=\"1261.55\" r=\"14.4\" fill=\"#e26f46\" fill-rule=\"evenodd\" fill-opacity=\"1\" stroke=\"#000000\" stroke-opacity=\"1\" stroke-width=\"3.2\"/>\n",
       "<circle clip-path=\"url(#clip712)\" cx=\"2074.75\" cy=\"1239.77\" r=\"14.4\" fill=\"#e26f46\" fill-rule=\"evenodd\" fill-opacity=\"1\" stroke=\"#000000\" stroke-opacity=\"1\" stroke-width=\"3.2\"/>\n",
       "<circle clip-path=\"url(#clip712)\" cx=\"2182.92\" cy=\"1213.37\" r=\"14.4\" fill=\"#e26f46\" fill-rule=\"evenodd\" fill-opacity=\"1\" stroke=\"#000000\" stroke-opacity=\"1\" stroke-width=\"3.2\"/>\n",
       "<circle clip-path=\"url(#clip712)\" cx=\"2291.1\" cy=\"1182.07\" r=\"14.4\" fill=\"#e26f46\" fill-rule=\"evenodd\" fill-opacity=\"1\" stroke=\"#000000\" stroke-opacity=\"1\" stroke-width=\"3.2\"/>\n",
       "<polyline clip-path=\"url(#clip712)\" style=\"stroke:#000000; stroke-linecap:round; stroke-linejoin:round; stroke-width:4; stroke-opacity:1; fill:none\" points=\"235.808,1384.85 235.808,1384.85 \"/>\n",
       "<polyline clip-path=\"url(#clip712)\" style=\"stroke:#000000; stroke-linecap:round; stroke-linejoin:round; stroke-width:4; stroke-opacity:1; fill:none\" points=\"343.981,1384.83 343.981,1384.83 \"/>\n",
       "<polyline clip-path=\"url(#clip712)\" style=\"stroke:#000000; stroke-linecap:round; stroke-linejoin:round; stroke-width:4; stroke-opacity:1; fill:none\" points=\"452.154,1384.82 452.154,1384.82 \"/>\n",
       "<polyline clip-path=\"url(#clip712)\" style=\"stroke:#000000; stroke-linecap:round; stroke-linejoin:round; stroke-width:4; stroke-opacity:1; fill:none\" points=\"560.327,1384.82 560.327,1384.77 \"/>\n",
       "<polyline clip-path=\"url(#clip712)\" style=\"stroke:#000000; stroke-linecap:round; stroke-linejoin:round; stroke-width:4; stroke-opacity:1; fill:none\" points=\"668.5,1384.75 668.5,1384.73 \"/>\n",
       "<polyline clip-path=\"url(#clip712)\" style=\"stroke:#000000; stroke-linecap:round; stroke-linejoin:round; stroke-width:4; stroke-opacity:1; fill:none\" points=\"776.673,1384.66 776.673,1384.65 \"/>\n",
       "<polyline clip-path=\"url(#clip712)\" style=\"stroke:#000000; stroke-linecap:round; stroke-linejoin:round; stroke-width:4; stroke-opacity:1; fill:none\" points=\"884.846,1384.57 884.846,1384.56 \"/>\n",
       "<polyline clip-path=\"url(#clip712)\" style=\"stroke:#000000; stroke-linecap:round; stroke-linejoin:round; stroke-width:4; stroke-opacity:1; fill:none\" points=\"993.02,1384.51 993.02,1384.51 \"/>\n",
       "<polyline clip-path=\"url(#clip712)\" style=\"stroke:#000000; stroke-linecap:round; stroke-linejoin:round; stroke-width:4; stroke-opacity:1; fill:none\" points=\"1101.19,1384.4 1101.19,1384.4 \"/>\n",
       "<polyline clip-path=\"url(#clip712)\" style=\"stroke:#000000; stroke-linecap:round; stroke-linejoin:round; stroke-width:4; stroke-opacity:1; fill:none\" points=\"1209.37,1384.23 1209.37,1384.05 \"/>\n",
       "<polyline clip-path=\"url(#clip712)\" style=\"stroke:#000000; stroke-linecap:round; stroke-linejoin:round; stroke-width:4; stroke-opacity:1; fill:none\" points=\"1317.54,1383.9 1317.54,1383.9 \"/>\n",
       "<polyline clip-path=\"url(#clip712)\" style=\"stroke:#000000; stroke-linecap:round; stroke-linejoin:round; stroke-width:4; stroke-opacity:1; fill:none\" points=\"1425.71,1383.78 1425.71,1383.77 \"/>\n",
       "<polyline clip-path=\"url(#clip712)\" style=\"stroke:#000000; stroke-linecap:round; stroke-linejoin:round; stroke-width:4; stroke-opacity:1; fill:none\" points=\"1533.89,1383.57 1533.89,1383.08 \"/>\n",
       "<polyline clip-path=\"url(#clip712)\" style=\"stroke:#000000; stroke-linecap:round; stroke-linejoin:round; stroke-width:4; stroke-opacity:1; fill:none\" points=\"1642.06,1383.61 1642.06,1382.79 \"/>\n",
       "<polyline clip-path=\"url(#clip712)\" style=\"stroke:#000000; stroke-linecap:round; stroke-linejoin:round; stroke-width:4; stroke-opacity:1; fill:none\" points=\"1750.23,1382.62 1750.23,1382.61 \"/>\n",
       "<polyline clip-path=\"url(#clip712)\" style=\"stroke:#000000; stroke-linecap:round; stroke-linejoin:round; stroke-width:4; stroke-opacity:1; fill:none\" points=\"1858.4,1386.4 1858.4,1378.59 \"/>\n",
       "<polyline clip-path=\"url(#clip712)\" style=\"stroke:#000000; stroke-linecap:round; stroke-linejoin:round; stroke-width:4; stroke-opacity:1; fill:none\" points=\"1966.58,1382.76 1966.58,1381.06 \"/>\n",
       "<polyline clip-path=\"url(#clip712)\" style=\"stroke:#000000; stroke-linecap:round; stroke-linejoin:round; stroke-width:4; stroke-opacity:1; fill:none\" points=\"2074.75,1381.52 2074.75,1381.35 \"/>\n",
       "<polyline clip-path=\"url(#clip712)\" style=\"stroke:#000000; stroke-linecap:round; stroke-linejoin:round; stroke-width:4; stroke-opacity:1; fill:none\" points=\"2182.92,1384.39 2182.92,1377.38 \"/>\n",
       "<polyline clip-path=\"url(#clip712)\" style=\"stroke:#000000; stroke-linecap:round; stroke-linejoin:round; stroke-width:4; stroke-opacity:1; fill:none\" points=\"2291.1,1381.37 2291.1,1379.53 \"/>\n",
       "<line clip-path=\"url(#clip712)\" x1=\"251.808\" y1=\"1384.85\" x2=\"219.808\" y2=\"1384.85\" style=\"stroke:#000000; stroke-width:3.2; stroke-opacity:1\"/>\n",
       "<line clip-path=\"url(#clip712)\" x1=\"251.808\" y1=\"1384.85\" x2=\"219.808\" y2=\"1384.85\" style=\"stroke:#000000; stroke-width:3.2; stroke-opacity:1\"/>\n",
       "<line clip-path=\"url(#clip712)\" x1=\"359.981\" y1=\"1384.83\" x2=\"327.981\" y2=\"1384.83\" style=\"stroke:#000000; stroke-width:3.2; stroke-opacity:1\"/>\n",
       "<line clip-path=\"url(#clip712)\" x1=\"359.981\" y1=\"1384.83\" x2=\"327.981\" y2=\"1384.83\" style=\"stroke:#000000; stroke-width:3.2; stroke-opacity:1\"/>\n",
       "<line clip-path=\"url(#clip712)\" x1=\"468.154\" y1=\"1384.82\" x2=\"436.154\" y2=\"1384.82\" style=\"stroke:#000000; stroke-width:3.2; stroke-opacity:1\"/>\n",
       "<line clip-path=\"url(#clip712)\" x1=\"468.154\" y1=\"1384.82\" x2=\"436.154\" y2=\"1384.82\" style=\"stroke:#000000; stroke-width:3.2; stroke-opacity:1\"/>\n",
       "<line clip-path=\"url(#clip712)\" x1=\"576.327\" y1=\"1384.82\" x2=\"544.327\" y2=\"1384.82\" style=\"stroke:#000000; stroke-width:3.2; stroke-opacity:1\"/>\n",
       "<line clip-path=\"url(#clip712)\" x1=\"576.327\" y1=\"1384.77\" x2=\"544.327\" y2=\"1384.77\" style=\"stroke:#000000; stroke-width:3.2; stroke-opacity:1\"/>\n",
       "<line clip-path=\"url(#clip712)\" x1=\"684.5\" y1=\"1384.75\" x2=\"652.5\" y2=\"1384.75\" style=\"stroke:#000000; stroke-width:3.2; stroke-opacity:1\"/>\n",
       "<line clip-path=\"url(#clip712)\" x1=\"684.5\" y1=\"1384.73\" x2=\"652.5\" y2=\"1384.73\" style=\"stroke:#000000; stroke-width:3.2; stroke-opacity:1\"/>\n",
       "<line clip-path=\"url(#clip712)\" x1=\"792.673\" y1=\"1384.66\" x2=\"760.673\" y2=\"1384.66\" style=\"stroke:#000000; stroke-width:3.2; stroke-opacity:1\"/>\n",
       "<line clip-path=\"url(#clip712)\" x1=\"792.673\" y1=\"1384.65\" x2=\"760.673\" y2=\"1384.65\" style=\"stroke:#000000; stroke-width:3.2; stroke-opacity:1\"/>\n",
       "<line clip-path=\"url(#clip712)\" x1=\"900.846\" y1=\"1384.57\" x2=\"868.846\" y2=\"1384.57\" style=\"stroke:#000000; stroke-width:3.2; stroke-opacity:1\"/>\n",
       "<line clip-path=\"url(#clip712)\" x1=\"900.846\" y1=\"1384.56\" x2=\"868.846\" y2=\"1384.56\" style=\"stroke:#000000; stroke-width:3.2; stroke-opacity:1\"/>\n",
       "<line clip-path=\"url(#clip712)\" x1=\"1009.02\" y1=\"1384.51\" x2=\"977.02\" y2=\"1384.51\" style=\"stroke:#000000; stroke-width:3.2; stroke-opacity:1\"/>\n",
       "<line clip-path=\"url(#clip712)\" x1=\"1009.02\" y1=\"1384.51\" x2=\"977.02\" y2=\"1384.51\" style=\"stroke:#000000; stroke-width:3.2; stroke-opacity:1\"/>\n",
       "<line clip-path=\"url(#clip712)\" x1=\"1117.19\" y1=\"1384.4\" x2=\"1085.19\" y2=\"1384.4\" style=\"stroke:#000000; stroke-width:3.2; stroke-opacity:1\"/>\n",
       "<line clip-path=\"url(#clip712)\" x1=\"1117.19\" y1=\"1384.4\" x2=\"1085.19\" y2=\"1384.4\" style=\"stroke:#000000; stroke-width:3.2; stroke-opacity:1\"/>\n",
       "<line clip-path=\"url(#clip712)\" x1=\"1225.37\" y1=\"1384.23\" x2=\"1193.37\" y2=\"1384.23\" style=\"stroke:#000000; stroke-width:3.2; stroke-opacity:1\"/>\n",
       "<line clip-path=\"url(#clip712)\" x1=\"1225.37\" y1=\"1384.05\" x2=\"1193.37\" y2=\"1384.05\" style=\"stroke:#000000; stroke-width:3.2; stroke-opacity:1\"/>\n",
       "<line clip-path=\"url(#clip712)\" x1=\"1333.54\" y1=\"1383.9\" x2=\"1301.54\" y2=\"1383.9\" style=\"stroke:#000000; stroke-width:3.2; stroke-opacity:1\"/>\n",
       "<line clip-path=\"url(#clip712)\" x1=\"1333.54\" y1=\"1383.9\" x2=\"1301.54\" y2=\"1383.9\" style=\"stroke:#000000; stroke-width:3.2; stroke-opacity:1\"/>\n",
       "<line clip-path=\"url(#clip712)\" x1=\"1441.71\" y1=\"1383.78\" x2=\"1409.71\" y2=\"1383.78\" style=\"stroke:#000000; stroke-width:3.2; stroke-opacity:1\"/>\n",
       "<line clip-path=\"url(#clip712)\" x1=\"1441.71\" y1=\"1383.77\" x2=\"1409.71\" y2=\"1383.77\" style=\"stroke:#000000; stroke-width:3.2; stroke-opacity:1\"/>\n",
       "<line clip-path=\"url(#clip712)\" x1=\"1549.89\" y1=\"1383.57\" x2=\"1517.89\" y2=\"1383.57\" style=\"stroke:#000000; stroke-width:3.2; stroke-opacity:1\"/>\n",
       "<line clip-path=\"url(#clip712)\" x1=\"1549.89\" y1=\"1383.08\" x2=\"1517.89\" y2=\"1383.08\" style=\"stroke:#000000; stroke-width:3.2; stroke-opacity:1\"/>\n",
       "<line clip-path=\"url(#clip712)\" x1=\"1658.06\" y1=\"1383.61\" x2=\"1626.06\" y2=\"1383.61\" style=\"stroke:#000000; stroke-width:3.2; stroke-opacity:1\"/>\n",
       "<line clip-path=\"url(#clip712)\" x1=\"1658.06\" y1=\"1382.79\" x2=\"1626.06\" y2=\"1382.79\" style=\"stroke:#000000; stroke-width:3.2; stroke-opacity:1\"/>\n",
       "<line clip-path=\"url(#clip712)\" x1=\"1766.23\" y1=\"1382.62\" x2=\"1734.23\" y2=\"1382.62\" style=\"stroke:#000000; stroke-width:3.2; stroke-opacity:1\"/>\n",
       "<line clip-path=\"url(#clip712)\" x1=\"1766.23\" y1=\"1382.61\" x2=\"1734.23\" y2=\"1382.61\" style=\"stroke:#000000; stroke-width:3.2; stroke-opacity:1\"/>\n",
       "<line clip-path=\"url(#clip712)\" x1=\"1874.4\" y1=\"1386.4\" x2=\"1842.4\" y2=\"1386.4\" style=\"stroke:#000000; stroke-width:3.2; stroke-opacity:1\"/>\n",
       "<line clip-path=\"url(#clip712)\" x1=\"1874.4\" y1=\"1378.59\" x2=\"1842.4\" y2=\"1378.59\" style=\"stroke:#000000; stroke-width:3.2; stroke-opacity:1\"/>\n",
       "<line clip-path=\"url(#clip712)\" x1=\"1982.58\" y1=\"1382.76\" x2=\"1950.58\" y2=\"1382.76\" style=\"stroke:#000000; stroke-width:3.2; stroke-opacity:1\"/>\n",
       "<line clip-path=\"url(#clip712)\" x1=\"1982.58\" y1=\"1381.06\" x2=\"1950.58\" y2=\"1381.06\" style=\"stroke:#000000; stroke-width:3.2; stroke-opacity:1\"/>\n",
       "<line clip-path=\"url(#clip712)\" x1=\"2090.75\" y1=\"1381.52\" x2=\"2058.75\" y2=\"1381.52\" style=\"stroke:#000000; stroke-width:3.2; stroke-opacity:1\"/>\n",
       "<line clip-path=\"url(#clip712)\" x1=\"2090.75\" y1=\"1381.35\" x2=\"2058.75\" y2=\"1381.35\" style=\"stroke:#000000; stroke-width:3.2; stroke-opacity:1\"/>\n",
       "<line clip-path=\"url(#clip712)\" x1=\"2198.92\" y1=\"1384.39\" x2=\"2166.92\" y2=\"1384.39\" style=\"stroke:#000000; stroke-width:3.2; stroke-opacity:1\"/>\n",
       "<line clip-path=\"url(#clip712)\" x1=\"2198.92\" y1=\"1377.38\" x2=\"2166.92\" y2=\"1377.38\" style=\"stroke:#000000; stroke-width:3.2; stroke-opacity:1\"/>\n",
       "<line clip-path=\"url(#clip712)\" x1=\"2307.1\" y1=\"1381.37\" x2=\"2275.1\" y2=\"1381.37\" style=\"stroke:#000000; stroke-width:3.2; stroke-opacity:1\"/>\n",
       "<line clip-path=\"url(#clip712)\" x1=\"2307.1\" y1=\"1379.53\" x2=\"2275.1\" y2=\"1379.53\" style=\"stroke:#000000; stroke-width:3.2; stroke-opacity:1\"/>\n",
       "<circle clip-path=\"url(#clip712)\" cx=\"235.808\" cy=\"1384.85\" r=\"14.4\" fill=\"#3da44d\" fill-rule=\"evenodd\" fill-opacity=\"1\" stroke=\"#000000\" stroke-opacity=\"1\" stroke-width=\"3.2\"/>\n",
       "<circle clip-path=\"url(#clip712)\" cx=\"343.981\" cy=\"1384.83\" r=\"14.4\" fill=\"#3da44d\" fill-rule=\"evenodd\" fill-opacity=\"1\" stroke=\"#000000\" stroke-opacity=\"1\" stroke-width=\"3.2\"/>\n",
       "<circle clip-path=\"url(#clip712)\" cx=\"452.154\" cy=\"1384.82\" r=\"14.4\" fill=\"#3da44d\" fill-rule=\"evenodd\" fill-opacity=\"1\" stroke=\"#000000\" stroke-opacity=\"1\" stroke-width=\"3.2\"/>\n",
       "<circle clip-path=\"url(#clip712)\" cx=\"560.327\" cy=\"1384.8\" r=\"14.4\" fill=\"#3da44d\" fill-rule=\"evenodd\" fill-opacity=\"1\" stroke=\"#000000\" stroke-opacity=\"1\" stroke-width=\"3.2\"/>\n",
       "<circle clip-path=\"url(#clip712)\" cx=\"668.5\" cy=\"1384.74\" r=\"14.4\" fill=\"#3da44d\" fill-rule=\"evenodd\" fill-opacity=\"1\" stroke=\"#000000\" stroke-opacity=\"1\" stroke-width=\"3.2\"/>\n",
       "<circle clip-path=\"url(#clip712)\" cx=\"776.673\" cy=\"1384.65\" r=\"14.4\" fill=\"#3da44d\" fill-rule=\"evenodd\" fill-opacity=\"1\" stroke=\"#000000\" stroke-opacity=\"1\" stroke-width=\"3.2\"/>\n",
       "<circle clip-path=\"url(#clip712)\" cx=\"884.846\" cy=\"1384.56\" r=\"14.4\" fill=\"#3da44d\" fill-rule=\"evenodd\" fill-opacity=\"1\" stroke=\"#000000\" stroke-opacity=\"1\" stroke-width=\"3.2\"/>\n",
       "<circle clip-path=\"url(#clip712)\" cx=\"993.02\" cy=\"1384.51\" r=\"14.4\" fill=\"#3da44d\" fill-rule=\"evenodd\" fill-opacity=\"1\" stroke=\"#000000\" stroke-opacity=\"1\" stroke-width=\"3.2\"/>\n",
       "<circle clip-path=\"url(#clip712)\" cx=\"1101.19\" cy=\"1384.4\" r=\"14.4\" fill=\"#3da44d\" fill-rule=\"evenodd\" fill-opacity=\"1\" stroke=\"#000000\" stroke-opacity=\"1\" stroke-width=\"3.2\"/>\n",
       "<circle clip-path=\"url(#clip712)\" cx=\"1209.37\" cy=\"1384.14\" r=\"14.4\" fill=\"#3da44d\" fill-rule=\"evenodd\" fill-opacity=\"1\" stroke=\"#000000\" stroke-opacity=\"1\" stroke-width=\"3.2\"/>\n",
       "<circle clip-path=\"url(#clip712)\" cx=\"1317.54\" cy=\"1383.9\" r=\"14.4\" fill=\"#3da44d\" fill-rule=\"evenodd\" fill-opacity=\"1\" stroke=\"#000000\" stroke-opacity=\"1\" stroke-width=\"3.2\"/>\n",
       "<circle clip-path=\"url(#clip712)\" cx=\"1425.71\" cy=\"1383.77\" r=\"14.4\" fill=\"#3da44d\" fill-rule=\"evenodd\" fill-opacity=\"1\" stroke=\"#000000\" stroke-opacity=\"1\" stroke-width=\"3.2\"/>\n",
       "<circle clip-path=\"url(#clip712)\" cx=\"1533.89\" cy=\"1383.32\" r=\"14.4\" fill=\"#3da44d\" fill-rule=\"evenodd\" fill-opacity=\"1\" stroke=\"#000000\" stroke-opacity=\"1\" stroke-width=\"3.2\"/>\n",
       "<circle clip-path=\"url(#clip712)\" cx=\"1642.06\" cy=\"1383.2\" r=\"14.4\" fill=\"#3da44d\" fill-rule=\"evenodd\" fill-opacity=\"1\" stroke=\"#000000\" stroke-opacity=\"1\" stroke-width=\"3.2\"/>\n",
       "<circle clip-path=\"url(#clip712)\" cx=\"1750.23\" cy=\"1382.61\" r=\"14.4\" fill=\"#3da44d\" fill-rule=\"evenodd\" fill-opacity=\"1\" stroke=\"#000000\" stroke-opacity=\"1\" stroke-width=\"3.2\"/>\n",
       "<circle clip-path=\"url(#clip712)\" cx=\"1858.4\" cy=\"1382.49\" r=\"14.4\" fill=\"#3da44d\" fill-rule=\"evenodd\" fill-opacity=\"1\" stroke=\"#000000\" stroke-opacity=\"1\" stroke-width=\"3.2\"/>\n",
       "<circle clip-path=\"url(#clip712)\" cx=\"1966.58\" cy=\"1381.91\" r=\"14.4\" fill=\"#3da44d\" fill-rule=\"evenodd\" fill-opacity=\"1\" stroke=\"#000000\" stroke-opacity=\"1\" stroke-width=\"3.2\"/>\n",
       "<circle clip-path=\"url(#clip712)\" cx=\"2074.75\" cy=\"1381.44\" r=\"14.4\" fill=\"#3da44d\" fill-rule=\"evenodd\" fill-opacity=\"1\" stroke=\"#000000\" stroke-opacity=\"1\" stroke-width=\"3.2\"/>\n",
       "<circle clip-path=\"url(#clip712)\" cx=\"2182.92\" cy=\"1380.89\" r=\"14.4\" fill=\"#3da44d\" fill-rule=\"evenodd\" fill-opacity=\"1\" stroke=\"#000000\" stroke-opacity=\"1\" stroke-width=\"3.2\"/>\n",
       "<circle clip-path=\"url(#clip712)\" cx=\"2291.1\" cy=\"1380.45\" r=\"14.4\" fill=\"#3da44d\" fill-rule=\"evenodd\" fill-opacity=\"1\" stroke=\"#000000\" stroke-opacity=\"1\" stroke-width=\"3.2\"/>\n",
       "<path clip-path=\"url(#clip710)\" d=\"M246.769 374.156 L605.416 374.156 L605.416 166.796 L246.769 166.796  Z\" fill=\"#ffffff\" fill-rule=\"evenodd\" fill-opacity=\"1\"/>\n",
       "<polyline clip-path=\"url(#clip710)\" style=\"stroke:#000000; stroke-linecap:round; stroke-linejoin:round; stroke-width:4; stroke-opacity:1; fill:none\" points=\"246.769,374.156 605.416,374.156 605.416,166.796 246.769,166.796 246.769,374.156 \"/>\n",
       "<circle clip-path=\"url(#clip710)\" cx=\"343.596\" cy=\"218.636\" r=\"23.04\" fill=\"#009af9\" fill-rule=\"evenodd\" fill-opacity=\"1\" stroke=\"#000000\" stroke-opacity=\"1\" stroke-width=\"5.12\"/>\n",
       "<path clip-path=\"url(#clip710)\" d=\"M462.136 220.268 L462.136 235.916 L457.877 235.916 L457.877 220.407 Q457.877 216.726 456.442 214.897 Q455.006 213.069 452.136 213.069 Q448.687 213.069 446.696 215.268 Q444.705 217.467 444.705 221.263 L444.705 235.916 L440.423 235.916 L440.423 209.99 L444.705 209.99 L444.705 214.018 Q446.233 211.68 448.293 210.522 Q450.377 209.365 453.085 209.365 Q457.553 209.365 459.844 212.143 Q462.136 214.897 462.136 220.268 Z\" fill=\"#000000\" fill-rule=\"evenodd\" fill-opacity=\"1\" /><path clip-path=\"url(#clip710)\" d=\"M482.414 222.883 Q477.252 222.883 475.261 224.064 Q473.27 225.244 473.27 228.092 Q473.27 230.36 474.752 231.703 Q476.256 233.022 478.826 233.022 Q482.367 233.022 484.497 230.522 Q486.65 227.999 486.65 223.832 L486.65 222.883 L482.414 222.883 M490.909 221.124 L490.909 235.916 L486.65 235.916 L486.65 231.981 Q485.191 234.342 483.015 235.476 Q480.84 236.587 477.691 236.587 Q473.71 236.587 471.349 234.365 Q469.011 232.119 469.011 228.369 Q469.011 223.994 471.928 221.772 Q474.867 219.55 480.678 219.55 L486.65 219.55 L486.65 219.133 Q486.65 216.194 484.705 214.596 Q482.784 212.976 479.289 212.976 Q477.066 212.976 474.96 213.508 Q472.853 214.041 470.909 215.106 L470.909 211.17 Q473.247 210.268 475.446 209.828 Q477.645 209.365 479.728 209.365 Q485.353 209.365 488.131 212.282 Q490.909 215.198 490.909 221.124 Z\" fill=\"#000000\" fill-rule=\"evenodd\" fill-opacity=\"1\" /><path clip-path=\"url(#clip710)\" d=\"M499.682 209.99 L503.941 209.99 L503.941 235.916 L499.682 235.916 L499.682 209.99 M499.682 199.897 L503.941 199.897 L503.941 205.291 L499.682 205.291 L499.682 199.897 Z\" fill=\"#000000\" fill-rule=\"evenodd\" fill-opacity=\"1\" /><path clip-path=\"url(#clip710)\" d=\"M509.798 209.99 L514.312 209.99 L522.413 231.749 L530.515 209.99 L535.029 209.99 L525.307 235.916 L519.52 235.916 L509.798 209.99 Z\" fill=\"#000000\" fill-rule=\"evenodd\" fill-opacity=\"1\" /><path clip-path=\"url(#clip710)\" d=\"M563.084 221.888 L563.084 223.971 L543.501 223.971 Q543.779 228.369 546.14 230.684 Q548.524 232.976 552.76 232.976 Q555.214 232.976 557.506 232.374 Q559.821 231.772 562.089 230.569 L562.089 234.596 Q559.797 235.568 557.39 236.078 Q554.983 236.587 552.506 236.587 Q546.302 236.587 542.668 232.976 Q539.057 229.365 539.057 223.207 Q539.057 216.842 542.483 213.115 Q545.932 209.365 551.765 209.365 Q556.997 209.365 560.029 212.745 Q563.084 216.101 563.084 221.888 M558.825 220.638 Q558.779 217.143 556.858 215.059 Q554.96 212.976 551.811 212.976 Q548.247 212.976 546.094 214.99 Q543.964 217.004 543.64 220.661 L558.825 220.638 Z\" fill=\"#000000\" fill-rule=\"evenodd\" fill-opacity=\"1\" /><circle clip-path=\"url(#clip710)\" cx=\"343.596\" cy=\"270.476\" r=\"23.04\" fill=\"#e26f46\" fill-rule=\"evenodd\" fill-opacity=\"1\" stroke=\"#000000\" stroke-opacity=\"1\" stroke-width=\"5.12\"/>\n",
       "<path clip-path=\"url(#clip710)\" d=\"M459.196 274.816 Q459.196 270.117 457.252 267.455 Q455.33 264.77 451.951 264.77 Q448.571 264.77 446.627 267.455 Q444.705 270.117 444.705 274.816 Q444.705 279.515 446.627 282.2 Q448.571 284.862 451.951 284.862 Q455.33 284.862 457.252 282.2 Q459.196 279.515 459.196 274.816 M444.705 265.765 Q446.048 263.45 448.085 262.339 Q450.145 261.205 452.992 261.205 Q457.715 261.205 460.654 264.955 Q463.617 268.705 463.617 274.816 Q463.617 280.927 460.654 284.677 Q457.715 288.427 452.992 288.427 Q450.145 288.427 448.085 287.316 Q446.048 286.182 444.705 283.867 L444.705 287.756 L440.423 287.756 L440.423 251.737 L444.705 251.737 L444.705 265.765 Z\" fill=\"#000000\" fill-rule=\"evenodd\" fill-opacity=\"1\" /><path clip-path=\"url(#clip710)\" d=\"M492.853 273.728 L492.853 275.811 L473.27 275.811 Q473.548 280.209 475.909 282.524 Q478.293 284.816 482.529 284.816 Q484.983 284.816 487.275 284.214 Q489.59 283.612 491.858 282.409 L491.858 286.436 Q489.566 287.408 487.159 287.918 Q484.752 288.427 482.275 288.427 Q476.071 288.427 472.437 284.816 Q468.826 281.205 468.826 275.047 Q468.826 268.682 472.252 264.955 Q475.701 261.205 481.534 261.205 Q486.765 261.205 489.798 264.585 Q492.853 267.941 492.853 273.728 M488.594 272.478 Q488.548 268.983 486.627 266.899 Q484.728 264.816 481.58 264.816 Q478.015 264.816 475.863 266.83 Q473.733 268.844 473.409 272.501 L488.594 272.478 Z\" fill=\"#000000\" fill-rule=\"evenodd\" fill-opacity=\"1\" /><path clip-path=\"url(#clip710)\" d=\"M504.057 254.469 L504.057 261.83 L512.83 261.83 L512.83 265.14 L504.057 265.14 L504.057 279.214 Q504.057 282.385 504.914 283.288 Q505.793 284.191 508.455 284.191 L512.83 284.191 L512.83 287.756 L508.455 287.756 Q503.525 287.756 501.65 285.927 Q499.775 284.075 499.775 279.214 L499.775 265.14 L496.65 265.14 L496.65 261.83 L499.775 261.83 L499.775 254.469 L504.057 254.469 Z\" fill=\"#000000\" fill-rule=\"evenodd\" fill-opacity=\"1\" /><path clip-path=\"url(#clip710)\" d=\"M522.645 254.469 L522.645 261.83 L531.418 261.83 L531.418 265.14 L522.645 265.14 L522.645 279.214 Q522.645 282.385 523.501 283.288 Q524.381 284.191 527.043 284.191 L531.418 284.191 L531.418 287.756 L527.043 287.756 Q522.112 287.756 520.237 285.927 Q518.363 284.075 518.363 279.214 L518.363 265.14 L515.238 265.14 L515.238 261.83 L518.363 261.83 L518.363 254.469 L522.645 254.469 Z\" fill=\"#000000\" fill-rule=\"evenodd\" fill-opacity=\"1\" /><path clip-path=\"url(#clip710)\" d=\"M559.196 273.728 L559.196 275.811 L539.612 275.811 Q539.89 280.209 542.251 282.524 Q544.636 284.816 548.872 284.816 Q551.325 284.816 553.617 284.214 Q555.932 283.612 558.2 282.409 L558.2 286.436 Q555.909 287.408 553.501 287.918 Q551.094 288.427 548.617 288.427 Q542.413 288.427 538.779 284.816 Q535.168 281.205 535.168 275.047 Q535.168 268.682 538.594 264.955 Q542.043 261.205 547.876 261.205 Q553.108 261.205 556.14 264.585 Q559.196 267.941 559.196 273.728 M554.936 272.478 Q554.89 268.983 552.969 266.899 Q551.071 264.816 547.923 264.816 Q544.358 264.816 542.205 266.83 Q540.075 268.844 539.751 272.501 L554.936 272.478 Z\" fill=\"#000000\" fill-rule=\"evenodd\" fill-opacity=\"1\" /><path clip-path=\"url(#clip710)\" d=\"M581.209 265.811 Q580.492 265.395 579.635 265.21 Q578.802 265.001 577.783 265.001 Q574.172 265.001 572.228 267.362 Q570.307 269.7 570.307 274.098 L570.307 287.756 L566.024 287.756 L566.024 261.83 L570.307 261.83 L570.307 265.858 Q571.649 263.497 573.802 262.362 Q575.955 261.205 579.033 261.205 Q579.473 261.205 580.006 261.274 Q580.538 261.321 581.186 261.436 L581.209 265.811 Z\" fill=\"#000000\" fill-rule=\"evenodd\" fill-opacity=\"1\" /><circle clip-path=\"url(#clip710)\" cx=\"343.596\" cy=\"322.316\" r=\"23.04\" fill=\"#3da44d\" fill-rule=\"evenodd\" fill-opacity=\"1\" stroke=\"#000000\" stroke-opacity=\"1\" stroke-width=\"5.12\"/>\n",
       "<path clip-path=\"url(#clip710)\" d=\"M459.196 326.656 Q459.196 321.957 457.252 319.295 Q455.33 316.61 451.951 316.61 Q448.571 316.61 446.627 319.295 Q444.705 321.957 444.705 326.656 Q444.705 331.355 446.627 334.04 Q448.571 336.702 451.951 336.702 Q455.33 336.702 457.252 334.04 Q459.196 331.355 459.196 326.656 M444.705 317.605 Q446.048 315.29 448.085 314.179 Q450.145 313.045 452.992 313.045 Q457.715 313.045 460.654 316.795 Q463.617 320.545 463.617 326.656 Q463.617 332.767 460.654 336.517 Q457.715 340.267 452.992 340.267 Q450.145 340.267 448.085 339.156 Q446.048 338.022 444.705 335.707 L444.705 339.596 L440.423 339.596 L440.423 303.577 L444.705 303.577 L444.705 317.605 Z\" fill=\"#000000\" fill-rule=\"evenodd\" fill-opacity=\"1\" /><path clip-path=\"url(#clip710)\" d=\"M470.678 303.577 L474.937 303.577 L474.937 339.596 L470.678 339.596 L470.678 303.577 Z\" fill=\"#000000\" fill-rule=\"evenodd\" fill-opacity=\"1\" /><path clip-path=\"url(#clip710)\" d=\"M495.631 326.563 Q490.469 326.563 488.478 327.744 Q486.488 328.924 486.488 331.772 Q486.488 334.04 487.969 335.383 Q489.474 336.702 492.043 336.702 Q495.585 336.702 497.714 334.202 Q499.867 331.679 499.867 327.512 L499.867 326.563 L495.631 326.563 M504.126 324.804 L504.126 339.596 L499.867 339.596 L499.867 335.661 Q498.409 338.022 496.233 339.156 Q494.057 340.267 490.909 340.267 Q486.927 340.267 484.566 338.045 Q482.228 335.799 482.228 332.049 Q482.228 327.674 485.145 325.452 Q488.085 323.23 493.895 323.23 L499.867 323.23 L499.867 322.813 Q499.867 319.874 497.923 318.276 Q496.002 316.656 492.506 316.656 Q490.284 316.656 488.177 317.188 Q486.071 317.721 484.127 318.786 L484.127 314.85 Q486.465 313.948 488.664 313.508 Q490.863 313.045 492.946 313.045 Q498.571 313.045 501.349 315.962 Q504.126 318.878 504.126 324.804 Z\" fill=\"#000000\" fill-rule=\"evenodd\" fill-opacity=\"1\" /><path clip-path=\"url(#clip710)\" d=\"M529.427 314.434 L529.427 318.462 Q527.622 317.536 525.677 317.073 Q523.733 316.61 521.65 316.61 Q518.478 316.61 516.881 317.582 Q515.307 318.554 515.307 320.499 Q515.307 321.98 516.441 322.837 Q517.575 323.67 521.001 324.434 L522.46 324.758 Q526.997 325.73 528.895 327.512 Q530.816 329.272 530.816 332.443 Q530.816 336.054 527.946 338.161 Q525.099 340.267 520.099 340.267 Q518.015 340.267 515.747 339.85 Q513.501 339.457 511.001 338.647 L511.001 334.249 Q513.363 335.475 515.654 336.1 Q517.946 336.702 520.191 336.702 Q523.2 336.702 524.821 335.684 Q526.441 334.642 526.441 332.767 Q526.441 331.031 525.261 330.105 Q524.103 329.179 520.145 328.323 L518.663 327.975 Q514.705 327.142 512.946 325.429 Q511.187 323.693 511.187 320.684 Q511.187 317.026 513.779 315.036 Q516.372 313.045 521.14 313.045 Q523.501 313.045 525.585 313.392 Q527.668 313.739 529.427 314.434 Z\" fill=\"#000000\" fill-rule=\"evenodd\" fill-opacity=\"1\" /></svg>\n"
      ]
     },
     "execution_count": 39,
     "metadata": {},
     "output_type": "execute_result"
    }
   ],
   "source": [
    "df_grouped = groupby(df, [:length, :type])\n",
    "df_plot = combine(df_grouped, \"time\" => mean, \"time\" => std)\n",
    "scatter([ df_plot[df_plot[:,2] .== \"naive\", :].length df_plot[df_plot[:,2] .== \"better\", :].length df_plot[df_plot[:,2] .== \"blas\", :].length],\n",
    "    [ df_plot[df_plot[:,2] .== \"naive\", :].time_mean  df_plot[df_plot[:,2] .== \"better\", :].time_mean df_plot[df_plot[:,2] .== \"blas\", :].time_mean ],\n",
    "    yerr = df_plot[:, :time_std],\n",
    "    label = [ \"naive\" \"better\" \"blas\"],\n",
    "    title = \"Time of multiplying matrices\",\n",
    "    xlab = \"length [n]\",\n",
    "    ylab = \"time [s]\"\n",
    ")"
   ]
  },
  {
   "cell_type": "markdown",
   "metadata": {},
   "source": [
    "#### Zadanie 2"
   ]
  },
  {
   "cell_type": "markdown",
   "metadata": {},
   "source": [
    "kod w C:"
   ]
  },
  {
   "cell_type": "markdown",
   "metadata": {},
   "source": [
    "```\n",
    "#include <stdio.h>\n",
    "#include <stdlib.h>\n",
    "#include <gsl/gsl_sf_bessel.h>\n",
    "#include <gsl/gsl_blas.h>\n",
    "#include <sys/times.h>\n",
    "#include <unistd.h>\n",
    "#include <fcntl.h>\n",
    "#include <time.h>\n",
    "\n",
    "#define START_SIZE 100\n",
    "#define MAX_SIZE 1000\n",
    "#define STEP 50\n",
    "\n",
    "\n",
    "double get_time()\n",
    "{\n",
    "    return (double)clock() / CLOCKS_PER_SEC;\n",
    "}\n",
    "void generate_line(int size, double time1, double time2, double time3)\n",
    "{\n",
    "    FILE *report = fopen(\"c_results.csv\", \"a\");\n",
    "    fprintf(report, \"%d,%f,%f,%f\\n\", size, time1, time2, time3);\n",
    "    fclose(report);\n",
    "}\n",
    "\n",
    "void naive_multiplication(double **A, double **B, double **C, int size)\n",
    "{\n",
    "    for (int i = 0; i < size; i++)\n",
    "    {\n",
    "        for (int j = 0; j < size; j++)\n",
    "        {\n",
    "            for (int k = 0; k < size; k++)\n",
    "            {\n",
    "                C[i][j] += A[i][k] * B[k][j];\n",
    "            }\n",
    "        }\n",
    "    }\n",
    "}\n",
    "void better_multiplication(double **A, double **B, double **C, int size)\n",
    "{\n",
    "    for (int i = 0; i < size; i++)\n",
    "    {\n",
    "        for (int k = 0; k < size; k++)\n",
    "        {\n",
    "            for (int j = 0; j < size; j++)\n",
    "            {\n",
    "                C[i][j] += A[i][k] * B[k][j];\n",
    "            }\n",
    "        }\n",
    "    }\n",
    "}\n",
    "void blas_multiplication(double *a, double *b, double *c, int rows)\n",
    "{\n",
    "    gsl_matrix_view D = gsl_matrix_view_array(a, rows, rows);\n",
    "    gsl_matrix_view E = gsl_matrix_view_array(b, rows, rows);\n",
    "    gsl_matrix_view F = gsl_matrix_view_array(c, rows, rows);\n",
    "    gsl_blas_dgemm(CblasNoTrans, CblasNoTrans,\n",
    "                   1.0, &D.matrix, &E.matrix,\n",
    "                   0.0, &F.matrix);\n",
    "}\n",
    "\n",
    "void declare_matrix(double ***A, double ***B, double ***C, double **a, double **b, double **c, int size)\n",
    "{\n",
    "    (*A) = calloc(size, sizeof(double *));\n",
    "    (*B) = calloc(size, sizeof(double *));\n",
    "    (*C) = calloc(size, sizeof(double *));\n",
    "    (*a) = calloc(size * size, sizeof(double));\n",
    "    (*b) = calloc(size * size, sizeof(double));\n",
    "    (*c) = calloc(size * size, sizeof(double));\n",
    "    for (int i = 0; i < size; i++)\n",
    "    {\n",
    "        (*A)[i] = calloc(size, sizeof(double));\n",
    "        (*B)[i] = calloc(size, sizeof(double));\n",
    "        (*C)[i] = calloc(size, sizeof(double));\n",
    "    }\n",
    "    for (int i = 0; i < size; i++)\n",
    "    {\n",
    "        for (int j = 0; j < size; j++)\n",
    "        {\n",
    "            (*A)[i][j] = rand() % 10;\n",
    "            (*B)[i][j] = rand() % 10;\n",
    "            (*a)[i*10 + j] = rand() % 10;\n",
    "            (*b)[i*10 + j] = rand() % 10;\n",
    "        }\n",
    "    }\n",
    "}\n",
    "\n",
    "void free_matrix(double ***A, double ***B, double ***C, double **a, double **b, double **c, int size){\n",
    "    for (int i = 0; i < size; i++){\n",
    "        free((*A)[i]);\n",
    "        free((*B)[i]);\n",
    "        free((*C)[i]);\n",
    "    }\n",
    "    free((*A));\n",
    "    free((*B));\n",
    "    free((*C));\n",
    "    free((*a));\n",
    "    free((*b));\n",
    "    free((*c));\n",
    "}\n",
    "\n",
    "void test()\n",
    "{\n",
    "    double **A, **B, **C;\n",
    "    double *a, *b, *c;\n",
    "    double time1, time2, time3;\n",
    "    for (int i = START_SIZE; i < MAX_SIZE; i += STEP)\n",
    "    {\n",
    "        declare_matrix(&A, &B, &C, &a, &b, &c, i);\n",
    "        double start, end;\n",
    "        start = get_time();\n",
    "        naive_multiplication(A, B, C, i);\n",
    "        end = get_time();\n",
    "        time1 = end - start;\n",
    "\n",
    "        start = get_time();\n",
    "        better_multiplication(A, B, C, i);\n",
    "        end = get_time();\n",
    "        time2 = end - start;\n",
    "\n",
    "        start = get_time();\n",
    "        blas_multiplication(a, b, c, i);\n",
    "        end = get_time();\n",
    "        time3 = end - start;\n",
    "\n",
    "        generate_line(i, time1, time2, time3);\n",
    "\n",
    "        free_matrix(&A, &B, &C, &a, &b, &c, i);\n",
    "    }\n",
    "}\n",
    "\n",
    "int main()\n",
    "{\n",
    "    test();\n",
    "    return 0;\n",
    "}\n",
    "```"
   ]
  },
  {
   "cell_type": "code",
   "execution_count": 40,
   "metadata": {},
   "outputs": [
    {
     "data": {
      "text/html": [
       "<div><div style = \"float: left;\"><span>54×3 DataFrame</span></div><div style = \"float: right;\"><span style = \"font-style: italic;\">29 rows omitted</span></div><div style = \"clear: both;\"></div></div><div class = \"data-frame\" style = \"overflow-x: scroll;\"><table class = \"data-frame\" style = \"margin-bottom: 6px;\"><thead><tr class = \"header\"><th class = \"rowNumber\" style = \"font-weight: bold; text-align: right;\">Row</th><th style = \"text-align: left;\">length</th><th style = \"text-align: left;\">type</th><th style = \"text-align: left;\">time</th></tr><tr class = \"subheader headerLastRow\"><th class = \"rowNumber\" style = \"font-weight: bold; text-align: right;\"></th><th title = \"Int64\" style = \"text-align: left;\">Int64</th><th title = \"String7\" style = \"text-align: left;\">String7</th><th title = \"Float64\" style = \"text-align: left;\">Float64</th></tr></thead><tbody><tr><td class = \"rowNumber\" style = \"font-weight: bold; text-align: right;\">1</td><td style = \"text-align: right;\">100</td><td style = \"text-align: left;\">naive</td><td style = \"text-align: right;\">0.011205</td></tr><tr><td class = \"rowNumber\" style = \"font-weight: bold; text-align: right;\">2</td><td style = \"text-align: right;\">100</td><td style = \"text-align: left;\">better</td><td style = \"text-align: right;\">0.005638</td></tr><tr><td class = \"rowNumber\" style = \"font-weight: bold; text-align: right;\">3</td><td style = \"text-align: right;\">100</td><td style = \"text-align: left;\">blas</td><td style = \"text-align: right;\">3.8e-5</td></tr><tr><td class = \"rowNumber\" style = \"font-weight: bold; text-align: right;\">4</td><td style = \"text-align: right;\">150</td><td style = \"text-align: left;\">naive</td><td style = \"text-align: right;\">0.01126</td></tr><tr><td class = \"rowNumber\" style = \"font-weight: bold; text-align: right;\">5</td><td style = \"text-align: right;\">150</td><td style = \"text-align: left;\">better</td><td style = \"text-align: right;\">0.010045</td></tr><tr><td class = \"rowNumber\" style = \"font-weight: bold; text-align: right;\">6</td><td style = \"text-align: right;\">150</td><td style = \"text-align: left;\">blas</td><td style = \"text-align: right;\">9.7e-5</td></tr><tr><td class = \"rowNumber\" style = \"font-weight: bold; text-align: right;\">7</td><td style = \"text-align: right;\">200</td><td style = \"text-align: left;\">naive</td><td style = \"text-align: right;\">0.025948</td></tr><tr><td class = \"rowNumber\" style = \"font-weight: bold; text-align: right;\">8</td><td style = \"text-align: right;\">200</td><td style = \"text-align: left;\">better</td><td style = \"text-align: right;\">0.025782</td></tr><tr><td class = \"rowNumber\" style = \"font-weight: bold; text-align: right;\">9</td><td style = \"text-align: right;\">200</td><td style = \"text-align: left;\">blas</td><td style = \"text-align: right;\">0.000214</td></tr><tr><td class = \"rowNumber\" style = \"font-weight: bold; text-align: right;\">10</td><td style = \"text-align: right;\">250</td><td style = \"text-align: left;\">naive</td><td style = \"text-align: right;\">0.088307</td></tr><tr><td class = \"rowNumber\" style = \"font-weight: bold; text-align: right;\">11</td><td style = \"text-align: right;\">250</td><td style = \"text-align: left;\">better</td><td style = \"text-align: right;\">0.053507</td></tr><tr><td class = \"rowNumber\" style = \"font-weight: bold; text-align: right;\">12</td><td style = \"text-align: right;\">250</td><td style = \"text-align: left;\">blas</td><td style = \"text-align: right;\">0.000213</td></tr><tr><td class = \"rowNumber\" style = \"font-weight: bold; text-align: right;\">13</td><td style = \"text-align: right;\">300</td><td style = \"text-align: left;\">naive</td><td style = \"text-align: right;\">0.088563</td></tr><tr><td style = \"text-align: right;\">&vellip;</td><td style = \"text-align: right;\">&vellip;</td><td style = \"text-align: right;\">&vellip;</td><td style = \"text-align: right;\">&vellip;</td></tr><tr><td class = \"rowNumber\" style = \"font-weight: bold; text-align: right;\">43</td><td style = \"text-align: right;\">800</td><td style = \"text-align: left;\">naive</td><td style = \"text-align: right;\">2.5002</td></tr><tr><td class = \"rowNumber\" style = \"font-weight: bold; text-align: right;\">44</td><td style = \"text-align: right;\">800</td><td style = \"text-align: left;\">better</td><td style = \"text-align: right;\">1.65366</td></tr><tr><td class = \"rowNumber\" style = \"font-weight: bold; text-align: right;\">45</td><td style = \"text-align: right;\">800</td><td style = \"text-align: left;\">blas</td><td style = \"text-align: right;\">0.002008</td></tr><tr><td class = \"rowNumber\" style = \"font-weight: bold; text-align: right;\">46</td><td style = \"text-align: right;\">850</td><td style = \"text-align: left;\">naive</td><td style = \"text-align: right;\">2.26103</td></tr><tr><td class = \"rowNumber\" style = \"font-weight: bold; text-align: right;\">47</td><td style = \"text-align: right;\">850</td><td style = \"text-align: left;\">better</td><td style = \"text-align: right;\">1.88413</td></tr><tr><td class = \"rowNumber\" style = \"font-weight: bold; text-align: right;\">48</td><td style = \"text-align: right;\">850</td><td style = \"text-align: left;\">blas</td><td style = \"text-align: right;\">0.001804</td></tr><tr><td class = \"rowNumber\" style = \"font-weight: bold; text-align: right;\">49</td><td style = \"text-align: right;\">900</td><td style = \"text-align: left;\">naive</td><td style = \"text-align: right;\">3.11359</td></tr><tr><td class = \"rowNumber\" style = \"font-weight: bold; text-align: right;\">50</td><td style = \"text-align: right;\">900</td><td style = \"text-align: left;\">better</td><td style = \"text-align: right;\">2.31732</td></tr><tr><td class = \"rowNumber\" style = \"font-weight: bold; text-align: right;\">51</td><td style = \"text-align: right;\">900</td><td style = \"text-align: left;\">blas</td><td style = \"text-align: right;\">0.001899</td></tr><tr><td class = \"rowNumber\" style = \"font-weight: bold; text-align: right;\">52</td><td style = \"text-align: right;\">950</td><td style = \"text-align: left;\">naive</td><td style = \"text-align: right;\">3.52673</td></tr><tr><td class = \"rowNumber\" style = \"font-weight: bold; text-align: right;\">53</td><td style = \"text-align: right;\">950</td><td style = \"text-align: left;\">better</td><td style = \"text-align: right;\">2.71713</td></tr><tr><td class = \"rowNumber\" style = \"font-weight: bold; text-align: right;\">54</td><td style = \"text-align: right;\">950</td><td style = \"text-align: left;\">blas</td><td style = \"text-align: right;\">0.002208</td></tr></tbody></table></div>"
      ],
      "text/latex": [
       "\\begin{tabular}{r|ccc}\n",
       "\t& length & type & time\\\\\n",
       "\t\\hline\n",
       "\t& Int64 & String7 & Float64\\\\\n",
       "\t\\hline\n",
       "\t1 & 100 & naive & 0.011205 \\\\\n",
       "\t2 & 100 & better & 0.005638 \\\\\n",
       "\t3 & 100 & blas & 3.8e-5 \\\\\n",
       "\t4 & 150 & naive & 0.01126 \\\\\n",
       "\t5 & 150 & better & 0.010045 \\\\\n",
       "\t6 & 150 & blas & 9.7e-5 \\\\\n",
       "\t7 & 200 & naive & 0.025948 \\\\\n",
       "\t8 & 200 & better & 0.025782 \\\\\n",
       "\t9 & 200 & blas & 0.000214 \\\\\n",
       "\t10 & 250 & naive & 0.088307 \\\\\n",
       "\t11 & 250 & better & 0.053507 \\\\\n",
       "\t12 & 250 & blas & 0.000213 \\\\\n",
       "\t13 & 300 & naive & 0.088563 \\\\\n",
       "\t14 & 300 & better & 0.080311 \\\\\n",
       "\t15 & 300 & blas & 0.000321 \\\\\n",
       "\t16 & 350 & naive & 0.141549 \\\\\n",
       "\t17 & 350 & better & 0.128145 \\\\\n",
       "\t18 & 350 & blas & 0.000502 \\\\\n",
       "\t19 & 400 & naive & 0.210369 \\\\\n",
       "\t20 & 400 & better & 0.187958 \\\\\n",
       "\t21 & 400 & blas & 0.000603 \\\\\n",
       "\t22 & 450 & naive & 0.295733 \\\\\n",
       "\t23 & 450 & better & 0.2666 \\\\\n",
       "\t24 & 450 & blas & 0.000764 \\\\\n",
       "\t25 & 500 & naive & 0.408958 \\\\\n",
       "\t26 & 500 & better & 0.36459 \\\\\n",
       "\t27 & 500 & blas & 0.000883 \\\\\n",
       "\t28 & 550 & naive & 0.537535 \\\\\n",
       "\t29 & 550 & better & 0.485213 \\\\\n",
       "\t30 & 550 & blas & 0.001024 \\\\\n",
       "\t$\\dots$ & $\\dots$ & $\\dots$ & $\\dots$ \\\\\n",
       "\\end{tabular}\n"
      ],
      "text/plain": [
       "\u001b[1m54×3 DataFrame\u001b[0m\n",
       "\u001b[1m Row \u001b[0m│\u001b[1m length \u001b[0m\u001b[1m type    \u001b[0m\u001b[1m time     \u001b[0m\n",
       "     │\u001b[90m Int64  \u001b[0m\u001b[90m String7 \u001b[0m\u001b[90m Float64  \u001b[0m\n",
       "─────┼───────────────────────────\n",
       "   1 │    100  naive    0.011205\n",
       "   2 │    100  better   0.005638\n",
       "   3 │    100  blas     3.8e-5\n",
       "   4 │    150  naive    0.01126\n",
       "   5 │    150  better   0.010045\n",
       "   6 │    150  blas     9.7e-5\n",
       "   7 │    200  naive    0.025948\n",
       "   8 │    200  better   0.025782\n",
       "   9 │    200  blas     0.000214\n",
       "  10 │    250  naive    0.088307\n",
       "  11 │    250  better   0.053507\n",
       "  ⋮  │   ⋮        ⋮        ⋮\n",
       "  45 │    800  blas     0.002008\n",
       "  46 │    850  naive    2.26103\n",
       "  47 │    850  better   1.88413\n",
       "  48 │    850  blas     0.001804\n",
       "  49 │    900  naive    3.11359\n",
       "  50 │    900  better   2.31732\n",
       "  51 │    900  blas     0.001899\n",
       "  52 │    950  naive    3.52673\n",
       "  53 │    950  better   2.71713\n",
       "  54 │    950  blas     0.002208\n",
       "\u001b[36m                  33 rows omitted\u001b[0m"
      ]
     },
     "execution_count": 40,
     "metadata": {},
     "output_type": "execute_result"
    }
   ],
   "source": [
    "c_df = CSV.read(\"c_results.csv\", delim=\",\", header=false, DataFrame)\n",
    "rename!(c_df, [:length, :type, :time])"
   ]
  },
  {
   "cell_type": "code",
   "execution_count": 41,
   "metadata": {},
   "outputs": [
    {
     "data": {
      "image/svg+xml": [
       "<?xml version=\"1.0\" encoding=\"utf-8\"?>\n",
       "<svg xmlns=\"http://www.w3.org/2000/svg\" xmlns:xlink=\"http://www.w3.org/1999/xlink\" width=\"600\" height=\"400\" viewBox=\"0 0 2400 1600\">\n",
       "<defs>\n",
       "  <clipPath id=\"clip750\">\n",
       "    <rect x=\"0\" y=\"0\" width=\"2400\" height=\"1600\"/>\n",
       "  </clipPath>\n",
       "</defs>\n",
       "<path clip-path=\"url(#clip750)\" d=\"M0 1600 L2400 1600 L2400 0 L0 0  Z\" fill=\"#ffffff\" fill-rule=\"evenodd\" fill-opacity=\"1\"/>\n",
       "<defs>\n",
       "  <clipPath id=\"clip751\">\n",
       "    <rect x=\"480\" y=\"0\" width=\"1681\" height=\"1600\"/>\n",
       "  </clipPath>\n",
       "</defs>\n",
       "<path clip-path=\"url(#clip750)\" d=\"M174.149 1423.18 L2352.76 1423.18 L2352.76 123.472 L174.149 123.472  Z\" fill=\"#ffffff\" fill-rule=\"evenodd\" fill-opacity=\"1\"/>\n",
       "<defs>\n",
       "  <clipPath id=\"clip752\">\n",
       "    <rect x=\"174\" y=\"123\" width=\"2180\" height=\"1301\"/>\n",
       "  </clipPath>\n",
       "</defs>\n",
       "<polyline clip-path=\"url(#clip752)\" style=\"stroke:#000000; stroke-linecap:round; stroke-linejoin:round; stroke-width:2; stroke-opacity:0.1; fill:none\" points=\"477.606,1423.18 477.606,123.472 \"/>\n",
       "<polyline clip-path=\"url(#clip752)\" style=\"stroke:#000000; stroke-linecap:round; stroke-linejoin:round; stroke-width:2; stroke-opacity:0.1; fill:none\" points=\"961.204,1423.18 961.204,123.472 \"/>\n",
       "<polyline clip-path=\"url(#clip752)\" style=\"stroke:#000000; stroke-linecap:round; stroke-linejoin:round; stroke-width:2; stroke-opacity:0.1; fill:none\" points=\"1444.8,1423.18 1444.8,123.472 \"/>\n",
       "<polyline clip-path=\"url(#clip752)\" style=\"stroke:#000000; stroke-linecap:round; stroke-linejoin:round; stroke-width:2; stroke-opacity:0.1; fill:none\" points=\"1928.4,1423.18 1928.4,123.472 \"/>\n",
       "<polyline clip-path=\"url(#clip750)\" style=\"stroke:#000000; stroke-linecap:round; stroke-linejoin:round; stroke-width:4; stroke-opacity:1; fill:none\" points=\"174.149,1423.18 2352.76,1423.18 \"/>\n",
       "<polyline clip-path=\"url(#clip750)\" style=\"stroke:#000000; stroke-linecap:round; stroke-linejoin:round; stroke-width:4; stroke-opacity:1; fill:none\" points=\"477.606,1423.18 477.606,1404.28 \"/>\n",
       "<polyline clip-path=\"url(#clip750)\" style=\"stroke:#000000; stroke-linecap:round; stroke-linejoin:round; stroke-width:4; stroke-opacity:1; fill:none\" points=\"961.204,1423.18 961.204,1404.28 \"/>\n",
       "<polyline clip-path=\"url(#clip750)\" style=\"stroke:#000000; stroke-linecap:round; stroke-linejoin:round; stroke-width:4; stroke-opacity:1; fill:none\" points=\"1444.8,1423.18 1444.8,1404.28 \"/>\n",
       "<polyline clip-path=\"url(#clip750)\" style=\"stroke:#000000; stroke-linecap:round; stroke-linejoin:round; stroke-width:4; stroke-opacity:1; fill:none\" points=\"1928.4,1423.18 1928.4,1404.28 \"/>\n",
       "<path clip-path=\"url(#clip750)\" d=\"M441.299 1481.64 L457.618 1481.64 L457.618 1485.58 L435.674 1485.58 L435.674 1481.64 Q438.336 1478.89 442.919 1474.26 Q447.526 1469.61 448.706 1468.27 Q450.951 1465.74 451.831 1464.01 Q452.734 1462.25 452.734 1460.56 Q452.734 1457.8 450.789 1456.07 Q448.868 1454.33 445.766 1454.33 Q443.567 1454.33 441.114 1455.09 Q438.683 1455.86 435.905 1457.41 L435.905 1452.69 Q438.729 1451.55 441.183 1450.97 Q443.637 1450.39 445.674 1450.39 Q451.044 1450.39 454.238 1453.08 Q457.433 1455.77 457.433 1460.26 Q457.433 1462.39 456.623 1464.31 Q455.836 1466.2 453.729 1468.8 Q453.15 1469.47 450.049 1472.69 Q446.947 1475.88 441.299 1481.64 Z\" fill=\"#000000\" fill-rule=\"evenodd\" fill-opacity=\"1\" /><path clip-path=\"url(#clip750)\" d=\"M477.433 1454.1 Q473.822 1454.1 471.993 1457.66 Q470.187 1461.2 470.187 1468.33 Q470.187 1475.44 471.993 1479.01 Q473.822 1482.55 477.433 1482.55 Q481.067 1482.55 482.873 1479.01 Q484.701 1475.44 484.701 1468.33 Q484.701 1461.2 482.873 1457.66 Q481.067 1454.1 477.433 1454.1 M477.433 1450.39 Q483.243 1450.39 486.298 1455 Q489.377 1459.58 489.377 1468.33 Q489.377 1477.06 486.298 1481.67 Q483.243 1486.25 477.433 1486.25 Q471.623 1486.25 468.544 1481.67 Q465.488 1477.06 465.488 1468.33 Q465.488 1459.58 468.544 1455 Q471.623 1450.39 477.433 1450.39 Z\" fill=\"#000000\" fill-rule=\"evenodd\" fill-opacity=\"1\" /><path clip-path=\"url(#clip750)\" d=\"M507.595 1454.1 Q503.984 1454.1 502.155 1457.66 Q500.349 1461.2 500.349 1468.33 Q500.349 1475.44 502.155 1479.01 Q503.984 1482.55 507.595 1482.55 Q511.229 1482.55 513.034 1479.01 Q514.863 1475.44 514.863 1468.33 Q514.863 1461.2 513.034 1457.66 Q511.229 1454.1 507.595 1454.1 M507.595 1450.39 Q513.405 1450.39 516.46 1455 Q519.539 1459.58 519.539 1468.33 Q519.539 1477.06 516.46 1481.67 Q513.405 1486.25 507.595 1486.25 Q501.784 1486.25 498.706 1481.67 Q495.65 1477.06 495.65 1468.33 Q495.65 1459.58 498.706 1455 Q501.784 1450.39 507.595 1450.39 Z\" fill=\"#000000\" fill-rule=\"evenodd\" fill-opacity=\"1\" /><path clip-path=\"url(#clip750)\" d=\"M934.294 1455.09 L922.489 1473.54 L934.294 1473.54 L934.294 1455.09 M933.068 1451.02 L938.947 1451.02 L938.947 1473.54 L943.878 1473.54 L943.878 1477.43 L938.947 1477.43 L938.947 1485.58 L934.294 1485.58 L934.294 1477.43 L918.693 1477.43 L918.693 1472.92 L933.068 1451.02 Z\" fill=\"#000000\" fill-rule=\"evenodd\" fill-opacity=\"1\" /><path clip-path=\"url(#clip750)\" d=\"M961.609 1454.1 Q957.998 1454.1 956.169 1457.66 Q954.364 1461.2 954.364 1468.33 Q954.364 1475.44 956.169 1479.01 Q957.998 1482.55 961.609 1482.55 Q965.243 1482.55 967.049 1479.01 Q968.878 1475.44 968.878 1468.33 Q968.878 1461.2 967.049 1457.66 Q965.243 1454.1 961.609 1454.1 M961.609 1450.39 Q967.419 1450.39 970.475 1455 Q973.553 1459.58 973.553 1468.33 Q973.553 1477.06 970.475 1481.67 Q967.419 1486.25 961.609 1486.25 Q955.799 1486.25 952.72 1481.67 Q949.665 1477.06 949.665 1468.33 Q949.665 1459.58 952.72 1455 Q955.799 1450.39 961.609 1450.39 Z\" fill=\"#000000\" fill-rule=\"evenodd\" fill-opacity=\"1\" /><path clip-path=\"url(#clip750)\" d=\"M991.771 1454.1 Q988.16 1454.1 986.331 1457.66 Q984.526 1461.2 984.526 1468.33 Q984.526 1475.44 986.331 1479.01 Q988.16 1482.55 991.771 1482.55 Q995.405 1482.55 997.211 1479.01 Q999.039 1475.44 999.039 1468.33 Q999.039 1461.2 997.211 1457.66 Q995.405 1454.1 991.771 1454.1 M991.771 1450.39 Q997.581 1450.39 1000.64 1455 Q1003.72 1459.58 1003.72 1468.33 Q1003.72 1477.06 1000.64 1481.67 Q997.581 1486.25 991.771 1486.25 Q985.961 1486.25 982.882 1481.67 Q979.827 1477.06 979.827 1468.33 Q979.827 1459.58 982.882 1455 Q985.961 1450.39 991.771 1450.39 Z\" fill=\"#000000\" fill-rule=\"evenodd\" fill-opacity=\"1\" /><path clip-path=\"url(#clip750)\" d=\"M1415.13 1466.44 Q1411.98 1466.44 1410.13 1468.59 Q1408.3 1470.74 1408.3 1474.49 Q1408.3 1478.22 1410.13 1480.39 Q1411.98 1482.55 1415.13 1482.55 Q1418.27 1482.55 1420.1 1480.39 Q1421.95 1478.22 1421.95 1474.49 Q1421.95 1470.74 1420.1 1468.59 Q1418.27 1466.44 1415.13 1466.44 M1424.41 1451.78 L1424.41 1456.04 Q1422.65 1455.21 1420.84 1454.77 Q1419.06 1454.33 1417.3 1454.33 Q1412.67 1454.33 1410.22 1457.45 Q1407.79 1460.58 1407.44 1466.9 Q1408.81 1464.89 1410.87 1463.82 Q1412.93 1462.73 1415.4 1462.73 Q1420.61 1462.73 1423.62 1465.9 Q1426.65 1469.05 1426.65 1474.49 Q1426.65 1479.82 1423.51 1483.03 Q1420.36 1486.25 1415.13 1486.25 Q1409.13 1486.25 1405.96 1481.67 Q1402.79 1477.06 1402.79 1468.33 Q1402.79 1460.14 1406.68 1455.28 Q1410.57 1450.39 1417.12 1450.39 Q1418.88 1450.39 1420.66 1450.74 Q1422.46 1451.09 1424.41 1451.78 Z\" fill=\"#000000\" fill-rule=\"evenodd\" fill-opacity=\"1\" /><path clip-path=\"url(#clip750)\" d=\"M1444.71 1454.1 Q1441.1 1454.1 1439.27 1457.66 Q1437.46 1461.2 1437.46 1468.33 Q1437.46 1475.44 1439.27 1479.01 Q1441.1 1482.55 1444.71 1482.55 Q1448.34 1482.55 1450.15 1479.01 Q1451.98 1475.44 1451.98 1468.33 Q1451.98 1461.2 1450.15 1457.66 Q1448.34 1454.1 1444.71 1454.1 M1444.71 1450.39 Q1450.52 1450.39 1453.57 1455 Q1456.65 1459.58 1456.65 1468.33 Q1456.65 1477.06 1453.57 1481.67 Q1450.52 1486.25 1444.71 1486.25 Q1438.9 1486.25 1435.82 1481.67 Q1432.76 1477.06 1432.76 1468.33 Q1432.76 1459.58 1435.82 1455 Q1438.9 1450.39 1444.71 1450.39 Z\" fill=\"#000000\" fill-rule=\"evenodd\" fill-opacity=\"1\" /><path clip-path=\"url(#clip750)\" d=\"M1474.87 1454.1 Q1471.26 1454.1 1469.43 1457.66 Q1467.63 1461.2 1467.63 1468.33 Q1467.63 1475.44 1469.43 1479.01 Q1471.26 1482.55 1474.87 1482.55 Q1478.51 1482.55 1480.31 1479.01 Q1482.14 1475.44 1482.14 1468.33 Q1482.14 1461.2 1480.31 1457.66 Q1478.51 1454.1 1474.87 1454.1 M1474.87 1450.39 Q1480.68 1450.39 1483.74 1455 Q1486.82 1459.58 1486.82 1468.33 Q1486.82 1477.06 1483.74 1481.67 Q1480.68 1486.25 1474.87 1486.25 Q1469.06 1486.25 1465.98 1481.67 Q1462.93 1477.06 1462.93 1468.33 Q1462.93 1459.58 1465.98 1455 Q1469.06 1450.39 1474.87 1450.39 Z\" fill=\"#000000\" fill-rule=\"evenodd\" fill-opacity=\"1\" /><path clip-path=\"url(#clip750)\" d=\"M1898.19 1469.17 Q1894.86 1469.17 1892.94 1470.95 Q1891.04 1472.73 1891.04 1475.86 Q1891.04 1478.98 1892.94 1480.77 Q1894.86 1482.55 1898.19 1482.55 Q1901.52 1482.55 1903.45 1480.77 Q1905.37 1478.96 1905.37 1475.86 Q1905.37 1472.73 1903.45 1470.95 Q1901.55 1469.17 1898.19 1469.17 M1893.51 1467.18 Q1890.51 1466.44 1888.82 1464.38 Q1887.15 1462.32 1887.15 1459.35 Q1887.15 1455.21 1890.09 1452.8 Q1893.05 1450.39 1898.19 1450.39 Q1903.35 1450.39 1906.29 1452.8 Q1909.23 1455.21 1909.23 1459.35 Q1909.23 1462.32 1907.54 1464.38 Q1905.88 1466.44 1902.89 1467.18 Q1906.27 1467.96 1908.14 1470.26 Q1910.04 1472.55 1910.04 1475.86 Q1910.04 1480.88 1906.96 1483.57 Q1903.91 1486.25 1898.19 1486.25 Q1892.47 1486.25 1889.39 1483.57 Q1886.34 1480.88 1886.34 1475.86 Q1886.34 1472.55 1888.24 1470.26 Q1890.14 1467.96 1893.51 1467.18 M1891.8 1459.79 Q1891.8 1462.48 1893.47 1463.98 Q1895.16 1465.49 1898.19 1465.49 Q1901.2 1465.49 1902.89 1463.98 Q1904.6 1462.48 1904.6 1459.79 Q1904.6 1457.11 1902.89 1455.6 Q1901.2 1454.1 1898.19 1454.1 Q1895.16 1454.1 1893.47 1455.6 Q1891.8 1457.11 1891.8 1459.79 Z\" fill=\"#000000\" fill-rule=\"evenodd\" fill-opacity=\"1\" /><path clip-path=\"url(#clip750)\" d=\"M1928.35 1454.1 Q1924.74 1454.1 1922.91 1457.66 Q1921.11 1461.2 1921.11 1468.33 Q1921.11 1475.44 1922.91 1479.01 Q1924.74 1482.55 1928.35 1482.55 Q1931.99 1482.55 1933.79 1479.01 Q1935.62 1475.44 1935.62 1468.33 Q1935.62 1461.2 1933.79 1457.66 Q1931.99 1454.1 1928.35 1454.1 M1928.35 1450.39 Q1934.16 1450.39 1937.22 1455 Q1940.3 1459.58 1940.3 1468.33 Q1940.3 1477.06 1937.22 1481.67 Q1934.16 1486.25 1928.35 1486.25 Q1922.54 1486.25 1919.46 1481.67 Q1916.41 1477.06 1916.41 1468.33 Q1916.41 1459.58 1919.46 1455 Q1922.54 1450.39 1928.35 1450.39 Z\" fill=\"#000000\" fill-rule=\"evenodd\" fill-opacity=\"1\" /><path clip-path=\"url(#clip750)\" d=\"M1958.51 1454.1 Q1954.9 1454.1 1953.07 1457.66 Q1951.27 1461.2 1951.27 1468.33 Q1951.27 1475.44 1953.07 1479.01 Q1954.9 1482.55 1958.51 1482.55 Q1962.15 1482.55 1963.95 1479.01 Q1965.78 1475.44 1965.78 1468.33 Q1965.78 1461.2 1963.95 1457.66 Q1962.15 1454.1 1958.51 1454.1 M1958.51 1450.39 Q1964.32 1450.39 1967.38 1455 Q1970.46 1459.58 1970.46 1468.33 Q1970.46 1477.06 1967.38 1481.67 Q1964.32 1486.25 1958.51 1486.25 Q1952.7 1486.25 1949.63 1481.67 Q1946.57 1477.06 1946.57 1468.33 Q1946.57 1459.58 1949.63 1455 Q1952.7 1450.39 1958.51 1450.39 Z\" fill=\"#000000\" fill-rule=\"evenodd\" fill-opacity=\"1\" /><path clip-path=\"url(#clip750)\" d=\"M1108.99 1518.52 L1114.84 1518.52 L1114.84 1568.04 L1108.99 1568.04 L1108.99 1518.52 Z\" fill=\"#000000\" fill-rule=\"evenodd\" fill-opacity=\"1\" /><path clip-path=\"url(#clip750)\" d=\"M1157.59 1548.76 L1157.59 1551.62 L1130.66 1551.62 Q1131.05 1557.67 1134.29 1560.85 Q1137.57 1564 1143.4 1564 Q1146.77 1564 1149.92 1563.17 Q1153.1 1562.35 1156.22 1560.69 L1156.22 1566.23 Q1153.07 1567.57 1149.76 1568.27 Q1146.45 1568.97 1143.05 1568.97 Q1134.52 1568.97 1129.52 1564 Q1124.55 1559.04 1124.55 1550.57 Q1124.55 1541.82 1129.26 1536.69 Q1134.01 1531.54 1142.03 1531.54 Q1149.22 1531.54 1153.39 1536.18 Q1157.59 1540.8 1157.59 1548.76 M1151.73 1547.04 Q1151.67 1542.23 1149.03 1539.37 Q1146.42 1536.5 1142.09 1536.5 Q1137.19 1536.5 1134.23 1539.27 Q1131.3 1542.04 1130.85 1547.07 L1151.73 1547.04 Z\" fill=\"#000000\" fill-rule=\"evenodd\" fill-opacity=\"1\" /><path clip-path=\"url(#clip750)\" d=\"M1196.84 1546.53 L1196.84 1568.04 L1190.98 1568.04 L1190.98 1546.72 Q1190.98 1541.66 1189.01 1539.14 Q1187.03 1536.63 1183.09 1536.63 Q1178.34 1536.63 1175.61 1539.65 Q1172.87 1542.68 1172.87 1547.9 L1172.87 1568.04 L1166.98 1568.04 L1166.98 1532.4 L1172.87 1532.4 L1172.87 1537.93 Q1174.97 1534.72 1177.8 1533.13 Q1180.67 1531.54 1184.39 1531.54 Q1190.53 1531.54 1193.68 1535.36 Q1196.84 1539.14 1196.84 1546.53 Z\" fill=\"#000000\" fill-rule=\"evenodd\" fill-opacity=\"1\" /><path clip-path=\"url(#clip750)\" d=\"M1231.97 1549.81 Q1231.97 1543.44 1229.33 1539.94 Q1226.72 1536.44 1221.98 1536.44 Q1217.27 1536.44 1214.63 1539.94 Q1212.02 1543.44 1212.02 1549.81 Q1212.02 1556.14 1214.63 1559.64 Q1217.27 1563.14 1221.98 1563.14 Q1226.72 1563.14 1229.33 1559.64 Q1231.97 1556.14 1231.97 1549.81 M1237.83 1563.62 Q1237.83 1572.72 1233.79 1577.15 Q1229.75 1581.6 1221.41 1581.6 Q1218.32 1581.6 1215.58 1581.13 Q1212.85 1580.68 1210.27 1579.72 L1210.27 1574.03 Q1212.85 1575.43 1215.36 1576.1 Q1217.87 1576.76 1220.48 1576.76 Q1226.24 1576.76 1229.11 1573.74 Q1231.97 1570.75 1231.97 1564.67 L1231.97 1561.77 Q1230.16 1564.92 1227.33 1566.48 Q1224.49 1568.04 1220.55 1568.04 Q1213.99 1568.04 1209.98 1563.05 Q1205.97 1558.05 1205.97 1549.81 Q1205.97 1541.53 1209.98 1536.53 Q1213.99 1531.54 1220.55 1531.54 Q1224.49 1531.54 1227.33 1533.1 Q1230.16 1534.66 1231.97 1537.81 L1231.97 1532.4 L1237.83 1532.4 L1237.83 1563.62 Z\" fill=\"#000000\" fill-rule=\"evenodd\" fill-opacity=\"1\" /><path clip-path=\"url(#clip750)\" d=\"M1255.69 1522.27 L1255.69 1532.4 L1267.75 1532.4 L1267.75 1536.95 L1255.69 1536.95 L1255.69 1556.3 Q1255.69 1560.66 1256.86 1561.9 Q1258.07 1563.14 1261.73 1563.14 L1267.75 1563.14 L1267.75 1568.04 L1261.73 1568.04 Q1254.95 1568.04 1252.38 1565.53 Q1249.8 1562.98 1249.8 1556.3 L1249.8 1536.95 L1245.5 1536.95 L1245.5 1532.4 L1249.8 1532.4 L1249.8 1522.27 L1255.69 1522.27 Z\" fill=\"#000000\" fill-rule=\"evenodd\" fill-opacity=\"1\" /><path clip-path=\"url(#clip750)\" d=\"M1305.08 1546.53 L1305.08 1568.04 L1299.23 1568.04 L1299.23 1546.72 Q1299.23 1541.66 1297.25 1539.14 Q1295.28 1536.63 1291.33 1536.63 Q1286.59 1536.63 1283.85 1539.65 Q1281.12 1542.68 1281.12 1547.9 L1281.12 1568.04 L1275.23 1568.04 L1275.23 1518.52 L1281.12 1518.52 L1281.12 1537.93 Q1283.22 1534.72 1286.05 1533.13 Q1288.92 1531.54 1292.64 1531.54 Q1298.78 1531.54 1301.93 1535.36 Q1305.08 1539.14 1305.08 1546.53 Z\" fill=\"#000000\" fill-rule=\"evenodd\" fill-opacity=\"1\" /><path clip-path=\"url(#clip750)\" d=\"M1336.94 1518.52 L1350.44 1518.52 L1350.44 1523.07 L1342.8 1523.07 L1342.8 1572.09 L1350.44 1572.09 L1350.44 1576.64 L1336.94 1576.64 L1336.94 1518.52 Z\" fill=\"#000000\" fill-rule=\"evenodd\" fill-opacity=\"1\" /><path clip-path=\"url(#clip750)\" d=\"M1392.55 1546.53 L1392.55 1568.04 L1386.69 1568.04 L1386.69 1546.72 Q1386.69 1541.66 1384.72 1539.14 Q1382.75 1536.63 1378.8 1536.63 Q1374.06 1536.63 1371.32 1539.65 Q1368.58 1542.68 1368.58 1547.9 L1368.58 1568.04 L1362.69 1568.04 L1362.69 1532.4 L1368.58 1532.4 L1368.58 1537.93 Q1370.68 1534.72 1373.52 1533.13 Q1376.38 1531.54 1380.1 1531.54 Q1386.25 1531.54 1389.4 1535.36 Q1392.55 1539.14 1392.55 1546.53 Z\" fill=\"#000000\" fill-rule=\"evenodd\" fill-opacity=\"1\" /><path clip-path=\"url(#clip750)\" d=\"M1417.92 1518.52 L1417.92 1576.64 L1404.42 1576.64 L1404.42 1572.09 L1412.03 1572.09 L1412.03 1523.07 L1404.42 1523.07 L1404.42 1518.52 L1417.92 1518.52 Z\" fill=\"#000000\" fill-rule=\"evenodd\" fill-opacity=\"1\" /><polyline clip-path=\"url(#clip752)\" style=\"stroke:#000000; stroke-linecap:round; stroke-linejoin:round; stroke-width:2; stroke-opacity:0.1; fill:none\" points=\"174.149,1386.41 2352.76,1386.41 \"/>\n",
       "<polyline clip-path=\"url(#clip752)\" style=\"stroke:#000000; stroke-linecap:round; stroke-linejoin:round; stroke-width:2; stroke-opacity:0.1; fill:none\" points=\"174.149,1038.73 2352.76,1038.73 \"/>\n",
       "<polyline clip-path=\"url(#clip752)\" style=\"stroke:#000000; stroke-linecap:round; stroke-linejoin:round; stroke-width:2; stroke-opacity:0.1; fill:none\" points=\"174.149,691.06 2352.76,691.06 \"/>\n",
       "<polyline clip-path=\"url(#clip752)\" style=\"stroke:#000000; stroke-linecap:round; stroke-linejoin:round; stroke-width:2; stroke-opacity:0.1; fill:none\" points=\"174.149,343.385 2352.76,343.385 \"/>\n",
       "<polyline clip-path=\"url(#clip750)\" style=\"stroke:#000000; stroke-linecap:round; stroke-linejoin:round; stroke-width:4; stroke-opacity:1; fill:none\" points=\"174.149,1423.18 174.149,123.472 \"/>\n",
       "<polyline clip-path=\"url(#clip750)\" style=\"stroke:#000000; stroke-linecap:round; stroke-linejoin:round; stroke-width:4; stroke-opacity:1; fill:none\" points=\"174.149,1386.41 193.047,1386.41 \"/>\n",
       "<polyline clip-path=\"url(#clip750)\" style=\"stroke:#000000; stroke-linecap:round; stroke-linejoin:round; stroke-width:4; stroke-opacity:1; fill:none\" points=\"174.149,1038.73 193.047,1038.73 \"/>\n",
       "<polyline clip-path=\"url(#clip750)\" style=\"stroke:#000000; stroke-linecap:round; stroke-linejoin:round; stroke-width:4; stroke-opacity:1; fill:none\" points=\"174.149,691.06 193.047,691.06 \"/>\n",
       "<polyline clip-path=\"url(#clip750)\" style=\"stroke:#000000; stroke-linecap:round; stroke-linejoin:round; stroke-width:4; stroke-opacity:1; fill:none\" points=\"174.149,343.385 193.047,343.385 \"/>\n",
       "<path clip-path=\"url(#clip750)\" d=\"M126.205 1372.21 Q122.593 1372.21 120.765 1375.77 Q118.959 1379.31 118.959 1386.44 Q118.959 1393.55 120.765 1397.11 Q122.593 1400.66 126.205 1400.66 Q129.839 1400.66 131.644 1397.11 Q133.473 1393.55 133.473 1386.44 Q133.473 1379.31 131.644 1375.77 Q129.839 1372.21 126.205 1372.21 M126.205 1368.5 Q132.015 1368.5 135.07 1373.11 Q138.149 1377.69 138.149 1386.44 Q138.149 1395.17 135.07 1399.78 Q132.015 1404.36 126.205 1404.36 Q120.394 1404.36 117.316 1399.78 Q114.26 1395.17 114.26 1386.44 Q114.26 1377.69 117.316 1373.11 Q120.394 1368.5 126.205 1368.5 Z\" fill=\"#000000\" fill-rule=\"evenodd\" fill-opacity=\"1\" /><path clip-path=\"url(#clip750)\" d=\"M118.242 1052.08 L125.88 1052.08 L125.88 1025.71 L117.57 1027.38 L117.57 1023.12 L125.834 1021.45 L130.51 1021.45 L130.51 1052.08 L138.149 1052.08 L138.149 1056.01 L118.242 1056.01 L118.242 1052.08 Z\" fill=\"#000000\" fill-rule=\"evenodd\" fill-opacity=\"1\" /><path clip-path=\"url(#clip750)\" d=\"M121.83 704.405 L138.149 704.405 L138.149 708.34 L116.205 708.34 L116.205 704.405 Q118.867 701.65 123.45 697.021 Q128.056 692.368 129.237 691.025 Q131.482 688.502 132.362 686.766 Q133.265 685.007 133.265 683.317 Q133.265 680.562 131.32 678.826 Q129.399 677.09 126.297 677.09 Q124.098 677.09 121.644 677.854 Q119.214 678.618 116.436 680.169 L116.436 675.447 Q119.26 674.312 121.714 673.734 Q124.168 673.155 126.205 673.155 Q131.575 673.155 134.769 675.84 Q137.964 678.525 137.964 683.016 Q137.964 685.146 137.154 687.067 Q136.367 688.965 134.26 691.558 Q133.681 692.229 130.58 695.446 Q127.478 698.641 121.83 704.405 Z\" fill=\"#000000\" fill-rule=\"evenodd\" fill-opacity=\"1\" /><path clip-path=\"url(#clip750)\" d=\"M131.019 342.031 Q134.376 342.749 136.251 345.017 Q138.149 347.286 138.149 350.619 Q138.149 355.735 134.63 358.536 Q131.112 361.337 124.63 361.337 Q122.455 361.337 120.14 360.897 Q117.848 360.48 115.394 359.624 L115.394 355.11 Q117.339 356.244 119.654 356.823 Q121.968 357.402 124.492 357.402 Q128.89 357.402 131.181 355.666 Q133.496 353.929 133.496 350.619 Q133.496 347.564 131.343 345.851 Q129.214 344.115 125.394 344.115 L121.367 344.115 L121.367 340.272 L125.58 340.272 Q129.029 340.272 130.857 338.906 Q132.686 337.517 132.686 334.925 Q132.686 332.263 130.788 330.851 Q128.913 329.416 125.394 329.416 Q123.473 329.416 121.274 329.832 Q119.075 330.249 116.436 331.129 L116.436 326.962 Q119.098 326.221 121.413 325.851 Q123.751 325.48 125.811 325.48 Q131.135 325.48 134.237 327.911 Q137.339 330.318 137.339 334.439 Q137.339 337.309 135.695 339.3 Q134.052 341.267 131.019 342.031 Z\" fill=\"#000000\" fill-rule=\"evenodd\" fill-opacity=\"1\" /><path clip-path=\"url(#clip750)\" d=\"M18.2347 885.872 L28.3562 885.872 L28.3562 873.809 L32.9077 873.809 L32.9077 885.872 L52.2594 885.872 Q56.6199 885.872 57.8613 884.694 Q59.1026 883.485 59.1026 879.824 L59.1026 873.809 L64.0042 873.809 L64.0042 879.824 Q64.0042 886.604 61.4897 889.182 Q58.9434 891.76 52.2594 891.76 L32.9077 891.76 L32.9077 896.057 L28.3562 896.057 L28.3562 891.76 L18.2347 891.76 L18.2347 885.872 Z\" fill=\"#000000\" fill-rule=\"evenodd\" fill-opacity=\"1\" /><path clip-path=\"url(#clip750)\" d=\"M28.3562 866.106 L28.3562 860.25 L64.0042 860.25 L64.0042 866.106 L28.3562 866.106 M14.479 866.106 L14.479 860.25 L21.895 860.25 L21.895 866.106 L14.479 866.106 Z\" fill=\"#000000\" fill-rule=\"evenodd\" fill-opacity=\"1\" /><path clip-path=\"url(#clip750)\" d=\"M35.1993 820.241 Q31.2526 818.045 29.3747 814.99 Q27.4968 811.934 27.4968 807.796 Q27.4968 802.226 31.4117 799.203 Q35.2948 796.179 42.4881 796.179 L64.0042 796.179 L64.0042 802.067 L42.679 802.067 Q37.5546 802.067 35.072 803.881 Q32.5894 805.696 32.5894 809.42 Q32.5894 813.971 35.6131 816.613 Q38.6368 819.255 43.8567 819.255 L64.0042 819.255 L64.0042 825.143 L42.679 825.143 Q37.5228 825.143 35.072 826.957 Q32.5894 828.771 32.5894 832.559 Q32.5894 837.047 35.6449 839.688 Q38.6686 842.33 43.8567 842.33 L64.0042 842.33 L64.0042 848.219 L28.3562 848.219 L28.3562 842.33 L33.8944 842.33 Q30.616 840.325 29.0564 837.524 Q27.4968 834.723 27.4968 830.872 Q27.4968 826.989 29.4702 824.283 Q31.4436 821.546 35.1993 820.241 Z\" fill=\"#000000\" fill-rule=\"evenodd\" fill-opacity=\"1\" /><path clip-path=\"url(#clip750)\" d=\"M44.7161 754.006 L47.5806 754.006 L47.5806 780.933 Q53.6281 780.551 56.8109 777.305 Q59.9619 774.026 59.9619 768.202 Q59.9619 764.828 59.1344 761.677 Q58.3069 758.494 56.6518 755.375 L62.1899 755.375 Q63.5267 758.526 64.227 761.836 Q64.9272 765.146 64.9272 768.552 Q64.9272 777.082 59.9619 782.079 Q54.9967 787.044 46.5303 787.044 Q37.7774 787.044 32.6531 782.333 Q27.4968 777.591 27.4968 769.57 Q27.4968 762.377 32.1438 758.207 Q36.7589 754.006 44.7161 754.006 M42.9973 759.863 Q38.1912 759.926 35.3266 762.568 Q32.4621 765.178 32.4621 769.507 Q32.4621 774.408 35.2312 777.368 Q38.0002 780.296 43.0292 780.742 L42.9973 759.863 Z\" fill=\"#000000\" fill-rule=\"evenodd\" fill-opacity=\"1\" /><path clip-path=\"url(#clip750)\" d=\"M14.479 724.215 L14.479 710.719 L19.0304 710.719 L19.0304 718.358 L68.0464 718.358 L68.0464 710.719 L72.5979 710.719 L72.5979 724.215 L14.479 724.215 Z\" fill=\"#000000\" fill-rule=\"evenodd\" fill-opacity=\"1\" /><path clip-path=\"url(#clip750)\" d=\"M29.4065 675.517 L34.9447 675.517 Q33.6716 678 33.035 680.673 Q32.3984 683.347 32.3984 686.211 Q32.3984 690.572 33.7352 692.768 Q35.072 694.932 37.7456 694.932 Q39.7826 694.932 40.9603 693.373 Q42.1061 691.813 43.1565 687.102 L43.6021 685.097 Q44.9389 678.859 47.3897 676.249 Q49.8086 673.607 54.1691 673.607 Q59.1344 673.607 62.0308 677.554 Q64.9272 681.469 64.9272 688.344 Q64.9272 691.208 64.3543 694.328 Q63.8132 697.415 62.6992 700.852 L56.6518 700.852 Q58.3387 697.606 59.198 694.455 Q60.0256 691.304 60.0256 688.216 Q60.0256 684.079 58.6251 681.851 Q57.1929 679.623 54.6147 679.623 Q52.2276 679.623 50.9545 681.246 Q49.6813 682.837 48.5037 688.28 L48.0262 690.317 Q46.8804 695.76 44.5251 698.179 Q42.138 700.598 38.0002 700.598 Q32.9713 700.598 30.2341 697.033 Q27.4968 693.468 27.4968 686.912 Q27.4968 683.665 27.9743 680.8 Q28.4517 677.936 29.4065 675.517 Z\" fill=\"#000000\" fill-rule=\"evenodd\" fill-opacity=\"1\" /><path clip-path=\"url(#clip750)\" d=\"M14.479 650.595 L72.5979 650.595 L72.5979 664.09 L68.0464 664.09 L68.0464 656.483 L19.0304 656.483 L19.0304 664.09 L14.479 664.09 L14.479 650.595 Z\" fill=\"#000000\" fill-rule=\"evenodd\" fill-opacity=\"1\" /><path clip-path=\"url(#clip750)\" d=\"M671.129 12.096 L722.292 12.096 L722.292 18.9825 L700.822 18.9825 L700.822 72.576 L692.599 72.576 L692.599 18.9825 L671.129 18.9825 L671.129 12.096 Z\" fill=\"#000000\" fill-rule=\"evenodd\" fill-opacity=\"1\" /><path clip-path=\"url(#clip750)\" d=\"M727.315 27.2059 L734.769 27.2059 L734.769 72.576 L727.315 72.576 L727.315 27.2059 M727.315 9.54393 L734.769 9.54393 L734.769 18.9825 L727.315 18.9825 L727.315 9.54393 Z\" fill=\"#000000\" fill-rule=\"evenodd\" fill-opacity=\"1\" /><path clip-path=\"url(#clip750)\" d=\"M785.689 35.9153 Q788.484 30.8922 792.373 28.5022 Q796.262 26.1121 801.528 26.1121 Q808.617 26.1121 812.465 31.0947 Q816.314 36.0368 816.314 45.1919 L816.314 72.576 L808.819 72.576 L808.819 45.4349 Q808.819 38.913 806.51 35.7533 Q804.201 32.5936 799.462 32.5936 Q793.669 32.5936 790.307 36.4419 Q786.945 40.2903 786.945 46.9338 L786.945 72.576 L779.45 72.576 L779.45 45.4349 Q779.45 38.8725 777.141 35.7533 Q774.832 32.5936 770.012 32.5936 Q764.3 32.5936 760.938 36.4824 Q757.575 40.3308 757.575 46.9338 L757.575 72.576 L750.081 72.576 L750.081 27.2059 L757.575 27.2059 L757.575 34.2544 Q760.128 30.082 763.692 28.0971 Q767.257 26.1121 772.159 26.1121 Q777.101 26.1121 780.544 28.6237 Q784.028 31.1352 785.689 35.9153 Z\" fill=\"#000000\" fill-rule=\"evenodd\" fill-opacity=\"1\" /><path clip-path=\"url(#clip750)\" d=\"M869.988 48.0275 L869.988 51.6733 L835.717 51.6733 Q836.204 59.3701 840.335 63.421 Q844.508 67.4314 851.921 67.4314 Q856.215 67.4314 860.225 66.3781 Q864.276 65.3249 868.246 63.2184 L868.246 70.267 Q864.236 71.9684 860.023 72.8596 Q855.81 73.7508 851.475 73.7508 Q840.619 73.7508 834.259 67.4314 Q827.94 61.1119 827.94 50.3365 Q827.94 39.1965 833.935 32.6746 Q839.971 26.1121 850.179 26.1121 Q859.334 26.1121 864.641 32.0264 Q869.988 37.9003 869.988 48.0275 M862.534 45.84 Q862.453 39.7232 859.091 36.0774 Q855.769 32.4315 850.26 32.4315 Q844.022 32.4315 840.254 35.9558 Q836.528 39.4801 835.96 45.8805 L862.534 45.84 Z\" fill=\"#000000\" fill-rule=\"evenodd\" fill-opacity=\"1\" /><path clip-path=\"url(#clip750)\" d=\"M926.174 32.4315 Q920.179 32.4315 916.695 37.1306 Q913.211 41.7891 913.211 49.9314 Q913.211 58.0738 916.655 62.7728 Q920.138 67.4314 926.174 67.4314 Q932.129 67.4314 935.613 62.7323 Q939.097 58.0333 939.097 49.9314 Q939.097 41.8701 935.613 37.1711 Q932.129 32.4315 926.174 32.4315 M926.174 26.1121 Q935.896 26.1121 941.446 32.4315 Q946.996 38.7509 946.996 49.9314 Q946.996 61.0714 941.446 67.4314 Q935.896 73.7508 926.174 73.7508 Q916.411 73.7508 910.862 67.4314 Q905.352 61.0714 905.352 49.9314 Q905.352 38.7509 910.862 32.4315 Q916.411 26.1121 926.174 26.1121 Z\" fill=\"#000000\" fill-rule=\"evenodd\" fill-opacity=\"1\" /><path clip-path=\"url(#clip750)\" d=\"M982.32 9.54393 L982.32 15.7418 L975.19 15.7418 Q971.18 15.7418 969.6 17.3622 Q968.06 18.9825 968.06 23.1955 L968.06 27.2059 L980.335 27.2059 L980.335 32.9987 L968.06 32.9987 L968.06 72.576 L960.566 72.576 L960.566 32.9987 L953.437 32.9987 L953.437 27.2059 L960.566 27.2059 L960.566 24.0462 Q960.566 16.471 964.091 13.0277 Q967.615 9.54393 975.271 9.54393 L982.32 9.54393 Z\" fill=\"#000000\" fill-rule=\"evenodd\" fill-opacity=\"1\" /><path clip-path=\"url(#clip750)\" d=\"M1050.25 35.9153 Q1053.05 30.8922 1056.94 28.5022 Q1060.83 26.1121 1066.09 26.1121 Q1073.18 26.1121 1077.03 31.0947 Q1080.88 36.0368 1080.88 45.1919 L1080.88 72.576 L1073.38 72.576 L1073.38 45.4349 Q1073.38 38.913 1071.07 35.7533 Q1068.77 32.5936 1064.03 32.5936 Q1058.23 32.5936 1054.87 36.4419 Q1051.51 40.2903 1051.51 46.9338 L1051.51 72.576 L1044.01 72.576 L1044.01 45.4349 Q1044.01 38.8725 1041.71 35.7533 Q1039.4 32.5936 1034.58 32.5936 Q1028.86 32.5936 1025.5 36.4824 Q1022.14 40.3308 1022.14 46.9338 L1022.14 72.576 L1014.65 72.576 L1014.65 27.2059 L1022.14 27.2059 L1022.14 34.2544 Q1024.69 30.082 1028.26 28.0971 Q1031.82 26.1121 1036.72 26.1121 Q1041.67 26.1121 1045.11 28.6237 Q1048.59 31.1352 1050.25 35.9153 Z\" fill=\"#000000\" fill-rule=\"evenodd\" fill-opacity=\"1\" /><path clip-path=\"url(#clip750)\" d=\"M1094.98 54.671 L1094.98 27.2059 L1102.43 27.2059 L1102.43 54.3874 Q1102.43 60.8284 1104.94 64.0691 Q1107.45 67.2693 1112.48 67.2693 Q1118.51 67.2693 1121.99 63.421 Q1125.52 59.5726 1125.52 52.9291 L1125.52 27.2059 L1132.97 27.2059 L1132.97 72.576 L1125.52 72.576 L1125.52 65.6084 Q1122.81 69.7404 1119.2 71.7658 Q1115.63 73.7508 1110.9 73.7508 Q1103.08 73.7508 1099.03 68.8897 Q1094.98 64.0286 1094.98 54.671 M1113.73 26.1121 L1113.73 26.1121 Z\" fill=\"#000000\" fill-rule=\"evenodd\" fill-opacity=\"1\" /><path clip-path=\"url(#clip750)\" d=\"M1148.33 9.54393 L1155.78 9.54393 L1155.78 72.576 L1148.33 72.576 L1148.33 9.54393 Z\" fill=\"#000000\" fill-rule=\"evenodd\" fill-opacity=\"1\" /><path clip-path=\"url(#clip750)\" d=\"M1178.75 14.324 L1178.75 27.2059 L1194.1 27.2059 L1194.1 32.9987 L1178.75 32.9987 L1178.75 57.6282 Q1178.75 63.1779 1180.25 64.7578 Q1181.79 66.3376 1186.44 66.3376 L1194.1 66.3376 L1194.1 72.576 L1186.44 72.576 Q1177.82 72.576 1174.54 69.3758 Q1171.25 66.1351 1171.25 57.6282 L1171.25 32.9987 L1165.79 32.9987 L1165.79 27.2059 L1171.25 27.2059 L1171.25 14.324 L1178.75 14.324 Z\" fill=\"#000000\" fill-rule=\"evenodd\" fill-opacity=\"1\" /><path clip-path=\"url(#clip750)\" d=\"M1203.9 27.2059 L1211.36 27.2059 L1211.36 72.576 L1203.9 72.576 L1203.9 27.2059 M1203.9 9.54393 L1211.36 9.54393 L1211.36 18.9825 L1203.9 18.9825 L1203.9 9.54393 Z\" fill=\"#000000\" fill-rule=\"evenodd\" fill-opacity=\"1\" /><path clip-path=\"url(#clip750)\" d=\"M1234.16 65.7705 L1234.16 89.8329 L1226.67 89.8329 L1226.67 27.2059 L1234.16 27.2059 L1234.16 34.0924 Q1236.51 30.0415 1240.08 28.0971 Q1243.68 26.1121 1248.67 26.1121 Q1256.93 26.1121 1262.08 32.6746 Q1267.26 39.2371 1267.26 49.9314 Q1267.26 60.6258 1262.08 67.1883 Q1256.93 73.7508 1248.67 73.7508 Q1243.68 73.7508 1240.08 71.8063 Q1236.51 69.8214 1234.16 65.7705 M1259.52 49.9314 Q1259.52 41.7081 1256.12 37.0496 Q1252.76 32.3505 1246.84 32.3505 Q1240.93 32.3505 1237.53 37.0496 Q1234.16 41.7081 1234.16 49.9314 Q1234.16 58.1548 1237.53 62.8538 Q1240.93 67.5124 1246.84 67.5124 Q1252.76 67.5124 1256.12 62.8538 Q1259.52 58.1548 1259.52 49.9314 Z\" fill=\"#000000\" fill-rule=\"evenodd\" fill-opacity=\"1\" /><path clip-path=\"url(#clip750)\" d=\"M1279.62 9.54393 L1287.07 9.54393 L1287.07 72.576 L1279.62 72.576 L1279.62 9.54393 Z\" fill=\"#000000\" fill-rule=\"evenodd\" fill-opacity=\"1\" /><path clip-path=\"url(#clip750)\" d=\"M1321.54 76.7889 Q1318.38 84.8907 1315.39 87.3618 Q1312.39 89.8329 1307.36 89.8329 L1301.41 89.8329 L1301.41 83.5945 L1305.78 83.5945 Q1308.86 83.5945 1310.56 82.1361 Q1312.27 80.6778 1314.33 75.2496 L1315.67 71.8468 L1297.32 27.2059 L1305.22 27.2059 L1319.4 62.6918 L1333.57 27.2059 L1341.47 27.2059 L1321.54 76.7889 Z\" fill=\"#000000\" fill-rule=\"evenodd\" fill-opacity=\"1\" /><path clip-path=\"url(#clip750)\" d=\"M1351.76 27.2059 L1359.22 27.2059 L1359.22 72.576 L1351.76 72.576 L1351.76 27.2059 M1351.76 9.54393 L1359.22 9.54393 L1359.22 18.9825 L1351.76 18.9825 L1351.76 9.54393 Z\" fill=\"#000000\" fill-rule=\"evenodd\" fill-opacity=\"1\" /><path clip-path=\"url(#clip750)\" d=\"M1412.53 45.1919 L1412.53 72.576 L1405.07 72.576 L1405.07 45.4349 Q1405.07 38.994 1402.56 35.7938 Q1400.05 32.5936 1395.03 32.5936 Q1388.99 32.5936 1385.51 36.4419 Q1382.02 40.2903 1382.02 46.9338 L1382.02 72.576 L1374.53 72.576 L1374.53 27.2059 L1382.02 27.2059 L1382.02 34.2544 Q1384.7 30.163 1388.3 28.1376 Q1391.95 26.1121 1396.69 26.1121 Q1404.5 26.1121 1408.52 30.9732 Q1412.53 35.7938 1412.53 45.1919 Z\" fill=\"#000000\" fill-rule=\"evenodd\" fill-opacity=\"1\" /><path clip-path=\"url(#clip750)\" d=\"M1457.25 49.3643 Q1457.25 41.2625 1453.89 36.8065 Q1450.56 32.3505 1444.53 32.3505 Q1438.53 32.3505 1435.17 36.8065 Q1431.85 41.2625 1431.85 49.3643 Q1431.85 57.4256 1435.17 61.8816 Q1438.53 66.3376 1444.53 66.3376 Q1450.56 66.3376 1453.89 61.8816 Q1457.25 57.4256 1457.25 49.3643 M1464.7 66.9452 Q1464.7 78.5308 1459.56 84.1616 Q1454.41 89.8329 1443.8 89.8329 Q1439.87 89.8329 1436.39 89.2252 Q1432.9 88.6581 1429.62 87.4428 L1429.62 80.1917 Q1432.9 81.9741 1436.1 82.8248 Q1439.3 83.6755 1442.62 83.6755 Q1449.96 83.6755 1453.6 79.8271 Q1457.25 76.0193 1457.25 68.282 L1457.25 64.5957 Q1454.94 68.6061 1451.33 70.5911 Q1447.73 72.576 1442.7 72.576 Q1434.36 72.576 1429.26 66.2161 Q1424.15 59.8562 1424.15 49.3643 Q1424.15 38.832 1429.26 32.472 Q1434.36 26.1121 1442.7 26.1121 Q1447.73 26.1121 1451.33 28.0971 Q1454.94 30.082 1457.25 34.0924 L1457.25 27.2059 L1464.7 27.2059 L1464.7 66.9452 Z\" fill=\"#000000\" fill-rule=\"evenodd\" fill-opacity=\"1\" /><path clip-path=\"url(#clip750)\" d=\"M1541.75 35.9153 Q1544.54 30.8922 1548.43 28.5022 Q1552.32 26.1121 1557.59 26.1121 Q1564.68 26.1121 1568.53 31.0947 Q1572.37 36.0368 1572.37 45.1919 L1572.37 72.576 L1564.88 72.576 L1564.88 45.4349 Q1564.88 38.913 1562.57 35.7533 Q1560.26 32.5936 1555.52 32.5936 Q1549.73 32.5936 1546.37 36.4419 Q1543.01 40.2903 1543.01 46.9338 L1543.01 72.576 L1535.51 72.576 L1535.51 45.4349 Q1535.51 38.8725 1533.2 35.7533 Q1530.89 32.5936 1526.07 32.5936 Q1520.36 32.5936 1517 36.4824 Q1513.64 40.3308 1513.64 46.9338 L1513.64 72.576 L1506.14 72.576 L1506.14 27.2059 L1513.64 27.2059 L1513.64 34.2544 Q1516.19 30.082 1519.75 28.0971 Q1523.32 26.1121 1528.22 26.1121 Q1533.16 26.1121 1536.6 28.6237 Q1540.09 31.1352 1541.75 35.9153 Z\" fill=\"#000000\" fill-rule=\"evenodd\" fill-opacity=\"1\" /><path clip-path=\"url(#clip750)\" d=\"M1607.86 49.7694 Q1598.83 49.7694 1595.34 51.8354 Q1591.86 53.9013 1591.86 58.8839 Q1591.86 62.8538 1594.45 65.2034 Q1597.08 67.5124 1601.58 67.5124 Q1607.78 67.5124 1611.51 63.1374 Q1615.27 58.7219 1615.27 51.4303 L1615.27 49.7694 L1607.86 49.7694 M1622.73 46.6907 L1622.73 72.576 L1615.27 72.576 L1615.27 65.6895 Q1612.72 69.8214 1608.91 71.8063 Q1605.11 73.7508 1599.6 73.7508 Q1592.63 73.7508 1588.5 69.8619 Q1584.41 65.9325 1584.41 59.3701 Q1584.41 51.7138 1589.51 47.825 Q1594.65 43.9361 1604.82 43.9361 L1615.27 43.9361 L1615.27 43.2069 Q1615.27 38.0623 1611.87 35.2672 Q1608.51 32.4315 1602.39 32.4315 Q1598.5 32.4315 1594.82 33.3632 Q1591.13 34.295 1587.73 36.1584 L1587.73 29.2718 Q1591.82 27.692 1595.67 26.9223 Q1599.52 26.1121 1603.16 26.1121 Q1613 26.1121 1617.87 31.2163 Q1622.73 36.3204 1622.73 46.6907 Z\" fill=\"#000000\" fill-rule=\"evenodd\" fill-opacity=\"1\" /><path clip-path=\"url(#clip750)\" d=\"M1645.45 14.324 L1645.45 27.2059 L1660.81 27.2059 L1660.81 32.9987 L1645.45 32.9987 L1645.45 57.6282 Q1645.45 63.1779 1646.95 64.7578 Q1648.49 66.3376 1653.15 66.3376 L1660.81 66.3376 L1660.81 72.576 L1653.15 72.576 Q1644.52 72.576 1641.24 69.3758 Q1637.96 66.1351 1637.96 57.6282 L1637.96 32.9987 L1632.49 32.9987 L1632.49 27.2059 L1637.96 27.2059 L1637.96 14.324 L1645.45 14.324 Z\" fill=\"#000000\" fill-rule=\"evenodd\" fill-opacity=\"1\" /><path clip-path=\"url(#clip750)\" d=\"M1696.9 34.1734 Q1695.64 33.4443 1694.14 33.1202 Q1692.69 32.7556 1690.9 32.7556 Q1684.58 32.7556 1681.18 36.8875 Q1677.82 40.9789 1677.82 48.6757 L1677.82 72.576 L1670.33 72.576 L1670.33 27.2059 L1677.82 27.2059 L1677.82 34.2544 Q1680.17 30.1225 1683.94 28.1376 Q1687.7 26.1121 1693.09 26.1121 Q1693.86 26.1121 1694.79 26.2337 Q1695.72 26.3147 1696.86 26.5172 L1696.9 34.1734 Z\" fill=\"#000000\" fill-rule=\"evenodd\" fill-opacity=\"1\" /><path clip-path=\"url(#clip750)\" d=\"M1704.72 27.2059 L1712.17 27.2059 L1712.17 72.576 L1704.72 72.576 L1704.72 27.2059 M1704.72 9.54393 L1712.17 9.54393 L1712.17 18.9825 L1704.72 18.9825 L1704.72 9.54393 Z\" fill=\"#000000\" fill-rule=\"evenodd\" fill-opacity=\"1\" /><path clip-path=\"url(#clip750)\" d=\"M1760.42 28.9478 L1760.42 35.9153 Q1757.26 34.1734 1754.06 33.3227 Q1750.9 32.4315 1747.66 32.4315 Q1740.41 32.4315 1736.4 37.0496 Q1732.39 41.6271 1732.39 49.9314 Q1732.39 58.2358 1736.4 62.8538 Q1740.41 67.4314 1747.66 67.4314 Q1750.9 67.4314 1754.06 66.5807 Q1757.26 65.6895 1760.42 63.9476 L1760.42 70.8341 Q1757.3 72.2924 1753.94 73.0216 Q1750.61 73.7508 1746.85 73.7508 Q1736.6 73.7508 1730.56 67.3098 Q1724.53 60.8689 1724.53 49.9314 Q1724.53 38.832 1730.6 32.472 Q1736.72 26.1121 1747.33 26.1121 Q1750.78 26.1121 1754.06 26.8413 Q1757.34 27.5299 1760.42 28.9478 Z\" fill=\"#000000\" fill-rule=\"evenodd\" fill-opacity=\"1\" /><path clip-path=\"url(#clip750)\" d=\"M1812.19 48.0275 L1812.19 51.6733 L1777.92 51.6733 Q1778.4 59.3701 1782.54 63.421 Q1786.71 67.4314 1794.12 67.4314 Q1798.41 67.4314 1802.43 66.3781 Q1806.48 65.3249 1810.45 63.2184 L1810.45 70.267 Q1806.44 71.9684 1802.22 72.8596 Q1798.01 73.7508 1793.68 73.7508 Q1782.82 73.7508 1776.46 67.4314 Q1770.14 61.1119 1770.14 50.3365 Q1770.14 39.1965 1776.13 32.6746 Q1782.17 26.1121 1792.38 26.1121 Q1801.53 26.1121 1806.84 32.0264 Q1812.19 37.9003 1812.19 48.0275 M1804.73 45.84 Q1804.65 39.7232 1801.29 36.0774 Q1797.97 32.4315 1792.46 32.4315 Q1786.22 32.4315 1782.45 35.9558 Q1778.73 39.4801 1778.16 45.8805 L1804.73 45.84 Z\" fill=\"#000000\" fill-rule=\"evenodd\" fill-opacity=\"1\" /><path clip-path=\"url(#clip750)\" d=\"M1853.35 28.5427 L1853.35 35.5912 Q1850.19 33.9709 1846.78 33.1607 Q1843.38 32.3505 1839.73 32.3505 Q1834.18 32.3505 1831.39 34.0519 Q1828.63 35.7533 1828.63 39.156 Q1828.63 41.7486 1830.62 43.2475 Q1832.6 44.7058 1838.6 46.0426 L1841.15 46.6097 Q1849.09 48.3111 1852.41 51.4303 Q1855.78 54.509 1855.78 60.0587 Q1855.78 66.3781 1850.75 70.0644 Q1845.77 73.7508 1837.02 73.7508 Q1833.37 73.7508 1829.4 73.0216 Q1825.47 72.3329 1821.1 70.9151 L1821.1 63.2184 Q1825.23 65.3654 1829.24 66.4591 Q1833.25 67.5124 1837.18 67.5124 Q1842.45 67.5124 1845.28 65.73 Q1848.12 63.9071 1848.12 60.6258 Q1848.12 57.5877 1846.05 55.9673 Q1844.03 54.3469 1837.1 52.8481 L1834.51 52.2405 Q1827.58 50.7821 1824.5 47.7845 Q1821.42 44.7463 1821.42 39.4801 Q1821.42 33.0797 1825.96 29.5959 Q1830.5 26.1121 1838.84 26.1121 Q1842.97 26.1121 1846.62 26.7198 Q1850.27 27.3274 1853.35 28.5427 Z\" fill=\"#000000\" fill-rule=\"evenodd\" fill-opacity=\"1\" /><circle clip-path=\"url(#clip752)\" cx=\"235.808\" cy=\"1382.51\" r=\"14.4\" fill=\"#009af9\" fill-rule=\"evenodd\" fill-opacity=\"1\" stroke=\"#000000\" stroke-opacity=\"1\" stroke-width=\"3.2\"/>\n",
       "<circle clip-path=\"url(#clip752)\" cx=\"356.707\" cy=\"1382.49\" r=\"14.4\" fill=\"#009af9\" fill-rule=\"evenodd\" fill-opacity=\"1\" stroke=\"#000000\" stroke-opacity=\"1\" stroke-width=\"3.2\"/>\n",
       "<circle clip-path=\"url(#clip752)\" cx=\"477.606\" cy=\"1377.39\" r=\"14.4\" fill=\"#009af9\" fill-rule=\"evenodd\" fill-opacity=\"1\" stroke=\"#000000\" stroke-opacity=\"1\" stroke-width=\"3.2\"/>\n",
       "<circle clip-path=\"url(#clip752)\" cx=\"598.506\" cy=\"1355.71\" r=\"14.4\" fill=\"#009af9\" fill-rule=\"evenodd\" fill-opacity=\"1\" stroke=\"#000000\" stroke-opacity=\"1\" stroke-width=\"3.2\"/>\n",
       "<circle clip-path=\"url(#clip752)\" cx=\"719.405\" cy=\"1355.62\" r=\"14.4\" fill=\"#009af9\" fill-rule=\"evenodd\" fill-opacity=\"1\" stroke=\"#000000\" stroke-opacity=\"1\" stroke-width=\"3.2\"/>\n",
       "<circle clip-path=\"url(#clip752)\" cx=\"840.305\" cy=\"1337.2\" r=\"14.4\" fill=\"#009af9\" fill-rule=\"evenodd\" fill-opacity=\"1\" stroke=\"#000000\" stroke-opacity=\"1\" stroke-width=\"3.2\"/>\n",
       "<circle clip-path=\"url(#clip752)\" cx=\"961.204\" cy=\"1313.27\" r=\"14.4\" fill=\"#009af9\" fill-rule=\"evenodd\" fill-opacity=\"1\" stroke=\"#000000\" stroke-opacity=\"1\" stroke-width=\"3.2\"/>\n",
       "<circle clip-path=\"url(#clip752)\" cx=\"1082.1\" cy=\"1283.59\" r=\"14.4\" fill=\"#009af9\" fill-rule=\"evenodd\" fill-opacity=\"1\" stroke=\"#000000\" stroke-opacity=\"1\" stroke-width=\"3.2\"/>\n",
       "<circle clip-path=\"url(#clip752)\" cx=\"1203\" cy=\"1244.22\" r=\"14.4\" fill=\"#009af9\" fill-rule=\"evenodd\" fill-opacity=\"1\" stroke=\"#000000\" stroke-opacity=\"1\" stroke-width=\"3.2\"/>\n",
       "<circle clip-path=\"url(#clip752)\" cx=\"1323.9\" cy=\"1199.52\" r=\"14.4\" fill=\"#009af9\" fill-rule=\"evenodd\" fill-opacity=\"1\" stroke=\"#000000\" stroke-opacity=\"1\" stroke-width=\"3.2\"/>\n",
       "<circle clip-path=\"url(#clip752)\" cx=\"1444.8\" cy=\"1139.8\" r=\"14.4\" fill=\"#009af9\" fill-rule=\"evenodd\" fill-opacity=\"1\" stroke=\"#000000\" stroke-opacity=\"1\" stroke-width=\"3.2\"/>\n",
       "<circle clip-path=\"url(#clip752)\" cx=\"1565.7\" cy=\"1071.05\" r=\"14.4\" fill=\"#009af9\" fill-rule=\"evenodd\" fill-opacity=\"1\" stroke=\"#000000\" stroke-opacity=\"1\" stroke-width=\"3.2\"/>\n",
       "<circle clip-path=\"url(#clip752)\" cx=\"1686.6\" cy=\"985.999\" r=\"14.4\" fill=\"#009af9\" fill-rule=\"evenodd\" fill-opacity=\"1\" stroke=\"#000000\" stroke-opacity=\"1\" stroke-width=\"3.2\"/>\n",
       "<circle clip-path=\"url(#clip752)\" cx=\"1807.5\" cy=\"866.323\" r=\"14.4\" fill=\"#009af9\" fill-rule=\"evenodd\" fill-opacity=\"1\" stroke=\"#000000\" stroke-opacity=\"1\" stroke-width=\"3.2\"/>\n",
       "<circle clip-path=\"url(#clip752)\" cx=\"1928.4\" cy=\"517.153\" r=\"14.4\" fill=\"#009af9\" fill-rule=\"evenodd\" fill-opacity=\"1\" stroke=\"#000000\" stroke-opacity=\"1\" stroke-width=\"3.2\"/>\n",
       "<circle clip-path=\"url(#clip752)\" cx=\"2049.3\" cy=\"600.308\" r=\"14.4\" fill=\"#009af9\" fill-rule=\"evenodd\" fill-opacity=\"1\" stroke=\"#000000\" stroke-opacity=\"1\" stroke-width=\"3.2\"/>\n",
       "<circle clip-path=\"url(#clip752)\" cx=\"2170.2\" cy=\"303.893\" r=\"14.4\" fill=\"#009af9\" fill-rule=\"evenodd\" fill-opacity=\"1\" stroke=\"#000000\" stroke-opacity=\"1\" stroke-width=\"3.2\"/>\n",
       "<circle clip-path=\"url(#clip752)\" cx=\"2291.1\" cy=\"160.256\" r=\"14.4\" fill=\"#009af9\" fill-rule=\"evenodd\" fill-opacity=\"1\" stroke=\"#000000\" stroke-opacity=\"1\" stroke-width=\"3.2\"/>\n",
       "<circle clip-path=\"url(#clip752)\" cx=\"235.808\" cy=\"1384.45\" r=\"14.4\" fill=\"#e26f46\" fill-rule=\"evenodd\" fill-opacity=\"1\" stroke=\"#000000\" stroke-opacity=\"1\" stroke-width=\"3.2\"/>\n",
       "<circle clip-path=\"url(#clip752)\" cx=\"356.707\" cy=\"1382.92\" r=\"14.4\" fill=\"#e26f46\" fill-rule=\"evenodd\" fill-opacity=\"1\" stroke=\"#000000\" stroke-opacity=\"1\" stroke-width=\"3.2\"/>\n",
       "<circle clip-path=\"url(#clip752)\" cx=\"477.606\" cy=\"1377.45\" r=\"14.4\" fill=\"#e26f46\" fill-rule=\"evenodd\" fill-opacity=\"1\" stroke=\"#000000\" stroke-opacity=\"1\" stroke-width=\"3.2\"/>\n",
       "<circle clip-path=\"url(#clip752)\" cx=\"598.506\" cy=\"1367.81\" r=\"14.4\" fill=\"#e26f46\" fill-rule=\"evenodd\" fill-opacity=\"1\" stroke=\"#000000\" stroke-opacity=\"1\" stroke-width=\"3.2\"/>\n",
       "<circle clip-path=\"url(#clip752)\" cx=\"719.405\" cy=\"1358.49\" r=\"14.4\" fill=\"#e26f46\" fill-rule=\"evenodd\" fill-opacity=\"1\" stroke=\"#000000\" stroke-opacity=\"1\" stroke-width=\"3.2\"/>\n",
       "<circle clip-path=\"url(#clip752)\" cx=\"840.305\" cy=\"1341.86\" r=\"14.4\" fill=\"#e26f46\" fill-rule=\"evenodd\" fill-opacity=\"1\" stroke=\"#000000\" stroke-opacity=\"1\" stroke-width=\"3.2\"/>\n",
       "<circle clip-path=\"url(#clip752)\" cx=\"961.204\" cy=\"1321.06\" r=\"14.4\" fill=\"#e26f46\" fill-rule=\"evenodd\" fill-opacity=\"1\" stroke=\"#000000\" stroke-opacity=\"1\" stroke-width=\"3.2\"/>\n",
       "<circle clip-path=\"url(#clip752)\" cx=\"1082.1\" cy=\"1293.72\" r=\"14.4\" fill=\"#e26f46\" fill-rule=\"evenodd\" fill-opacity=\"1\" stroke=\"#000000\" stroke-opacity=\"1\" stroke-width=\"3.2\"/>\n",
       "<circle clip-path=\"url(#clip752)\" cx=\"1203\" cy=\"1259.65\" r=\"14.4\" fill=\"#e26f46\" fill-rule=\"evenodd\" fill-opacity=\"1\" stroke=\"#000000\" stroke-opacity=\"1\" stroke-width=\"3.2\"/>\n",
       "<circle clip-path=\"url(#clip752)\" cx=\"1323.9\" cy=\"1217.71\" r=\"14.4\" fill=\"#e26f46\" fill-rule=\"evenodd\" fill-opacity=\"1\" stroke=\"#000000\" stroke-opacity=\"1\" stroke-width=\"3.2\"/>\n",
       "<circle clip-path=\"url(#clip752)\" cx=\"1444.8\" cy=\"1167.06\" r=\"14.4\" fill=\"#e26f46\" fill-rule=\"evenodd\" fill-opacity=\"1\" stroke=\"#000000\" stroke-opacity=\"1\" stroke-width=\"3.2\"/>\n",
       "<circle clip-path=\"url(#clip752)\" cx=\"1565.7\" cy=\"1108.31\" r=\"14.4\" fill=\"#e26f46\" fill-rule=\"evenodd\" fill-opacity=\"1\" stroke=\"#000000\" stroke-opacity=\"1\" stroke-width=\"3.2\"/>\n",
       "<circle clip-path=\"url(#clip752)\" cx=\"1686.6\" cy=\"1026.97\" r=\"14.4\" fill=\"#e26f46\" fill-rule=\"evenodd\" fill-opacity=\"1\" stroke=\"#000000\" stroke-opacity=\"1\" stroke-width=\"3.2\"/>\n",
       "<circle clip-path=\"url(#clip752)\" cx=\"1807.5\" cy=\"948.847\" r=\"14.4\" fill=\"#e26f46\" fill-rule=\"evenodd\" fill-opacity=\"1\" stroke=\"#000000\" stroke-opacity=\"1\" stroke-width=\"3.2\"/>\n",
       "<circle clip-path=\"url(#clip752)\" cx=\"1928.4\" cy=\"811.475\" r=\"14.4\" fill=\"#e26f46\" fill-rule=\"evenodd\" fill-opacity=\"1\" stroke=\"#000000\" stroke-opacity=\"1\" stroke-width=\"3.2\"/>\n",
       "<circle clip-path=\"url(#clip752)\" cx=\"2049.3\" cy=\"731.346\" r=\"14.4\" fill=\"#e26f46\" fill-rule=\"evenodd\" fill-opacity=\"1\" stroke=\"#000000\" stroke-opacity=\"1\" stroke-width=\"3.2\"/>\n",
       "<circle clip-path=\"url(#clip752)\" cx=\"2170.2\" cy=\"580.736\" r=\"14.4\" fill=\"#e26f46\" fill-rule=\"evenodd\" fill-opacity=\"1\" stroke=\"#000000\" stroke-opacity=\"1\" stroke-width=\"3.2\"/>\n",
       "<circle clip-path=\"url(#clip752)\" cx=\"2291.1\" cy=\"441.734\" r=\"14.4\" fill=\"#e26f46\" fill-rule=\"evenodd\" fill-opacity=\"1\" stroke=\"#000000\" stroke-opacity=\"1\" stroke-width=\"3.2\"/>\n",
       "<circle clip-path=\"url(#clip752)\" cx=\"235.808\" cy=\"1386.4\" r=\"14.4\" fill=\"#3da44d\" fill-rule=\"evenodd\" fill-opacity=\"1\" stroke=\"#000000\" stroke-opacity=\"1\" stroke-width=\"3.2\"/>\n",
       "<circle clip-path=\"url(#clip752)\" cx=\"356.707\" cy=\"1386.38\" r=\"14.4\" fill=\"#3da44d\" fill-rule=\"evenodd\" fill-opacity=\"1\" stroke=\"#000000\" stroke-opacity=\"1\" stroke-width=\"3.2\"/>\n",
       "<circle clip-path=\"url(#clip752)\" cx=\"477.606\" cy=\"1386.33\" r=\"14.4\" fill=\"#3da44d\" fill-rule=\"evenodd\" fill-opacity=\"1\" stroke=\"#000000\" stroke-opacity=\"1\" stroke-width=\"3.2\"/>\n",
       "<circle clip-path=\"url(#clip752)\" cx=\"598.506\" cy=\"1386.33\" r=\"14.4\" fill=\"#3da44d\" fill-rule=\"evenodd\" fill-opacity=\"1\" stroke=\"#000000\" stroke-opacity=\"1\" stroke-width=\"3.2\"/>\n",
       "<circle clip-path=\"url(#clip752)\" cx=\"719.405\" cy=\"1386.3\" r=\"14.4\" fill=\"#3da44d\" fill-rule=\"evenodd\" fill-opacity=\"1\" stroke=\"#000000\" stroke-opacity=\"1\" stroke-width=\"3.2\"/>\n",
       "<circle clip-path=\"url(#clip752)\" cx=\"840.305\" cy=\"1386.23\" r=\"14.4\" fill=\"#3da44d\" fill-rule=\"evenodd\" fill-opacity=\"1\" stroke=\"#000000\" stroke-opacity=\"1\" stroke-width=\"3.2\"/>\n",
       "<circle clip-path=\"url(#clip752)\" cx=\"961.204\" cy=\"1386.2\" r=\"14.4\" fill=\"#3da44d\" fill-rule=\"evenodd\" fill-opacity=\"1\" stroke=\"#000000\" stroke-opacity=\"1\" stroke-width=\"3.2\"/>\n",
       "<circle clip-path=\"url(#clip752)\" cx=\"1082.1\" cy=\"1386.14\" r=\"14.4\" fill=\"#3da44d\" fill-rule=\"evenodd\" fill-opacity=\"1\" stroke=\"#000000\" stroke-opacity=\"1\" stroke-width=\"3.2\"/>\n",
       "<circle clip-path=\"url(#clip752)\" cx=\"1203\" cy=\"1386.1\" r=\"14.4\" fill=\"#3da44d\" fill-rule=\"evenodd\" fill-opacity=\"1\" stroke=\"#000000\" stroke-opacity=\"1\" stroke-width=\"3.2\"/>\n",
       "<circle clip-path=\"url(#clip752)\" cx=\"1323.9\" cy=\"1386.05\" r=\"14.4\" fill=\"#3da44d\" fill-rule=\"evenodd\" fill-opacity=\"1\" stroke=\"#000000\" stroke-opacity=\"1\" stroke-width=\"3.2\"/>\n",
       "<circle clip-path=\"url(#clip752)\" cx=\"1444.8\" cy=\"1385.98\" r=\"14.4\" fill=\"#3da44d\" fill-rule=\"evenodd\" fill-opacity=\"1\" stroke=\"#000000\" stroke-opacity=\"1\" stroke-width=\"3.2\"/>\n",
       "<circle clip-path=\"url(#clip752)\" cx=\"1565.7\" cy=\"1386.01\" r=\"14.4\" fill=\"#3da44d\" fill-rule=\"evenodd\" fill-opacity=\"1\" stroke=\"#000000\" stroke-opacity=\"1\" stroke-width=\"3.2\"/>\n",
       "<circle clip-path=\"url(#clip752)\" cx=\"1686.6\" cy=\"1385.93\" r=\"14.4\" fill=\"#3da44d\" fill-rule=\"evenodd\" fill-opacity=\"1\" stroke=\"#000000\" stroke-opacity=\"1\" stroke-width=\"3.2\"/>\n",
       "<circle clip-path=\"url(#clip752)\" cx=\"1807.5\" cy=\"1385.82\" r=\"14.4\" fill=\"#3da44d\" fill-rule=\"evenodd\" fill-opacity=\"1\" stroke=\"#000000\" stroke-opacity=\"1\" stroke-width=\"3.2\"/>\n",
       "<circle clip-path=\"url(#clip752)\" cx=\"1928.4\" cy=\"1385.71\" r=\"14.4\" fill=\"#3da44d\" fill-rule=\"evenodd\" fill-opacity=\"1\" stroke=\"#000000\" stroke-opacity=\"1\" stroke-width=\"3.2\"/>\n",
       "<circle clip-path=\"url(#clip752)\" cx=\"2049.3\" cy=\"1385.78\" r=\"14.4\" fill=\"#3da44d\" fill-rule=\"evenodd\" fill-opacity=\"1\" stroke=\"#000000\" stroke-opacity=\"1\" stroke-width=\"3.2\"/>\n",
       "<circle clip-path=\"url(#clip752)\" cx=\"2170.2\" cy=\"1385.75\" r=\"14.4\" fill=\"#3da44d\" fill-rule=\"evenodd\" fill-opacity=\"1\" stroke=\"#000000\" stroke-opacity=\"1\" stroke-width=\"3.2\"/>\n",
       "<circle clip-path=\"url(#clip752)\" cx=\"2291.1\" cy=\"1385.64\" r=\"14.4\" fill=\"#3da44d\" fill-rule=\"evenodd\" fill-opacity=\"1\" stroke=\"#000000\" stroke-opacity=\"1\" stroke-width=\"3.2\"/>\n",
       "<path clip-path=\"url(#clip750)\" d=\"M246.769 374.156 L605.416 374.156 L605.416 166.796 L246.769 166.796  Z\" fill=\"#ffffff\" fill-rule=\"evenodd\" fill-opacity=\"1\"/>\n",
       "<polyline clip-path=\"url(#clip750)\" style=\"stroke:#000000; stroke-linecap:round; stroke-linejoin:round; stroke-width:4; stroke-opacity:1; fill:none\" points=\"246.769,374.156 605.416,374.156 605.416,166.796 246.769,166.796 246.769,374.156 \"/>\n",
       "<circle clip-path=\"url(#clip750)\" cx=\"343.596\" cy=\"218.636\" r=\"23.04\" fill=\"#009af9\" fill-rule=\"evenodd\" fill-opacity=\"1\" stroke=\"#000000\" stroke-opacity=\"1\" stroke-width=\"5.12\"/>\n",
       "<path clip-path=\"url(#clip750)\" d=\"M462.136 220.268 L462.136 235.916 L457.877 235.916 L457.877 220.407 Q457.877 216.726 456.442 214.897 Q455.006 213.069 452.136 213.069 Q448.687 213.069 446.696 215.268 Q444.705 217.467 444.705 221.263 L444.705 235.916 L440.423 235.916 L440.423 209.99 L444.705 209.99 L444.705 214.018 Q446.233 211.68 448.293 210.522 Q450.377 209.365 453.085 209.365 Q457.553 209.365 459.844 212.143 Q462.136 214.897 462.136 220.268 Z\" fill=\"#000000\" fill-rule=\"evenodd\" fill-opacity=\"1\" /><path clip-path=\"url(#clip750)\" d=\"M482.414 222.883 Q477.252 222.883 475.261 224.064 Q473.27 225.244 473.27 228.092 Q473.27 230.36 474.752 231.703 Q476.256 233.022 478.826 233.022 Q482.367 233.022 484.497 230.522 Q486.65 227.999 486.65 223.832 L486.65 222.883 L482.414 222.883 M490.909 221.124 L490.909 235.916 L486.65 235.916 L486.65 231.981 Q485.191 234.342 483.015 235.476 Q480.84 236.587 477.691 236.587 Q473.71 236.587 471.349 234.365 Q469.011 232.119 469.011 228.369 Q469.011 223.994 471.928 221.772 Q474.867 219.55 480.678 219.55 L486.65 219.55 L486.65 219.133 Q486.65 216.194 484.705 214.596 Q482.784 212.976 479.289 212.976 Q477.066 212.976 474.96 213.508 Q472.853 214.041 470.909 215.106 L470.909 211.17 Q473.247 210.268 475.446 209.828 Q477.645 209.365 479.728 209.365 Q485.353 209.365 488.131 212.282 Q490.909 215.198 490.909 221.124 Z\" fill=\"#000000\" fill-rule=\"evenodd\" fill-opacity=\"1\" /><path clip-path=\"url(#clip750)\" d=\"M499.682 209.99 L503.941 209.99 L503.941 235.916 L499.682 235.916 L499.682 209.99 M499.682 199.897 L503.941 199.897 L503.941 205.291 L499.682 205.291 L499.682 199.897 Z\" fill=\"#000000\" fill-rule=\"evenodd\" fill-opacity=\"1\" /><path clip-path=\"url(#clip750)\" d=\"M509.798 209.99 L514.312 209.99 L522.413 231.749 L530.515 209.99 L535.029 209.99 L525.307 235.916 L519.52 235.916 L509.798 209.99 Z\" fill=\"#000000\" fill-rule=\"evenodd\" fill-opacity=\"1\" /><path clip-path=\"url(#clip750)\" d=\"M563.084 221.888 L563.084 223.971 L543.501 223.971 Q543.779 228.369 546.14 230.684 Q548.524 232.976 552.76 232.976 Q555.214 232.976 557.506 232.374 Q559.821 231.772 562.089 230.569 L562.089 234.596 Q559.797 235.568 557.39 236.078 Q554.983 236.587 552.506 236.587 Q546.302 236.587 542.668 232.976 Q539.057 229.365 539.057 223.207 Q539.057 216.842 542.483 213.115 Q545.932 209.365 551.765 209.365 Q556.997 209.365 560.029 212.745 Q563.084 216.101 563.084 221.888 M558.825 220.638 Q558.779 217.143 556.858 215.059 Q554.96 212.976 551.811 212.976 Q548.247 212.976 546.094 214.99 Q543.964 217.004 543.64 220.661 L558.825 220.638 Z\" fill=\"#000000\" fill-rule=\"evenodd\" fill-opacity=\"1\" /><circle clip-path=\"url(#clip750)\" cx=\"343.596\" cy=\"270.476\" r=\"23.04\" fill=\"#e26f46\" fill-rule=\"evenodd\" fill-opacity=\"1\" stroke=\"#000000\" stroke-opacity=\"1\" stroke-width=\"5.12\"/>\n",
       "<path clip-path=\"url(#clip750)\" d=\"M459.196 274.816 Q459.196 270.117 457.252 267.455 Q455.33 264.77 451.951 264.77 Q448.571 264.77 446.627 267.455 Q444.705 270.117 444.705 274.816 Q444.705 279.515 446.627 282.2 Q448.571 284.862 451.951 284.862 Q455.33 284.862 457.252 282.2 Q459.196 279.515 459.196 274.816 M444.705 265.765 Q446.048 263.45 448.085 262.339 Q450.145 261.205 452.992 261.205 Q457.715 261.205 460.654 264.955 Q463.617 268.705 463.617 274.816 Q463.617 280.927 460.654 284.677 Q457.715 288.427 452.992 288.427 Q450.145 288.427 448.085 287.316 Q446.048 286.182 444.705 283.867 L444.705 287.756 L440.423 287.756 L440.423 251.737 L444.705 251.737 L444.705 265.765 Z\" fill=\"#000000\" fill-rule=\"evenodd\" fill-opacity=\"1\" /><path clip-path=\"url(#clip750)\" d=\"M492.853 273.728 L492.853 275.811 L473.27 275.811 Q473.548 280.209 475.909 282.524 Q478.293 284.816 482.529 284.816 Q484.983 284.816 487.275 284.214 Q489.59 283.612 491.858 282.409 L491.858 286.436 Q489.566 287.408 487.159 287.918 Q484.752 288.427 482.275 288.427 Q476.071 288.427 472.437 284.816 Q468.826 281.205 468.826 275.047 Q468.826 268.682 472.252 264.955 Q475.701 261.205 481.534 261.205 Q486.765 261.205 489.798 264.585 Q492.853 267.941 492.853 273.728 M488.594 272.478 Q488.548 268.983 486.627 266.899 Q484.728 264.816 481.58 264.816 Q478.015 264.816 475.863 266.83 Q473.733 268.844 473.409 272.501 L488.594 272.478 Z\" fill=\"#000000\" fill-rule=\"evenodd\" fill-opacity=\"1\" /><path clip-path=\"url(#clip750)\" d=\"M504.057 254.469 L504.057 261.83 L512.83 261.83 L512.83 265.14 L504.057 265.14 L504.057 279.214 Q504.057 282.385 504.914 283.288 Q505.793 284.191 508.455 284.191 L512.83 284.191 L512.83 287.756 L508.455 287.756 Q503.525 287.756 501.65 285.927 Q499.775 284.075 499.775 279.214 L499.775 265.14 L496.65 265.14 L496.65 261.83 L499.775 261.83 L499.775 254.469 L504.057 254.469 Z\" fill=\"#000000\" fill-rule=\"evenodd\" fill-opacity=\"1\" /><path clip-path=\"url(#clip750)\" d=\"M522.645 254.469 L522.645 261.83 L531.418 261.83 L531.418 265.14 L522.645 265.14 L522.645 279.214 Q522.645 282.385 523.501 283.288 Q524.381 284.191 527.043 284.191 L531.418 284.191 L531.418 287.756 L527.043 287.756 Q522.112 287.756 520.237 285.927 Q518.363 284.075 518.363 279.214 L518.363 265.14 L515.238 265.14 L515.238 261.83 L518.363 261.83 L518.363 254.469 L522.645 254.469 Z\" fill=\"#000000\" fill-rule=\"evenodd\" fill-opacity=\"1\" /><path clip-path=\"url(#clip750)\" d=\"M559.196 273.728 L559.196 275.811 L539.612 275.811 Q539.89 280.209 542.251 282.524 Q544.636 284.816 548.872 284.816 Q551.325 284.816 553.617 284.214 Q555.932 283.612 558.2 282.409 L558.2 286.436 Q555.909 287.408 553.501 287.918 Q551.094 288.427 548.617 288.427 Q542.413 288.427 538.779 284.816 Q535.168 281.205 535.168 275.047 Q535.168 268.682 538.594 264.955 Q542.043 261.205 547.876 261.205 Q553.108 261.205 556.14 264.585 Q559.196 267.941 559.196 273.728 M554.936 272.478 Q554.89 268.983 552.969 266.899 Q551.071 264.816 547.923 264.816 Q544.358 264.816 542.205 266.83 Q540.075 268.844 539.751 272.501 L554.936 272.478 Z\" fill=\"#000000\" fill-rule=\"evenodd\" fill-opacity=\"1\" /><path clip-path=\"url(#clip750)\" d=\"M581.209 265.811 Q580.492 265.395 579.635 265.21 Q578.802 265.001 577.783 265.001 Q574.172 265.001 572.228 267.362 Q570.307 269.7 570.307 274.098 L570.307 287.756 L566.024 287.756 L566.024 261.83 L570.307 261.83 L570.307 265.858 Q571.649 263.497 573.802 262.362 Q575.955 261.205 579.033 261.205 Q579.473 261.205 580.006 261.274 Q580.538 261.321 581.186 261.436 L581.209 265.811 Z\" fill=\"#000000\" fill-rule=\"evenodd\" fill-opacity=\"1\" /><circle clip-path=\"url(#clip750)\" cx=\"343.596\" cy=\"322.316\" r=\"23.04\" fill=\"#3da44d\" fill-rule=\"evenodd\" fill-opacity=\"1\" stroke=\"#000000\" stroke-opacity=\"1\" stroke-width=\"5.12\"/>\n",
       "<path clip-path=\"url(#clip750)\" d=\"M459.196 326.656 Q459.196 321.957 457.252 319.295 Q455.33 316.61 451.951 316.61 Q448.571 316.61 446.627 319.295 Q444.705 321.957 444.705 326.656 Q444.705 331.355 446.627 334.04 Q448.571 336.702 451.951 336.702 Q455.33 336.702 457.252 334.04 Q459.196 331.355 459.196 326.656 M444.705 317.605 Q446.048 315.29 448.085 314.179 Q450.145 313.045 452.992 313.045 Q457.715 313.045 460.654 316.795 Q463.617 320.545 463.617 326.656 Q463.617 332.767 460.654 336.517 Q457.715 340.267 452.992 340.267 Q450.145 340.267 448.085 339.156 Q446.048 338.022 444.705 335.707 L444.705 339.596 L440.423 339.596 L440.423 303.577 L444.705 303.577 L444.705 317.605 Z\" fill=\"#000000\" fill-rule=\"evenodd\" fill-opacity=\"1\" /><path clip-path=\"url(#clip750)\" d=\"M470.678 303.577 L474.937 303.577 L474.937 339.596 L470.678 339.596 L470.678 303.577 Z\" fill=\"#000000\" fill-rule=\"evenodd\" fill-opacity=\"1\" /><path clip-path=\"url(#clip750)\" d=\"M495.631 326.563 Q490.469 326.563 488.478 327.744 Q486.488 328.924 486.488 331.772 Q486.488 334.04 487.969 335.383 Q489.474 336.702 492.043 336.702 Q495.585 336.702 497.714 334.202 Q499.867 331.679 499.867 327.512 L499.867 326.563 L495.631 326.563 M504.126 324.804 L504.126 339.596 L499.867 339.596 L499.867 335.661 Q498.409 338.022 496.233 339.156 Q494.057 340.267 490.909 340.267 Q486.927 340.267 484.566 338.045 Q482.228 335.799 482.228 332.049 Q482.228 327.674 485.145 325.452 Q488.085 323.23 493.895 323.23 L499.867 323.23 L499.867 322.813 Q499.867 319.874 497.923 318.276 Q496.002 316.656 492.506 316.656 Q490.284 316.656 488.177 317.188 Q486.071 317.721 484.127 318.786 L484.127 314.85 Q486.465 313.948 488.664 313.508 Q490.863 313.045 492.946 313.045 Q498.571 313.045 501.349 315.962 Q504.126 318.878 504.126 324.804 Z\" fill=\"#000000\" fill-rule=\"evenodd\" fill-opacity=\"1\" /><path clip-path=\"url(#clip750)\" d=\"M529.427 314.434 L529.427 318.462 Q527.622 317.536 525.677 317.073 Q523.733 316.61 521.65 316.61 Q518.478 316.61 516.881 317.582 Q515.307 318.554 515.307 320.499 Q515.307 321.98 516.441 322.837 Q517.575 323.67 521.001 324.434 L522.46 324.758 Q526.997 325.73 528.895 327.512 Q530.816 329.272 530.816 332.443 Q530.816 336.054 527.946 338.161 Q525.099 340.267 520.099 340.267 Q518.015 340.267 515.747 339.85 Q513.501 339.457 511.001 338.647 L511.001 334.249 Q513.363 335.475 515.654 336.1 Q517.946 336.702 520.191 336.702 Q523.2 336.702 524.821 335.684 Q526.441 334.642 526.441 332.767 Q526.441 331.031 525.261 330.105 Q524.103 329.179 520.145 328.323 L518.663 327.975 Q514.705 327.142 512.946 325.429 Q511.187 323.693 511.187 320.684 Q511.187 317.026 513.779 315.036 Q516.372 313.045 521.14 313.045 Q523.501 313.045 525.585 313.392 Q527.668 313.739 529.427 314.434 Z\" fill=\"#000000\" fill-rule=\"evenodd\" fill-opacity=\"1\" /></svg>\n"
      ]
     },
     "execution_count": 41,
     "metadata": {},
     "output_type": "execute_result"
    }
   ],
   "source": [
    "c_df_grouped = groupby(c_df, [:length, :type])\n",
    "c_df_plot = combine(c_df_grouped, :time => mean, :time => std)\n",
    "scatter([ c_df_plot[c_df_plot[:,2] .== \"naive\", :].length c_df_plot[c_df_plot[:,2] .== \"better\", :].length c_df_plot[c_df_plot[:,2] .== \"blas\", :].length],\n",
    "    [ c_df_plot[c_df_plot[:,2] .== \"naive\", :].time_mean  c_df_plot[c_df_plot[:,2] .== \"better\", :].time_mean c_df_plot[c_df_plot[:,2] .== \"blas\", :].time_mean ],\n",
    "    yerr = c_df_plot[:, :time_std],\n",
    "    label = [ \"naive\" \"better\" \"blas\"],\n",
    "    title = \"Time of multiplying matrices\",\n",
    "    xlab = \"length [n]\",\n",
    "    ylab = \"time [s]\"\n",
    ")"
   ]
  },
  {
   "cell_type": "markdown",
   "metadata": {},
   "source": [
    "#### Zadanie 3"
   ]
  },
  {
   "cell_type": "code",
   "execution_count": 42,
   "metadata": {},
   "outputs": [
    {
     "data": {
      "image/svg+xml": [
       "<?xml version=\"1.0\" encoding=\"utf-8\"?>\n",
       "<svg xmlns=\"http://www.w3.org/2000/svg\" xmlns:xlink=\"http://www.w3.org/1999/xlink\" width=\"600\" height=\"400\" viewBox=\"0 0 2400 1600\">\n",
       "<defs>\n",
       "  <clipPath id=\"clip790\">\n",
       "    <rect x=\"0\" y=\"0\" width=\"2400\" height=\"1600\"/>\n",
       "  </clipPath>\n",
       "</defs>\n",
       "<path clip-path=\"url(#clip790)\" d=\"M0 1600 L2400 1600 L2400 0 L0 0  Z\" fill=\"#ffffff\" fill-rule=\"evenodd\" fill-opacity=\"1\"/>\n",
       "<defs>\n",
       "  <clipPath id=\"clip791\">\n",
       "    <rect x=\"480\" y=\"0\" width=\"1681\" height=\"1600\"/>\n",
       "  </clipPath>\n",
       "</defs>\n",
       "<path clip-path=\"url(#clip790)\" d=\"M174.149 1423.18 L2352.76 1423.18 L2352.76 123.472 L174.149 123.472  Z\" fill=\"#ffffff\" fill-rule=\"evenodd\" fill-opacity=\"1\"/>\n",
       "<defs>\n",
       "  <clipPath id=\"clip792\">\n",
       "    <rect x=\"174\" y=\"123\" width=\"2180\" height=\"1301\"/>\n",
       "  </clipPath>\n",
       "</defs>\n",
       "<polyline clip-path=\"url(#clip792)\" style=\"stroke:#000000; stroke-linecap:round; stroke-linejoin:round; stroke-width:2; stroke-opacity:0.1; fill:none\" points=\"235.808,1423.18 235.808,123.472 \"/>\n",
       "<polyline clip-path=\"url(#clip792)\" style=\"stroke:#000000; stroke-linecap:round; stroke-linejoin:round; stroke-width:2; stroke-opacity:0.1; fill:none\" points=\"749.117,1423.18 749.117,123.472 \"/>\n",
       "<polyline clip-path=\"url(#clip792)\" style=\"stroke:#000000; stroke-linecap:round; stroke-linejoin:round; stroke-width:2; stroke-opacity:0.1; fill:none\" points=\"1262.43,1423.18 1262.43,123.472 \"/>\n",
       "<polyline clip-path=\"url(#clip792)\" style=\"stroke:#000000; stroke-linecap:round; stroke-linejoin:round; stroke-width:2; stroke-opacity:0.1; fill:none\" points=\"1775.73,1423.18 1775.73,123.472 \"/>\n",
       "<polyline clip-path=\"url(#clip792)\" style=\"stroke:#000000; stroke-linecap:round; stroke-linejoin:round; stroke-width:2; stroke-opacity:0.1; fill:none\" points=\"2289.04,1423.18 2289.04,123.472 \"/>\n",
       "<polyline clip-path=\"url(#clip790)\" style=\"stroke:#000000; stroke-linecap:round; stroke-linejoin:round; stroke-width:4; stroke-opacity:1; fill:none\" points=\"174.149,1423.18 2352.76,1423.18 \"/>\n",
       "<polyline clip-path=\"url(#clip790)\" style=\"stroke:#000000; stroke-linecap:round; stroke-linejoin:round; stroke-width:4; stroke-opacity:1; fill:none\" points=\"235.808,1423.18 235.808,1404.28 \"/>\n",
       "<polyline clip-path=\"url(#clip790)\" style=\"stroke:#000000; stroke-linecap:round; stroke-linejoin:round; stroke-width:4; stroke-opacity:1; fill:none\" points=\"749.117,1423.18 749.117,1404.28 \"/>\n",
       "<polyline clip-path=\"url(#clip790)\" style=\"stroke:#000000; stroke-linecap:round; stroke-linejoin:round; stroke-width:4; stroke-opacity:1; fill:none\" points=\"1262.43,1423.18 1262.43,1404.28 \"/>\n",
       "<polyline clip-path=\"url(#clip790)\" style=\"stroke:#000000; stroke-linecap:round; stroke-linejoin:round; stroke-width:4; stroke-opacity:1; fill:none\" points=\"1775.73,1423.18 1775.73,1404.28 \"/>\n",
       "<polyline clip-path=\"url(#clip790)\" style=\"stroke:#000000; stroke-linecap:round; stroke-linejoin:round; stroke-width:4; stroke-opacity:1; fill:none\" points=\"2289.04,1423.18 2289.04,1404.28 \"/>\n",
       "<path clip-path=\"url(#clip790)\" d=\"M235.808 1454.1 Q232.197 1454.1 230.368 1457.66 Q228.562 1461.2 228.562 1468.33 Q228.562 1475.44 230.368 1479.01 Q232.197 1482.55 235.808 1482.55 Q239.442 1482.55 241.247 1479.01 Q243.076 1475.44 243.076 1468.33 Q243.076 1461.2 241.247 1457.66 Q239.442 1454.1 235.808 1454.1 M235.808 1450.39 Q241.618 1450.39 244.673 1455 Q247.752 1459.58 247.752 1468.33 Q247.752 1477.06 244.673 1481.67 Q241.618 1486.25 235.808 1486.25 Q229.997 1486.25 226.919 1481.67 Q223.863 1477.06 223.863 1468.33 Q223.863 1459.58 226.919 1455 Q229.997 1450.39 235.808 1450.39 Z\" fill=\"#000000\" fill-rule=\"evenodd\" fill-opacity=\"1\" /><path clip-path=\"url(#clip790)\" d=\"M712.809 1481.64 L729.128 1481.64 L729.128 1485.58 L707.184 1485.58 L707.184 1481.64 Q709.846 1478.89 714.429 1474.26 Q719.036 1469.61 720.216 1468.27 Q722.462 1465.74 723.341 1464.01 Q724.244 1462.25 724.244 1460.56 Q724.244 1457.8 722.3 1456.07 Q720.378 1454.33 717.277 1454.33 Q715.078 1454.33 712.624 1455.09 Q710.193 1455.86 707.416 1457.41 L707.416 1452.69 Q710.24 1451.55 712.693 1450.97 Q715.147 1450.39 717.184 1450.39 Q722.554 1450.39 725.749 1453.08 Q728.943 1455.77 728.943 1460.26 Q728.943 1462.39 728.133 1464.31 Q727.346 1466.2 725.24 1468.8 Q724.661 1469.47 721.559 1472.69 Q718.457 1475.88 712.809 1481.64 Z\" fill=\"#000000\" fill-rule=\"evenodd\" fill-opacity=\"1\" /><path clip-path=\"url(#clip790)\" d=\"M738.989 1451.02 L757.346 1451.02 L757.346 1454.96 L743.272 1454.96 L743.272 1463.43 Q744.29 1463.08 745.309 1462.92 Q746.327 1462.73 747.346 1462.73 Q753.133 1462.73 756.512 1465.9 Q759.892 1469.08 759.892 1474.49 Q759.892 1480.07 756.42 1483.17 Q752.948 1486.25 746.628 1486.25 Q744.452 1486.25 742.184 1485.88 Q739.939 1485.51 737.531 1484.77 L737.531 1480.07 Q739.614 1481.2 741.837 1481.76 Q744.059 1482.32 746.536 1482.32 Q750.54 1482.32 752.878 1480.21 Q755.216 1478.1 755.216 1474.49 Q755.216 1470.88 752.878 1468.77 Q750.54 1466.67 746.536 1466.67 Q744.661 1466.67 742.786 1467.08 Q740.934 1467.5 738.989 1468.38 L738.989 1451.02 Z\" fill=\"#000000\" fill-rule=\"evenodd\" fill-opacity=\"1\" /><path clip-path=\"url(#clip790)\" d=\"M779.105 1454.1 Q775.494 1454.1 773.665 1457.66 Q771.86 1461.2 771.86 1468.33 Q771.86 1475.44 773.665 1479.01 Q775.494 1482.55 779.105 1482.55 Q782.739 1482.55 784.545 1479.01 Q786.373 1475.44 786.373 1468.33 Q786.373 1461.2 784.545 1457.66 Q782.739 1454.1 779.105 1454.1 M779.105 1450.39 Q784.915 1450.39 787.971 1455 Q791.049 1459.58 791.049 1468.33 Q791.049 1477.06 787.971 1481.67 Q784.915 1486.25 779.105 1486.25 Q773.295 1486.25 770.216 1481.67 Q767.161 1477.06 767.161 1468.33 Q767.161 1459.58 770.216 1455 Q773.295 1450.39 779.105 1450.39 Z\" fill=\"#000000\" fill-rule=\"evenodd\" fill-opacity=\"1\" /><path clip-path=\"url(#clip790)\" d=\"M1222.04 1451.02 L1240.4 1451.02 L1240.4 1454.96 L1226.33 1454.96 L1226.33 1463.43 Q1227.34 1463.08 1228.36 1462.92 Q1229.38 1462.73 1230.4 1462.73 Q1236.19 1462.73 1239.57 1465.9 Q1242.95 1469.08 1242.95 1474.49 Q1242.95 1480.07 1239.47 1483.17 Q1236 1486.25 1229.68 1486.25 Q1227.51 1486.25 1225.24 1485.88 Q1222.99 1485.51 1220.59 1484.77 L1220.59 1480.07 Q1222.67 1481.2 1224.89 1481.76 Q1227.11 1482.32 1229.59 1482.32 Q1233.59 1482.32 1235.93 1480.21 Q1238.27 1478.1 1238.27 1474.49 Q1238.27 1470.88 1235.93 1468.77 Q1233.59 1466.67 1229.59 1466.67 Q1227.72 1466.67 1225.84 1467.08 Q1223.99 1467.5 1222.04 1468.38 L1222.04 1451.02 Z\" fill=\"#000000\" fill-rule=\"evenodd\" fill-opacity=\"1\" /><path clip-path=\"url(#clip790)\" d=\"M1262.16 1454.1 Q1258.55 1454.1 1256.72 1457.66 Q1254.91 1461.2 1254.91 1468.33 Q1254.91 1475.44 1256.72 1479.01 Q1258.55 1482.55 1262.16 1482.55 Q1265.79 1482.55 1267.6 1479.01 Q1269.43 1475.44 1269.43 1468.33 Q1269.43 1461.2 1267.6 1457.66 Q1265.79 1454.1 1262.16 1454.1 M1262.16 1450.39 Q1267.97 1450.39 1271.03 1455 Q1274.1 1459.58 1274.1 1468.33 Q1274.1 1477.06 1271.03 1481.67 Q1267.97 1486.25 1262.16 1486.25 Q1256.35 1486.25 1253.27 1481.67 Q1250.22 1477.06 1250.22 1468.33 Q1250.22 1459.58 1253.27 1455 Q1256.35 1450.39 1262.16 1450.39 Z\" fill=\"#000000\" fill-rule=\"evenodd\" fill-opacity=\"1\" /><path clip-path=\"url(#clip790)\" d=\"M1292.32 1454.1 Q1288.71 1454.1 1286.88 1457.66 Q1285.08 1461.2 1285.08 1468.33 Q1285.08 1475.44 1286.88 1479.01 Q1288.71 1482.55 1292.32 1482.55 Q1295.96 1482.55 1297.76 1479.01 Q1299.59 1475.44 1299.59 1468.33 Q1299.59 1461.2 1297.76 1457.66 Q1295.96 1454.1 1292.32 1454.1 M1292.32 1450.39 Q1298.13 1450.39 1301.19 1455 Q1304.27 1459.58 1304.27 1468.33 Q1304.27 1477.06 1301.19 1481.67 Q1298.13 1486.25 1292.32 1486.25 Q1286.51 1486.25 1283.43 1481.67 Q1280.38 1477.06 1280.38 1468.33 Q1280.38 1459.58 1283.43 1455 Q1286.51 1450.39 1292.32 1450.39 Z\" fill=\"#000000\" fill-rule=\"evenodd\" fill-opacity=\"1\" /><path clip-path=\"url(#clip790)\" d=\"M1734.01 1451.02 L1756.23 1451.02 L1756.23 1453.01 L1743.69 1485.58 L1738.8 1485.58 L1750.61 1454.96 L1734.01 1454.96 L1734.01 1451.02 Z\" fill=\"#000000\" fill-rule=\"evenodd\" fill-opacity=\"1\" /><path clip-path=\"url(#clip790)\" d=\"M1765.4 1451.02 L1783.76 1451.02 L1783.76 1454.96 L1769.68 1454.96 L1769.68 1463.43 Q1770.7 1463.08 1771.72 1462.92 Q1772.74 1462.73 1773.76 1462.73 Q1779.54 1462.73 1782.92 1465.9 Q1786.3 1469.08 1786.3 1474.49 Q1786.3 1480.07 1782.83 1483.17 Q1779.36 1486.25 1773.04 1486.25 Q1770.86 1486.25 1768.59 1485.88 Q1766.35 1485.51 1763.94 1484.77 L1763.94 1480.07 Q1766.02 1481.2 1768.25 1481.76 Q1770.47 1482.32 1772.95 1482.32 Q1776.95 1482.32 1779.29 1480.21 Q1781.63 1478.1 1781.63 1474.49 Q1781.63 1470.88 1779.29 1468.77 Q1776.95 1466.67 1772.95 1466.67 Q1771.07 1466.67 1769.2 1467.08 Q1767.34 1467.5 1765.4 1468.38 L1765.4 1451.02 Z\" fill=\"#000000\" fill-rule=\"evenodd\" fill-opacity=\"1\" /><path clip-path=\"url(#clip790)\" d=\"M1805.51 1454.1 Q1801.9 1454.1 1800.08 1457.66 Q1798.27 1461.2 1798.27 1468.33 Q1798.27 1475.44 1800.08 1479.01 Q1801.9 1482.55 1805.51 1482.55 Q1809.15 1482.55 1810.95 1479.01 Q1812.78 1475.44 1812.78 1468.33 Q1812.78 1461.2 1810.95 1457.66 Q1809.15 1454.1 1805.51 1454.1 M1805.51 1450.39 Q1811.32 1450.39 1814.38 1455 Q1817.46 1459.58 1817.46 1468.33 Q1817.46 1477.06 1814.38 1481.67 Q1811.32 1486.25 1805.51 1486.25 Q1799.7 1486.25 1796.63 1481.67 Q1793.57 1477.06 1793.57 1468.33 Q1793.57 1459.58 1796.63 1455 Q1799.7 1450.39 1805.51 1450.39 Z\" fill=\"#000000\" fill-rule=\"evenodd\" fill-opacity=\"1\" /><path clip-path=\"url(#clip790)\" d=\"M2233.57 1481.64 L2241.21 1481.64 L2241.21 1455.28 L2232.9 1456.95 L2232.9 1452.69 L2241.16 1451.02 L2245.84 1451.02 L2245.84 1481.64 L2253.48 1481.64 L2253.48 1485.58 L2233.57 1485.58 L2233.57 1481.64 Z\" fill=\"#000000\" fill-rule=\"evenodd\" fill-opacity=\"1\" /><path clip-path=\"url(#clip790)\" d=\"M2272.92 1454.1 Q2269.31 1454.1 2267.48 1457.66 Q2265.68 1461.2 2265.68 1468.33 Q2265.68 1475.44 2267.48 1479.01 Q2269.31 1482.55 2272.92 1482.55 Q2276.56 1482.55 2278.36 1479.01 Q2280.19 1475.44 2280.19 1468.33 Q2280.19 1461.2 2278.36 1457.66 Q2276.56 1454.1 2272.92 1454.1 M2272.92 1450.39 Q2278.73 1450.39 2281.79 1455 Q2284.87 1459.58 2284.87 1468.33 Q2284.87 1477.06 2281.79 1481.67 Q2278.73 1486.25 2272.92 1486.25 Q2267.11 1486.25 2264.03 1481.67 Q2260.98 1477.06 2260.98 1468.33 Q2260.98 1459.58 2264.03 1455 Q2267.11 1450.39 2272.92 1450.39 Z\" fill=\"#000000\" fill-rule=\"evenodd\" fill-opacity=\"1\" /><path clip-path=\"url(#clip790)\" d=\"M2303.08 1454.1 Q2299.47 1454.1 2297.64 1457.66 Q2295.84 1461.2 2295.84 1468.33 Q2295.84 1475.44 2297.64 1479.01 Q2299.47 1482.55 2303.08 1482.55 Q2306.72 1482.55 2308.52 1479.01 Q2310.35 1475.44 2310.35 1468.33 Q2310.35 1461.2 2308.52 1457.66 Q2306.72 1454.1 2303.08 1454.1 M2303.08 1450.39 Q2308.89 1450.39 2311.95 1455 Q2315.03 1459.58 2315.03 1468.33 Q2315.03 1477.06 2311.95 1481.67 Q2308.89 1486.25 2303.08 1486.25 Q2297.27 1486.25 2294.19 1481.67 Q2291.14 1477.06 2291.14 1468.33 Q2291.14 1459.58 2294.19 1455 Q2297.27 1450.39 2303.08 1450.39 Z\" fill=\"#000000\" fill-rule=\"evenodd\" fill-opacity=\"1\" /><path clip-path=\"url(#clip790)\" d=\"M2333.25 1454.1 Q2329.63 1454.1 2327.81 1457.66 Q2326 1461.2 2326 1468.33 Q2326 1475.44 2327.81 1479.01 Q2329.63 1482.55 2333.25 1482.55 Q2336.88 1482.55 2338.68 1479.01 Q2340.51 1475.44 2340.51 1468.33 Q2340.51 1461.2 2338.68 1457.66 Q2336.88 1454.1 2333.25 1454.1 M2333.25 1450.39 Q2339.06 1450.39 2342.11 1455 Q2345.19 1459.58 2345.19 1468.33 Q2345.19 1477.06 2342.11 1481.67 Q2339.06 1486.25 2333.25 1486.25 Q2327.43 1486.25 2324.36 1481.67 Q2321.3 1477.06 2321.3 1468.33 Q2321.3 1459.58 2324.36 1455 Q2327.43 1450.39 2333.25 1450.39 Z\" fill=\"#000000\" fill-rule=\"evenodd\" fill-opacity=\"1\" /><path clip-path=\"url(#clip790)\" d=\"M1108.99 1518.52 L1114.84 1518.52 L1114.84 1568.04 L1108.99 1568.04 L1108.99 1518.52 Z\" fill=\"#000000\" fill-rule=\"evenodd\" fill-opacity=\"1\" /><path clip-path=\"url(#clip790)\" d=\"M1157.59 1548.76 L1157.59 1551.62 L1130.66 1551.62 Q1131.05 1557.67 1134.29 1560.85 Q1137.57 1564 1143.4 1564 Q1146.77 1564 1149.92 1563.17 Q1153.1 1562.35 1156.22 1560.69 L1156.22 1566.23 Q1153.07 1567.57 1149.76 1568.27 Q1146.45 1568.97 1143.05 1568.97 Q1134.52 1568.97 1129.52 1564 Q1124.55 1559.04 1124.55 1550.57 Q1124.55 1541.82 1129.26 1536.69 Q1134.01 1531.54 1142.03 1531.54 Q1149.22 1531.54 1153.39 1536.18 Q1157.59 1540.8 1157.59 1548.76 M1151.73 1547.04 Q1151.67 1542.23 1149.03 1539.37 Q1146.42 1536.5 1142.09 1536.5 Q1137.19 1536.5 1134.23 1539.27 Q1131.3 1542.04 1130.85 1547.07 L1151.73 1547.04 Z\" fill=\"#000000\" fill-rule=\"evenodd\" fill-opacity=\"1\" /><path clip-path=\"url(#clip790)\" d=\"M1196.84 1546.53 L1196.84 1568.04 L1190.98 1568.04 L1190.98 1546.72 Q1190.98 1541.66 1189.01 1539.14 Q1187.03 1536.63 1183.09 1536.63 Q1178.34 1536.63 1175.61 1539.65 Q1172.87 1542.68 1172.87 1547.9 L1172.87 1568.04 L1166.98 1568.04 L1166.98 1532.4 L1172.87 1532.4 L1172.87 1537.93 Q1174.97 1534.72 1177.8 1533.13 Q1180.67 1531.54 1184.39 1531.54 Q1190.53 1531.54 1193.68 1535.36 Q1196.84 1539.14 1196.84 1546.53 Z\" fill=\"#000000\" fill-rule=\"evenodd\" fill-opacity=\"1\" /><path clip-path=\"url(#clip790)\" d=\"M1231.97 1549.81 Q1231.97 1543.44 1229.33 1539.94 Q1226.72 1536.44 1221.98 1536.44 Q1217.27 1536.44 1214.63 1539.94 Q1212.02 1543.44 1212.02 1549.81 Q1212.02 1556.14 1214.63 1559.64 Q1217.27 1563.14 1221.98 1563.14 Q1226.72 1563.14 1229.33 1559.64 Q1231.97 1556.14 1231.97 1549.81 M1237.83 1563.62 Q1237.83 1572.72 1233.79 1577.15 Q1229.75 1581.6 1221.41 1581.6 Q1218.32 1581.6 1215.58 1581.13 Q1212.85 1580.68 1210.27 1579.72 L1210.27 1574.03 Q1212.85 1575.43 1215.36 1576.1 Q1217.87 1576.76 1220.48 1576.76 Q1226.24 1576.76 1229.11 1573.74 Q1231.97 1570.75 1231.97 1564.67 L1231.97 1561.77 Q1230.16 1564.92 1227.33 1566.48 Q1224.49 1568.04 1220.55 1568.04 Q1213.99 1568.04 1209.98 1563.05 Q1205.97 1558.05 1205.97 1549.81 Q1205.97 1541.53 1209.98 1536.53 Q1213.99 1531.54 1220.55 1531.54 Q1224.49 1531.54 1227.33 1533.1 Q1230.16 1534.66 1231.97 1537.81 L1231.97 1532.4 L1237.83 1532.4 L1237.83 1563.62 Z\" fill=\"#000000\" fill-rule=\"evenodd\" fill-opacity=\"1\" /><path clip-path=\"url(#clip790)\" d=\"M1255.69 1522.27 L1255.69 1532.4 L1267.75 1532.4 L1267.75 1536.95 L1255.69 1536.95 L1255.69 1556.3 Q1255.69 1560.66 1256.86 1561.9 Q1258.07 1563.14 1261.73 1563.14 L1267.75 1563.14 L1267.75 1568.04 L1261.73 1568.04 Q1254.95 1568.04 1252.38 1565.53 Q1249.8 1562.98 1249.8 1556.3 L1249.8 1536.95 L1245.5 1536.95 L1245.5 1532.4 L1249.8 1532.4 L1249.8 1522.27 L1255.69 1522.27 Z\" fill=\"#000000\" fill-rule=\"evenodd\" fill-opacity=\"1\" /><path clip-path=\"url(#clip790)\" d=\"M1305.08 1546.53 L1305.08 1568.04 L1299.23 1568.04 L1299.23 1546.72 Q1299.23 1541.66 1297.25 1539.14 Q1295.28 1536.63 1291.33 1536.63 Q1286.59 1536.63 1283.85 1539.65 Q1281.12 1542.68 1281.12 1547.9 L1281.12 1568.04 L1275.23 1568.04 L1275.23 1518.52 L1281.12 1518.52 L1281.12 1537.93 Q1283.22 1534.72 1286.05 1533.13 Q1288.92 1531.54 1292.64 1531.54 Q1298.78 1531.54 1301.93 1535.36 Q1305.08 1539.14 1305.08 1546.53 Z\" fill=\"#000000\" fill-rule=\"evenodd\" fill-opacity=\"1\" /><path clip-path=\"url(#clip790)\" d=\"M1336.94 1518.52 L1350.44 1518.52 L1350.44 1523.07 L1342.8 1523.07 L1342.8 1572.09 L1350.44 1572.09 L1350.44 1576.64 L1336.94 1576.64 L1336.94 1518.52 Z\" fill=\"#000000\" fill-rule=\"evenodd\" fill-opacity=\"1\" /><path clip-path=\"url(#clip790)\" d=\"M1392.55 1546.53 L1392.55 1568.04 L1386.69 1568.04 L1386.69 1546.72 Q1386.69 1541.66 1384.72 1539.14 Q1382.75 1536.63 1378.8 1536.63 Q1374.06 1536.63 1371.32 1539.65 Q1368.58 1542.68 1368.58 1547.9 L1368.58 1568.04 L1362.69 1568.04 L1362.69 1532.4 L1368.58 1532.4 L1368.58 1537.93 Q1370.68 1534.72 1373.52 1533.13 Q1376.38 1531.54 1380.1 1531.54 Q1386.25 1531.54 1389.4 1535.36 Q1392.55 1539.14 1392.55 1546.53 Z\" fill=\"#000000\" fill-rule=\"evenodd\" fill-opacity=\"1\" /><path clip-path=\"url(#clip790)\" d=\"M1417.92 1518.52 L1417.92 1576.64 L1404.42 1576.64 L1404.42 1572.09 L1412.03 1572.09 L1412.03 1523.07 L1404.42 1523.07 L1404.42 1518.52 L1417.92 1518.52 Z\" fill=\"#000000\" fill-rule=\"evenodd\" fill-opacity=\"1\" /><polyline clip-path=\"url(#clip792)\" style=\"stroke:#000000; stroke-linecap:round; stroke-linejoin:round; stroke-width:2; stroke-opacity:0.1; fill:none\" points=\"174.149,1384.86 2352.76,1384.86 \"/>\n",
       "<polyline clip-path=\"url(#clip792)\" style=\"stroke:#000000; stroke-linecap:round; stroke-linejoin:round; stroke-width:2; stroke-opacity:0.1; fill:none\" points=\"174.149,1035.48 2352.76,1035.48 \"/>\n",
       "<polyline clip-path=\"url(#clip792)\" style=\"stroke:#000000; stroke-linecap:round; stroke-linejoin:round; stroke-width:2; stroke-opacity:0.1; fill:none\" points=\"174.149,686.102 2352.76,686.102 \"/>\n",
       "<polyline clip-path=\"url(#clip792)\" style=\"stroke:#000000; stroke-linecap:round; stroke-linejoin:round; stroke-width:2; stroke-opacity:0.1; fill:none\" points=\"174.149,336.723 2352.76,336.723 \"/>\n",
       "<polyline clip-path=\"url(#clip790)\" style=\"stroke:#000000; stroke-linecap:round; stroke-linejoin:round; stroke-width:4; stroke-opacity:1; fill:none\" points=\"174.149,1423.18 174.149,123.472 \"/>\n",
       "<polyline clip-path=\"url(#clip790)\" style=\"stroke:#000000; stroke-linecap:round; stroke-linejoin:round; stroke-width:4; stroke-opacity:1; fill:none\" points=\"174.149,1384.86 193.047,1384.86 \"/>\n",
       "<polyline clip-path=\"url(#clip790)\" style=\"stroke:#000000; stroke-linecap:round; stroke-linejoin:round; stroke-width:4; stroke-opacity:1; fill:none\" points=\"174.149,1035.48 193.047,1035.48 \"/>\n",
       "<polyline clip-path=\"url(#clip790)\" style=\"stroke:#000000; stroke-linecap:round; stroke-linejoin:round; stroke-width:4; stroke-opacity:1; fill:none\" points=\"174.149,686.102 193.047,686.102 \"/>\n",
       "<polyline clip-path=\"url(#clip790)\" style=\"stroke:#000000; stroke-linecap:round; stroke-linejoin:round; stroke-width:4; stroke-opacity:1; fill:none\" points=\"174.149,336.723 193.047,336.723 \"/>\n",
       "<path clip-path=\"url(#clip790)\" d=\"M126.205 1370.66 Q122.593 1370.66 120.765 1374.22 Q118.959 1377.76 118.959 1384.89 Q118.959 1392 120.765 1395.56 Q122.593 1399.11 126.205 1399.11 Q129.839 1399.11 131.644 1395.56 Q133.473 1392 133.473 1384.89 Q133.473 1377.76 131.644 1374.22 Q129.839 1370.66 126.205 1370.66 M126.205 1366.95 Q132.015 1366.95 135.07 1371.56 Q138.149 1376.14 138.149 1384.89 Q138.149 1393.62 135.07 1398.23 Q132.015 1402.81 126.205 1402.81 Q120.394 1402.81 117.316 1398.23 Q114.26 1393.62 114.26 1384.89 Q114.26 1376.14 117.316 1371.56 Q120.394 1366.95 126.205 1366.95 Z\" fill=\"#000000\" fill-rule=\"evenodd\" fill-opacity=\"1\" /><path clip-path=\"url(#clip790)\" d=\"M118.242 1048.83 L125.88 1048.83 L125.88 1022.46 L117.57 1024.13 L117.57 1019.87 L125.834 1018.2 L130.51 1018.2 L130.51 1048.83 L138.149 1048.83 L138.149 1052.76 L118.242 1052.76 L118.242 1048.83 Z\" fill=\"#000000\" fill-rule=\"evenodd\" fill-opacity=\"1\" /><path clip-path=\"url(#clip790)\" d=\"M121.83 699.447 L138.149 699.447 L138.149 703.382 L116.205 703.382 L116.205 699.447 Q118.867 696.692 123.45 692.062 Q128.056 687.41 129.237 686.067 Q131.482 683.544 132.362 681.808 Q133.265 680.049 133.265 678.359 Q133.265 675.604 131.32 673.868 Q129.399 672.132 126.297 672.132 Q124.098 672.132 121.644 672.896 Q119.214 673.66 116.436 675.211 L116.436 670.488 Q119.26 669.354 121.714 668.775 Q124.168 668.197 126.205 668.197 Q131.575 668.197 134.769 670.882 Q137.964 673.567 137.964 678.058 Q137.964 680.187 137.154 682.109 Q136.367 684.007 134.26 686.599 Q133.681 687.271 130.58 690.488 Q127.478 693.683 121.83 699.447 Z\" fill=\"#000000\" fill-rule=\"evenodd\" fill-opacity=\"1\" /><path clip-path=\"url(#clip790)\" d=\"M131.019 335.369 Q134.376 336.087 136.251 338.355 Q138.149 340.624 138.149 343.957 Q138.149 349.073 134.63 351.874 Q131.112 354.675 124.63 354.675 Q122.455 354.675 120.14 354.235 Q117.848 353.818 115.394 352.962 L115.394 348.448 Q117.339 349.582 119.654 350.161 Q121.968 350.739 124.492 350.739 Q128.89 350.739 131.181 349.003 Q133.496 347.267 133.496 343.957 Q133.496 340.902 131.343 339.189 Q129.214 337.452 125.394 337.452 L121.367 337.452 L121.367 333.61 L125.58 333.61 Q129.029 333.61 130.857 332.244 Q132.686 330.855 132.686 328.263 Q132.686 325.601 130.788 324.189 Q128.913 322.753 125.394 322.753 Q123.473 322.753 121.274 323.17 Q119.075 323.587 116.436 324.466 L116.436 320.3 Q119.098 319.559 121.413 319.189 Q123.751 318.818 125.811 318.818 Q131.135 318.818 134.237 321.249 Q137.339 323.656 137.339 327.777 Q137.339 330.647 135.695 332.638 Q134.052 334.605 131.019 335.369 Z\" fill=\"#000000\" fill-rule=\"evenodd\" fill-opacity=\"1\" /><path clip-path=\"url(#clip790)\" d=\"M18.2347 885.872 L28.3562 885.872 L28.3562 873.809 L32.9077 873.809 L32.9077 885.872 L52.2594 885.872 Q56.6199 885.872 57.8613 884.694 Q59.1026 883.485 59.1026 879.824 L59.1026 873.809 L64.0042 873.809 L64.0042 879.824 Q64.0042 886.604 61.4897 889.182 Q58.9434 891.76 52.2594 891.76 L32.9077 891.76 L32.9077 896.057 L28.3562 896.057 L28.3562 891.76 L18.2347 891.76 L18.2347 885.872 Z\" fill=\"#000000\" fill-rule=\"evenodd\" fill-opacity=\"1\" /><path clip-path=\"url(#clip790)\" d=\"M28.3562 866.106 L28.3562 860.25 L64.0042 860.25 L64.0042 866.106 L28.3562 866.106 M14.479 866.106 L14.479 860.25 L21.895 860.25 L21.895 866.106 L14.479 866.106 Z\" fill=\"#000000\" fill-rule=\"evenodd\" fill-opacity=\"1\" /><path clip-path=\"url(#clip790)\" d=\"M35.1993 820.241 Q31.2526 818.045 29.3747 814.99 Q27.4968 811.934 27.4968 807.796 Q27.4968 802.226 31.4117 799.203 Q35.2948 796.179 42.4881 796.179 L64.0042 796.179 L64.0042 802.067 L42.679 802.067 Q37.5546 802.067 35.072 803.881 Q32.5894 805.696 32.5894 809.42 Q32.5894 813.971 35.6131 816.613 Q38.6368 819.255 43.8567 819.255 L64.0042 819.255 L64.0042 825.143 L42.679 825.143 Q37.5228 825.143 35.072 826.957 Q32.5894 828.771 32.5894 832.559 Q32.5894 837.047 35.6449 839.688 Q38.6686 842.33 43.8567 842.33 L64.0042 842.33 L64.0042 848.219 L28.3562 848.219 L28.3562 842.33 L33.8944 842.33 Q30.616 840.325 29.0564 837.524 Q27.4968 834.723 27.4968 830.872 Q27.4968 826.989 29.4702 824.283 Q31.4436 821.546 35.1993 820.241 Z\" fill=\"#000000\" fill-rule=\"evenodd\" fill-opacity=\"1\" /><path clip-path=\"url(#clip790)\" d=\"M44.7161 754.006 L47.5806 754.006 L47.5806 780.933 Q53.6281 780.551 56.8109 777.305 Q59.9619 774.026 59.9619 768.202 Q59.9619 764.828 59.1344 761.677 Q58.3069 758.494 56.6518 755.375 L62.1899 755.375 Q63.5267 758.526 64.227 761.836 Q64.9272 765.146 64.9272 768.552 Q64.9272 777.082 59.9619 782.079 Q54.9967 787.044 46.5303 787.044 Q37.7774 787.044 32.6531 782.333 Q27.4968 777.591 27.4968 769.57 Q27.4968 762.377 32.1438 758.207 Q36.7589 754.006 44.7161 754.006 M42.9973 759.863 Q38.1912 759.926 35.3266 762.568 Q32.4621 765.178 32.4621 769.507 Q32.4621 774.408 35.2312 777.368 Q38.0002 780.296 43.0292 780.742 L42.9973 759.863 Z\" fill=\"#000000\" fill-rule=\"evenodd\" fill-opacity=\"1\" /><path clip-path=\"url(#clip790)\" d=\"M14.479 724.215 L14.479 710.719 L19.0304 710.719 L19.0304 718.358 L68.0464 718.358 L68.0464 710.719 L72.5979 710.719 L72.5979 724.215 L14.479 724.215 Z\" fill=\"#000000\" fill-rule=\"evenodd\" fill-opacity=\"1\" /><path clip-path=\"url(#clip790)\" d=\"M29.4065 675.517 L34.9447 675.517 Q33.6716 678 33.035 680.673 Q32.3984 683.347 32.3984 686.211 Q32.3984 690.572 33.7352 692.768 Q35.072 694.932 37.7456 694.932 Q39.7826 694.932 40.9603 693.373 Q42.1061 691.813 43.1565 687.102 L43.6021 685.097 Q44.9389 678.859 47.3897 676.249 Q49.8086 673.607 54.1691 673.607 Q59.1344 673.607 62.0308 677.554 Q64.9272 681.469 64.9272 688.344 Q64.9272 691.208 64.3543 694.328 Q63.8132 697.415 62.6992 700.852 L56.6518 700.852 Q58.3387 697.606 59.198 694.455 Q60.0256 691.304 60.0256 688.216 Q60.0256 684.079 58.6251 681.851 Q57.1929 679.623 54.6147 679.623 Q52.2276 679.623 50.9545 681.246 Q49.6813 682.837 48.5037 688.28 L48.0262 690.317 Q46.8804 695.76 44.5251 698.179 Q42.138 700.598 38.0002 700.598 Q32.9713 700.598 30.2341 697.033 Q27.4968 693.468 27.4968 686.912 Q27.4968 683.665 27.9743 680.8 Q28.4517 677.936 29.4065 675.517 Z\" fill=\"#000000\" fill-rule=\"evenodd\" fill-opacity=\"1\" /><path clip-path=\"url(#clip790)\" d=\"M14.479 650.595 L72.5979 650.595 L72.5979 664.09 L68.0464 664.09 L68.0464 656.483 L19.0304 656.483 L19.0304 664.09 L14.479 664.09 L14.479 650.595 Z\" fill=\"#000000\" fill-rule=\"evenodd\" fill-opacity=\"1\" /><path clip-path=\"url(#clip790)\" d=\"M671.129 12.096 L722.292 12.096 L722.292 18.9825 L700.822 18.9825 L700.822 72.576 L692.599 72.576 L692.599 18.9825 L671.129 18.9825 L671.129 12.096 Z\" fill=\"#000000\" fill-rule=\"evenodd\" fill-opacity=\"1\" /><path clip-path=\"url(#clip790)\" d=\"M727.315 27.2059 L734.769 27.2059 L734.769 72.576 L727.315 72.576 L727.315 27.2059 M727.315 9.54393 L734.769 9.54393 L734.769 18.9825 L727.315 18.9825 L727.315 9.54393 Z\" fill=\"#000000\" fill-rule=\"evenodd\" fill-opacity=\"1\" /><path clip-path=\"url(#clip790)\" d=\"M785.689 35.9153 Q788.484 30.8922 792.373 28.5022 Q796.262 26.1121 801.528 26.1121 Q808.617 26.1121 812.465 31.0947 Q816.314 36.0368 816.314 45.1919 L816.314 72.576 L808.819 72.576 L808.819 45.4349 Q808.819 38.913 806.51 35.7533 Q804.201 32.5936 799.462 32.5936 Q793.669 32.5936 790.307 36.4419 Q786.945 40.2903 786.945 46.9338 L786.945 72.576 L779.45 72.576 L779.45 45.4349 Q779.45 38.8725 777.141 35.7533 Q774.832 32.5936 770.012 32.5936 Q764.3 32.5936 760.938 36.4824 Q757.575 40.3308 757.575 46.9338 L757.575 72.576 L750.081 72.576 L750.081 27.2059 L757.575 27.2059 L757.575 34.2544 Q760.128 30.082 763.692 28.0971 Q767.257 26.1121 772.159 26.1121 Q777.101 26.1121 780.544 28.6237 Q784.028 31.1352 785.689 35.9153 Z\" fill=\"#000000\" fill-rule=\"evenodd\" fill-opacity=\"1\" /><path clip-path=\"url(#clip790)\" d=\"M869.988 48.0275 L869.988 51.6733 L835.717 51.6733 Q836.204 59.3701 840.335 63.421 Q844.508 67.4314 851.921 67.4314 Q856.215 67.4314 860.225 66.3781 Q864.276 65.3249 868.246 63.2184 L868.246 70.267 Q864.236 71.9684 860.023 72.8596 Q855.81 73.7508 851.475 73.7508 Q840.619 73.7508 834.259 67.4314 Q827.94 61.1119 827.94 50.3365 Q827.94 39.1965 833.935 32.6746 Q839.971 26.1121 850.179 26.1121 Q859.334 26.1121 864.641 32.0264 Q869.988 37.9003 869.988 48.0275 M862.534 45.84 Q862.453 39.7232 859.091 36.0774 Q855.769 32.4315 850.26 32.4315 Q844.022 32.4315 840.254 35.9558 Q836.528 39.4801 835.96 45.8805 L862.534 45.84 Z\" fill=\"#000000\" fill-rule=\"evenodd\" fill-opacity=\"1\" /><path clip-path=\"url(#clip790)\" d=\"M926.174 32.4315 Q920.179 32.4315 916.695 37.1306 Q913.211 41.7891 913.211 49.9314 Q913.211 58.0738 916.655 62.7728 Q920.138 67.4314 926.174 67.4314 Q932.129 67.4314 935.613 62.7323 Q939.097 58.0333 939.097 49.9314 Q939.097 41.8701 935.613 37.1711 Q932.129 32.4315 926.174 32.4315 M926.174 26.1121 Q935.896 26.1121 941.446 32.4315 Q946.996 38.7509 946.996 49.9314 Q946.996 61.0714 941.446 67.4314 Q935.896 73.7508 926.174 73.7508 Q916.411 73.7508 910.862 67.4314 Q905.352 61.0714 905.352 49.9314 Q905.352 38.7509 910.862 32.4315 Q916.411 26.1121 926.174 26.1121 Z\" fill=\"#000000\" fill-rule=\"evenodd\" fill-opacity=\"1\" /><path clip-path=\"url(#clip790)\" d=\"M982.32 9.54393 L982.32 15.7418 L975.19 15.7418 Q971.18 15.7418 969.6 17.3622 Q968.06 18.9825 968.06 23.1955 L968.06 27.2059 L980.335 27.2059 L980.335 32.9987 L968.06 32.9987 L968.06 72.576 L960.566 72.576 L960.566 32.9987 L953.437 32.9987 L953.437 27.2059 L960.566 27.2059 L960.566 24.0462 Q960.566 16.471 964.091 13.0277 Q967.615 9.54393 975.271 9.54393 L982.32 9.54393 Z\" fill=\"#000000\" fill-rule=\"evenodd\" fill-opacity=\"1\" /><path clip-path=\"url(#clip790)\" d=\"M1050.25 35.9153 Q1053.05 30.8922 1056.94 28.5022 Q1060.83 26.1121 1066.09 26.1121 Q1073.18 26.1121 1077.03 31.0947 Q1080.88 36.0368 1080.88 45.1919 L1080.88 72.576 L1073.38 72.576 L1073.38 45.4349 Q1073.38 38.913 1071.07 35.7533 Q1068.77 32.5936 1064.03 32.5936 Q1058.23 32.5936 1054.87 36.4419 Q1051.51 40.2903 1051.51 46.9338 L1051.51 72.576 L1044.01 72.576 L1044.01 45.4349 Q1044.01 38.8725 1041.71 35.7533 Q1039.4 32.5936 1034.58 32.5936 Q1028.86 32.5936 1025.5 36.4824 Q1022.14 40.3308 1022.14 46.9338 L1022.14 72.576 L1014.65 72.576 L1014.65 27.2059 L1022.14 27.2059 L1022.14 34.2544 Q1024.69 30.082 1028.26 28.0971 Q1031.82 26.1121 1036.72 26.1121 Q1041.67 26.1121 1045.11 28.6237 Q1048.59 31.1352 1050.25 35.9153 Z\" fill=\"#000000\" fill-rule=\"evenodd\" fill-opacity=\"1\" /><path clip-path=\"url(#clip790)\" d=\"M1094.98 54.671 L1094.98 27.2059 L1102.43 27.2059 L1102.43 54.3874 Q1102.43 60.8284 1104.94 64.0691 Q1107.45 67.2693 1112.48 67.2693 Q1118.51 67.2693 1121.99 63.421 Q1125.52 59.5726 1125.52 52.9291 L1125.52 27.2059 L1132.97 27.2059 L1132.97 72.576 L1125.52 72.576 L1125.52 65.6084 Q1122.81 69.7404 1119.2 71.7658 Q1115.63 73.7508 1110.9 73.7508 Q1103.08 73.7508 1099.03 68.8897 Q1094.98 64.0286 1094.98 54.671 M1113.73 26.1121 L1113.73 26.1121 Z\" fill=\"#000000\" fill-rule=\"evenodd\" fill-opacity=\"1\" /><path clip-path=\"url(#clip790)\" d=\"M1148.33 9.54393 L1155.78 9.54393 L1155.78 72.576 L1148.33 72.576 L1148.33 9.54393 Z\" fill=\"#000000\" fill-rule=\"evenodd\" fill-opacity=\"1\" /><path clip-path=\"url(#clip790)\" d=\"M1178.75 14.324 L1178.75 27.2059 L1194.1 27.2059 L1194.1 32.9987 L1178.75 32.9987 L1178.75 57.6282 Q1178.75 63.1779 1180.25 64.7578 Q1181.79 66.3376 1186.44 66.3376 L1194.1 66.3376 L1194.1 72.576 L1186.44 72.576 Q1177.82 72.576 1174.54 69.3758 Q1171.25 66.1351 1171.25 57.6282 L1171.25 32.9987 L1165.79 32.9987 L1165.79 27.2059 L1171.25 27.2059 L1171.25 14.324 L1178.75 14.324 Z\" fill=\"#000000\" fill-rule=\"evenodd\" fill-opacity=\"1\" /><path clip-path=\"url(#clip790)\" d=\"M1203.9 27.2059 L1211.36 27.2059 L1211.36 72.576 L1203.9 72.576 L1203.9 27.2059 M1203.9 9.54393 L1211.36 9.54393 L1211.36 18.9825 L1203.9 18.9825 L1203.9 9.54393 Z\" fill=\"#000000\" fill-rule=\"evenodd\" fill-opacity=\"1\" /><path clip-path=\"url(#clip790)\" d=\"M1234.16 65.7705 L1234.16 89.8329 L1226.67 89.8329 L1226.67 27.2059 L1234.16 27.2059 L1234.16 34.0924 Q1236.51 30.0415 1240.08 28.0971 Q1243.68 26.1121 1248.67 26.1121 Q1256.93 26.1121 1262.08 32.6746 Q1267.26 39.2371 1267.26 49.9314 Q1267.26 60.6258 1262.08 67.1883 Q1256.93 73.7508 1248.67 73.7508 Q1243.68 73.7508 1240.08 71.8063 Q1236.51 69.8214 1234.16 65.7705 M1259.52 49.9314 Q1259.52 41.7081 1256.12 37.0496 Q1252.76 32.3505 1246.84 32.3505 Q1240.93 32.3505 1237.53 37.0496 Q1234.16 41.7081 1234.16 49.9314 Q1234.16 58.1548 1237.53 62.8538 Q1240.93 67.5124 1246.84 67.5124 Q1252.76 67.5124 1256.12 62.8538 Q1259.52 58.1548 1259.52 49.9314 Z\" fill=\"#000000\" fill-rule=\"evenodd\" fill-opacity=\"1\" /><path clip-path=\"url(#clip790)\" d=\"M1279.62 9.54393 L1287.07 9.54393 L1287.07 72.576 L1279.62 72.576 L1279.62 9.54393 Z\" fill=\"#000000\" fill-rule=\"evenodd\" fill-opacity=\"1\" /><path clip-path=\"url(#clip790)\" d=\"M1321.54 76.7889 Q1318.38 84.8907 1315.39 87.3618 Q1312.39 89.8329 1307.36 89.8329 L1301.41 89.8329 L1301.41 83.5945 L1305.78 83.5945 Q1308.86 83.5945 1310.56 82.1361 Q1312.27 80.6778 1314.33 75.2496 L1315.67 71.8468 L1297.32 27.2059 L1305.22 27.2059 L1319.4 62.6918 L1333.57 27.2059 L1341.47 27.2059 L1321.54 76.7889 Z\" fill=\"#000000\" fill-rule=\"evenodd\" fill-opacity=\"1\" /><path clip-path=\"url(#clip790)\" d=\"M1351.76 27.2059 L1359.22 27.2059 L1359.22 72.576 L1351.76 72.576 L1351.76 27.2059 M1351.76 9.54393 L1359.22 9.54393 L1359.22 18.9825 L1351.76 18.9825 L1351.76 9.54393 Z\" fill=\"#000000\" fill-rule=\"evenodd\" fill-opacity=\"1\" /><path clip-path=\"url(#clip790)\" d=\"M1412.53 45.1919 L1412.53 72.576 L1405.07 72.576 L1405.07 45.4349 Q1405.07 38.994 1402.56 35.7938 Q1400.05 32.5936 1395.03 32.5936 Q1388.99 32.5936 1385.51 36.4419 Q1382.02 40.2903 1382.02 46.9338 L1382.02 72.576 L1374.53 72.576 L1374.53 27.2059 L1382.02 27.2059 L1382.02 34.2544 Q1384.7 30.163 1388.3 28.1376 Q1391.95 26.1121 1396.69 26.1121 Q1404.5 26.1121 1408.52 30.9732 Q1412.53 35.7938 1412.53 45.1919 Z\" fill=\"#000000\" fill-rule=\"evenodd\" fill-opacity=\"1\" /><path clip-path=\"url(#clip790)\" d=\"M1457.25 49.3643 Q1457.25 41.2625 1453.89 36.8065 Q1450.56 32.3505 1444.53 32.3505 Q1438.53 32.3505 1435.17 36.8065 Q1431.85 41.2625 1431.85 49.3643 Q1431.85 57.4256 1435.17 61.8816 Q1438.53 66.3376 1444.53 66.3376 Q1450.56 66.3376 1453.89 61.8816 Q1457.25 57.4256 1457.25 49.3643 M1464.7 66.9452 Q1464.7 78.5308 1459.56 84.1616 Q1454.41 89.8329 1443.8 89.8329 Q1439.87 89.8329 1436.39 89.2252 Q1432.9 88.6581 1429.62 87.4428 L1429.62 80.1917 Q1432.9 81.9741 1436.1 82.8248 Q1439.3 83.6755 1442.62 83.6755 Q1449.96 83.6755 1453.6 79.8271 Q1457.25 76.0193 1457.25 68.282 L1457.25 64.5957 Q1454.94 68.6061 1451.33 70.5911 Q1447.73 72.576 1442.7 72.576 Q1434.36 72.576 1429.26 66.2161 Q1424.15 59.8562 1424.15 49.3643 Q1424.15 38.832 1429.26 32.472 Q1434.36 26.1121 1442.7 26.1121 Q1447.73 26.1121 1451.33 28.0971 Q1454.94 30.082 1457.25 34.0924 L1457.25 27.2059 L1464.7 27.2059 L1464.7 66.9452 Z\" fill=\"#000000\" fill-rule=\"evenodd\" fill-opacity=\"1\" /><path clip-path=\"url(#clip790)\" d=\"M1541.75 35.9153 Q1544.54 30.8922 1548.43 28.5022 Q1552.32 26.1121 1557.59 26.1121 Q1564.68 26.1121 1568.53 31.0947 Q1572.37 36.0368 1572.37 45.1919 L1572.37 72.576 L1564.88 72.576 L1564.88 45.4349 Q1564.88 38.913 1562.57 35.7533 Q1560.26 32.5936 1555.52 32.5936 Q1549.73 32.5936 1546.37 36.4419 Q1543.01 40.2903 1543.01 46.9338 L1543.01 72.576 L1535.51 72.576 L1535.51 45.4349 Q1535.51 38.8725 1533.2 35.7533 Q1530.89 32.5936 1526.07 32.5936 Q1520.36 32.5936 1517 36.4824 Q1513.64 40.3308 1513.64 46.9338 L1513.64 72.576 L1506.14 72.576 L1506.14 27.2059 L1513.64 27.2059 L1513.64 34.2544 Q1516.19 30.082 1519.75 28.0971 Q1523.32 26.1121 1528.22 26.1121 Q1533.16 26.1121 1536.6 28.6237 Q1540.09 31.1352 1541.75 35.9153 Z\" fill=\"#000000\" fill-rule=\"evenodd\" fill-opacity=\"1\" /><path clip-path=\"url(#clip790)\" d=\"M1607.86 49.7694 Q1598.83 49.7694 1595.34 51.8354 Q1591.86 53.9013 1591.86 58.8839 Q1591.86 62.8538 1594.45 65.2034 Q1597.08 67.5124 1601.58 67.5124 Q1607.78 67.5124 1611.51 63.1374 Q1615.27 58.7219 1615.27 51.4303 L1615.27 49.7694 L1607.86 49.7694 M1622.73 46.6907 L1622.73 72.576 L1615.27 72.576 L1615.27 65.6895 Q1612.72 69.8214 1608.91 71.8063 Q1605.11 73.7508 1599.6 73.7508 Q1592.63 73.7508 1588.5 69.8619 Q1584.41 65.9325 1584.41 59.3701 Q1584.41 51.7138 1589.51 47.825 Q1594.65 43.9361 1604.82 43.9361 L1615.27 43.9361 L1615.27 43.2069 Q1615.27 38.0623 1611.87 35.2672 Q1608.51 32.4315 1602.39 32.4315 Q1598.5 32.4315 1594.82 33.3632 Q1591.13 34.295 1587.73 36.1584 L1587.73 29.2718 Q1591.82 27.692 1595.67 26.9223 Q1599.52 26.1121 1603.16 26.1121 Q1613 26.1121 1617.87 31.2163 Q1622.73 36.3204 1622.73 46.6907 Z\" fill=\"#000000\" fill-rule=\"evenodd\" fill-opacity=\"1\" /><path clip-path=\"url(#clip790)\" d=\"M1645.45 14.324 L1645.45 27.2059 L1660.81 27.2059 L1660.81 32.9987 L1645.45 32.9987 L1645.45 57.6282 Q1645.45 63.1779 1646.95 64.7578 Q1648.49 66.3376 1653.15 66.3376 L1660.81 66.3376 L1660.81 72.576 L1653.15 72.576 Q1644.52 72.576 1641.24 69.3758 Q1637.96 66.1351 1637.96 57.6282 L1637.96 32.9987 L1632.49 32.9987 L1632.49 27.2059 L1637.96 27.2059 L1637.96 14.324 L1645.45 14.324 Z\" fill=\"#000000\" fill-rule=\"evenodd\" fill-opacity=\"1\" /><path clip-path=\"url(#clip790)\" d=\"M1696.9 34.1734 Q1695.64 33.4443 1694.14 33.1202 Q1692.69 32.7556 1690.9 32.7556 Q1684.58 32.7556 1681.18 36.8875 Q1677.82 40.9789 1677.82 48.6757 L1677.82 72.576 L1670.33 72.576 L1670.33 27.2059 L1677.82 27.2059 L1677.82 34.2544 Q1680.17 30.1225 1683.94 28.1376 Q1687.7 26.1121 1693.09 26.1121 Q1693.86 26.1121 1694.79 26.2337 Q1695.72 26.3147 1696.86 26.5172 L1696.9 34.1734 Z\" fill=\"#000000\" fill-rule=\"evenodd\" fill-opacity=\"1\" /><path clip-path=\"url(#clip790)\" d=\"M1704.72 27.2059 L1712.17 27.2059 L1712.17 72.576 L1704.72 72.576 L1704.72 27.2059 M1704.72 9.54393 L1712.17 9.54393 L1712.17 18.9825 L1704.72 18.9825 L1704.72 9.54393 Z\" fill=\"#000000\" fill-rule=\"evenodd\" fill-opacity=\"1\" /><path clip-path=\"url(#clip790)\" d=\"M1760.42 28.9478 L1760.42 35.9153 Q1757.26 34.1734 1754.06 33.3227 Q1750.9 32.4315 1747.66 32.4315 Q1740.41 32.4315 1736.4 37.0496 Q1732.39 41.6271 1732.39 49.9314 Q1732.39 58.2358 1736.4 62.8538 Q1740.41 67.4314 1747.66 67.4314 Q1750.9 67.4314 1754.06 66.5807 Q1757.26 65.6895 1760.42 63.9476 L1760.42 70.8341 Q1757.3 72.2924 1753.94 73.0216 Q1750.61 73.7508 1746.85 73.7508 Q1736.6 73.7508 1730.56 67.3098 Q1724.53 60.8689 1724.53 49.9314 Q1724.53 38.832 1730.6 32.472 Q1736.72 26.1121 1747.33 26.1121 Q1750.78 26.1121 1754.06 26.8413 Q1757.34 27.5299 1760.42 28.9478 Z\" fill=\"#000000\" fill-rule=\"evenodd\" fill-opacity=\"1\" /><path clip-path=\"url(#clip790)\" d=\"M1812.19 48.0275 L1812.19 51.6733 L1777.92 51.6733 Q1778.4 59.3701 1782.54 63.421 Q1786.71 67.4314 1794.12 67.4314 Q1798.41 67.4314 1802.43 66.3781 Q1806.48 65.3249 1810.45 63.2184 L1810.45 70.267 Q1806.44 71.9684 1802.22 72.8596 Q1798.01 73.7508 1793.68 73.7508 Q1782.82 73.7508 1776.46 67.4314 Q1770.14 61.1119 1770.14 50.3365 Q1770.14 39.1965 1776.13 32.6746 Q1782.17 26.1121 1792.38 26.1121 Q1801.53 26.1121 1806.84 32.0264 Q1812.19 37.9003 1812.19 48.0275 M1804.73 45.84 Q1804.65 39.7232 1801.29 36.0774 Q1797.97 32.4315 1792.46 32.4315 Q1786.22 32.4315 1782.45 35.9558 Q1778.73 39.4801 1778.16 45.8805 L1804.73 45.84 Z\" fill=\"#000000\" fill-rule=\"evenodd\" fill-opacity=\"1\" /><path clip-path=\"url(#clip790)\" d=\"M1853.35 28.5427 L1853.35 35.5912 Q1850.19 33.9709 1846.78 33.1607 Q1843.38 32.3505 1839.73 32.3505 Q1834.18 32.3505 1831.39 34.0519 Q1828.63 35.7533 1828.63 39.156 Q1828.63 41.7486 1830.62 43.2475 Q1832.6 44.7058 1838.6 46.0426 L1841.15 46.6097 Q1849.09 48.3111 1852.41 51.4303 Q1855.78 54.509 1855.78 60.0587 Q1855.78 66.3781 1850.75 70.0644 Q1845.77 73.7508 1837.02 73.7508 Q1833.37 73.7508 1829.4 73.0216 Q1825.47 72.3329 1821.1 70.9151 L1821.1 63.2184 Q1825.23 65.3654 1829.24 66.4591 Q1833.25 67.5124 1837.18 67.5124 Q1842.45 67.5124 1845.28 65.73 Q1848.12 63.9071 1848.12 60.6258 Q1848.12 57.5877 1846.05 55.9673 Q1844.03 54.3469 1837.1 52.8481 L1834.51 52.2405 Q1827.58 50.7821 1824.5 47.7845 Q1821.42 44.7463 1821.42 39.4801 Q1821.42 33.0797 1825.96 29.5959 Q1830.5 26.1121 1838.84 26.1121 Q1842.97 26.1121 1846.62 26.7198 Q1850.27 27.3274 1853.35 28.5427 Z\" fill=\"#000000\" fill-rule=\"evenodd\" fill-opacity=\"1\" /><polyline clip-path=\"url(#clip792)\" style=\"stroke:#000000; stroke-linecap:round; stroke-linejoin:round; stroke-width:4; stroke-opacity:1; fill:none\" points=\"338.469,1384.7 338.469,1384.7 \"/>\n",
       "<polyline clip-path=\"url(#clip792)\" style=\"stroke:#000000; stroke-linecap:round; stroke-linejoin:round; stroke-width:4; stroke-opacity:1; fill:none\" points=\"441.131,1383.58 441.131,1383.58 \"/>\n",
       "<polyline clip-path=\"url(#clip792)\" style=\"stroke:#000000; stroke-linecap:round; stroke-linejoin:round; stroke-width:4; stroke-opacity:1; fill:none\" points=\"543.793,1380.51 543.793,1380.51 \"/>\n",
       "<polyline clip-path=\"url(#clip792)\" style=\"stroke:#000000; stroke-linecap:round; stroke-linejoin:round; stroke-width:4; stroke-opacity:1; fill:none\" points=\"646.455,1374.52 646.455,1374.48 \"/>\n",
       "<polyline clip-path=\"url(#clip792)\" style=\"stroke:#000000; stroke-linecap:round; stroke-linejoin:round; stroke-width:4; stroke-opacity:1; fill:none\" points=\"749.117,1364.6 749.117,1364.59 \"/>\n",
       "<polyline clip-path=\"url(#clip792)\" style=\"stroke:#000000; stroke-linecap:round; stroke-linejoin:round; stroke-width:4; stroke-opacity:1; fill:none\" points=\"851.779,1348.43 851.779,1348.41 \"/>\n",
       "<polyline clip-path=\"url(#clip792)\" style=\"stroke:#000000; stroke-linecap:round; stroke-linejoin:round; stroke-width:4; stroke-opacity:1; fill:none\" points=\"954.44,1327.84 954.44,1327.82 \"/>\n",
       "<polyline clip-path=\"url(#clip792)\" style=\"stroke:#000000; stroke-linecap:round; stroke-linejoin:round; stroke-width:4; stroke-opacity:1; fill:none\" points=\"1057.1,1299.78 1057.1,1299.77 \"/>\n",
       "<polyline clip-path=\"url(#clip792)\" style=\"stroke:#000000; stroke-linecap:round; stroke-linejoin:round; stroke-width:4; stroke-opacity:1; fill:none\" points=\"1159.76,1267.41 1159.76,1267.4 \"/>\n",
       "<polyline clip-path=\"url(#clip792)\" style=\"stroke:#000000; stroke-linecap:round; stroke-linejoin:round; stroke-width:4; stroke-opacity:1; fill:none\" points=\"1262.43,1226.19 1262.43,1226.01 \"/>\n",
       "<polyline clip-path=\"url(#clip792)\" style=\"stroke:#000000; stroke-linecap:round; stroke-linejoin:round; stroke-width:4; stroke-opacity:1; fill:none\" points=\"1365.09,1172.26 1365.09,1172.26 \"/>\n",
       "<polyline clip-path=\"url(#clip792)\" style=\"stroke:#000000; stroke-linecap:round; stroke-linejoin:round; stroke-width:4; stroke-opacity:1; fill:none\" points=\"1467.75,1114.36 1467.75,1114.35 \"/>\n",
       "<polyline clip-path=\"url(#clip792)\" style=\"stroke:#000000; stroke-linecap:round; stroke-linejoin:round; stroke-width:4; stroke-opacity:1; fill:none\" points=\"1570.41,1043.39 1570.41,1042.91 \"/>\n",
       "<polyline clip-path=\"url(#clip792)\" style=\"stroke:#000000; stroke-linecap:round; stroke-linejoin:round; stroke-width:4; stroke-opacity:1; fill:none\" points=\"1673.07,961.431 1673.07,960.619 \"/>\n",
       "<polyline clip-path=\"url(#clip792)\" style=\"stroke:#000000; stroke-linecap:round; stroke-linejoin:round; stroke-width:4; stroke-opacity:1; fill:none\" points=\"1775.73,863.022 1775.73,863.007 \"/>\n",
       "<polyline clip-path=\"url(#clip792)\" style=\"stroke:#000000; stroke-linecap:round; stroke-linejoin:round; stroke-width:4; stroke-opacity:1; fill:none\" points=\"1878.4,752.791 1878.4,744.999 \"/>\n",
       "<polyline clip-path=\"url(#clip792)\" style=\"stroke:#000000; stroke-linecap:round; stroke-linejoin:round; stroke-width:4; stroke-opacity:1; fill:none\" points=\"1981.06,632.109 1981.06,630.411 \"/>\n",
       "<polyline clip-path=\"url(#clip792)\" style=\"stroke:#000000; stroke-linecap:round; stroke-linejoin:round; stroke-width:4; stroke-opacity:1; fill:none\" points=\"2083.72,492.657 2083.72,492.479 \"/>\n",
       "<polyline clip-path=\"url(#clip792)\" style=\"stroke:#000000; stroke-linecap:round; stroke-linejoin:round; stroke-width:4; stroke-opacity:1; fill:none\" points=\"2186.38,339.729 2186.38,332.728 \"/>\n",
       "<polyline clip-path=\"url(#clip792)\" style=\"stroke:#000000; stroke-linecap:round; stroke-linejoin:round; stroke-width:4; stroke-opacity:1; fill:none\" points=\"2289.04,163.694 2289.04,161.857 \"/>\n",
       "<line clip-path=\"url(#clip792)\" x1=\"354.469\" y1=\"1384.7\" x2=\"322.469\" y2=\"1384.7\" style=\"stroke:#000000; stroke-width:3.2; stroke-opacity:1\"/>\n",
       "<line clip-path=\"url(#clip792)\" x1=\"354.469\" y1=\"1384.7\" x2=\"322.469\" y2=\"1384.7\" style=\"stroke:#000000; stroke-width:3.2; stroke-opacity:1\"/>\n",
       "<line clip-path=\"url(#clip792)\" x1=\"457.131\" y1=\"1383.58\" x2=\"425.131\" y2=\"1383.58\" style=\"stroke:#000000; stroke-width:3.2; stroke-opacity:1\"/>\n",
       "<line clip-path=\"url(#clip792)\" x1=\"457.131\" y1=\"1383.58\" x2=\"425.131\" y2=\"1383.58\" style=\"stroke:#000000; stroke-width:3.2; stroke-opacity:1\"/>\n",
       "<line clip-path=\"url(#clip792)\" x1=\"559.793\" y1=\"1380.51\" x2=\"527.793\" y2=\"1380.51\" style=\"stroke:#000000; stroke-width:3.2; stroke-opacity:1\"/>\n",
       "<line clip-path=\"url(#clip792)\" x1=\"559.793\" y1=\"1380.51\" x2=\"527.793\" y2=\"1380.51\" style=\"stroke:#000000; stroke-width:3.2; stroke-opacity:1\"/>\n",
       "<line clip-path=\"url(#clip792)\" x1=\"662.455\" y1=\"1374.52\" x2=\"630.455\" y2=\"1374.52\" style=\"stroke:#000000; stroke-width:3.2; stroke-opacity:1\"/>\n",
       "<line clip-path=\"url(#clip792)\" x1=\"662.455\" y1=\"1374.48\" x2=\"630.455\" y2=\"1374.48\" style=\"stroke:#000000; stroke-width:3.2; stroke-opacity:1\"/>\n",
       "<line clip-path=\"url(#clip792)\" x1=\"765.117\" y1=\"1364.6\" x2=\"733.117\" y2=\"1364.6\" style=\"stroke:#000000; stroke-width:3.2; stroke-opacity:1\"/>\n",
       "<line clip-path=\"url(#clip792)\" x1=\"765.117\" y1=\"1364.59\" x2=\"733.117\" y2=\"1364.59\" style=\"stroke:#000000; stroke-width:3.2; stroke-opacity:1\"/>\n",
       "<line clip-path=\"url(#clip792)\" x1=\"867.779\" y1=\"1348.43\" x2=\"835.779\" y2=\"1348.43\" style=\"stroke:#000000; stroke-width:3.2; stroke-opacity:1\"/>\n",
       "<line clip-path=\"url(#clip792)\" x1=\"867.779\" y1=\"1348.41\" x2=\"835.779\" y2=\"1348.41\" style=\"stroke:#000000; stroke-width:3.2; stroke-opacity:1\"/>\n",
       "<line clip-path=\"url(#clip792)\" x1=\"970.44\" y1=\"1327.84\" x2=\"938.44\" y2=\"1327.84\" style=\"stroke:#000000; stroke-width:3.2; stroke-opacity:1\"/>\n",
       "<line clip-path=\"url(#clip792)\" x1=\"970.44\" y1=\"1327.82\" x2=\"938.44\" y2=\"1327.82\" style=\"stroke:#000000; stroke-width:3.2; stroke-opacity:1\"/>\n",
       "<line clip-path=\"url(#clip792)\" x1=\"1073.1\" y1=\"1299.78\" x2=\"1041.1\" y2=\"1299.78\" style=\"stroke:#000000; stroke-width:3.2; stroke-opacity:1\"/>\n",
       "<line clip-path=\"url(#clip792)\" x1=\"1073.1\" y1=\"1299.77\" x2=\"1041.1\" y2=\"1299.77\" style=\"stroke:#000000; stroke-width:3.2; stroke-opacity:1\"/>\n",
       "<line clip-path=\"url(#clip792)\" x1=\"1175.76\" y1=\"1267.41\" x2=\"1143.76\" y2=\"1267.41\" style=\"stroke:#000000; stroke-width:3.2; stroke-opacity:1\"/>\n",
       "<line clip-path=\"url(#clip792)\" x1=\"1175.76\" y1=\"1267.4\" x2=\"1143.76\" y2=\"1267.4\" style=\"stroke:#000000; stroke-width:3.2; stroke-opacity:1\"/>\n",
       "<line clip-path=\"url(#clip792)\" x1=\"1278.43\" y1=\"1226.19\" x2=\"1246.43\" y2=\"1226.19\" style=\"stroke:#000000; stroke-width:3.2; stroke-opacity:1\"/>\n",
       "<line clip-path=\"url(#clip792)\" x1=\"1278.43\" y1=\"1226.01\" x2=\"1246.43\" y2=\"1226.01\" style=\"stroke:#000000; stroke-width:3.2; stroke-opacity:1\"/>\n",
       "<line clip-path=\"url(#clip792)\" x1=\"1381.09\" y1=\"1172.26\" x2=\"1349.09\" y2=\"1172.26\" style=\"stroke:#000000; stroke-width:3.2; stroke-opacity:1\"/>\n",
       "<line clip-path=\"url(#clip792)\" x1=\"1381.09\" y1=\"1172.26\" x2=\"1349.09\" y2=\"1172.26\" style=\"stroke:#000000; stroke-width:3.2; stroke-opacity:1\"/>\n",
       "<line clip-path=\"url(#clip792)\" x1=\"1483.75\" y1=\"1114.36\" x2=\"1451.75\" y2=\"1114.36\" style=\"stroke:#000000; stroke-width:3.2; stroke-opacity:1\"/>\n",
       "<line clip-path=\"url(#clip792)\" x1=\"1483.75\" y1=\"1114.35\" x2=\"1451.75\" y2=\"1114.35\" style=\"stroke:#000000; stroke-width:3.2; stroke-opacity:1\"/>\n",
       "<line clip-path=\"url(#clip792)\" x1=\"1586.41\" y1=\"1043.39\" x2=\"1554.41\" y2=\"1043.39\" style=\"stroke:#000000; stroke-width:3.2; stroke-opacity:1\"/>\n",
       "<line clip-path=\"url(#clip792)\" x1=\"1586.41\" y1=\"1042.91\" x2=\"1554.41\" y2=\"1042.91\" style=\"stroke:#000000; stroke-width:3.2; stroke-opacity:1\"/>\n",
       "<line clip-path=\"url(#clip792)\" x1=\"1689.07\" y1=\"961.431\" x2=\"1657.07\" y2=\"961.431\" style=\"stroke:#000000; stroke-width:3.2; stroke-opacity:1\"/>\n",
       "<line clip-path=\"url(#clip792)\" x1=\"1689.07\" y1=\"960.619\" x2=\"1657.07\" y2=\"960.619\" style=\"stroke:#000000; stroke-width:3.2; stroke-opacity:1\"/>\n",
       "<line clip-path=\"url(#clip792)\" x1=\"1791.73\" y1=\"863.022\" x2=\"1759.73\" y2=\"863.022\" style=\"stroke:#000000; stroke-width:3.2; stroke-opacity:1\"/>\n",
       "<line clip-path=\"url(#clip792)\" x1=\"1791.73\" y1=\"863.007\" x2=\"1759.73\" y2=\"863.007\" style=\"stroke:#000000; stroke-width:3.2; stroke-opacity:1\"/>\n",
       "<line clip-path=\"url(#clip792)\" x1=\"1894.4\" y1=\"752.791\" x2=\"1862.4\" y2=\"752.791\" style=\"stroke:#000000; stroke-width:3.2; stroke-opacity:1\"/>\n",
       "<line clip-path=\"url(#clip792)\" x1=\"1894.4\" y1=\"744.999\" x2=\"1862.4\" y2=\"744.999\" style=\"stroke:#000000; stroke-width:3.2; stroke-opacity:1\"/>\n",
       "<line clip-path=\"url(#clip792)\" x1=\"1997.06\" y1=\"632.109\" x2=\"1965.06\" y2=\"632.109\" style=\"stroke:#000000; stroke-width:3.2; stroke-opacity:1\"/>\n",
       "<line clip-path=\"url(#clip792)\" x1=\"1997.06\" y1=\"630.411\" x2=\"1965.06\" y2=\"630.411\" style=\"stroke:#000000; stroke-width:3.2; stroke-opacity:1\"/>\n",
       "<line clip-path=\"url(#clip792)\" x1=\"2099.72\" y1=\"492.657\" x2=\"2067.72\" y2=\"492.657\" style=\"stroke:#000000; stroke-width:3.2; stroke-opacity:1\"/>\n",
       "<line clip-path=\"url(#clip792)\" x1=\"2099.72\" y1=\"492.479\" x2=\"2067.72\" y2=\"492.479\" style=\"stroke:#000000; stroke-width:3.2; stroke-opacity:1\"/>\n",
       "<line clip-path=\"url(#clip792)\" x1=\"2202.38\" y1=\"339.729\" x2=\"2170.38\" y2=\"339.729\" style=\"stroke:#000000; stroke-width:3.2; stroke-opacity:1\"/>\n",
       "<line clip-path=\"url(#clip792)\" x1=\"2202.38\" y1=\"332.728\" x2=\"2170.38\" y2=\"332.728\" style=\"stroke:#000000; stroke-width:3.2; stroke-opacity:1\"/>\n",
       "<line clip-path=\"url(#clip792)\" x1=\"2305.04\" y1=\"163.694\" x2=\"2273.04\" y2=\"163.694\" style=\"stroke:#000000; stroke-width:3.2; stroke-opacity:1\"/>\n",
       "<line clip-path=\"url(#clip792)\" x1=\"2305.04\" y1=\"161.857\" x2=\"2273.04\" y2=\"161.857\" style=\"stroke:#000000; stroke-width:3.2; stroke-opacity:1\"/>\n",
       "<circle clip-path=\"url(#clip792)\" cx=\"338.469\" cy=\"1384.7\" r=\"14.4\" fill=\"#009af9\" fill-rule=\"evenodd\" fill-opacity=\"1\" stroke=\"#000000\" stroke-opacity=\"1\" stroke-width=\"3.2\"/>\n",
       "<circle clip-path=\"url(#clip792)\" cx=\"441.131\" cy=\"1383.58\" r=\"14.4\" fill=\"#009af9\" fill-rule=\"evenodd\" fill-opacity=\"1\" stroke=\"#000000\" stroke-opacity=\"1\" stroke-width=\"3.2\"/>\n",
       "<circle clip-path=\"url(#clip792)\" cx=\"543.793\" cy=\"1380.51\" r=\"14.4\" fill=\"#009af9\" fill-rule=\"evenodd\" fill-opacity=\"1\" stroke=\"#000000\" stroke-opacity=\"1\" stroke-width=\"3.2\"/>\n",
       "<circle clip-path=\"url(#clip792)\" cx=\"646.455\" cy=\"1374.5\" r=\"14.4\" fill=\"#009af9\" fill-rule=\"evenodd\" fill-opacity=\"1\" stroke=\"#000000\" stroke-opacity=\"1\" stroke-width=\"3.2\"/>\n",
       "<circle clip-path=\"url(#clip792)\" cx=\"749.117\" cy=\"1364.59\" r=\"14.4\" fill=\"#009af9\" fill-rule=\"evenodd\" fill-opacity=\"1\" stroke=\"#000000\" stroke-opacity=\"1\" stroke-width=\"3.2\"/>\n",
       "<circle clip-path=\"url(#clip792)\" cx=\"851.779\" cy=\"1348.42\" r=\"14.4\" fill=\"#009af9\" fill-rule=\"evenodd\" fill-opacity=\"1\" stroke=\"#000000\" stroke-opacity=\"1\" stroke-width=\"3.2\"/>\n",
       "<circle clip-path=\"url(#clip792)\" cx=\"954.44\" cy=\"1327.83\" r=\"14.4\" fill=\"#009af9\" fill-rule=\"evenodd\" fill-opacity=\"1\" stroke=\"#000000\" stroke-opacity=\"1\" stroke-width=\"3.2\"/>\n",
       "<circle clip-path=\"url(#clip792)\" cx=\"1057.1\" cy=\"1299.77\" r=\"14.4\" fill=\"#009af9\" fill-rule=\"evenodd\" fill-opacity=\"1\" stroke=\"#000000\" stroke-opacity=\"1\" stroke-width=\"3.2\"/>\n",
       "<circle clip-path=\"url(#clip792)\" cx=\"1159.76\" cy=\"1267.41\" r=\"14.4\" fill=\"#009af9\" fill-rule=\"evenodd\" fill-opacity=\"1\" stroke=\"#000000\" stroke-opacity=\"1\" stroke-width=\"3.2\"/>\n",
       "<circle clip-path=\"url(#clip792)\" cx=\"1262.43\" cy=\"1226.1\" r=\"14.4\" fill=\"#009af9\" fill-rule=\"evenodd\" fill-opacity=\"1\" stroke=\"#000000\" stroke-opacity=\"1\" stroke-width=\"3.2\"/>\n",
       "<circle clip-path=\"url(#clip792)\" cx=\"1365.09\" cy=\"1172.26\" r=\"14.4\" fill=\"#009af9\" fill-rule=\"evenodd\" fill-opacity=\"1\" stroke=\"#000000\" stroke-opacity=\"1\" stroke-width=\"3.2\"/>\n",
       "<circle clip-path=\"url(#clip792)\" cx=\"1467.75\" cy=\"1114.35\" r=\"14.4\" fill=\"#009af9\" fill-rule=\"evenodd\" fill-opacity=\"1\" stroke=\"#000000\" stroke-opacity=\"1\" stroke-width=\"3.2\"/>\n",
       "<circle clip-path=\"url(#clip792)\" cx=\"1570.41\" cy=\"1043.15\" r=\"14.4\" fill=\"#009af9\" fill-rule=\"evenodd\" fill-opacity=\"1\" stroke=\"#000000\" stroke-opacity=\"1\" stroke-width=\"3.2\"/>\n",
       "<circle clip-path=\"url(#clip792)\" cx=\"1673.07\" cy=\"961.025\" r=\"14.4\" fill=\"#009af9\" fill-rule=\"evenodd\" fill-opacity=\"1\" stroke=\"#000000\" stroke-opacity=\"1\" stroke-width=\"3.2\"/>\n",
       "<circle clip-path=\"url(#clip792)\" cx=\"1775.73\" cy=\"863.015\" r=\"14.4\" fill=\"#009af9\" fill-rule=\"evenodd\" fill-opacity=\"1\" stroke=\"#000000\" stroke-opacity=\"1\" stroke-width=\"3.2\"/>\n",
       "<circle clip-path=\"url(#clip792)\" cx=\"1878.4\" cy=\"748.895\" r=\"14.4\" fill=\"#009af9\" fill-rule=\"evenodd\" fill-opacity=\"1\" stroke=\"#000000\" stroke-opacity=\"1\" stroke-width=\"3.2\"/>\n",
       "<circle clip-path=\"url(#clip792)\" cx=\"1981.06\" cy=\"631.26\" r=\"14.4\" fill=\"#009af9\" fill-rule=\"evenodd\" fill-opacity=\"1\" stroke=\"#000000\" stroke-opacity=\"1\" stroke-width=\"3.2\"/>\n",
       "<circle clip-path=\"url(#clip792)\" cx=\"2083.72\" cy=\"492.568\" r=\"14.4\" fill=\"#009af9\" fill-rule=\"evenodd\" fill-opacity=\"1\" stroke=\"#000000\" stroke-opacity=\"1\" stroke-width=\"3.2\"/>\n",
       "<circle clip-path=\"url(#clip792)\" cx=\"2186.38\" cy=\"336.229\" r=\"14.4\" fill=\"#009af9\" fill-rule=\"evenodd\" fill-opacity=\"1\" stroke=\"#000000\" stroke-opacity=\"1\" stroke-width=\"3.2\"/>\n",
       "<circle clip-path=\"url(#clip792)\" cx=\"2289.04\" cy=\"162.775\" r=\"14.4\" fill=\"#009af9\" fill-rule=\"evenodd\" fill-opacity=\"1\" stroke=\"#000000\" stroke-opacity=\"1\" stroke-width=\"3.2\"/>\n",
       "<polyline clip-path=\"url(#clip792)\" style=\"stroke:#000000; stroke-linecap:round; stroke-linejoin:round; stroke-width:4; stroke-opacity:1; fill:none\" points=\"338.469,1384.83 338.469,1384.83 \"/>\n",
       "<polyline clip-path=\"url(#clip792)\" style=\"stroke:#000000; stroke-linecap:round; stroke-linejoin:round; stroke-width:4; stroke-opacity:1; fill:none\" points=\"441.131,1384.65 441.131,1384.65 \"/>\n",
       "<polyline clip-path=\"url(#clip792)\" style=\"stroke:#000000; stroke-linecap:round; stroke-linejoin:round; stroke-width:4; stroke-opacity:1; fill:none\" points=\"543.793,1384.11 543.793,1384.11 \"/>\n",
       "<polyline clip-path=\"url(#clip792)\" style=\"stroke:#000000; stroke-linecap:round; stroke-linejoin:round; stroke-width:4; stroke-opacity:1; fill:none\" points=\"646.455,1383.14 646.455,1383.1 \"/>\n",
       "<polyline clip-path=\"url(#clip792)\" style=\"stroke:#000000; stroke-linecap:round; stroke-linejoin:round; stroke-width:4; stroke-opacity:1; fill:none\" points=\"749.117,1381.38 749.117,1381.36 \"/>\n",
       "<polyline clip-path=\"url(#clip792)\" style=\"stroke:#000000; stroke-linecap:round; stroke-linejoin:round; stroke-width:4; stroke-opacity:1; fill:none\" points=\"851.779,1378.81 851.779,1378.79 \"/>\n",
       "<polyline clip-path=\"url(#clip792)\" style=\"stroke:#000000; stroke-linecap:round; stroke-linejoin:round; stroke-width:4; stroke-opacity:1; fill:none\" points=\"954.44,1375.49 954.44,1375.48 \"/>\n",
       "<polyline clip-path=\"url(#clip792)\" style=\"stroke:#000000; stroke-linecap:round; stroke-linejoin:round; stroke-width:4; stroke-opacity:1; fill:none\" points=\"1057.1,1371.52 1057.1,1371.52 \"/>\n",
       "<polyline clip-path=\"url(#clip792)\" style=\"stroke:#000000; stroke-linecap:round; stroke-linejoin:round; stroke-width:4; stroke-opacity:1; fill:none\" points=\"1159.76,1366.58 1159.76,1366.58 \"/>\n",
       "<polyline clip-path=\"url(#clip792)\" style=\"stroke:#000000; stroke-linecap:round; stroke-linejoin:round; stroke-width:4; stroke-opacity:1; fill:none\" points=\"1262.43,1359.89 1262.43,1359.71 \"/>\n",
       "<polyline clip-path=\"url(#clip792)\" style=\"stroke:#000000; stroke-linecap:round; stroke-linejoin:round; stroke-width:4; stroke-opacity:1; fill:none\" points=\"1365.09,1351.64 1365.09,1351.64 \"/>\n",
       "<polyline clip-path=\"url(#clip792)\" style=\"stroke:#000000; stroke-linecap:round; stroke-linejoin:round; stroke-width:4; stroke-opacity:1; fill:none\" points=\"1467.75,1341.77 1467.75,1341.76 \"/>\n",
       "<polyline clip-path=\"url(#clip792)\" style=\"stroke:#000000; stroke-linecap:round; stroke-linejoin:round; stroke-width:4; stroke-opacity:1; fill:none\" points=\"1570.41,1330.36 1570.41,1329.88 \"/>\n",
       "<polyline clip-path=\"url(#clip792)\" style=\"stroke:#000000; stroke-linecap:round; stroke-linejoin:round; stroke-width:4; stroke-opacity:1; fill:none\" points=\"1673.07,1316.63 1673.07,1315.82 \"/>\n",
       "<polyline clip-path=\"url(#clip792)\" style=\"stroke:#000000; stroke-linecap:round; stroke-linejoin:round; stroke-width:4; stroke-opacity:1; fill:none\" points=\"1775.73,1300.8 1775.73,1300.78 \"/>\n",
       "<polyline clip-path=\"url(#clip792)\" style=\"stroke:#000000; stroke-linecap:round; stroke-linejoin:round; stroke-width:4; stroke-opacity:1; fill:none\" points=\"1878.4,1286.53 1878.4,1278.74 \"/>\n",
       "<polyline clip-path=\"url(#clip792)\" style=\"stroke:#000000; stroke-linecap:round; stroke-linejoin:round; stroke-width:4; stroke-opacity:1; fill:none\" points=\"1981.06,1262.56 1981.06,1260.87 \"/>\n",
       "<polyline clip-path=\"url(#clip792)\" style=\"stroke:#000000; stroke-linecap:round; stroke-linejoin:round; stroke-width:4; stroke-opacity:1; fill:none\" points=\"2083.72,1240.05 2083.72,1239.87 \"/>\n",
       "<polyline clip-path=\"url(#clip792)\" style=\"stroke:#000000; stroke-linecap:round; stroke-linejoin:round; stroke-width:4; stroke-opacity:1; fill:none\" points=\"2186.38,1217.09 2186.38,1210.09 \"/>\n",
       "<polyline clip-path=\"url(#clip792)\" style=\"stroke:#000000; stroke-linecap:round; stroke-linejoin:round; stroke-width:4; stroke-opacity:1; fill:none\" points=\"2289.04,1183.25 2289.04,1181.42 \"/>\n",
       "<line clip-path=\"url(#clip792)\" x1=\"354.469\" y1=\"1384.83\" x2=\"322.469\" y2=\"1384.83\" style=\"stroke:#000000; stroke-width:3.2; stroke-opacity:1\"/>\n",
       "<line clip-path=\"url(#clip792)\" x1=\"354.469\" y1=\"1384.83\" x2=\"322.469\" y2=\"1384.83\" style=\"stroke:#000000; stroke-width:3.2; stroke-opacity:1\"/>\n",
       "<line clip-path=\"url(#clip792)\" x1=\"457.131\" y1=\"1384.65\" x2=\"425.131\" y2=\"1384.65\" style=\"stroke:#000000; stroke-width:3.2; stroke-opacity:1\"/>\n",
       "<line clip-path=\"url(#clip792)\" x1=\"457.131\" y1=\"1384.65\" x2=\"425.131\" y2=\"1384.65\" style=\"stroke:#000000; stroke-width:3.2; stroke-opacity:1\"/>\n",
       "<line clip-path=\"url(#clip792)\" x1=\"559.793\" y1=\"1384.11\" x2=\"527.793\" y2=\"1384.11\" style=\"stroke:#000000; stroke-width:3.2; stroke-opacity:1\"/>\n",
       "<line clip-path=\"url(#clip792)\" x1=\"559.793\" y1=\"1384.11\" x2=\"527.793\" y2=\"1384.11\" style=\"stroke:#000000; stroke-width:3.2; stroke-opacity:1\"/>\n",
       "<line clip-path=\"url(#clip792)\" x1=\"662.455\" y1=\"1383.14\" x2=\"630.455\" y2=\"1383.14\" style=\"stroke:#000000; stroke-width:3.2; stroke-opacity:1\"/>\n",
       "<line clip-path=\"url(#clip792)\" x1=\"662.455\" y1=\"1383.1\" x2=\"630.455\" y2=\"1383.1\" style=\"stroke:#000000; stroke-width:3.2; stroke-opacity:1\"/>\n",
       "<line clip-path=\"url(#clip792)\" x1=\"765.117\" y1=\"1381.38\" x2=\"733.117\" y2=\"1381.38\" style=\"stroke:#000000; stroke-width:3.2; stroke-opacity:1\"/>\n",
       "<line clip-path=\"url(#clip792)\" x1=\"765.117\" y1=\"1381.36\" x2=\"733.117\" y2=\"1381.36\" style=\"stroke:#000000; stroke-width:3.2; stroke-opacity:1\"/>\n",
       "<line clip-path=\"url(#clip792)\" x1=\"867.779\" y1=\"1378.81\" x2=\"835.779\" y2=\"1378.81\" style=\"stroke:#000000; stroke-width:3.2; stroke-opacity:1\"/>\n",
       "<line clip-path=\"url(#clip792)\" x1=\"867.779\" y1=\"1378.79\" x2=\"835.779\" y2=\"1378.79\" style=\"stroke:#000000; stroke-width:3.2; stroke-opacity:1\"/>\n",
       "<line clip-path=\"url(#clip792)\" x1=\"970.44\" y1=\"1375.49\" x2=\"938.44\" y2=\"1375.49\" style=\"stroke:#000000; stroke-width:3.2; stroke-opacity:1\"/>\n",
       "<line clip-path=\"url(#clip792)\" x1=\"970.44\" y1=\"1375.48\" x2=\"938.44\" y2=\"1375.48\" style=\"stroke:#000000; stroke-width:3.2; stroke-opacity:1\"/>\n",
       "<line clip-path=\"url(#clip792)\" x1=\"1073.1\" y1=\"1371.52\" x2=\"1041.1\" y2=\"1371.52\" style=\"stroke:#000000; stroke-width:3.2; stroke-opacity:1\"/>\n",
       "<line clip-path=\"url(#clip792)\" x1=\"1073.1\" y1=\"1371.52\" x2=\"1041.1\" y2=\"1371.52\" style=\"stroke:#000000; stroke-width:3.2; stroke-opacity:1\"/>\n",
       "<line clip-path=\"url(#clip792)\" x1=\"1175.76\" y1=\"1366.58\" x2=\"1143.76\" y2=\"1366.58\" style=\"stroke:#000000; stroke-width:3.2; stroke-opacity:1\"/>\n",
       "<line clip-path=\"url(#clip792)\" x1=\"1175.76\" y1=\"1366.58\" x2=\"1143.76\" y2=\"1366.58\" style=\"stroke:#000000; stroke-width:3.2; stroke-opacity:1\"/>\n",
       "<line clip-path=\"url(#clip792)\" x1=\"1278.43\" y1=\"1359.89\" x2=\"1246.43\" y2=\"1359.89\" style=\"stroke:#000000; stroke-width:3.2; stroke-opacity:1\"/>\n",
       "<line clip-path=\"url(#clip792)\" x1=\"1278.43\" y1=\"1359.71\" x2=\"1246.43\" y2=\"1359.71\" style=\"stroke:#000000; stroke-width:3.2; stroke-opacity:1\"/>\n",
       "<line clip-path=\"url(#clip792)\" x1=\"1381.09\" y1=\"1351.64\" x2=\"1349.09\" y2=\"1351.64\" style=\"stroke:#000000; stroke-width:3.2; stroke-opacity:1\"/>\n",
       "<line clip-path=\"url(#clip792)\" x1=\"1381.09\" y1=\"1351.64\" x2=\"1349.09\" y2=\"1351.64\" style=\"stroke:#000000; stroke-width:3.2; stroke-opacity:1\"/>\n",
       "<line clip-path=\"url(#clip792)\" x1=\"1483.75\" y1=\"1341.77\" x2=\"1451.75\" y2=\"1341.77\" style=\"stroke:#000000; stroke-width:3.2; stroke-opacity:1\"/>\n",
       "<line clip-path=\"url(#clip792)\" x1=\"1483.75\" y1=\"1341.76\" x2=\"1451.75\" y2=\"1341.76\" style=\"stroke:#000000; stroke-width:3.2; stroke-opacity:1\"/>\n",
       "<line clip-path=\"url(#clip792)\" x1=\"1586.41\" y1=\"1330.36\" x2=\"1554.41\" y2=\"1330.36\" style=\"stroke:#000000; stroke-width:3.2; stroke-opacity:1\"/>\n",
       "<line clip-path=\"url(#clip792)\" x1=\"1586.41\" y1=\"1329.88\" x2=\"1554.41\" y2=\"1329.88\" style=\"stroke:#000000; stroke-width:3.2; stroke-opacity:1\"/>\n",
       "<line clip-path=\"url(#clip792)\" x1=\"1689.07\" y1=\"1316.63\" x2=\"1657.07\" y2=\"1316.63\" style=\"stroke:#000000; stroke-width:3.2; stroke-opacity:1\"/>\n",
       "<line clip-path=\"url(#clip792)\" x1=\"1689.07\" y1=\"1315.82\" x2=\"1657.07\" y2=\"1315.82\" style=\"stroke:#000000; stroke-width:3.2; stroke-opacity:1\"/>\n",
       "<line clip-path=\"url(#clip792)\" x1=\"1791.73\" y1=\"1300.8\" x2=\"1759.73\" y2=\"1300.8\" style=\"stroke:#000000; stroke-width:3.2; stroke-opacity:1\"/>\n",
       "<line clip-path=\"url(#clip792)\" x1=\"1791.73\" y1=\"1300.78\" x2=\"1759.73\" y2=\"1300.78\" style=\"stroke:#000000; stroke-width:3.2; stroke-opacity:1\"/>\n",
       "<line clip-path=\"url(#clip792)\" x1=\"1894.4\" y1=\"1286.53\" x2=\"1862.4\" y2=\"1286.53\" style=\"stroke:#000000; stroke-width:3.2; stroke-opacity:1\"/>\n",
       "<line clip-path=\"url(#clip792)\" x1=\"1894.4\" y1=\"1278.74\" x2=\"1862.4\" y2=\"1278.74\" style=\"stroke:#000000; stroke-width:3.2; stroke-opacity:1\"/>\n",
       "<line clip-path=\"url(#clip792)\" x1=\"1997.06\" y1=\"1262.56\" x2=\"1965.06\" y2=\"1262.56\" style=\"stroke:#000000; stroke-width:3.2; stroke-opacity:1\"/>\n",
       "<line clip-path=\"url(#clip792)\" x1=\"1997.06\" y1=\"1260.87\" x2=\"1965.06\" y2=\"1260.87\" style=\"stroke:#000000; stroke-width:3.2; stroke-opacity:1\"/>\n",
       "<line clip-path=\"url(#clip792)\" x1=\"2099.72\" y1=\"1240.05\" x2=\"2067.72\" y2=\"1240.05\" style=\"stroke:#000000; stroke-width:3.2; stroke-opacity:1\"/>\n",
       "<line clip-path=\"url(#clip792)\" x1=\"2099.72\" y1=\"1239.87\" x2=\"2067.72\" y2=\"1239.87\" style=\"stroke:#000000; stroke-width:3.2; stroke-opacity:1\"/>\n",
       "<line clip-path=\"url(#clip792)\" x1=\"2202.38\" y1=\"1217.09\" x2=\"2170.38\" y2=\"1217.09\" style=\"stroke:#000000; stroke-width:3.2; stroke-opacity:1\"/>\n",
       "<line clip-path=\"url(#clip792)\" x1=\"2202.38\" y1=\"1210.09\" x2=\"2170.38\" y2=\"1210.09\" style=\"stroke:#000000; stroke-width:3.2; stroke-opacity:1\"/>\n",
       "<line clip-path=\"url(#clip792)\" x1=\"2305.04\" y1=\"1183.25\" x2=\"2273.04\" y2=\"1183.25\" style=\"stroke:#000000; stroke-width:3.2; stroke-opacity:1\"/>\n",
       "<line clip-path=\"url(#clip792)\" x1=\"2305.04\" y1=\"1181.42\" x2=\"2273.04\" y2=\"1181.42\" style=\"stroke:#000000; stroke-width:3.2; stroke-opacity:1\"/>\n",
       "<circle clip-path=\"url(#clip792)\" cx=\"338.469\" cy=\"1384.83\" r=\"14.4\" fill=\"#e26f46\" fill-rule=\"evenodd\" fill-opacity=\"1\" stroke=\"#000000\" stroke-opacity=\"1\" stroke-width=\"3.2\"/>\n",
       "<circle clip-path=\"url(#clip792)\" cx=\"441.131\" cy=\"1384.65\" r=\"14.4\" fill=\"#e26f46\" fill-rule=\"evenodd\" fill-opacity=\"1\" stroke=\"#000000\" stroke-opacity=\"1\" stroke-width=\"3.2\"/>\n",
       "<circle clip-path=\"url(#clip792)\" cx=\"543.793\" cy=\"1384.11\" r=\"14.4\" fill=\"#e26f46\" fill-rule=\"evenodd\" fill-opacity=\"1\" stroke=\"#000000\" stroke-opacity=\"1\" stroke-width=\"3.2\"/>\n",
       "<circle clip-path=\"url(#clip792)\" cx=\"646.455\" cy=\"1383.12\" r=\"14.4\" fill=\"#e26f46\" fill-rule=\"evenodd\" fill-opacity=\"1\" stroke=\"#000000\" stroke-opacity=\"1\" stroke-width=\"3.2\"/>\n",
       "<circle clip-path=\"url(#clip792)\" cx=\"749.117\" cy=\"1381.37\" r=\"14.4\" fill=\"#e26f46\" fill-rule=\"evenodd\" fill-opacity=\"1\" stroke=\"#000000\" stroke-opacity=\"1\" stroke-width=\"3.2\"/>\n",
       "<circle clip-path=\"url(#clip792)\" cx=\"851.779\" cy=\"1378.8\" r=\"14.4\" fill=\"#e26f46\" fill-rule=\"evenodd\" fill-opacity=\"1\" stroke=\"#000000\" stroke-opacity=\"1\" stroke-width=\"3.2\"/>\n",
       "<circle clip-path=\"url(#clip792)\" cx=\"954.44\" cy=\"1375.48\" r=\"14.4\" fill=\"#e26f46\" fill-rule=\"evenodd\" fill-opacity=\"1\" stroke=\"#000000\" stroke-opacity=\"1\" stroke-width=\"3.2\"/>\n",
       "<circle clip-path=\"url(#clip792)\" cx=\"1057.1\" cy=\"1371.52\" r=\"14.4\" fill=\"#e26f46\" fill-rule=\"evenodd\" fill-opacity=\"1\" stroke=\"#000000\" stroke-opacity=\"1\" stroke-width=\"3.2\"/>\n",
       "<circle clip-path=\"url(#clip792)\" cx=\"1159.76\" cy=\"1366.58\" r=\"14.4\" fill=\"#e26f46\" fill-rule=\"evenodd\" fill-opacity=\"1\" stroke=\"#000000\" stroke-opacity=\"1\" stroke-width=\"3.2\"/>\n",
       "<circle clip-path=\"url(#clip792)\" cx=\"1262.43\" cy=\"1359.8\" r=\"14.4\" fill=\"#e26f46\" fill-rule=\"evenodd\" fill-opacity=\"1\" stroke=\"#000000\" stroke-opacity=\"1\" stroke-width=\"3.2\"/>\n",
       "<circle clip-path=\"url(#clip792)\" cx=\"1365.09\" cy=\"1351.64\" r=\"14.4\" fill=\"#e26f46\" fill-rule=\"evenodd\" fill-opacity=\"1\" stroke=\"#000000\" stroke-opacity=\"1\" stroke-width=\"3.2\"/>\n",
       "<circle clip-path=\"url(#clip792)\" cx=\"1467.75\" cy=\"1341.76\" r=\"14.4\" fill=\"#e26f46\" fill-rule=\"evenodd\" fill-opacity=\"1\" stroke=\"#000000\" stroke-opacity=\"1\" stroke-width=\"3.2\"/>\n",
       "<circle clip-path=\"url(#clip792)\" cx=\"1570.41\" cy=\"1330.12\" r=\"14.4\" fill=\"#e26f46\" fill-rule=\"evenodd\" fill-opacity=\"1\" stroke=\"#000000\" stroke-opacity=\"1\" stroke-width=\"3.2\"/>\n",
       "<circle clip-path=\"url(#clip792)\" cx=\"1673.07\" cy=\"1316.22\" r=\"14.4\" fill=\"#e26f46\" fill-rule=\"evenodd\" fill-opacity=\"1\" stroke=\"#000000\" stroke-opacity=\"1\" stroke-width=\"3.2\"/>\n",
       "<circle clip-path=\"url(#clip792)\" cx=\"1775.73\" cy=\"1300.79\" r=\"14.4\" fill=\"#e26f46\" fill-rule=\"evenodd\" fill-opacity=\"1\" stroke=\"#000000\" stroke-opacity=\"1\" stroke-width=\"3.2\"/>\n",
       "<circle clip-path=\"url(#clip792)\" cx=\"1878.4\" cy=\"1282.64\" r=\"14.4\" fill=\"#e26f46\" fill-rule=\"evenodd\" fill-opacity=\"1\" stroke=\"#000000\" stroke-opacity=\"1\" stroke-width=\"3.2\"/>\n",
       "<circle clip-path=\"url(#clip792)\" cx=\"1981.06\" cy=\"1261.71\" r=\"14.4\" fill=\"#e26f46\" fill-rule=\"evenodd\" fill-opacity=\"1\" stroke=\"#000000\" stroke-opacity=\"1\" stroke-width=\"3.2\"/>\n",
       "<circle clip-path=\"url(#clip792)\" cx=\"2083.72\" cy=\"1239.96\" r=\"14.4\" fill=\"#e26f46\" fill-rule=\"evenodd\" fill-opacity=\"1\" stroke=\"#000000\" stroke-opacity=\"1\" stroke-width=\"3.2\"/>\n",
       "<circle clip-path=\"url(#clip792)\" cx=\"2186.38\" cy=\"1213.59\" r=\"14.4\" fill=\"#e26f46\" fill-rule=\"evenodd\" fill-opacity=\"1\" stroke=\"#000000\" stroke-opacity=\"1\" stroke-width=\"3.2\"/>\n",
       "<circle clip-path=\"url(#clip792)\" cx=\"2289.04\" cy=\"1182.33\" r=\"14.4\" fill=\"#e26f46\" fill-rule=\"evenodd\" fill-opacity=\"1\" stroke=\"#000000\" stroke-opacity=\"1\" stroke-width=\"3.2\"/>\n",
       "<polyline clip-path=\"url(#clip792)\" style=\"stroke:#000000; stroke-linecap:round; stroke-linejoin:round; stroke-width:4; stroke-opacity:1; fill:none\" points=\"338.469,1384.86 338.469,1384.85 \"/>\n",
       "<polyline clip-path=\"url(#clip792)\" style=\"stroke:#000000; stroke-linecap:round; stroke-linejoin:round; stroke-width:4; stroke-opacity:1; fill:none\" points=\"441.131,1384.84 441.131,1384.84 \"/>\n",
       "<polyline clip-path=\"url(#clip792)\" style=\"stroke:#000000; stroke-linecap:round; stroke-linejoin:round; stroke-width:4; stroke-opacity:1; fill:none\" points=\"543.793,1384.82 543.793,1384.82 \"/>\n",
       "<polyline clip-path=\"url(#clip792)\" style=\"stroke:#000000; stroke-linecap:round; stroke-linejoin:round; stroke-width:4; stroke-opacity:1; fill:none\" points=\"646.455,1384.82 646.455,1384.78 \"/>\n",
       "<polyline clip-path=\"url(#clip792)\" style=\"stroke:#000000; stroke-linecap:round; stroke-linejoin:round; stroke-width:4; stroke-opacity:1; fill:none\" points=\"749.117,1384.75 749.117,1384.74 \"/>\n",
       "<polyline clip-path=\"url(#clip792)\" style=\"stroke:#000000; stroke-linecap:round; stroke-linejoin:round; stroke-width:4; stroke-opacity:1; fill:none\" points=\"851.779,1384.66 851.779,1384.65 \"/>\n",
       "<polyline clip-path=\"url(#clip792)\" style=\"stroke:#000000; stroke-linecap:round; stroke-linejoin:round; stroke-width:4; stroke-opacity:1; fill:none\" points=\"954.44,1384.57 954.44,1384.56 \"/>\n",
       "<polyline clip-path=\"url(#clip792)\" style=\"stroke:#000000; stroke-linecap:round; stroke-linejoin:round; stroke-width:4; stroke-opacity:1; fill:none\" points=\"1057.1,1384.52 1057.1,1384.51 \"/>\n",
       "<polyline clip-path=\"url(#clip792)\" style=\"stroke:#000000; stroke-linecap:round; stroke-linejoin:round; stroke-width:4; stroke-opacity:1; fill:none\" points=\"1159.76,1384.41 1159.76,1384.4 \"/>\n",
       "<polyline clip-path=\"url(#clip792)\" style=\"stroke:#000000; stroke-linecap:round; stroke-linejoin:round; stroke-width:4; stroke-opacity:1; fill:none\" points=\"1262.43,1384.24 1262.43,1384.06 \"/>\n",
       "<polyline clip-path=\"url(#clip792)\" style=\"stroke:#000000; stroke-linecap:round; stroke-linejoin:round; stroke-width:4; stroke-opacity:1; fill:none\" points=\"1365.09,1383.91 1365.09,1383.9 \"/>\n",
       "<polyline clip-path=\"url(#clip792)\" style=\"stroke:#000000; stroke-linecap:round; stroke-linejoin:round; stroke-width:4; stroke-opacity:1; fill:none\" points=\"1467.75,1383.78 1467.75,1383.77 \"/>\n",
       "<polyline clip-path=\"url(#clip792)\" style=\"stroke:#000000; stroke-linecap:round; stroke-linejoin:round; stroke-width:4; stroke-opacity:1; fill:none\" points=\"1570.41,1383.57 1570.41,1383.09 \"/>\n",
       "<polyline clip-path=\"url(#clip792)\" style=\"stroke:#000000; stroke-linecap:round; stroke-linejoin:round; stroke-width:4; stroke-opacity:1; fill:none\" points=\"1673.07,1383.61 1673.07,1382.8 \"/>\n",
       "<polyline clip-path=\"url(#clip792)\" style=\"stroke:#000000; stroke-linecap:round; stroke-linejoin:round; stroke-width:4; stroke-opacity:1; fill:none\" points=\"1775.73,1382.63 1775.73,1382.61 \"/>\n",
       "<polyline clip-path=\"url(#clip792)\" style=\"stroke:#000000; stroke-linecap:round; stroke-linejoin:round; stroke-width:4; stroke-opacity:1; fill:none\" points=\"1878.4,1386.4 1878.4,1378.6 \"/>\n",
       "<polyline clip-path=\"url(#clip792)\" style=\"stroke:#000000; stroke-linecap:round; stroke-linejoin:round; stroke-width:4; stroke-opacity:1; fill:none\" points=\"1981.06,1382.76 1981.06,1381.07 \"/>\n",
       "<polyline clip-path=\"url(#clip792)\" style=\"stroke:#000000; stroke-linecap:round; stroke-linejoin:round; stroke-width:4; stroke-opacity:1; fill:none\" points=\"2083.72,1381.53 2083.72,1381.35 \"/>\n",
       "<polyline clip-path=\"url(#clip792)\" style=\"stroke:#000000; stroke-linecap:round; stroke-linejoin:round; stroke-width:4; stroke-opacity:1; fill:none\" points=\"2186.38,1384.4 2186.38,1377.39 \"/>\n",
       "<polyline clip-path=\"url(#clip792)\" style=\"stroke:#000000; stroke-linecap:round; stroke-linejoin:round; stroke-width:4; stroke-opacity:1; fill:none\" points=\"2289.04,1381.38 2289.04,1379.54 \"/>\n",
       "<line clip-path=\"url(#clip792)\" x1=\"354.469\" y1=\"1384.86\" x2=\"322.469\" y2=\"1384.86\" style=\"stroke:#000000; stroke-width:3.2; stroke-opacity:1\"/>\n",
       "<line clip-path=\"url(#clip792)\" x1=\"354.469\" y1=\"1384.85\" x2=\"322.469\" y2=\"1384.85\" style=\"stroke:#000000; stroke-width:3.2; stroke-opacity:1\"/>\n",
       "<line clip-path=\"url(#clip792)\" x1=\"457.131\" y1=\"1384.84\" x2=\"425.131\" y2=\"1384.84\" style=\"stroke:#000000; stroke-width:3.2; stroke-opacity:1\"/>\n",
       "<line clip-path=\"url(#clip792)\" x1=\"457.131\" y1=\"1384.84\" x2=\"425.131\" y2=\"1384.84\" style=\"stroke:#000000; stroke-width:3.2; stroke-opacity:1\"/>\n",
       "<line clip-path=\"url(#clip792)\" x1=\"559.793\" y1=\"1384.82\" x2=\"527.793\" y2=\"1384.82\" style=\"stroke:#000000; stroke-width:3.2; stroke-opacity:1\"/>\n",
       "<line clip-path=\"url(#clip792)\" x1=\"559.793\" y1=\"1384.82\" x2=\"527.793\" y2=\"1384.82\" style=\"stroke:#000000; stroke-width:3.2; stroke-opacity:1\"/>\n",
       "<line clip-path=\"url(#clip792)\" x1=\"662.455\" y1=\"1384.82\" x2=\"630.455\" y2=\"1384.82\" style=\"stroke:#000000; stroke-width:3.2; stroke-opacity:1\"/>\n",
       "<line clip-path=\"url(#clip792)\" x1=\"662.455\" y1=\"1384.78\" x2=\"630.455\" y2=\"1384.78\" style=\"stroke:#000000; stroke-width:3.2; stroke-opacity:1\"/>\n",
       "<line clip-path=\"url(#clip792)\" x1=\"765.117\" y1=\"1384.75\" x2=\"733.117\" y2=\"1384.75\" style=\"stroke:#000000; stroke-width:3.2; stroke-opacity:1\"/>\n",
       "<line clip-path=\"url(#clip792)\" x1=\"765.117\" y1=\"1384.74\" x2=\"733.117\" y2=\"1384.74\" style=\"stroke:#000000; stroke-width:3.2; stroke-opacity:1\"/>\n",
       "<line clip-path=\"url(#clip792)\" x1=\"867.779\" y1=\"1384.66\" x2=\"835.779\" y2=\"1384.66\" style=\"stroke:#000000; stroke-width:3.2; stroke-opacity:1\"/>\n",
       "<line clip-path=\"url(#clip792)\" x1=\"867.779\" y1=\"1384.65\" x2=\"835.779\" y2=\"1384.65\" style=\"stroke:#000000; stroke-width:3.2; stroke-opacity:1\"/>\n",
       "<line clip-path=\"url(#clip792)\" x1=\"970.44\" y1=\"1384.57\" x2=\"938.44\" y2=\"1384.57\" style=\"stroke:#000000; stroke-width:3.2; stroke-opacity:1\"/>\n",
       "<line clip-path=\"url(#clip792)\" x1=\"970.44\" y1=\"1384.56\" x2=\"938.44\" y2=\"1384.56\" style=\"stroke:#000000; stroke-width:3.2; stroke-opacity:1\"/>\n",
       "<line clip-path=\"url(#clip792)\" x1=\"1073.1\" y1=\"1384.52\" x2=\"1041.1\" y2=\"1384.52\" style=\"stroke:#000000; stroke-width:3.2; stroke-opacity:1\"/>\n",
       "<line clip-path=\"url(#clip792)\" x1=\"1073.1\" y1=\"1384.51\" x2=\"1041.1\" y2=\"1384.51\" style=\"stroke:#000000; stroke-width:3.2; stroke-opacity:1\"/>\n",
       "<line clip-path=\"url(#clip792)\" x1=\"1175.76\" y1=\"1384.41\" x2=\"1143.76\" y2=\"1384.41\" style=\"stroke:#000000; stroke-width:3.2; stroke-opacity:1\"/>\n",
       "<line clip-path=\"url(#clip792)\" x1=\"1175.76\" y1=\"1384.4\" x2=\"1143.76\" y2=\"1384.4\" style=\"stroke:#000000; stroke-width:3.2; stroke-opacity:1\"/>\n",
       "<line clip-path=\"url(#clip792)\" x1=\"1278.43\" y1=\"1384.24\" x2=\"1246.43\" y2=\"1384.24\" style=\"stroke:#000000; stroke-width:3.2; stroke-opacity:1\"/>\n",
       "<line clip-path=\"url(#clip792)\" x1=\"1278.43\" y1=\"1384.06\" x2=\"1246.43\" y2=\"1384.06\" style=\"stroke:#000000; stroke-width:3.2; stroke-opacity:1\"/>\n",
       "<line clip-path=\"url(#clip792)\" x1=\"1381.09\" y1=\"1383.91\" x2=\"1349.09\" y2=\"1383.91\" style=\"stroke:#000000; stroke-width:3.2; stroke-opacity:1\"/>\n",
       "<line clip-path=\"url(#clip792)\" x1=\"1381.09\" y1=\"1383.9\" x2=\"1349.09\" y2=\"1383.9\" style=\"stroke:#000000; stroke-width:3.2; stroke-opacity:1\"/>\n",
       "<line clip-path=\"url(#clip792)\" x1=\"1483.75\" y1=\"1383.78\" x2=\"1451.75\" y2=\"1383.78\" style=\"stroke:#000000; stroke-width:3.2; stroke-opacity:1\"/>\n",
       "<line clip-path=\"url(#clip792)\" x1=\"1483.75\" y1=\"1383.77\" x2=\"1451.75\" y2=\"1383.77\" style=\"stroke:#000000; stroke-width:3.2; stroke-opacity:1\"/>\n",
       "<line clip-path=\"url(#clip792)\" x1=\"1586.41\" y1=\"1383.57\" x2=\"1554.41\" y2=\"1383.57\" style=\"stroke:#000000; stroke-width:3.2; stroke-opacity:1\"/>\n",
       "<line clip-path=\"url(#clip792)\" x1=\"1586.41\" y1=\"1383.09\" x2=\"1554.41\" y2=\"1383.09\" style=\"stroke:#000000; stroke-width:3.2; stroke-opacity:1\"/>\n",
       "<line clip-path=\"url(#clip792)\" x1=\"1689.07\" y1=\"1383.61\" x2=\"1657.07\" y2=\"1383.61\" style=\"stroke:#000000; stroke-width:3.2; stroke-opacity:1\"/>\n",
       "<line clip-path=\"url(#clip792)\" x1=\"1689.07\" y1=\"1382.8\" x2=\"1657.07\" y2=\"1382.8\" style=\"stroke:#000000; stroke-width:3.2; stroke-opacity:1\"/>\n",
       "<line clip-path=\"url(#clip792)\" x1=\"1791.73\" y1=\"1382.63\" x2=\"1759.73\" y2=\"1382.63\" style=\"stroke:#000000; stroke-width:3.2; stroke-opacity:1\"/>\n",
       "<line clip-path=\"url(#clip792)\" x1=\"1791.73\" y1=\"1382.61\" x2=\"1759.73\" y2=\"1382.61\" style=\"stroke:#000000; stroke-width:3.2; stroke-opacity:1\"/>\n",
       "<line clip-path=\"url(#clip792)\" x1=\"1894.4\" y1=\"1386.4\" x2=\"1862.4\" y2=\"1386.4\" style=\"stroke:#000000; stroke-width:3.2; stroke-opacity:1\"/>\n",
       "<line clip-path=\"url(#clip792)\" x1=\"1894.4\" y1=\"1378.6\" x2=\"1862.4\" y2=\"1378.6\" style=\"stroke:#000000; stroke-width:3.2; stroke-opacity:1\"/>\n",
       "<line clip-path=\"url(#clip792)\" x1=\"1997.06\" y1=\"1382.76\" x2=\"1965.06\" y2=\"1382.76\" style=\"stroke:#000000; stroke-width:3.2; stroke-opacity:1\"/>\n",
       "<line clip-path=\"url(#clip792)\" x1=\"1997.06\" y1=\"1381.07\" x2=\"1965.06\" y2=\"1381.07\" style=\"stroke:#000000; stroke-width:3.2; stroke-opacity:1\"/>\n",
       "<line clip-path=\"url(#clip792)\" x1=\"2099.72\" y1=\"1381.53\" x2=\"2067.72\" y2=\"1381.53\" style=\"stroke:#000000; stroke-width:3.2; stroke-opacity:1\"/>\n",
       "<line clip-path=\"url(#clip792)\" x1=\"2099.72\" y1=\"1381.35\" x2=\"2067.72\" y2=\"1381.35\" style=\"stroke:#000000; stroke-width:3.2; stroke-opacity:1\"/>\n",
       "<line clip-path=\"url(#clip792)\" x1=\"2202.38\" y1=\"1384.4\" x2=\"2170.38\" y2=\"1384.4\" style=\"stroke:#000000; stroke-width:3.2; stroke-opacity:1\"/>\n",
       "<line clip-path=\"url(#clip792)\" x1=\"2202.38\" y1=\"1377.39\" x2=\"2170.38\" y2=\"1377.39\" style=\"stroke:#000000; stroke-width:3.2; stroke-opacity:1\"/>\n",
       "<line clip-path=\"url(#clip792)\" x1=\"2305.04\" y1=\"1381.38\" x2=\"2273.04\" y2=\"1381.38\" style=\"stroke:#000000; stroke-width:3.2; stroke-opacity:1\"/>\n",
       "<line clip-path=\"url(#clip792)\" x1=\"2305.04\" y1=\"1379.54\" x2=\"2273.04\" y2=\"1379.54\" style=\"stroke:#000000; stroke-width:3.2; stroke-opacity:1\"/>\n",
       "<circle clip-path=\"url(#clip792)\" cx=\"338.469\" cy=\"1384.85\" r=\"14.4\" fill=\"#3da44d\" fill-rule=\"evenodd\" fill-opacity=\"1\" stroke=\"#000000\" stroke-opacity=\"1\" stroke-width=\"3.2\"/>\n",
       "<circle clip-path=\"url(#clip792)\" cx=\"441.131\" cy=\"1384.84\" r=\"14.4\" fill=\"#3da44d\" fill-rule=\"evenodd\" fill-opacity=\"1\" stroke=\"#000000\" stroke-opacity=\"1\" stroke-width=\"3.2\"/>\n",
       "<circle clip-path=\"url(#clip792)\" cx=\"543.793\" cy=\"1384.82\" r=\"14.4\" fill=\"#3da44d\" fill-rule=\"evenodd\" fill-opacity=\"1\" stroke=\"#000000\" stroke-opacity=\"1\" stroke-width=\"3.2\"/>\n",
       "<circle clip-path=\"url(#clip792)\" cx=\"646.455\" cy=\"1384.8\" r=\"14.4\" fill=\"#3da44d\" fill-rule=\"evenodd\" fill-opacity=\"1\" stroke=\"#000000\" stroke-opacity=\"1\" stroke-width=\"3.2\"/>\n",
       "<circle clip-path=\"url(#clip792)\" cx=\"749.117\" cy=\"1384.74\" r=\"14.4\" fill=\"#3da44d\" fill-rule=\"evenodd\" fill-opacity=\"1\" stroke=\"#000000\" stroke-opacity=\"1\" stroke-width=\"3.2\"/>\n",
       "<circle clip-path=\"url(#clip792)\" cx=\"851.779\" cy=\"1384.66\" r=\"14.4\" fill=\"#3da44d\" fill-rule=\"evenodd\" fill-opacity=\"1\" stroke=\"#000000\" stroke-opacity=\"1\" stroke-width=\"3.2\"/>\n",
       "<circle clip-path=\"url(#clip792)\" cx=\"954.44\" cy=\"1384.57\" r=\"14.4\" fill=\"#3da44d\" fill-rule=\"evenodd\" fill-opacity=\"1\" stroke=\"#000000\" stroke-opacity=\"1\" stroke-width=\"3.2\"/>\n",
       "<circle clip-path=\"url(#clip792)\" cx=\"1057.1\" cy=\"1384.52\" r=\"14.4\" fill=\"#3da44d\" fill-rule=\"evenodd\" fill-opacity=\"1\" stroke=\"#000000\" stroke-opacity=\"1\" stroke-width=\"3.2\"/>\n",
       "<circle clip-path=\"url(#clip792)\" cx=\"1159.76\" cy=\"1384.4\" r=\"14.4\" fill=\"#3da44d\" fill-rule=\"evenodd\" fill-opacity=\"1\" stroke=\"#000000\" stroke-opacity=\"1\" stroke-width=\"3.2\"/>\n",
       "<circle clip-path=\"url(#clip792)\" cx=\"1262.43\" cy=\"1384.15\" r=\"14.4\" fill=\"#3da44d\" fill-rule=\"evenodd\" fill-opacity=\"1\" stroke=\"#000000\" stroke-opacity=\"1\" stroke-width=\"3.2\"/>\n",
       "<circle clip-path=\"url(#clip792)\" cx=\"1365.09\" cy=\"1383.9\" r=\"14.4\" fill=\"#3da44d\" fill-rule=\"evenodd\" fill-opacity=\"1\" stroke=\"#000000\" stroke-opacity=\"1\" stroke-width=\"3.2\"/>\n",
       "<circle clip-path=\"url(#clip792)\" cx=\"1467.75\" cy=\"1383.78\" r=\"14.4\" fill=\"#3da44d\" fill-rule=\"evenodd\" fill-opacity=\"1\" stroke=\"#000000\" stroke-opacity=\"1\" stroke-width=\"3.2\"/>\n",
       "<circle clip-path=\"url(#clip792)\" cx=\"1570.41\" cy=\"1383.33\" r=\"14.4\" fill=\"#3da44d\" fill-rule=\"evenodd\" fill-opacity=\"1\" stroke=\"#000000\" stroke-opacity=\"1\" stroke-width=\"3.2\"/>\n",
       "<circle clip-path=\"url(#clip792)\" cx=\"1673.07\" cy=\"1383.2\" r=\"14.4\" fill=\"#3da44d\" fill-rule=\"evenodd\" fill-opacity=\"1\" stroke=\"#000000\" stroke-opacity=\"1\" stroke-width=\"3.2\"/>\n",
       "<circle clip-path=\"url(#clip792)\" cx=\"1775.73\" cy=\"1382.62\" r=\"14.4\" fill=\"#3da44d\" fill-rule=\"evenodd\" fill-opacity=\"1\" stroke=\"#000000\" stroke-opacity=\"1\" stroke-width=\"3.2\"/>\n",
       "<circle clip-path=\"url(#clip792)\" cx=\"1878.4\" cy=\"1382.5\" r=\"14.4\" fill=\"#3da44d\" fill-rule=\"evenodd\" fill-opacity=\"1\" stroke=\"#000000\" stroke-opacity=\"1\" stroke-width=\"3.2\"/>\n",
       "<circle clip-path=\"url(#clip792)\" cx=\"1981.06\" cy=\"1381.92\" r=\"14.4\" fill=\"#3da44d\" fill-rule=\"evenodd\" fill-opacity=\"1\" stroke=\"#000000\" stroke-opacity=\"1\" stroke-width=\"3.2\"/>\n",
       "<circle clip-path=\"url(#clip792)\" cx=\"2083.72\" cy=\"1381.44\" r=\"14.4\" fill=\"#3da44d\" fill-rule=\"evenodd\" fill-opacity=\"1\" stroke=\"#000000\" stroke-opacity=\"1\" stroke-width=\"3.2\"/>\n",
       "<circle clip-path=\"url(#clip792)\" cx=\"2186.38\" cy=\"1380.9\" r=\"14.4\" fill=\"#3da44d\" fill-rule=\"evenodd\" fill-opacity=\"1\" stroke=\"#000000\" stroke-opacity=\"1\" stroke-width=\"3.2\"/>\n",
       "<circle clip-path=\"url(#clip792)\" cx=\"2289.04\" cy=\"1380.46\" r=\"14.4\" fill=\"#3da44d\" fill-rule=\"evenodd\" fill-opacity=\"1\" stroke=\"#000000\" stroke-opacity=\"1\" stroke-width=\"3.2\"/>\n",
       "<polyline clip-path=\"url(#clip792)\" style=\"stroke:#c271d2; stroke-linecap:round; stroke-linejoin:round; stroke-width:4; stroke-opacity:1; fill:none\" points=\"235.808,1386.34 256.361,1386.23 276.913,1386.1 297.466,1385.95 318.019,1385.77 338.572,1385.56 359.125,1385.31 379.678,1385.01 400.231,1384.65 420.784,1384.24 441.337,1383.75 461.889,1383.18 482.442,1382.53 502.995,1381.79 523.548,1380.95 544.101,1380 564.654,1378.94 585.207,1377.77 605.76,1376.46 626.313,1375.02 646.866,1373.44 667.418,1371.71 687.971,1369.83 708.524,1367.78 729.077,1365.57 749.63,1363.18 770.183,1360.6 790.736,1357.83 811.289,1354.87 831.842,1351.7 852.394,1348.32 872.947,1344.72 893.5,1340.89 914.053,1336.83 934.606,1332.53 955.159,1327.98 975.712,1323.17 996.265,1318.11 1016.82,1312.77 1037.37,1307.16 1057.92,1301.26 1078.48,1295.08 1099.03,1288.6 1119.58,1281.81 1140.14,1274.71 1160.69,1267.29 1181.24,1259.55 1201.79,1251.47 1222.35,1243.05 1242.9,1234.29 1263.45,1225.17 1284.01,1215.69 1304.56,1205.84 1325.11,1195.62 1345.66,1185.01 1366.22,1174.01 1386.77,1162.62 1407.32,1150.82 1427.88,1138.61 1448.43,1125.98 1468.98,1112.93 1489.53,1099.44 1510.09,1085.52 1530.64,1071.14 1551.19,1056.32 1571.75,1041.03 1592.3,1025.27 1612.85,1009.04 1633.4,992.328 1653.96,975.125 1674.51,957.426 1695.06,939.222 1715.62,920.508 1736.17,901.276 1756.72,881.519 1777.27,861.23 1797.83,840.401 1818.38,819.027 1838.93,797.098 1859.49,774.609 1880.04,751.553 1900.59,727.921 1921.15,703.708 1941.7,678.906 1962.25,653.507 1982.8,627.506 2003.36,600.894 2023.91,573.664 2044.46,545.81 2065.02,517.324 2085.57,488.2 2106.12,458.429 2126.67,428.006 2147.23,396.922 2167.78,365.171 2188.33,332.746 2208.89,299.64 2229.44,265.844 2249.99,231.354 2270.54,196.16 2291.1,160.256 \"/>\n",
       "<polyline clip-path=\"url(#clip792)\" style=\"stroke:#ac8d18; stroke-linecap:round; stroke-linejoin:round; stroke-width:4; stroke-opacity:1; fill:none\" points=\"235.808,1385.8 256.361,1385.68 276.913,1385.56 297.466,1385.44 318.019,1385.33 338.572,1385.21 359.125,1385.1 379.678,1384.98 400.231,1384.87 420.784,1384.75 441.337,1384.62 461.889,1384.48 482.442,1384.34 502.995,1384.19 523.548,1384.03 544.101,1383.85 564.654,1383.67 585.207,1383.46 605.76,1383.24 626.313,1383.01 646.866,1382.75 667.418,1382.48 687.971,1382.18 708.524,1381.86 729.077,1381.51 749.63,1381.15 770.183,1380.75 790.736,1380.32 811.289,1379.87 831.842,1379.38 852.394,1378.87 872.947,1378.32 893.5,1377.73 914.053,1377.11 934.606,1376.45 955.159,1375.75 975.712,1375.01 996.265,1374.23 1016.82,1373.41 1037.37,1372.54 1057.92,1371.63 1078.48,1370.67 1099.03,1369.66 1119.58,1368.6 1140.14,1367.49 1160.69,1366.33 1181.24,1365.12 1201.79,1363.85 1222.35,1362.52 1242.9,1361.14 1263.45,1359.7 1284.01,1358.19 1304.56,1356.63 1325.11,1355 1345.66,1353.31 1366.22,1351.55 1386.77,1349.73 1407.32,1347.84 1427.88,1345.88 1448.43,1343.84 1468.98,1341.74 1489.53,1339.56 1510.09,1337.3 1530.64,1334.97 1551.19,1332.57 1571.75,1330.08 1592.3,1327.51 1612.85,1324.87 1633.4,1322.13 1653.96,1319.32 1674.51,1316.42 1695.06,1313.43 1715.62,1310.35 1736.17,1307.18 1756.72,1303.93 1777.27,1300.58 1797.83,1297.13 1818.38,1293.59 1838.93,1289.96 1859.49,1286.23 1880.04,1282.4 1900.59,1278.46 1921.15,1274.43 1941.7,1270.29 1962.25,1266.05 1982.8,1261.71 2003.36,1257.25 2023.91,1252.69 2044.46,1248.02 2065.02,1243.24 2085.57,1238.34 2106.12,1233.33 2126.67,1228.21 2147.23,1222.97 2167.78,1217.61 2188.33,1212.13 2208.89,1206.53 2229.44,1200.82 2249.99,1194.97 2270.54,1189.01 2291.1,1182.91 \"/>\n",
       "<polyline clip-path=\"url(#clip792)\" style=\"stroke:#00a9ad; stroke-linecap:round; stroke-linejoin:round; stroke-width:4; stroke-opacity:1; fill:none\" points=\"235.808,1384.66 256.361,1384.68 276.913,1384.7 297.466,1384.72 318.019,1384.73 338.572,1384.75 359.125,1384.76 379.678,1384.78 400.231,1384.79 420.784,1384.8 441.337,1384.81 461.889,1384.82 482.442,1384.83 502.995,1384.83 523.548,1384.84 544.101,1384.84 564.654,1384.84 585.207,1384.84 605.76,1384.84 626.313,1384.84 646.866,1384.84 667.418,1384.83 687.971,1384.83 708.524,1384.82 729.077,1384.81 749.63,1384.8 770.183,1384.79 790.736,1384.78 811.289,1384.77 831.842,1384.75 852.394,1384.74 872.947,1384.72 893.5,1384.7 914.053,1384.68 934.606,1384.66 955.159,1384.64 975.712,1384.62 996.265,1384.59 1016.82,1384.57 1037.37,1384.54 1057.92,1384.51 1078.48,1384.48 1099.03,1384.45 1119.58,1384.42 1140.14,1384.38 1160.69,1384.35 1181.24,1384.31 1201.79,1384.28 1222.35,1384.24 1242.9,1384.2 1263.45,1384.16 1284.01,1384.11 1304.56,1384.07 1325.11,1384.02 1345.66,1383.98 1366.22,1383.93 1386.77,1383.88 1407.32,1383.83 1427.88,1383.78 1448.43,1383.73 1468.98,1383.67 1489.53,1383.62 1510.09,1383.56 1530.64,1383.5 1551.19,1383.44 1571.75,1383.38 1592.3,1383.32 1612.85,1383.26 1633.4,1383.19 1653.96,1383.13 1674.51,1383.06 1695.06,1382.99 1715.62,1382.92 1736.17,1382.85 1756.72,1382.78 1777.27,1382.71 1797.83,1382.63 1818.38,1382.56 1838.93,1382.48 1859.49,1382.4 1880.04,1382.32 1900.59,1382.24 1921.15,1382.16 1941.7,1382.08 1962.25,1381.99 1982.8,1381.91 2003.36,1381.82 2023.91,1381.73 2044.46,1381.64 2065.02,1381.55 2085.57,1381.46 2106.12,1381.36 2126.67,1381.27 2147.23,1381.17 2167.78,1381.08 2188.33,1380.98 2208.89,1380.88 2229.44,1380.78 2249.99,1380.67 2270.54,1380.57 2291.1,1380.46 \"/>\n",
       "<path clip-path=\"url(#clip790)\" d=\"M246.769 529.676 L879.072 529.676 L879.072 166.796 L246.769 166.796  Z\" fill=\"#ffffff\" fill-rule=\"evenodd\" fill-opacity=\"1\"/>\n",
       "<polyline clip-path=\"url(#clip790)\" style=\"stroke:#000000; stroke-linecap:round; stroke-linejoin:round; stroke-width:4; stroke-opacity:1; fill:none\" points=\"246.769,529.676 879.072,529.676 879.072,166.796 246.769,166.796 246.769,529.676 \"/>\n",
       "<circle clip-path=\"url(#clip790)\" cx=\"343.596\" cy=\"218.636\" r=\"23.04\" fill=\"#009af9\" fill-rule=\"evenodd\" fill-opacity=\"1\" stroke=\"#000000\" stroke-opacity=\"1\" stroke-width=\"5.12\"/>\n",
       "<path clip-path=\"url(#clip790)\" d=\"M462.136 220.268 L462.136 235.916 L457.877 235.916 L457.877 220.407 Q457.877 216.726 456.442 214.897 Q455.006 213.069 452.136 213.069 Q448.687 213.069 446.696 215.268 Q444.705 217.467 444.705 221.263 L444.705 235.916 L440.423 235.916 L440.423 209.99 L444.705 209.99 L444.705 214.018 Q446.233 211.68 448.293 210.522 Q450.377 209.365 453.085 209.365 Q457.553 209.365 459.844 212.143 Q462.136 214.897 462.136 220.268 Z\" fill=\"#000000\" fill-rule=\"evenodd\" fill-opacity=\"1\" /><path clip-path=\"url(#clip790)\" d=\"M482.414 222.883 Q477.252 222.883 475.261 224.064 Q473.27 225.244 473.27 228.092 Q473.27 230.36 474.752 231.703 Q476.256 233.022 478.826 233.022 Q482.367 233.022 484.497 230.522 Q486.65 227.999 486.65 223.832 L486.65 222.883 L482.414 222.883 M490.909 221.124 L490.909 235.916 L486.65 235.916 L486.65 231.981 Q485.191 234.342 483.015 235.476 Q480.84 236.587 477.691 236.587 Q473.71 236.587 471.349 234.365 Q469.011 232.119 469.011 228.369 Q469.011 223.994 471.928 221.772 Q474.867 219.55 480.678 219.55 L486.65 219.55 L486.65 219.133 Q486.65 216.194 484.705 214.596 Q482.784 212.976 479.289 212.976 Q477.066 212.976 474.96 213.508 Q472.853 214.041 470.909 215.106 L470.909 211.17 Q473.247 210.268 475.446 209.828 Q477.645 209.365 479.728 209.365 Q485.353 209.365 488.131 212.282 Q490.909 215.198 490.909 221.124 Z\" fill=\"#000000\" fill-rule=\"evenodd\" fill-opacity=\"1\" /><path clip-path=\"url(#clip790)\" d=\"M499.682 209.99 L503.941 209.99 L503.941 235.916 L499.682 235.916 L499.682 209.99 M499.682 199.897 L503.941 199.897 L503.941 205.291 L499.682 205.291 L499.682 199.897 Z\" fill=\"#000000\" fill-rule=\"evenodd\" fill-opacity=\"1\" /><path clip-path=\"url(#clip790)\" d=\"M509.798 209.99 L514.312 209.99 L522.413 231.749 L530.515 209.99 L535.029 209.99 L525.307 235.916 L519.52 235.916 L509.798 209.99 Z\" fill=\"#000000\" fill-rule=\"evenodd\" fill-opacity=\"1\" /><path clip-path=\"url(#clip790)\" d=\"M563.084 221.888 L563.084 223.971 L543.501 223.971 Q543.779 228.369 546.14 230.684 Q548.524 232.976 552.76 232.976 Q555.214 232.976 557.506 232.374 Q559.821 231.772 562.089 230.569 L562.089 234.596 Q559.797 235.568 557.39 236.078 Q554.983 236.587 552.506 236.587 Q546.302 236.587 542.668 232.976 Q539.057 229.365 539.057 223.207 Q539.057 216.842 542.483 213.115 Q545.932 209.365 551.765 209.365 Q556.997 209.365 560.029 212.745 Q563.084 216.101 563.084 221.888 M558.825 220.638 Q558.779 217.143 556.858 215.059 Q554.96 212.976 551.811 212.976 Q548.247 212.976 546.094 214.99 Q543.964 217.004 543.64 220.661 L558.825 220.638 Z\" fill=\"#000000\" fill-rule=\"evenodd\" fill-opacity=\"1\" /><circle clip-path=\"url(#clip790)\" cx=\"343.596\" cy=\"270.476\" r=\"23.04\" fill=\"#e26f46\" fill-rule=\"evenodd\" fill-opacity=\"1\" stroke=\"#000000\" stroke-opacity=\"1\" stroke-width=\"5.12\"/>\n",
       "<path clip-path=\"url(#clip790)\" d=\"M459.196 274.816 Q459.196 270.117 457.252 267.455 Q455.33 264.77 451.951 264.77 Q448.571 264.77 446.627 267.455 Q444.705 270.117 444.705 274.816 Q444.705 279.515 446.627 282.2 Q448.571 284.862 451.951 284.862 Q455.33 284.862 457.252 282.2 Q459.196 279.515 459.196 274.816 M444.705 265.765 Q446.048 263.45 448.085 262.339 Q450.145 261.205 452.992 261.205 Q457.715 261.205 460.654 264.955 Q463.617 268.705 463.617 274.816 Q463.617 280.927 460.654 284.677 Q457.715 288.427 452.992 288.427 Q450.145 288.427 448.085 287.316 Q446.048 286.182 444.705 283.867 L444.705 287.756 L440.423 287.756 L440.423 251.737 L444.705 251.737 L444.705 265.765 Z\" fill=\"#000000\" fill-rule=\"evenodd\" fill-opacity=\"1\" /><path clip-path=\"url(#clip790)\" d=\"M492.853 273.728 L492.853 275.811 L473.27 275.811 Q473.548 280.209 475.909 282.524 Q478.293 284.816 482.529 284.816 Q484.983 284.816 487.275 284.214 Q489.59 283.612 491.858 282.409 L491.858 286.436 Q489.566 287.408 487.159 287.918 Q484.752 288.427 482.275 288.427 Q476.071 288.427 472.437 284.816 Q468.826 281.205 468.826 275.047 Q468.826 268.682 472.252 264.955 Q475.701 261.205 481.534 261.205 Q486.765 261.205 489.798 264.585 Q492.853 267.941 492.853 273.728 M488.594 272.478 Q488.548 268.983 486.627 266.899 Q484.728 264.816 481.58 264.816 Q478.015 264.816 475.863 266.83 Q473.733 268.844 473.409 272.501 L488.594 272.478 Z\" fill=\"#000000\" fill-rule=\"evenodd\" fill-opacity=\"1\" /><path clip-path=\"url(#clip790)\" d=\"M504.057 254.469 L504.057 261.83 L512.83 261.83 L512.83 265.14 L504.057 265.14 L504.057 279.214 Q504.057 282.385 504.914 283.288 Q505.793 284.191 508.455 284.191 L512.83 284.191 L512.83 287.756 L508.455 287.756 Q503.525 287.756 501.65 285.927 Q499.775 284.075 499.775 279.214 L499.775 265.14 L496.65 265.14 L496.65 261.83 L499.775 261.83 L499.775 254.469 L504.057 254.469 Z\" fill=\"#000000\" fill-rule=\"evenodd\" fill-opacity=\"1\" /><path clip-path=\"url(#clip790)\" d=\"M522.645 254.469 L522.645 261.83 L531.418 261.83 L531.418 265.14 L522.645 265.14 L522.645 279.214 Q522.645 282.385 523.501 283.288 Q524.381 284.191 527.043 284.191 L531.418 284.191 L531.418 287.756 L527.043 287.756 Q522.112 287.756 520.237 285.927 Q518.363 284.075 518.363 279.214 L518.363 265.14 L515.238 265.14 L515.238 261.83 L518.363 261.83 L518.363 254.469 L522.645 254.469 Z\" fill=\"#000000\" fill-rule=\"evenodd\" fill-opacity=\"1\" /><path clip-path=\"url(#clip790)\" d=\"M559.196 273.728 L559.196 275.811 L539.612 275.811 Q539.89 280.209 542.251 282.524 Q544.636 284.816 548.872 284.816 Q551.325 284.816 553.617 284.214 Q555.932 283.612 558.2 282.409 L558.2 286.436 Q555.909 287.408 553.501 287.918 Q551.094 288.427 548.617 288.427 Q542.413 288.427 538.779 284.816 Q535.168 281.205 535.168 275.047 Q535.168 268.682 538.594 264.955 Q542.043 261.205 547.876 261.205 Q553.108 261.205 556.14 264.585 Q559.196 267.941 559.196 273.728 M554.936 272.478 Q554.89 268.983 552.969 266.899 Q551.071 264.816 547.923 264.816 Q544.358 264.816 542.205 266.83 Q540.075 268.844 539.751 272.501 L554.936 272.478 Z\" fill=\"#000000\" fill-rule=\"evenodd\" fill-opacity=\"1\" /><path clip-path=\"url(#clip790)\" d=\"M581.209 265.811 Q580.492 265.395 579.635 265.21 Q578.802 265.001 577.783 265.001 Q574.172 265.001 572.228 267.362 Q570.307 269.7 570.307 274.098 L570.307 287.756 L566.024 287.756 L566.024 261.83 L570.307 261.83 L570.307 265.858 Q571.649 263.497 573.802 262.362 Q575.955 261.205 579.033 261.205 Q579.473 261.205 580.006 261.274 Q580.538 261.321 581.186 261.436 L581.209 265.811 Z\" fill=\"#000000\" fill-rule=\"evenodd\" fill-opacity=\"1\" /><circle clip-path=\"url(#clip790)\" cx=\"343.596\" cy=\"322.316\" r=\"23.04\" fill=\"#3da44d\" fill-rule=\"evenodd\" fill-opacity=\"1\" stroke=\"#000000\" stroke-opacity=\"1\" stroke-width=\"5.12\"/>\n",
       "<path clip-path=\"url(#clip790)\" d=\"M459.196 326.656 Q459.196 321.957 457.252 319.295 Q455.33 316.61 451.951 316.61 Q448.571 316.61 446.627 319.295 Q444.705 321.957 444.705 326.656 Q444.705 331.355 446.627 334.04 Q448.571 336.702 451.951 336.702 Q455.33 336.702 457.252 334.04 Q459.196 331.355 459.196 326.656 M444.705 317.605 Q446.048 315.29 448.085 314.179 Q450.145 313.045 452.992 313.045 Q457.715 313.045 460.654 316.795 Q463.617 320.545 463.617 326.656 Q463.617 332.767 460.654 336.517 Q457.715 340.267 452.992 340.267 Q450.145 340.267 448.085 339.156 Q446.048 338.022 444.705 335.707 L444.705 339.596 L440.423 339.596 L440.423 303.577 L444.705 303.577 L444.705 317.605 Z\" fill=\"#000000\" fill-rule=\"evenodd\" fill-opacity=\"1\" /><path clip-path=\"url(#clip790)\" d=\"M470.678 303.577 L474.937 303.577 L474.937 339.596 L470.678 339.596 L470.678 303.577 Z\" fill=\"#000000\" fill-rule=\"evenodd\" fill-opacity=\"1\" /><path clip-path=\"url(#clip790)\" d=\"M495.631 326.563 Q490.469 326.563 488.478 327.744 Q486.488 328.924 486.488 331.772 Q486.488 334.04 487.969 335.383 Q489.474 336.702 492.043 336.702 Q495.585 336.702 497.714 334.202 Q499.867 331.679 499.867 327.512 L499.867 326.563 L495.631 326.563 M504.126 324.804 L504.126 339.596 L499.867 339.596 L499.867 335.661 Q498.409 338.022 496.233 339.156 Q494.057 340.267 490.909 340.267 Q486.927 340.267 484.566 338.045 Q482.228 335.799 482.228 332.049 Q482.228 327.674 485.145 325.452 Q488.085 323.23 493.895 323.23 L499.867 323.23 L499.867 322.813 Q499.867 319.874 497.923 318.276 Q496.002 316.656 492.506 316.656 Q490.284 316.656 488.177 317.188 Q486.071 317.721 484.127 318.786 L484.127 314.85 Q486.465 313.948 488.664 313.508 Q490.863 313.045 492.946 313.045 Q498.571 313.045 501.349 315.962 Q504.126 318.878 504.126 324.804 Z\" fill=\"#000000\" fill-rule=\"evenodd\" fill-opacity=\"1\" /><path clip-path=\"url(#clip790)\" d=\"M529.427 314.434 L529.427 318.462 Q527.622 317.536 525.677 317.073 Q523.733 316.61 521.65 316.61 Q518.478 316.61 516.881 317.582 Q515.307 318.554 515.307 320.499 Q515.307 321.98 516.441 322.837 Q517.575 323.67 521.001 324.434 L522.46 324.758 Q526.997 325.73 528.895 327.512 Q530.816 329.272 530.816 332.443 Q530.816 336.054 527.946 338.161 Q525.099 340.267 520.099 340.267 Q518.015 340.267 515.747 339.85 Q513.501 339.457 511.001 338.647 L511.001 334.249 Q513.363 335.475 515.654 336.1 Q517.946 336.702 520.191 336.702 Q523.2 336.702 524.821 335.684 Q526.441 334.642 526.441 332.767 Q526.441 331.031 525.261 330.105 Q524.103 329.179 520.145 328.323 L518.663 327.975 Q514.705 327.142 512.946 325.429 Q511.187 323.693 511.187 320.684 Q511.187 317.026 513.779 315.036 Q516.372 313.045 521.14 313.045 Q523.501 313.045 525.585 313.392 Q527.668 313.739 529.427 314.434 Z\" fill=\"#000000\" fill-rule=\"evenodd\" fill-opacity=\"1\" /><polyline clip-path=\"url(#clip790)\" style=\"stroke:#c271d2; stroke-linecap:round; stroke-linejoin:round; stroke-width:4; stroke-opacity:1; fill:none\" points=\"270.976,374.156 416.216,374.156 \"/>\n",
       "<path clip-path=\"url(#clip790)\" d=\"M440.423 356.876 L446.719 356.876 L462.043 385.788 L462.043 356.876 L466.58 356.876 L466.58 391.436 L460.284 391.436 L444.96 362.524 L444.96 391.436 L440.423 391.436 L440.423 356.876 Z\" fill=\"#000000\" fill-rule=\"evenodd\" fill-opacity=\"1\" /><path clip-path=\"url(#clip790)\" d=\"M487.483 378.403 Q482.321 378.403 480.33 379.584 Q478.34 380.764 478.34 383.612 Q478.34 385.88 479.821 387.223 Q481.326 388.542 483.895 388.542 Q487.437 388.542 489.566 386.042 Q491.719 383.519 491.719 379.352 L491.719 378.403 L487.483 378.403 M495.978 376.644 L495.978 391.436 L491.719 391.436 L491.719 387.501 Q490.261 389.862 488.085 390.996 Q485.909 392.107 482.761 392.107 Q478.779 392.107 476.418 389.885 Q474.08 387.639 474.08 383.889 Q474.08 379.514 476.997 377.292 Q479.937 375.07 485.747 375.07 L491.719 375.07 L491.719 374.653 Q491.719 371.714 489.775 370.116 Q487.853 368.496 484.358 368.496 Q482.136 368.496 480.029 369.028 Q477.923 369.561 475.978 370.626 L475.978 366.69 Q478.316 365.788 480.515 365.348 Q482.715 364.885 484.798 364.885 Q490.423 364.885 493.201 367.802 Q495.978 370.718 495.978 376.644 Z\" fill=\"#000000\" fill-rule=\"evenodd\" fill-opacity=\"1\" /><path clip-path=\"url(#clip790)\" d=\"M504.751 365.51 L509.011 365.51 L509.011 391.436 L504.751 391.436 L504.751 365.51 M504.751 355.417 L509.011 355.417 L509.011 360.811 L504.751 360.811 L504.751 355.417 Z\" fill=\"#000000\" fill-rule=\"evenodd\" fill-opacity=\"1\" /><path clip-path=\"url(#clip790)\" d=\"M514.867 365.51 L519.381 365.51 L527.483 387.269 L535.585 365.51 L540.098 365.51 L530.376 391.436 L524.589 391.436 L514.867 365.51 Z\" fill=\"#000000\" fill-rule=\"evenodd\" fill-opacity=\"1\" /><path clip-path=\"url(#clip790)\" d=\"M568.154 377.408 L568.154 379.491 L548.571 379.491 Q548.848 383.889 551.21 386.204 Q553.594 388.496 557.83 388.496 Q560.284 388.496 562.575 387.894 Q564.89 387.292 567.159 386.089 L567.159 390.116 Q564.867 391.088 562.459 391.598 Q560.052 392.107 557.575 392.107 Q551.372 392.107 547.737 388.496 Q544.126 384.885 544.126 378.727 Q544.126 372.362 547.552 368.635 Q551.001 364.885 556.835 364.885 Q562.066 364.885 565.098 368.265 Q568.154 371.621 568.154 377.408 M563.895 376.158 Q563.848 372.663 561.927 370.579 Q560.029 368.496 556.881 368.496 Q553.316 368.496 551.163 370.51 Q549.034 372.524 548.71 376.181 L563.895 376.158 Z\" fill=\"#000000\" fill-rule=\"evenodd\" fill-opacity=\"1\" /><path clip-path=\"url(#clip790)\" d=\"M594.334 387.547 L594.334 401.297 L590.052 401.297 L590.052 365.51 L594.334 365.51 L594.334 369.445 Q595.677 367.13 597.714 366.019 Q599.774 364.885 602.621 364.885 Q607.344 364.885 610.283 368.635 Q613.246 372.385 613.246 378.496 Q613.246 384.607 610.283 388.357 Q607.344 392.107 602.621 392.107 Q599.774 392.107 597.714 390.996 Q595.677 389.862 594.334 387.547 M608.825 378.496 Q608.825 373.797 606.881 371.135 Q604.959 368.45 601.58 368.45 Q598.2 368.45 596.256 371.135 Q594.334 373.797 594.334 378.496 Q594.334 383.195 596.256 385.88 Q598.2 388.542 601.58 388.542 Q604.959 388.542 606.881 385.88 Q608.825 383.195 608.825 378.496 Z\" fill=\"#000000\" fill-rule=\"evenodd\" fill-opacity=\"1\" /><path clip-path=\"url(#clip790)\" d=\"M630.353 368.496 Q626.927 368.496 624.936 371.181 Q622.945 373.843 622.945 378.496 Q622.945 383.149 624.913 385.834 Q626.904 388.496 630.353 388.496 Q633.755 388.496 635.746 385.811 Q637.737 383.126 637.737 378.496 Q637.737 373.89 635.746 371.204 Q633.755 368.496 630.353 368.496 M630.353 364.885 Q635.908 364.885 639.079 368.496 Q642.251 372.107 642.251 378.496 Q642.251 384.862 639.079 388.496 Q635.908 392.107 630.353 392.107 Q624.774 392.107 621.603 388.496 Q618.455 384.862 618.455 378.496 Q618.455 372.107 621.603 368.496 Q624.774 364.885 630.353 364.885 Z\" fill=\"#000000\" fill-rule=\"evenodd\" fill-opacity=\"1\" /><path clip-path=\"url(#clip790)\" d=\"M649.311 355.417 L653.57 355.417 L653.57 391.436 L649.311 391.436 L649.311 355.417 Z\" fill=\"#000000\" fill-rule=\"evenodd\" fill-opacity=\"1\" /><path clip-path=\"url(#clip790)\" d=\"M673.269 393.843 Q671.464 398.473 669.751 399.885 Q668.038 401.297 665.167 401.297 L661.765 401.297 L661.765 397.732 L664.264 397.732 Q666.024 397.732 666.996 396.899 Q667.968 396.065 669.149 392.963 L669.913 391.019 L659.427 365.51 L663.94 365.51 L672.042 385.788 L680.144 365.51 L684.658 365.51 L673.269 393.843 Z\" fill=\"#000000\" fill-rule=\"evenodd\" fill-opacity=\"1\" /><path clip-path=\"url(#clip790)\" d=\"M712.088 375.788 L712.088 391.436 L707.829 391.436 L707.829 375.927 Q707.829 372.246 706.394 370.417 Q704.959 368.589 702.088 368.589 Q698.639 368.589 696.649 370.788 Q694.658 372.987 694.658 376.783 L694.658 391.436 L690.375 391.436 L690.375 365.51 L694.658 365.51 L694.658 369.538 Q696.186 367.2 698.246 366.042 Q700.329 364.885 703.037 364.885 Q707.505 364.885 709.797 367.663 Q712.088 370.417 712.088 375.788 Z\" fill=\"#000000\" fill-rule=\"evenodd\" fill-opacity=\"1\" /><path clip-path=\"url(#clip790)\" d=\"M730.63 368.496 Q727.204 368.496 725.213 371.181 Q723.223 373.843 723.223 378.496 Q723.223 383.149 725.19 385.834 Q727.181 388.496 730.63 388.496 Q734.033 388.496 736.023 385.811 Q738.014 383.126 738.014 378.496 Q738.014 373.89 736.023 371.204 Q734.033 368.496 730.63 368.496 M730.63 364.885 Q736.185 364.885 739.357 368.496 Q742.528 372.107 742.528 378.496 Q742.528 384.862 739.357 388.496 Q736.185 392.107 730.63 392.107 Q725.051 392.107 721.88 388.496 Q718.732 384.862 718.732 378.496 Q718.732 372.107 721.88 368.496 Q725.051 364.885 730.63 364.885 Z\" fill=\"#000000\" fill-rule=\"evenodd\" fill-opacity=\"1\" /><path clip-path=\"url(#clip790)\" d=\"M769.773 370.487 Q771.37 367.616 773.593 366.251 Q775.815 364.885 778.824 364.885 Q782.875 364.885 785.074 367.732 Q787.273 370.556 787.273 375.788 L787.273 391.436 L782.991 391.436 L782.991 375.927 Q782.991 372.2 781.671 370.394 Q780.352 368.589 777.644 368.589 Q774.333 368.589 772.412 370.788 Q770.491 372.987 770.491 376.783 L770.491 391.436 L766.208 391.436 L766.208 375.927 Q766.208 372.177 764.889 370.394 Q763.57 368.589 760.815 368.589 Q757.551 368.589 755.63 370.811 Q753.708 373.01 753.708 376.783 L753.708 391.436 L749.426 391.436 L749.426 365.51 L753.708 365.51 L753.708 369.538 Q755.167 367.153 757.204 366.019 Q759.241 364.885 762.042 364.885 Q764.866 364.885 766.833 366.32 Q768.824 367.755 769.773 370.487 Z\" fill=\"#000000\" fill-rule=\"evenodd\" fill-opacity=\"1\" /><path clip-path=\"url(#clip790)\" d=\"M795.768 365.51 L800.028 365.51 L800.028 391.436 L795.768 391.436 L795.768 365.51 M795.768 355.417 L800.028 355.417 L800.028 360.811 L795.768 360.811 L795.768 355.417 Z\" fill=\"#000000\" fill-rule=\"evenodd\" fill-opacity=\"1\" /><path clip-path=\"url(#clip790)\" d=\"M820.722 378.403 Q815.56 378.403 813.569 379.584 Q811.579 380.764 811.579 383.612 Q811.579 385.88 813.06 387.223 Q814.565 388.542 817.134 388.542 Q820.676 388.542 822.805 386.042 Q824.958 383.519 824.958 379.352 L824.958 378.403 L820.722 378.403 M829.217 376.644 L829.217 391.436 L824.958 391.436 L824.958 387.501 Q823.5 389.862 821.324 390.996 Q819.148 392.107 816 392.107 Q812.018 392.107 809.657 389.885 Q807.319 387.639 807.319 383.889 Q807.319 379.514 810.236 377.292 Q813.176 375.07 818.986 375.07 L824.958 375.07 L824.958 374.653 Q824.958 371.714 823.014 370.116 Q821.092 368.496 817.597 368.496 Q815.375 368.496 813.268 369.028 Q811.162 369.561 809.217 370.626 L809.217 366.69 Q811.555 365.788 813.754 365.348 Q815.954 364.885 818.037 364.885 Q823.662 364.885 826.44 367.802 Q829.217 370.718 829.217 376.644 Z\" fill=\"#000000\" fill-rule=\"evenodd\" fill-opacity=\"1\" /><path clip-path=\"url(#clip790)\" d=\"M837.99 355.417 L842.25 355.417 L842.25 391.436 L837.99 391.436 L837.99 355.417 Z\" fill=\"#000000\" fill-rule=\"evenodd\" fill-opacity=\"1\" /><polyline clip-path=\"url(#clip790)\" style=\"stroke:#ac8d18; stroke-linecap:round; stroke-linejoin:round; stroke-width:4; stroke-opacity:1; fill:none\" points=\"270.976,425.996 416.216,425.996 \"/>\n",
       "<path clip-path=\"url(#clip790)\" d=\"M445.099 426.771 L445.099 439.433 L452.599 439.433 Q456.372 439.433 458.178 437.882 Q460.006 436.308 460.006 433.091 Q460.006 429.85 458.178 428.322 Q456.372 426.771 452.599 426.771 L445.099 426.771 M445.099 412.558 L445.099 422.975 L452.02 422.975 Q455.446 422.975 457.113 421.702 Q458.803 420.405 458.803 417.767 Q458.803 415.151 457.113 413.855 Q455.446 412.558 452.02 412.558 L445.099 412.558 M440.423 408.716 L452.367 408.716 Q457.715 408.716 460.608 410.938 Q463.502 413.16 463.502 417.257 Q463.502 420.429 462.02 422.304 Q460.539 424.179 457.668 424.642 Q461.117 425.382 463.016 427.743 Q464.937 430.081 464.937 433.6 Q464.937 438.229 461.789 440.753 Q458.641 443.276 452.83 443.276 L440.423 443.276 L440.423 408.716 Z\" fill=\"#000000\" fill-rule=\"evenodd\" fill-opacity=\"1\" /><path clip-path=\"url(#clip790)\" d=\"M494.937 429.248 L494.937 431.331 L475.353 431.331 Q475.631 435.729 477.992 438.044 Q480.377 440.336 484.613 440.336 Q487.066 440.336 489.358 439.734 Q491.673 439.132 493.941 437.929 L493.941 441.956 Q491.65 442.928 489.242 443.438 Q486.835 443.947 484.358 443.947 Q478.154 443.947 474.52 440.336 Q470.909 436.725 470.909 430.567 Q470.909 424.202 474.335 420.475 Q477.784 416.725 483.617 416.725 Q488.849 416.725 491.881 420.105 Q494.937 423.461 494.937 429.248 M490.677 427.998 Q490.631 424.503 488.71 422.419 Q486.812 420.336 483.664 420.336 Q480.099 420.336 477.946 422.35 Q475.816 424.364 475.492 428.021 L490.677 427.998 Z\" fill=\"#000000\" fill-rule=\"evenodd\" fill-opacity=\"1\" /><path clip-path=\"url(#clip790)\" d=\"M506.14 409.989 L506.14 417.35 L514.913 417.35 L514.913 420.66 L506.14 420.66 L506.14 434.734 Q506.14 437.905 506.997 438.808 Q507.876 439.711 510.538 439.711 L514.913 439.711 L514.913 443.276 L510.538 443.276 Q505.608 443.276 503.733 441.447 Q501.858 439.595 501.858 434.734 L501.858 420.66 L498.733 420.66 L498.733 417.35 L501.858 417.35 L501.858 409.989 L506.14 409.989 Z\" fill=\"#000000\" fill-rule=\"evenodd\" fill-opacity=\"1\" /><path clip-path=\"url(#clip790)\" d=\"M524.728 409.989 L524.728 417.35 L533.501 417.35 L533.501 420.66 L524.728 420.66 L524.728 434.734 Q524.728 437.905 525.585 438.808 Q526.464 439.711 529.126 439.711 L533.501 439.711 L533.501 443.276 L529.126 443.276 Q524.196 443.276 522.321 441.447 Q520.446 439.595 520.446 434.734 L520.446 420.66 L517.321 420.66 L517.321 417.35 L520.446 417.35 L520.446 409.989 L524.728 409.989 Z\" fill=\"#000000\" fill-rule=\"evenodd\" fill-opacity=\"1\" /><path clip-path=\"url(#clip790)\" d=\"M561.279 429.248 L561.279 431.331 L541.696 431.331 Q541.973 435.729 544.335 438.044 Q546.719 440.336 550.955 440.336 Q553.409 440.336 555.7 439.734 Q558.015 439.132 560.284 437.929 L560.284 441.956 Q557.992 442.928 555.585 443.438 Q553.177 443.947 550.7 443.947 Q544.497 443.947 540.862 440.336 Q537.251 436.725 537.251 430.567 Q537.251 424.202 540.677 420.475 Q544.126 416.725 549.96 416.725 Q555.191 416.725 558.223 420.105 Q561.279 423.461 561.279 429.248 M557.02 427.998 Q556.973 424.503 555.052 422.419 Q553.154 420.336 550.006 420.336 Q546.441 420.336 544.288 422.35 Q542.159 424.364 541.835 428.021 L557.02 427.998 Z\" fill=\"#000000\" fill-rule=\"evenodd\" fill-opacity=\"1\" /><path clip-path=\"url(#clip790)\" d=\"M583.293 421.331 Q582.575 420.915 581.719 420.73 Q580.885 420.521 579.867 420.521 Q576.256 420.521 574.311 422.882 Q572.39 425.22 572.39 429.618 L572.39 443.276 L568.108 443.276 L568.108 417.35 L572.39 417.35 L572.39 421.378 Q573.733 419.017 575.885 417.882 Q578.038 416.725 581.117 416.725 Q581.557 416.725 582.089 416.794 Q582.621 416.841 583.27 416.956 L583.293 421.331 Z\" fill=\"#000000\" fill-rule=\"evenodd\" fill-opacity=\"1\" /><path clip-path=\"url(#clip790)\" d=\"M606.95 439.387 L606.95 453.137 L602.668 453.137 L602.668 417.35 L606.95 417.35 L606.95 421.285 Q608.293 418.97 610.33 417.859 Q612.39 416.725 615.237 416.725 Q619.959 416.725 622.899 420.475 Q625.862 424.225 625.862 430.336 Q625.862 436.447 622.899 440.197 Q619.959 443.947 615.237 443.947 Q612.39 443.947 610.33 442.836 Q608.293 441.702 606.95 439.387 M621.441 430.336 Q621.441 425.637 619.496 422.975 Q617.575 420.29 614.195 420.29 Q610.816 420.29 608.871 422.975 Q606.95 425.637 606.95 430.336 Q606.95 435.035 608.871 437.72 Q610.816 440.382 614.195 440.382 Q617.575 440.382 619.496 437.72 Q621.441 435.035 621.441 430.336 Z\" fill=\"#000000\" fill-rule=\"evenodd\" fill-opacity=\"1\" /><path clip-path=\"url(#clip790)\" d=\"M642.968 420.336 Q639.542 420.336 637.552 423.021 Q635.561 425.683 635.561 430.336 Q635.561 434.989 637.529 437.674 Q639.519 440.336 642.968 440.336 Q646.371 440.336 648.362 437.651 Q650.353 434.966 650.353 430.336 Q650.353 425.73 648.362 423.044 Q646.371 420.336 642.968 420.336 M642.968 416.725 Q648.524 416.725 651.695 420.336 Q654.866 423.947 654.866 430.336 Q654.866 436.702 651.695 440.336 Q648.524 443.947 642.968 443.947 Q637.39 443.947 634.218 440.336 Q631.07 436.702 631.07 430.336 Q631.07 423.947 634.218 420.336 Q637.39 416.725 642.968 416.725 Z\" fill=\"#000000\" fill-rule=\"evenodd\" fill-opacity=\"1\" /><path clip-path=\"url(#clip790)\" d=\"M661.927 407.257 L666.186 407.257 L666.186 443.276 L661.927 443.276 L661.927 407.257 Z\" fill=\"#000000\" fill-rule=\"evenodd\" fill-opacity=\"1\" /><path clip-path=\"url(#clip790)\" d=\"M685.885 445.683 Q684.079 450.313 682.366 451.725 Q680.653 453.137 677.783 453.137 L674.38 453.137 L674.38 449.572 L676.88 449.572 Q678.639 449.572 679.612 448.739 Q680.584 447.905 681.764 444.803 L682.528 442.859 L672.042 417.35 L676.556 417.35 L684.658 437.628 L692.76 417.35 L697.274 417.35 L685.885 445.683 Z\" fill=\"#000000\" fill-rule=\"evenodd\" fill-opacity=\"1\" /><path clip-path=\"url(#clip790)\" d=\"M724.704 427.628 L724.704 443.276 L720.445 443.276 L720.445 427.767 Q720.445 424.086 719.01 422.257 Q717.574 420.429 714.704 420.429 Q711.255 420.429 709.264 422.628 Q707.274 424.827 707.274 428.623 L707.274 443.276 L702.991 443.276 L702.991 417.35 L707.274 417.35 L707.274 421.378 Q708.801 419.04 710.861 417.882 Q712.945 416.725 715.653 416.725 Q720.121 416.725 722.412 419.503 Q724.704 422.257 724.704 427.628 Z\" fill=\"#000000\" fill-rule=\"evenodd\" fill-opacity=\"1\" /><path clip-path=\"url(#clip790)\" d=\"M743.246 420.336 Q739.82 420.336 737.829 423.021 Q735.838 425.683 735.838 430.336 Q735.838 434.989 737.806 437.674 Q739.797 440.336 743.246 440.336 Q746.648 440.336 748.639 437.651 Q750.63 434.966 750.63 430.336 Q750.63 425.73 748.639 423.044 Q746.648 420.336 743.246 420.336 M743.246 416.725 Q748.801 416.725 751.972 420.336 Q755.144 423.947 755.144 430.336 Q755.144 436.702 751.972 440.336 Q748.801 443.947 743.246 443.947 Q737.667 443.947 734.496 440.336 Q731.347 436.702 731.347 430.336 Q731.347 423.947 734.496 420.336 Q737.667 416.725 743.246 416.725 Z\" fill=\"#000000\" fill-rule=\"evenodd\" fill-opacity=\"1\" /><path clip-path=\"url(#clip790)\" d=\"M782.389 422.327 Q783.986 419.456 786.208 418.091 Q788.431 416.725 791.44 416.725 Q795.491 416.725 797.69 419.572 Q799.889 422.396 799.889 427.628 L799.889 443.276 L795.606 443.276 L795.606 427.767 Q795.606 424.04 794.287 422.234 Q792.968 420.429 790.259 420.429 Q786.949 420.429 785.028 422.628 Q783.106 424.827 783.106 428.623 L783.106 443.276 L778.824 443.276 L778.824 427.767 Q778.824 424.017 777.505 422.234 Q776.185 420.429 773.431 420.429 Q770.167 420.429 768.245 422.651 Q766.324 424.85 766.324 428.623 L766.324 443.276 L762.042 443.276 L762.042 417.35 L766.324 417.35 L766.324 421.378 Q767.782 418.993 769.819 417.859 Q771.857 416.725 774.657 416.725 Q777.481 416.725 779.449 418.16 Q781.44 419.595 782.389 422.327 Z\" fill=\"#000000\" fill-rule=\"evenodd\" fill-opacity=\"1\" /><path clip-path=\"url(#clip790)\" d=\"M808.384 417.35 L812.643 417.35 L812.643 443.276 L808.384 443.276 L808.384 417.35 M808.384 407.257 L812.643 407.257 L812.643 412.651 L808.384 412.651 L808.384 407.257 Z\" fill=\"#000000\" fill-rule=\"evenodd\" fill-opacity=\"1\" /><path clip-path=\"url(#clip790)\" d=\"M833.338 430.243 Q828.176 430.243 826.185 431.424 Q824.194 432.604 824.194 435.452 Q824.194 437.72 825.676 439.063 Q827.18 440.382 829.75 440.382 Q833.291 440.382 835.421 437.882 Q837.574 435.359 837.574 431.192 L837.574 430.243 L833.338 430.243 M841.833 428.484 L841.833 443.276 L837.574 443.276 L837.574 439.341 Q836.115 441.702 833.94 442.836 Q831.764 443.947 828.615 443.947 Q824.634 443.947 822.273 441.725 Q819.935 439.479 819.935 435.729 Q819.935 431.354 822.852 429.132 Q825.791 426.91 831.602 426.91 L837.574 426.91 L837.574 426.493 Q837.574 423.554 835.629 421.956 Q833.708 420.336 830.213 420.336 Q827.99 420.336 825.884 420.868 Q823.778 421.401 821.833 422.466 L821.833 418.53 Q824.171 417.628 826.37 417.188 Q828.569 416.725 830.652 416.725 Q836.277 416.725 839.055 419.642 Q841.833 422.558 841.833 428.484 Z\" fill=\"#000000\" fill-rule=\"evenodd\" fill-opacity=\"1\" /><path clip-path=\"url(#clip790)\" d=\"M850.606 407.257 L854.865 407.257 L854.865 443.276 L850.606 443.276 L850.606 407.257 Z\" fill=\"#000000\" fill-rule=\"evenodd\" fill-opacity=\"1\" /><polyline clip-path=\"url(#clip790)\" style=\"stroke:#00a9ad; stroke-linecap:round; stroke-linejoin:round; stroke-width:4; stroke-opacity:1; fill:none\" points=\"270.976,477.836 416.216,477.836 \"/>\n",
       "<path clip-path=\"url(#clip790)\" d=\"M459.196 482.176 Q459.196 477.477 457.252 474.815 Q455.33 472.13 451.951 472.13 Q448.571 472.13 446.627 474.815 Q444.705 477.477 444.705 482.176 Q444.705 486.875 446.627 489.56 Q448.571 492.222 451.951 492.222 Q455.33 492.222 457.252 489.56 Q459.196 486.875 459.196 482.176 M444.705 473.125 Q446.048 470.81 448.085 469.699 Q450.145 468.565 452.992 468.565 Q457.715 468.565 460.654 472.315 Q463.617 476.065 463.617 482.176 Q463.617 488.287 460.654 492.037 Q457.715 495.787 452.992 495.787 Q450.145 495.787 448.085 494.676 Q446.048 493.542 444.705 491.227 L444.705 495.116 L440.423 495.116 L440.423 459.097 L444.705 459.097 L444.705 473.125 Z\" fill=\"#000000\" fill-rule=\"evenodd\" fill-opacity=\"1\" /><path clip-path=\"url(#clip790)\" d=\"M470.678 459.097 L474.937 459.097 L474.937 495.116 L470.678 495.116 L470.678 459.097 Z\" fill=\"#000000\" fill-rule=\"evenodd\" fill-opacity=\"1\" /><path clip-path=\"url(#clip790)\" d=\"M495.631 482.083 Q490.469 482.083 488.478 483.264 Q486.488 484.444 486.488 487.292 Q486.488 489.56 487.969 490.903 Q489.474 492.222 492.043 492.222 Q495.585 492.222 497.714 489.722 Q499.867 487.199 499.867 483.032 L499.867 482.083 L495.631 482.083 M504.126 480.324 L504.126 495.116 L499.867 495.116 L499.867 491.181 Q498.409 493.542 496.233 494.676 Q494.057 495.787 490.909 495.787 Q486.927 495.787 484.566 493.565 Q482.228 491.319 482.228 487.569 Q482.228 483.194 485.145 480.972 Q488.085 478.75 493.895 478.75 L499.867 478.75 L499.867 478.333 Q499.867 475.394 497.923 473.796 Q496.002 472.176 492.506 472.176 Q490.284 472.176 488.177 472.708 Q486.071 473.241 484.127 474.306 L484.127 470.37 Q486.465 469.468 488.664 469.028 Q490.863 468.565 492.946 468.565 Q498.571 468.565 501.349 471.482 Q504.126 474.398 504.126 480.324 Z\" fill=\"#000000\" fill-rule=\"evenodd\" fill-opacity=\"1\" /><path clip-path=\"url(#clip790)\" d=\"M529.427 469.954 L529.427 473.982 Q527.622 473.056 525.677 472.593 Q523.733 472.13 521.65 472.13 Q518.478 472.13 516.881 473.102 Q515.307 474.074 515.307 476.019 Q515.307 477.5 516.441 478.357 Q517.575 479.19 521.001 479.954 L522.46 480.278 Q526.997 481.25 528.895 483.032 Q530.816 484.792 530.816 487.963 Q530.816 491.574 527.946 493.681 Q525.099 495.787 520.099 495.787 Q518.015 495.787 515.747 495.37 Q513.501 494.977 511.001 494.167 L511.001 489.769 Q513.363 490.995 515.654 491.62 Q517.946 492.222 520.191 492.222 Q523.2 492.222 524.821 491.204 Q526.441 490.162 526.441 488.287 Q526.441 486.551 525.261 485.625 Q524.103 484.699 520.145 483.843 L518.663 483.495 Q514.705 482.662 512.946 480.949 Q511.187 479.213 511.187 476.204 Q511.187 472.546 513.779 470.556 Q516.372 468.565 521.14 468.565 Q523.501 468.565 525.585 468.912 Q527.668 469.259 529.427 469.954 Z\" fill=\"#000000\" fill-rule=\"evenodd\" fill-opacity=\"1\" /><path clip-path=\"url(#clip790)\" d=\"M556.788 491.227 L556.788 504.977 L552.506 504.977 L552.506 469.19 L556.788 469.19 L556.788 473.125 Q558.131 470.81 560.168 469.699 Q562.228 468.565 565.075 468.565 Q569.797 468.565 572.737 472.315 Q575.7 476.065 575.7 482.176 Q575.7 488.287 572.737 492.037 Q569.797 495.787 565.075 495.787 Q562.228 495.787 560.168 494.676 Q558.131 493.542 556.788 491.227 M571.279 482.176 Q571.279 477.477 569.334 474.815 Q567.413 472.13 564.034 472.13 Q560.654 472.13 558.71 474.815 Q556.788 477.477 556.788 482.176 Q556.788 486.875 558.71 489.56 Q560.654 492.222 564.034 492.222 Q567.413 492.222 569.334 489.56 Q571.279 486.875 571.279 482.176 Z\" fill=\"#000000\" fill-rule=\"evenodd\" fill-opacity=\"1\" /><path clip-path=\"url(#clip790)\" d=\"M592.807 472.176 Q589.381 472.176 587.39 474.861 Q585.399 477.523 585.399 482.176 Q585.399 486.829 587.367 489.514 Q589.357 492.176 592.807 492.176 Q596.209 492.176 598.2 489.491 Q600.191 486.806 600.191 482.176 Q600.191 477.57 598.2 474.884 Q596.209 472.176 592.807 472.176 M592.807 468.565 Q598.362 468.565 601.533 472.176 Q604.705 475.787 604.705 482.176 Q604.705 488.542 601.533 492.176 Q598.362 495.787 592.807 495.787 Q587.228 495.787 584.057 492.176 Q580.908 488.542 580.908 482.176 Q580.908 475.787 584.057 472.176 Q587.228 468.565 592.807 468.565 Z\" fill=\"#000000\" fill-rule=\"evenodd\" fill-opacity=\"1\" /><path clip-path=\"url(#clip790)\" d=\"M611.765 459.097 L616.024 459.097 L616.024 495.116 L611.765 495.116 L611.765 459.097 Z\" fill=\"#000000\" fill-rule=\"evenodd\" fill-opacity=\"1\" /><path clip-path=\"url(#clip790)\" d=\"M635.723 497.523 Q633.917 502.153 632.204 503.565 Q630.492 504.977 627.621 504.977 L624.218 504.977 L624.218 501.412 L626.718 501.412 Q628.478 501.412 629.45 500.579 Q630.422 499.745 631.603 496.643 L632.367 494.699 L621.88 469.19 L626.394 469.19 L634.496 489.468 L642.598 469.19 L647.112 469.19 L635.723 497.523 Z\" fill=\"#000000\" fill-rule=\"evenodd\" fill-opacity=\"1\" /><path clip-path=\"url(#clip790)\" d=\"M674.542 479.468 L674.542 495.116 L670.283 495.116 L670.283 479.607 Q670.283 475.926 668.848 474.097 Q667.413 472.269 664.542 472.269 Q661.093 472.269 659.102 474.468 Q657.112 476.667 657.112 480.463 L657.112 495.116 L652.829 495.116 L652.829 469.19 L657.112 469.19 L657.112 473.218 Q658.64 470.88 660.7 469.722 Q662.783 468.565 665.491 468.565 Q669.959 468.565 672.251 471.343 Q674.542 474.097 674.542 479.468 Z\" fill=\"#000000\" fill-rule=\"evenodd\" fill-opacity=\"1\" /><path clip-path=\"url(#clip790)\" d=\"M693.084 472.176 Q689.658 472.176 687.667 474.861 Q685.676 477.523 685.676 482.176 Q685.676 486.829 687.644 489.514 Q689.635 492.176 693.084 492.176 Q696.487 492.176 698.477 489.491 Q700.468 486.806 700.468 482.176 Q700.468 477.57 698.477 474.884 Q696.487 472.176 693.084 472.176 M693.084 468.565 Q698.639 468.565 701.811 472.176 Q704.982 475.787 704.982 482.176 Q704.982 488.542 701.811 492.176 Q698.639 495.787 693.084 495.787 Q687.505 495.787 684.334 492.176 Q681.186 488.542 681.186 482.176 Q681.186 475.787 684.334 472.176 Q687.505 468.565 693.084 468.565 Z\" fill=\"#000000\" fill-rule=\"evenodd\" fill-opacity=\"1\" /><path clip-path=\"url(#clip790)\" d=\"M732.227 474.167 Q733.824 471.296 736.047 469.931 Q738.269 468.565 741.278 468.565 Q745.329 468.565 747.528 471.412 Q749.727 474.236 749.727 479.468 L749.727 495.116 L745.445 495.116 L745.445 479.607 Q745.445 475.88 744.125 474.074 Q742.806 472.269 740.097 472.269 Q736.787 472.269 734.866 474.468 Q732.945 476.667 732.945 480.463 L732.945 495.116 L728.662 495.116 L728.662 479.607 Q728.662 475.857 727.343 474.074 Q726.023 472.269 723.269 472.269 Q720.005 472.269 718.084 474.491 Q716.162 476.69 716.162 480.463 L716.162 495.116 L711.88 495.116 L711.88 469.19 L716.162 469.19 L716.162 473.218 Q717.621 470.833 719.658 469.699 Q721.695 468.565 724.496 468.565 Q727.32 468.565 729.287 470 Q731.278 471.435 732.227 474.167 Z\" fill=\"#000000\" fill-rule=\"evenodd\" fill-opacity=\"1\" /><path clip-path=\"url(#clip790)\" d=\"M758.222 469.19 L762.482 469.19 L762.482 495.116 L758.222 495.116 L758.222 469.19 M758.222 459.097 L762.482 459.097 L762.482 464.491 L758.222 464.491 L758.222 459.097 Z\" fill=\"#000000\" fill-rule=\"evenodd\" fill-opacity=\"1\" /><path clip-path=\"url(#clip790)\" d=\"M783.176 482.083 Q778.014 482.083 776.023 483.264 Q774.032 484.444 774.032 487.292 Q774.032 489.56 775.514 490.903 Q777.019 492.222 779.588 492.222 Q783.13 492.222 785.259 489.722 Q787.412 487.199 787.412 483.032 L787.412 482.083 L783.176 482.083 M791.671 480.324 L791.671 495.116 L787.412 495.116 L787.412 491.181 Q785.954 493.542 783.778 494.676 Q781.602 495.787 778.454 495.787 Q774.472 495.787 772.111 493.565 Q769.773 491.319 769.773 487.569 Q769.773 483.194 772.69 480.972 Q775.63 478.75 781.44 478.75 L787.412 478.75 L787.412 478.333 Q787.412 475.394 785.468 473.796 Q783.546 472.176 780.051 472.176 Q777.829 472.176 775.722 472.708 Q773.616 473.241 771.671 474.306 L771.671 470.37 Q774.009 469.468 776.208 469.028 Q778.407 468.565 780.491 468.565 Q786.116 468.565 788.893 471.482 Q791.671 474.398 791.671 480.324 Z\" fill=\"#000000\" fill-rule=\"evenodd\" fill-opacity=\"1\" /><path clip-path=\"url(#clip790)\" d=\"M800.444 459.097 L804.704 459.097 L804.704 495.116 L800.444 495.116 L800.444 459.097 Z\" fill=\"#000000\" fill-rule=\"evenodd\" fill-opacity=\"1\" /></svg>\n"
      ]
     },
     "execution_count": 42,
     "metadata": {},
     "output_type": "execute_result"
    }
   ],
   "source": [
    "df_blas = df[df.type .== \"blas\", :]\n",
    "df_better = df[df.type .== \"better\", :]\n",
    "df_naive = df[df.type .== \"naive\", :]\n",
    "fit1 = fit(df_naive.length, df_naive.time, 3)\n",
    "fit2 = fit(df_better.length, df_better.time, 3)\n",
    "fit3 = fit(df_blas.length, df_blas.time, 2)\n",
    "xs = 0:1:1001\n",
    "scatter([ df_plot[df_plot[:,2] .== \"naive\", :].length df_plot[df_plot[:,2] .== \"better\", :].length df_plot[df_plot[:,2] .== \"blas\", :].length],\n",
    "    [ df_plot[df_plot[:,2] .== \"naive\", :].time_mean  df_plot[df_plot[:,2] .== \"better\", :].time_mean df_plot[df_plot[:,2] .== \"blas\", :].time_mean ],\n",
    "    yerr = df_plot[:, :time_std],\n",
    "    label = [ \"naive\" \"better\" \"blas\"],\n",
    "    title = \"Time of multiplying matrices\",\n",
    "    xlab = \"length [n]\",\n",
    "    ylab = \"time [s]\"\n",
    ")\n",
    "plot!(fit1, extrema(xs)..., label = \"Naive polynomial\")\n",
    "plot!(fit2, extrema(xs)..., label = \"Better polynomial\")\n",
    "plot!(fit3, extrema(xs)..., label = \"blas polynomial\")"
   ]
  }
 ],
 "metadata": {
  "kernelspec": {
   "display_name": "Julia 1.8.5",
   "language": "julia",
   "name": "julia-1.8"
  },
  "language_info": {
   "file_extension": ".jl",
   "mimetype": "application/julia",
   "name": "julia",
   "version": "1.8.5"
  }
 },
 "nbformat": 4,
 "nbformat_minor": 4
}
